{
 "cells": [
  {
   "cell_type": "markdown",
   "metadata": {
    "id": "guE34D3Fj2R9"
   },
   "source": [
    "# **Homework 1: COVID-19 Cases Prediction (Regression)**"
   ]
  },
  {
   "cell_type": "markdown",
   "metadata": {
    "id": "V57zhcTp1Xxb"
   },
   "source": [
    "Objectives:\n",
    "* Solve a regression problem with deep neural networks (DNN).\n",
    "* Understand basic DNN training tips.\n",
    "* Familiarize yourself with PyTorch.\n",
    "\n",
    "If you have any questions, please contact the TAs via TA hours, NTU COOL, or email to mlta-2022-spring@googlegroups.com"
   ]
  },
  {
   "cell_type": "markdown",
   "metadata": {
    "id": "Tm2aXcb-j9Fc"
   },
   "source": [
    "# Download data\n",
    "If the Google Drive links below do not work, you can download data from [Kaggle](https://www.kaggle.com/c/ml2022spring-hw1/data), and upload data manually to the workspace."
   ]
  },
  {
   "cell_type": "markdown",
   "metadata": {
    "colab": {
     "base_uri": "https://localhost:8080/"
    },
    "id": "YPmfl-awlKZA",
    "outputId": "71e77d1b-5543-4b3e-dc70-604bd7952f2b"
   },
   "source": [
    "!gdown --id '1kLSW_-cW2Huj7bh84YTdimGBOJaODiOS' --output covid.train.csv\n",
    "!gdown --id '1iiI5qROrAhZn-o4FPqsE97bMzDEFvIdg' --output covid.test.csv"
   ]
  },
  {
   "cell_type": "markdown",
   "metadata": {
    "id": "igqIMEgu64-F"
   },
   "source": [
    "# Import packages"
   ]
  },
  {
   "cell_type": "code",
   "execution_count": 1,
   "metadata": {
    "id": "xybQNYCXYu13"
   },
   "outputs": [],
   "source": [
    "# Numerical Operations\n",
    "import math\n",
    "import numpy as np\n",
    "\n",
    "# Reading/Writing Data\n",
    "import pandas as pd\n",
    "import os\n",
    "import csv\n",
    "\n",
    "# For Progress Bar\n",
    "from tqdm import tqdm\n",
    "\n",
    "# Pytorch\n",
    "import torch \n",
    "import torch.nn as nn\n",
    "from torch.utils.data import Dataset, DataLoader, random_split\n",
    "\n",
    "# sklearn\n",
    "from sklearn.metrics import r2_score\n",
    "\n",
    "# matplotlib\n",
    "import matplotlib.pyplot as plt\n",
    "%matplotlib inline"
   ]
  },
  {
   "cell_type": "markdown",
   "metadata": {
    "id": "fTAVqRfc2KK3"
   },
   "source": [
    "# Some Utility Functions\n",
    "\n",
    "You do not need to modify this part."
   ]
  },
  {
   "cell_type": "code",
   "execution_count": 2,
   "metadata": {
    "id": "RbrcpfYN2I-H"
   },
   "outputs": [],
   "source": [
    "def same_seed(seed): \n",
    "    '''Fixes random number generator seeds for reproducibility.'''\n",
    "    torch.backends.cudnn.deterministic = True\n",
    "    torch.backends.cudnn.benchmark = False\n",
    "    np.random.seed(seed)\n",
    "    torch.manual_seed(seed)\n",
    "    if torch.cuda.is_available():\n",
    "        torch.cuda.manual_seed_all(seed)\n",
    "\n",
    "def train_valid_split(data_set, valid_ratio, seed):\n",
    "    '''Split provided training data into training set and validation set'''\n",
    "    valid_set_size = int(valid_ratio * len(data_set)) \n",
    "    train_set_size = len(data_set) - valid_set_size\n",
    "    train_set, valid_set = random_split(data_set, [train_set_size, valid_set_size],\n",
    "                                        generator=torch.Generator().manual_seed(seed))\n",
    "    return np.array(train_set), np.array(valid_set)\n",
    "\n",
    "def predict(test_loader, model, device):\n",
    "    model.eval() # Set your model to evaluation mode.\n",
    "    preds = []\n",
    "    for x in tqdm(test_loader):\n",
    "        x = x.to(device)                        \n",
    "        with torch.no_grad():                   \n",
    "            pred = model(x)                     \n",
    "            preds.append(pred.detach().cpu())   \n",
    "    preds = torch.cat(preds, dim=0).numpy()  \n",
    "    return preds"
   ]
  },
  {
   "cell_type": "markdown",
   "metadata": {
    "id": "IqO3lTm78nNO"
   },
   "source": [
    "# Dataset"
   ]
  },
  {
   "cell_type": "code",
   "execution_count": 3,
   "metadata": {
    "id": "-mjaJM0wprMs"
   },
   "outputs": [],
   "source": [
    "class COVID19Dataset(Dataset):\n",
    "    '''\n",
    "    x: Features.\n",
    "    y: Targets, if none, do prediction.\n",
    "    '''\n",
    "    def __init__(self, x, y=None):\n",
    "        if y is None:\n",
    "            self.y = y\n",
    "        else:\n",
    "            self.y = torch.FloatTensor(y)\n",
    "        self.x = torch.FloatTensor(x)\n",
    "\n",
    "\n",
    "    def __getitem__(self, idx):\n",
    "        if self.y is None:\n",
    "            return self.x[idx]\n",
    "        else:\n",
    "            return self.x[idx], self.y[idx]\n",
    "\n",
    "    def __len__(self):\n",
    "        return len(self.x)"
   ]
  },
  {
   "cell_type": "markdown",
   "metadata": {
    "id": "m73ooU75CL_j"
   },
   "source": [
    "# Neural Network Model\n",
    "Try out different model architectures by modifying the class below."
   ]
  },
  {
   "cell_type": "code",
   "execution_count": 4,
   "metadata": {
    "id": "Qn97_WvvrEkG"
   },
   "outputs": [],
   "source": [
    "class My_Model(nn.Module):\n",
    "    def __init__(self, input_dim):\n",
    "        super(My_Model, self).__init__()\n",
    "        # TODO: modify model's structure, be aware of dimensions. \n",
    "        #input_dim is the num of features we selected\n",
    "        self.layers = nn.Sequential(\n",
    "            nn.Linear(input_dim, 64),\n",
    "            nn.LeakyReLU(0.2),\n",
    "            nn.BatchNorm1d(64),\n",
    "            nn.Dropout(0.2),\n",
    "            \n",
    "            nn.Linear(64, 16),\n",
    "            nn.LeakyReLU(0.2),\n",
    "            #nn.BatchNorm1d(10),\n",
    "            nn.Dropout(0.1),\n",
    "            \n",
    "            nn.Linear(16, 1)\n",
    "        )\n",
    "\n",
    "    def forward(self, x):\n",
    "        x = self.layers(x)\n",
    "        x = x.squeeze(1) # (B, 1) -> (B)\n",
    "        return x"
   ]
  },
  {
   "cell_type": "markdown",
   "metadata": {
    "id": "x5-LKF6R8xeq"
   },
   "source": [
    "# Feature Selection\n",
    "Choose features you deem useful by modifying the function below."
   ]
  },
  {
   "cell_type": "code",
   "execution_count": 5,
   "metadata": {},
   "outputs": [
    {
     "name": "stdout",
     "output_type": "stream",
     "text": [
      "Top 24 Best feature score \n",
      "[90072.43401367 42336.37370139 26889.70377033 18870.55811361\n",
      " 11290.79919656 10849.62638725 10420.334481   10365.26105926\n",
      " 10055.85024148  9859.62690961  9636.4254885   9330.74236337\n",
      "  9180.16305651  8703.90128488  7857.10815311  7840.26399997\n",
      "  7669.80626316  7634.02832221  7471.14168359  7427.81602428\n",
      "  7379.57519499  7350.43226583  7200.10012107  7189.72334257]\n",
      "\n",
      "Top 24 Best feature index \n",
      "[101  85  69  53 104  88 105  72  89  56  73  40  57  41 103 102  87  86\n",
      "  71  70  55  54  39  38]\n",
      "\n",
      "Top 24 Best feature name\n",
      "Index(['tested_positive.3', 'tested_positive.2', 'tested_positive.1',\n",
      "       'tested_positive', 'hh_cmnty_cli.4', 'hh_cmnty_cli.3',\n",
      "       'nohh_cmnty_cli.4', 'hh_cmnty_cli.2', 'nohh_cmnty_cli.3',\n",
      "       'hh_cmnty_cli.1', 'nohh_cmnty_cli.2', 'hh_cmnty_cli',\n",
      "       'nohh_cmnty_cli.1', 'nohh_cmnty_cli', 'ili.4', 'cli.4', 'ili.3',\n",
      "       'cli.3', 'ili.2', 'cli.2', 'ili.1', 'cli.1', 'ili', 'cli'],\n",
      "      dtype='object')\n",
      "[38, 39, 40, 41, 53, 54, 55, 56, 57, 69, 70, 71, 72, 73, 85, 86, 87, 88, 89, 101, 102, 103, 104, 105]\n",
      "Index(['cli', 'ili', 'hh_cmnty_cli', 'nohh_cmnty_cli', 'tested_positive',\n",
      "       'cli.1', 'ili.1', 'hh_cmnty_cli.1', 'nohh_cmnty_cli.1',\n",
      "       'tested_positive.1', 'cli.2', 'ili.2', 'hh_cmnty_cli.2',\n",
      "       'nohh_cmnty_cli.2', 'tested_positive.2', 'cli.3', 'ili.3',\n",
      "       'hh_cmnty_cli.3', 'nohh_cmnty_cli.3', 'tested_positive.3', 'cli.4',\n",
      "       'ili.4', 'hh_cmnty_cli.4', 'nohh_cmnty_cli.4'],\n",
      "      dtype='object')\n"
     ]
    }
   ],
   "source": [
    "from sklearn.feature_selection import SelectKBest\n",
    "from sklearn.feature_selection import f_regression\n",
    "\n",
    "features = pd.read_csv('./covid.train.csv')\n",
    "x_data, y_data = features.iloc[:, 0:117], features.iloc[:, 117]\n",
    "\n",
    "#try choose your k best features\n",
    "k = 24\n",
    "selector = SelectKBest(score_func=f_regression, k=k)\n",
    "result = selector.fit(x_data, y_data)\n",
    "\n",
    "#result.scores_ inclues scores for each features\n",
    "#np.argsort sort scores in ascending order by index, we reverse it to make it descending.\n",
    "idx = np.argsort(result.scores_)[::-1]\n",
    "print(f'Top {k} Best feature score ')\n",
    "print(result.scores_[idx[:k]])\n",
    "\n",
    "print(f'\\nTop {k} Best feature index ')\n",
    "print(idx[:k])\n",
    "\n",
    "print(f'\\nTop {k} Best feature name')\n",
    "print(x_data.columns[idx[:k]])\n",
    "\n",
    "selected_idx = list(np.sort(idx[:k]))\n",
    "print(selected_idx)\n",
    "print(x_data.columns[selected_idx])"
   ]
  },
  {
   "cell_type": "code",
   "execution_count": 6,
   "metadata": {
    "id": "0FEnKRaIIeKp"
   },
   "outputs": [],
   "source": [
    "def select_feat(train_data, valid_data, test_data, select_all=True):\n",
    "    '''Selects useful features to perform regression'''\n",
    "    y_train, y_valid = train_data[:,-1], valid_data[:,-1]\n",
    "    raw_x_train, raw_x_valid, raw_x_test = train_data[:,:-1], valid_data[:,:-1], test_data\n",
    "\n",
    "    if select_all:\n",
    "        feat_idx = list(range(raw_x_train.shape[1]))\n",
    "    else:\n",
    "        feat_idx = selected_idx\n",
    "        # TODO: Select suitable feature columns.\n",
    "        \n",
    "    return raw_x_train[:,feat_idx], raw_x_valid[:,feat_idx], raw_x_test[:,feat_idx], y_train, y_valid"
   ]
  },
  {
   "cell_type": "markdown",
   "metadata": {
    "id": "kADIPNQ2Ih5X"
   },
   "source": [
    "# Training Loop"
   ]
  },
  {
   "cell_type": "code",
   "execution_count": 7,
   "metadata": {
    "id": "k4Rq8_TztAhq"
   },
   "outputs": [],
   "source": [
    "def calculate_smape(y_true, y_pred):\n",
    "    y_true = np.array(y_true)\n",
    "    y_pred = np.array(y_pred)\n",
    "    numerator = np.abs(y_true - y_pred)\n",
    "    denominator = (np.abs(y_true) + np.abs(y_pred)) / 2\n",
    "    smape = np.mean(numerator / denominator) * 100\n",
    "    return smape\n",
    "\n",
    "\n",
    "def trainer(train_loader, valid_loader, model, config, device):\n",
    "\n",
    "    criterion = nn.MSELoss(reduction='mean') # Define your loss function, do not modify this.\n",
    "\n",
    "    bi\n",
    "\n",
    "    if not os.path.isdir('./models'):\n",
    "        os.mkdir('./models') # Create directory of saving models.\n",
    "\n",
    "    n_epochs, best_loss, step, early_stop_count = config['n_epochs'], math.inf, 0, 0\n",
    "    correct,total = 0,0\n",
    "    \n",
    "    train_losses = []\n",
    "    val_losses = []\n",
    "    train_r2scores = []  # List to store training accuracies\n",
    "    val_r2scores = []    # List to store validation accuracies\n",
    "    train_smapes = []  # List to store training accuracies\n",
    "    val_smapes = []    # List to store validation accuracies\n",
    "\n",
    "    for epoch in range(n_epochs):\n",
    "        model.train() # Set your model to train mode.\n",
    "        loss_record = []\n",
    "        true_values = []\n",
    "        predicted_values = []\n",
    "        # tqdm is a package to visualize your training progress.\n",
    "        train_pbar = tqdm(train_loader, position=0, leave=True)\n",
    "\n",
    "        for x, y in train_pbar:\n",
    "            optimizer.zero_grad()               # Set gradient to zero.\n",
    "            x, y = x.to(device), y.to(device)   # Move your data to device. \n",
    "#             print(y)\n",
    "            pred = model(x) \n",
    "#             print(pred)\n",
    "            loss = criterion(pred, y)\n",
    "            loss.backward()                     # Compute gradient(backpropagation).\n",
    "            optimizer.step()                    # Update parameters.\n",
    "            step += 1\n",
    "            loss_record.append(loss.detach().item())\n",
    "            true_values.extend(y.tolist())  # Add the actual target value to the list\n",
    "            predicted_values.extend(pred.tolist())  # Add the target values predicted by the model to the list\n",
    "            # Display current epoch number and loss on tqdm progress bar.\n",
    "            train_pbar.set_description(f'Epoch [{epoch+1}/{n_epochs}]')\n",
    "            train_pbar.set_postfix({'loss': loss.detach().item()})\n",
    "            \n",
    "        scheduler.step() \n",
    "\n",
    "        mean_train_loss = sum(loss_record)/len(loss_record)\n",
    "        train_r2score = r2_score(true_values, predicted_values) \n",
    "        train_smape = calculate_smape(true_values, predicted_values)\n",
    "        train_losses.append(mean_train_loss)\n",
    "        train_r2scores.append(train_r2score)\n",
    "        train_smapes.append(train_smape)\n",
    "\n",
    "\n",
    "        model.eval() # Set your model to evaluation mode.\n",
    "        loss_record = []\n",
    "        true_values = []\n",
    "        predicted_values = []\n",
    "        for x, y in valid_loader:\n",
    "            x, y = x.to(device), y.to(device)\n",
    "            with torch.no_grad():\n",
    "                pred = model(x)\n",
    "                loss = criterion(pred, y)\n",
    "                true_values.extend(y.tolist())  \n",
    "                predicted_values.extend(pred.tolist())  \n",
    "            loss_record.append(loss.item())\n",
    "            \n",
    "        mean_valid_loss = sum(loss_record)/len(loss_record)\n",
    "        val_r2score = r2_score(true_values, predicted_values)\n",
    "        val_smape = calculate_smape(true_values, predicted_values)\n",
    "        val_losses.append(mean_valid_loss)\n",
    "        val_r2scores.append(val_r2score)\n",
    "        val_smapes.append(val_smape)\n",
    "        \n",
    "        print(f'Epoch [{epoch+1}/{n_epochs}]: Train loss: {mean_train_loss:.4f}, Valid loss: {mean_valid_loss:.4f}')\n",
    "        print(f'Epoch [{epoch+1}/{n_epochs}]: Train r2_score: {train_r2score:.4f}, Valid r2_score: {val_r2score:.4f}')\n",
    "        print(f'Epoch [{epoch+1}/{n_epochs}]: Train smape: {train_smape:.4f}, Valid smape: {val_smape:.4f}')\n",
    "        # 需要加个accuracy\n",
    "        print()\n",
    "        if mean_valid_loss < best_loss:\n",
    "            best_loss = mean_valid_loss\n",
    "            torch.save(model.state_dict(), config['save_path']) # Save your best model\n",
    "            print('Saving model with loss {:.3f}...'.format(best_loss))\n",
    "            early_stop_count = 0\n",
    "        else: \n",
    "            early_stop_count += 1\n",
    "\n",
    "        if early_stop_count >= config['early_stop']:\n",
    "            print('\\nModel is not improving, so we halt the training session.')\n",
    "            break\n",
    "    return train_losses, val_losses, train_r2scores, val_r2scores, train_smapes, val_smapes"
   ]
  },
  {
   "cell_type": "markdown",
   "metadata": {
    "id": "0pgkOh2e9UjE"
   },
   "source": [
    "# Configurations\n",
    "`config` contains hyper-parameters for training and the path to save your model."
   ]
  },
  {
   "cell_type": "code",
   "execution_count": 8,
   "metadata": {
    "id": "QoWPUahCtoT6"
   },
   "outputs": [],
   "source": [
    "device = 'cuda' if torch.cuda.is_available() else 'cpu'\n",
    "config = {\n",
    "    'seed': 5201314,      # Your seed number, you can pick your lucky number. :)\n",
    "    'select_all': True,   # Whether to use all features.\n",
    "    'valid_ratio': 0.2,   # validation_size = train_size * valid_ratio\n",
    "    'n_epochs': 5000,     # Number of epochs.            \n",
    "    'batch_size': 256, \n",
    "    'learning_rate': 1e-5,              \n",
    "    'early_stop': 500,    # If model has not improved for this many consecutive epochs, stop training.     \n",
    "    'save_path': './models/model.ckpt'  # Your model will be saved here.\n",
    "}"
   ]
  },
  {
   "cell_type": "markdown",
   "metadata": {
    "id": "lrS-aJJh9XkW"
   },
   "source": [
    "# Dataloader\n",
    "Read data from files and set up training, validation, and testing sets. You do not need to modify this part."
   ]
  },
  {
   "cell_type": "code",
   "execution_count": 9,
   "metadata": {
    "colab": {
     "base_uri": "https://localhost:8080/"
    },
    "id": "2jc7ZfDot2t9",
    "outputId": "62d291db-61c8-424d-ec87-2cfce6dd330d"
   },
   "outputs": [
    {
     "name": "stdout",
     "output_type": "stream",
     "text": [
      "train_data size: (2160, 118) \n",
      "valid_data size: (539, 118) \n",
      "test_data size: (1078, 117)\n",
      "train_data size: (2160, 24) \n",
      "valid_data size: (539, 24) \n",
      "test_data size: (1078, 24)\n",
      "number of features: 24\n"
     ]
    }
   ],
   "source": [
    "# Set seed for reproducibility\n",
    "same_seed(config['seed'])\n",
    "\n",
    "\n",
    "# train_data size: 2699 x 118 (id + 37 states + 16 features x 5 days) \n",
    "# test_data size: 1078 x 117 (without last day's positive rate)\n",
    "train_data, test_data = pd.read_csv('./covid.train.csv').values, pd.read_csv('./covid.test.csv').values\n",
    "train_data, valid_data = train_valid_split(train_data, config['valid_ratio'], config['seed'])\n",
    "\n",
    "# Print out the data size.\n",
    "print(f\"\"\"train_data size: {train_data.shape} \n",
    "valid_data size: {valid_data.shape} \n",
    "test_data size: {test_data.shape}\"\"\")\n",
    "\n",
    "# Select features\n",
    "x_train, x_valid, x_test, y_train, y_valid = select_feat(train_data, valid_data, test_data, False)\n",
    "\n",
    "\n",
    "#normalization\n",
    "x_min, x_max = x_train.min(axis=0), x_train.max(axis=0)\n",
    "x_train = (x_train - x_min) / (x_max - x_min)\n",
    "x_valid = (x_valid - x_min) / (x_max - x_min)\n",
    "x_test = (x_test - x_min) / (x_max - x_min)\n",
    "\n",
    "print(f\"\"\"train_data size: {x_train.shape} \n",
    "valid_data size: {x_valid.shape} \n",
    "test_data size: {x_test.shape}\"\"\")\n",
    "# Print out the number of features.\n",
    "print(f'number of features: {x_train.shape[1]}')\n",
    "\n",
    "train_dataset, valid_dataset, test_dataset = COVID19Dataset(x_train, y_train), \\\n",
    "                                            COVID19Dataset(x_valid, y_valid), \\\n",
    "                                            COVID19Dataset(x_test)\n",
    "\n",
    "# Pytorch data loader loads pytorch dataset into batches.\n",
    "train_loader = DataLoader(train_dataset, batch_size=config['batch_size'], shuffle=True, pin_memory=True)\n",
    "valid_loader = DataLoader(valid_dataset, batch_size=config['batch_size'], shuffle=True, pin_memory=True)\n",
    "test_loader = DataLoader(test_dataset, batch_size=config['batch_size'], shuffle=False, pin_memory=True)"
   ]
  },
  {
   "cell_type": "markdown",
   "metadata": {
    "id": "0OBYgjCA-YwD"
   },
   "source": [
    "# Start training!"
   ]
  },
  {
   "cell_type": "code",
   "execution_count": 10,
   "metadata": {
    "colab": {
     "base_uri": "https://localhost:8080/"
    },
    "id": "YdttVRkAfu2t",
    "outputId": "864a1214-e69e-4197-dda0-ce2f6fe07d3c",
    "scrolled": true
   },
   "outputs": [
    {
     "name": "stderr",
     "output_type": "stream",
     "text": [
      "Epoch [1/5000]: 100%|██████████████████████████████████████████████████████████| 9/9 [00:01<00:00,  5.51it/s, loss=134]\n"
     ]
    },
    {
     "name": "stdout",
     "output_type": "stream",
     "text": [
      "Epoch [1/5000]: Train loss: 132.5253, Valid loss: 141.1233\n",
      "Epoch [1/5000]: Train r2_score: -2.2636, Valid r2_score: -2.2244\n",
      "Epoch [1/5000]: Train smape: 196.6047, Valid smape: 192.2684\n",
      "\n",
      "Saving model with loss 141.123...\n"
     ]
    },
    {
     "name": "stderr",
     "output_type": "stream",
     "text": [
      "Epoch [2/5000]: 100%|█████████████████████████████████████████████████████████| 9/9 [00:00<00:00, 195.65it/s, loss=123]\n"
     ]
    },
    {
     "name": "stdout",
     "output_type": "stream",
     "text": [
      "Epoch [2/5000]: Train loss: 127.6186, Valid loss: 141.5060\n",
      "Epoch [2/5000]: Train r2_score: -2.1525, Valid r2_score: -2.1998\n",
      "Epoch [2/5000]: Train smape: 194.8155, Valid smape: 194.1266\n",
      "\n"
     ]
    },
    {
     "name": "stderr",
     "output_type": "stream",
     "text": [
      "Epoch [3/5000]: 100%|█████████████████████████████████████████████████████████| 9/9 [00:00<00:00, 193.48it/s, loss=120]\n"
     ]
    },
    {
     "name": "stdout",
     "output_type": "stream",
     "text": [
      "Epoch [3/5000]: Train loss: 124.6161, Valid loss: 140.6914\n",
      "Epoch [3/5000]: Train r2_score: -2.0789, Valid r2_score: -2.1309\n",
      "Epoch [3/5000]: Train smape: 192.8980, Valid smape: 194.3517\n",
      "\n",
      "Saving model with loss 140.691...\n"
     ]
    },
    {
     "name": "stderr",
     "output_type": "stream",
     "text": [
      "Epoch [4/5000]: 100%|█████████████████████████████████████████████████████████| 9/9 [00:00<00:00, 206.87it/s, loss=122]\n"
     ]
    },
    {
     "name": "stdout",
     "output_type": "stream",
     "text": [
      "Epoch [4/5000]: Train loss: 121.3754, Valid loss: 144.2810\n",
      "Epoch [4/5000]: Train r2_score: -1.9907, Valid r2_score: -2.0395\n",
      "Epoch [4/5000]: Train smape: 190.7396, Valid smape: 192.5077\n",
      "\n"
     ]
    },
    {
     "name": "stderr",
     "output_type": "stream",
     "text": [
      "Epoch [5/5000]: 100%|█████████████████████████████████████████████████████████| 9/9 [00:00<00:00, 191.60it/s, loss=108]\n"
     ]
    },
    {
     "name": "stdout",
     "output_type": "stream",
     "text": [
      "Epoch [5/5000]: Train loss: 117.5978, Valid loss: 136.7496\n",
      "Epoch [5/5000]: Train r2_score: -1.9149, Valid r2_score: -1.9585\n",
      "Epoch [5/5000]: Train smape: 189.1820, Valid smape: 190.6925\n",
      "\n",
      "Saving model with loss 136.750...\n"
     ]
    },
    {
     "name": "stderr",
     "output_type": "stream",
     "text": [
      "Epoch [6/5000]: 100%|█████████████████████████████████████████████████████████| 9/9 [00:00<00:00, 211.74it/s, loss=113]\n"
     ]
    },
    {
     "name": "stdout",
     "output_type": "stream",
     "text": [
      "Epoch [6/5000]: Train loss: 116.4313, Valid loss: 117.8227\n",
      "Epoch [6/5000]: Train r2_score: -1.8755, Valid r2_score: -1.9069\n",
      "Epoch [6/5000]: Train smape: 188.3721, Valid smape: 189.5118\n",
      "\n",
      "Saving model with loss 117.823...\n"
     ]
    },
    {
     "name": "stderr",
     "output_type": "stream",
     "text": [
      "Epoch [7/5000]: 100%|█████████████████████████████████████████████████████████| 9/9 [00:00<00:00, 209.98it/s, loss=118]\n"
     ]
    },
    {
     "name": "stdout",
     "output_type": "stream",
     "text": [
      "Epoch [7/5000]: Train loss: 114.8109, Valid loss: 113.3356\n",
      "Epoch [7/5000]: Train r2_score: -1.8245, Valid r2_score: -1.7465\n",
      "Epoch [7/5000]: Train smape: 187.1674, Valid smape: 185.8026\n",
      "\n",
      "Saving model with loss 113.336...\n"
     ]
    },
    {
     "name": "stderr",
     "output_type": "stream",
     "text": [
      "Epoch [8/5000]: 100%|████████████████████████████████████████████████████████| 9/9 [00:00<00:00, 205.87it/s, loss=79.9]\n"
     ]
    },
    {
     "name": "stdout",
     "output_type": "stream",
     "text": [
      "Epoch [8/5000]: Train loss: 108.0108, Valid loss: 110.7963\n",
      "Epoch [8/5000]: Train r2_score: -1.7083, Valid r2_score: -1.5879\n",
      "Epoch [8/5000]: Train smape: 184.8030, Valid smape: 182.2281\n",
      "\n",
      "Saving model with loss 110.796...\n"
     ]
    },
    {
     "name": "stderr",
     "output_type": "stream",
     "text": [
      "Epoch [9/5000]: 100%|████████████████████████████████████████████████████████| 9/9 [00:00<00:00, 216.85it/s, loss=96.2]\n"
     ]
    },
    {
     "name": "stdout",
     "output_type": "stream",
     "text": [
      "Epoch [9/5000]: Train loss: 105.4667, Valid loss: 112.1333\n",
      "Epoch [9/5000]: Train r2_score: -1.6146, Valid r2_score: -1.4777\n",
      "Epoch [9/5000]: Train smape: 182.9157, Valid smape: 179.8796\n",
      "\n"
     ]
    },
    {
     "name": "stderr",
     "output_type": "stream",
     "text": [
      "Epoch [10/5000]: 100%|███████████████████████████████████████████████████████| 9/9 [00:00<00:00, 190.17it/s, loss=89.5]\n"
     ]
    },
    {
     "name": "stdout",
     "output_type": "stream",
     "text": [
      "Epoch [10/5000]: Train loss: 101.6602, Valid loss: 109.6732\n",
      "Epoch [10/5000]: Train r2_score: -1.5255, Valid r2_score: -1.3839\n",
      "Epoch [10/5000]: Train smape: 181.0041, Valid smape: 177.8360\n",
      "\n",
      "Saving model with loss 109.673...\n"
     ]
    },
    {
     "name": "stderr",
     "output_type": "stream",
     "text": [
      "Epoch [11/5000]: 100%|█████████████████████████████████████████████████████████| 9/9 [00:00<00:00, 187.51it/s, loss=96]\n"
     ]
    },
    {
     "name": "stdout",
     "output_type": "stream",
     "text": [
      "Epoch [11/5000]: Train loss: 98.8763, Valid loss: 100.1845\n",
      "Epoch [11/5000]: Train r2_score: -1.4417, Valid r2_score: -1.3434\n",
      "Epoch [11/5000]: Train smape: 179.3389, Valid smape: 177.0518\n",
      "\n",
      "Saving model with loss 100.185...\n"
     ]
    },
    {
     "name": "stderr",
     "output_type": "stream",
     "text": [
      "Epoch [12/5000]: 100%|███████████████████████████████████████████████████████| 9/9 [00:00<00:00, 179.77it/s, loss=93.5]\n"
     ]
    },
    {
     "name": "stdout",
     "output_type": "stream",
     "text": [
      "Epoch [12/5000]: Train loss: 96.4104, Valid loss: 102.9002\n",
      "Epoch [12/5000]: Train r2_score: -1.3810, Valid r2_score: -1.3131\n",
      "Epoch [12/5000]: Train smape: 178.1280, Valid smape: 176.4522\n",
      "\n"
     ]
    },
    {
     "name": "stderr",
     "output_type": "stream",
     "text": [
      "Epoch [13/5000]: 100%|███████████████████████████████████████████████████████| 9/9 [00:00<00:00, 194.02it/s, loss=87.8]\n"
     ]
    },
    {
     "name": "stdout",
     "output_type": "stream",
     "text": [
      "Epoch [13/5000]: Train loss: 95.9122, Valid loss: 102.5300\n",
      "Epoch [13/5000]: Train r2_score: -1.3773, Valid r2_score: -1.3049\n",
      "Epoch [13/5000]: Train smape: 177.8036, Valid smape: 176.3255\n",
      "\n"
     ]
    },
    {
     "name": "stderr",
     "output_type": "stream",
     "text": [
      "Epoch [14/5000]: 100%|████████████████████████████████████████████████████████| 9/9 [00:00<00:00, 196.45it/s, loss=107]\n"
     ]
    },
    {
     "name": "stdout",
     "output_type": "stream",
     "text": [
      "Epoch [14/5000]: Train loss: 95.5919, Valid loss: 102.7629\n",
      "Epoch [14/5000]: Train r2_score: -1.3379, Valid r2_score: -1.2972\n",
      "Epoch [14/5000]: Train smape: 177.2267, Valid smape: 176.1537\n",
      "\n"
     ]
    },
    {
     "name": "stderr",
     "output_type": "stream",
     "text": [
      "Epoch [15/5000]: 100%|███████████████████████████████████████████████████████| 9/9 [00:00<00:00, 173.71it/s, loss=91.1]\n"
     ]
    },
    {
     "name": "stdout",
     "output_type": "stream",
     "text": [
      "Epoch [15/5000]: Train loss: 93.3641, Valid loss: 94.9298\n",
      "Epoch [15/5000]: Train r2_score: -1.3049, Valid r2_score: -1.1628\n",
      "Epoch [15/5000]: Train smape: 176.4947, Valid smape: 173.2243\n",
      "\n",
      "Saving model with loss 94.930...\n"
     ]
    },
    {
     "name": "stderr",
     "output_type": "stream",
     "text": [
      "Epoch [16/5000]: 100%|███████████████████████████████████████████████████████| 9/9 [00:00<00:00, 195.65it/s, loss=88.1]\n"
     ]
    },
    {
     "name": "stdout",
     "output_type": "stream",
     "text": [
      "Epoch [16/5000]: Train loss: 87.7873, Valid loss: 94.4553\n",
      "Epoch [16/5000]: Train r2_score: -1.1631, Valid r2_score: -1.0539\n",
      "Epoch [16/5000]: Train smape: 173.5811, Valid smape: 170.8991\n",
      "\n",
      "Saving model with loss 94.455...\n"
     ]
    },
    {
     "name": "stderr",
     "output_type": "stream",
     "text": [
      "Epoch [17/5000]: 100%|█████████████████████████████████████████████████████████| 9/9 [00:00<00:00, 191.59it/s, loss=73]\n"
     ]
    },
    {
     "name": "stdout",
     "output_type": "stream",
     "text": [
      "Epoch [17/5000]: Train loss: 82.1550, Valid loss: 82.3464\n",
      "Epoch [17/5000]: Train r2_score: -1.0399, Valid r2_score: -0.9446\n",
      "Epoch [17/5000]: Train smape: 170.9370, Valid smape: 168.5507\n",
      "\n",
      "Saving model with loss 82.346...\n"
     ]
    },
    {
     "name": "stderr",
     "output_type": "stream",
     "text": [
      "Epoch [18/5000]: 100%|███████████████████████████████████████████████████████| 9/9 [00:00<00:00, 195.63it/s, loss=67.6]\n"
     ]
    },
    {
     "name": "stdout",
     "output_type": "stream",
     "text": [
      "Epoch [18/5000]: Train loss: 77.8190, Valid loss: 77.9647\n",
      "Epoch [18/5000]: Train r2_score: -0.9348, Valid r2_score: -0.8325\n",
      "Epoch [18/5000]: Train smape: 168.7537, Valid smape: 166.0624\n",
      "\n",
      "Saving model with loss 77.965...\n"
     ]
    },
    {
     "name": "stderr",
     "output_type": "stream",
     "text": [
      "Epoch [19/5000]: 100%|███████████████████████████████████████████████████████| 9/9 [00:00<00:00, 183.67it/s, loss=75.1]"
     ]
    },
    {
     "name": "stdout",
     "output_type": "stream",
     "text": [
      "Epoch [19/5000]: Train loss: 73.5579, Valid loss: 78.6809\n",
      "Epoch [19/5000]: Train r2_score: -0.8104, Valid r2_score: -0.7330\n",
      "Epoch [19/5000]: Train smape: 166.1659, Valid smape: 163.8448\n",
      "\n"
     ]
    },
    {
     "name": "stderr",
     "output_type": "stream",
     "text": [
      "\n",
      "Epoch [20/5000]: 100%|███████████████████████████████████████████████████████| 9/9 [00:00<00:00, 191.49it/s, loss=71.1]\n"
     ]
    },
    {
     "name": "stdout",
     "output_type": "stream",
     "text": [
      "Epoch [20/5000]: Train loss: 69.2770, Valid loss: 73.0230\n",
      "Epoch [20/5000]: Train r2_score: -0.7044, Valid r2_score: -0.6460\n",
      "Epoch [20/5000]: Train smape: 163.7681, Valid smape: 161.8633\n",
      "\n",
      "Saving model with loss 73.023...\n"
     ]
    },
    {
     "name": "stderr",
     "output_type": "stream",
     "text": [
      "Epoch [21/5000]: 100%|█████████████████████████████████████████████████████████| 9/9 [00:00<00:00, 223.36it/s, loss=65]\n"
     ]
    },
    {
     "name": "stdout",
     "output_type": "stream",
     "text": [
      "Epoch [21/5000]: Train loss: 66.5065, Valid loss: 71.7886\n",
      "Epoch [21/5000]: Train r2_score: -0.6416, Valid r2_score: -0.5794\n",
      "Epoch [21/5000]: Train smape: 162.1234, Valid smape: 160.3243\n",
      "\n",
      "Saving model with loss 71.789...\n"
     ]
    },
    {
     "name": "stderr",
     "output_type": "stream",
     "text": [
      "Epoch [22/5000]: 100%|███████████████████████████████████████████████████████| 9/9 [00:00<00:00, 244.52it/s, loss=72.3]\n"
     ]
    },
    {
     "name": "stdout",
     "output_type": "stream",
     "text": [
      "Epoch [22/5000]: Train loss: 64.0036, Valid loss: 68.8433\n",
      "Epoch [22/5000]: Train r2_score: -0.5639, Valid r2_score: -0.5205\n",
      "Epoch [22/5000]: Train smape: 160.4115, Valid smape: 158.9482\n",
      "\n",
      "Saving model with loss 68.843...\n"
     ]
    },
    {
     "name": "stderr",
     "output_type": "stream",
     "text": [
      "Epoch [23/5000]: 100%|███████████████████████████████████████████████████████| 9/9 [00:00<00:00, 228.11it/s, loss=64.4]\n"
     ]
    },
    {
     "name": "stdout",
     "output_type": "stream",
     "text": [
      "Epoch [23/5000]: Train loss: 61.3896, Valid loss: 65.6364\n",
      "Epoch [23/5000]: Train r2_score: -0.5080, Valid r2_score: -0.4573\n",
      "Epoch [23/5000]: Train smape: 159.2656, Valid smape: 157.3750\n",
      "\n",
      "Saving model with loss 65.636...\n"
     ]
    },
    {
     "name": "stderr",
     "output_type": "stream",
     "text": [
      "Epoch [24/5000]: 100%|███████████████████████████████████████████████████████| 9/9 [00:00<00:00, 249.99it/s, loss=55.2]\n"
     ]
    },
    {
     "name": "stdout",
     "output_type": "stream",
     "text": [
      "Epoch [24/5000]: Train loss: 59.0502, Valid loss: 61.2469\n",
      "Epoch [24/5000]: Train r2_score: -0.4617, Valid r2_score: -0.3912\n",
      "Epoch [24/5000]: Train smape: 157.8368, Valid smape: 155.6289\n",
      "\n",
      "Saving model with loss 61.247...\n"
     ]
    },
    {
     "name": "stderr",
     "output_type": "stream",
     "text": [
      "Epoch [25/5000]: 100%|█████████████████████████████████████████████████████████| 9/9 [00:00<00:00, 261.99it/s, loss=59]\n"
     ]
    },
    {
     "name": "stdout",
     "output_type": "stream",
     "text": [
      "Epoch [25/5000]: Train loss: 57.6193, Valid loss: 61.3087\n",
      "Epoch [25/5000]: Train r2_score: -0.4179, Valid r2_score: -0.3581\n",
      "Epoch [25/5000]: Train smape: 156.8814, Valid smape: 154.7866\n",
      "\n"
     ]
    },
    {
     "name": "stderr",
     "output_type": "stream",
     "text": [
      "Epoch [26/5000]: 100%|███████████████████████████████████████████████████████| 9/9 [00:00<00:00, 213.67it/s, loss=59.1]"
     ]
    },
    {
     "name": "stdout",
     "output_type": "stream",
     "text": [
      "Epoch [26/5000]: Train loss: 56.7856, Valid loss: 57.5055\n",
      "Epoch [26/5000]: Train r2_score: -0.3957, Valid r2_score: -0.3228\n",
      "Epoch [26/5000]: Train smape: 156.0922, Valid smape: 153.8155\n",
      "\n"
     ]
    },
    {
     "name": "stderr",
     "output_type": "stream",
     "text": [
      "\n"
     ]
    },
    {
     "name": "stdout",
     "output_type": "stream",
     "text": [
      "Saving model with loss 57.506...\n"
     ]
    },
    {
     "name": "stderr",
     "output_type": "stream",
     "text": [
      "Epoch [27/5000]: 100%|███████████████████████████████████████████████████████| 9/9 [00:00<00:00, 230.46it/s, loss=59.9]\n"
     ]
    },
    {
     "name": "stdout",
     "output_type": "stream",
     "text": [
      "Epoch [27/5000]: Train loss: 56.6557, Valid loss: 58.4297\n",
      "Epoch [27/5000]: Train r2_score: -0.3910, Valid r2_score: -0.3044\n",
      "Epoch [27/5000]: Train smape: 156.1695, Valid smape: 153.3094\n",
      "\n"
     ]
    },
    {
     "name": "stderr",
     "output_type": "stream",
     "text": [
      "Epoch [28/5000]: 100%|███████████████████████████████████████████████████████| 9/9 [00:00<00:00, 257.14it/s, loss=74.4]\n"
     ]
    },
    {
     "name": "stdout",
     "output_type": "stream",
     "text": [
      "Epoch [28/5000]: Train loss: 56.9994, Valid loss: 57.7639\n",
      "Epoch [28/5000]: Train r2_score: -0.3763, Valid r2_score: -0.3073\n",
      "Epoch [28/5000]: Train smape: 155.5564, Valid smape: 153.4366\n",
      "\n"
     ]
    },
    {
     "name": "stderr",
     "output_type": "stream",
     "text": [
      "Epoch [29/5000]: 100%|███████████████████████████████████████████████████████| 9/9 [00:00<00:00, 265.34it/s, loss=62.8]\n"
     ]
    },
    {
     "name": "stdout",
     "output_type": "stream",
     "text": [
      "Epoch [29/5000]: Train loss: 56.2675, Valid loss: 57.9340\n",
      "Epoch [29/5000]: Train r2_score: -0.3760, Valid r2_score: -0.2901\n",
      "Epoch [29/5000]: Train smape: 155.5531, Valid smape: 152.9406\n",
      "\n"
     ]
    },
    {
     "name": "stderr",
     "output_type": "stream",
     "text": [
      "Epoch [30/5000]: 100%|███████████████████████████████████████████████████████| 9/9 [00:00<00:00, 265.54it/s, loss=54.2]\n"
     ]
    },
    {
     "name": "stdout",
     "output_type": "stream",
     "text": [
      "Epoch [30/5000]: Train loss: 55.5374, Valid loss: 55.2448\n",
      "Epoch [30/5000]: Train r2_score: -0.3710, Valid r2_score: -0.2738\n",
      "Epoch [30/5000]: Train smape: 155.5836, Valid smape: 152.4395\n",
      "\n",
      "Saving model with loss 55.245...\n"
     ]
    },
    {
     "name": "stderr",
     "output_type": "stream",
     "text": [
      "Epoch [31/5000]: 100%|███████████████████████████████████████████████████████| 9/9 [00:00<00:00, 259.37it/s, loss=44.5]\n"
     ]
    },
    {
     "name": "stdout",
     "output_type": "stream",
     "text": [
      "Epoch [31/5000]: Train loss: 53.1216, Valid loss: 53.1707\n",
      "Epoch [31/5000]: Train r2_score: -0.3234, Valid r2_score: -0.2191\n",
      "Epoch [31/5000]: Train smape: 154.0430, Valid smape: 150.9232\n",
      "\n",
      "Saving model with loss 53.171...\n"
     ]
    },
    {
     "name": "stderr",
     "output_type": "stream",
     "text": [
      "Epoch [32/5000]: 100%|███████████████████████████████████████████████████████| 9/9 [00:00<00:00, 236.84it/s, loss=46.2]\n"
     ]
    },
    {
     "name": "stdout",
     "output_type": "stream",
     "text": [
      "Epoch [32/5000]: Train loss: 50.3770, Valid loss: 50.7621\n",
      "Epoch [32/5000]: Train r2_score: -0.2485, Valid r2_score: -0.1735\n",
      "Epoch [32/5000]: Train smape: 152.2179, Valid smape: 149.5804\n",
      "\n",
      "Saving model with loss 50.762...\n"
     ]
    },
    {
     "name": "stderr",
     "output_type": "stream",
     "text": [
      "Epoch [33/5000]: 100%|███████████████████████████████████████████████████████| 9/9 [00:00<00:00, 204.89it/s, loss=48.2]\n"
     ]
    },
    {
     "name": "stdout",
     "output_type": "stream",
     "text": [
      "Epoch [33/5000]: Train loss: 48.0301, Valid loss: 53.9508\n",
      "Epoch [33/5000]: Train r2_score: -0.1834, Valid r2_score: -0.1429\n",
      "Epoch [33/5000]: Train smape: 150.1442, Valid smape: 148.6035\n",
      "\n"
     ]
    },
    {
     "name": "stderr",
     "output_type": "stream",
     "text": [
      "Epoch [34/5000]: 100%|███████████████████████████████████████████████████████| 9/9 [00:00<00:00, 193.92it/s, loss=42.2]\n"
     ]
    },
    {
     "name": "stdout",
     "output_type": "stream",
     "text": [
      "Epoch [34/5000]: Train loss: 45.2814, Valid loss: 47.8571\n",
      "Epoch [34/5000]: Train r2_score: -0.1211, Valid r2_score: -0.0390\n",
      "Epoch [34/5000]: Train smape: 148.0335, Valid smape: 144.8516\n",
      "\n",
      "Saving model with loss 47.857...\n"
     ]
    },
    {
     "name": "stderr",
     "output_type": "stream",
     "text": [
      "Epoch [35/5000]: 100%|███████████████████████████████████████████████████████| 9/9 [00:00<00:00, 195.62it/s, loss=47.1]\n"
     ]
    },
    {
     "name": "stdout",
     "output_type": "stream",
     "text": [
      "Epoch [35/5000]: Train loss: 44.5195, Valid loss: 42.8314\n",
      "Epoch [35/5000]: Train r2_score: -0.0930, Valid r2_score: -0.0126\n",
      "Epoch [35/5000]: Train smape: 146.7246, Valid smape: 143.6830\n",
      "\n",
      "Saving model with loss 42.831...\n"
     ]
    },
    {
     "name": "stderr",
     "output_type": "stream",
     "text": [
      "Epoch [36/5000]: 100%|███████████████████████████████████████████████████████| 9/9 [00:00<00:00, 219.44it/s, loss=44.2]\n"
     ]
    },
    {
     "name": "stdout",
     "output_type": "stream",
     "text": [
      "Epoch [36/5000]: Train loss: 43.4083, Valid loss: 43.3590\n",
      "Epoch [36/5000]: Train r2_score: -0.0685, Valid r2_score: 0.0501\n",
      "Epoch [36/5000]: Train smape: 145.5844, Valid smape: 141.0738\n",
      "\n"
     ]
    },
    {
     "name": "stderr",
     "output_type": "stream",
     "text": [
      "Epoch [37/5000]: 100%|███████████████████████████████████████████████████████| 9/9 [00:00<00:00, 217.74it/s, loss=49.1]\n"
     ]
    },
    {
     "name": "stdout",
     "output_type": "stream",
     "text": [
      "Epoch [37/5000]: Train loss: 42.3920, Valid loss: 43.4841\n",
      "Epoch [37/5000]: Train r2_score: -0.0338, Valid r2_score: 0.0412\n",
      "Epoch [37/5000]: Train smape: 144.1553, Valid smape: 141.3904\n",
      "\n"
     ]
    },
    {
     "name": "stderr",
     "output_type": "stream",
     "text": [
      "Epoch [38/5000]: 100%|███████████████████████████████████████████████████████| 9/9 [00:00<00:00, 249.98it/s, loss=47.8]\n"
     ]
    },
    {
     "name": "stdout",
     "output_type": "stream",
     "text": [
      "Epoch [38/5000]: Train loss: 41.8832, Valid loss: 42.1015\n",
      "Epoch [38/5000]: Train r2_score: -0.0226, Valid r2_score: 0.0424\n",
      "Epoch [38/5000]: Train smape: 143.1413, Valid smape: 141.2554\n",
      "\n",
      "Saving model with loss 42.101...\n"
     ]
    },
    {
     "name": "stderr",
     "output_type": "stream",
     "text": [
      "Epoch [39/5000]: 100%|███████████████████████████████████████████████████████| 9/9 [00:00<00:00, 250.91it/s, loss=39.5]\n"
     ]
    },
    {
     "name": "stdout",
     "output_type": "stream",
     "text": [
      "Epoch [39/5000]: Train loss: 40.0350, Valid loss: 41.0111\n",
      "Epoch [39/5000]: Train r2_score: 0.0123, Valid r2_score: 0.1046\n",
      "Epoch [39/5000]: Train smape: 142.0365, Valid smape: 138.4016\n",
      "\n",
      "Saving model with loss 41.011...\n"
     ]
    },
    {
     "name": "stderr",
     "output_type": "stream",
     "text": [
      "Epoch [40/5000]: 100%|███████████████████████████████████████████████████████| 9/9 [00:00<00:00, 264.41it/s, loss=50.4]\n"
     ]
    },
    {
     "name": "stdout",
     "output_type": "stream",
     "text": [
      "Epoch [40/5000]: Train loss: 40.1277, Valid loss: 42.1356\n",
      "Epoch [40/5000]: Train r2_score: 0.0278, Valid r2_score: 0.1126\n",
      "Epoch [40/5000]: Train smape: 140.8711, Valid smape: 137.9460\n",
      "\n"
     ]
    },
    {
     "name": "stderr",
     "output_type": "stream",
     "text": [
      "Epoch [41/5000]: 100%|███████████████████████████████████████████████████████| 9/9 [00:00<00:00, 240.84it/s, loss=44.4]\n"
     ]
    },
    {
     "name": "stdout",
     "output_type": "stream",
     "text": [
      "Epoch [41/5000]: Train loss: 39.0804, Valid loss: 38.2383\n",
      "Epoch [41/5000]: Train r2_score: 0.0455, Valid r2_score: 0.1050\n",
      "Epoch [41/5000]: Train smape: 140.3183, Valid smape: 138.1968\n",
      "\n",
      "Saving model with loss 38.238...\n"
     ]
    },
    {
     "name": "stderr",
     "output_type": "stream",
     "text": [
      "Epoch [42/5000]: 100%|███████████████████████████████████████████████████████| 9/9 [00:00<00:00, 254.23it/s, loss=33.1]\n"
     ]
    },
    {
     "name": "stdout",
     "output_type": "stream",
     "text": [
      "Epoch [42/5000]: Train loss: 38.4004, Valid loss: 38.6835\n",
      "Epoch [42/5000]: Train r2_score: 0.0448, Valid r2_score: 0.1497\n",
      "Epoch [42/5000]: Train smape: 139.8161, Valid smape: 135.9343\n",
      "\n"
     ]
    },
    {
     "name": "stderr",
     "output_type": "stream",
     "text": [
      "Epoch [43/5000]: 100%|███████████████████████████████████████████████████████| 9/9 [00:00<00:00, 240.32it/s, loss=37.2]\n"
     ]
    },
    {
     "name": "stdout",
     "output_type": "stream",
     "text": [
      "Epoch [43/5000]: Train loss: 37.6502, Valid loss: 37.2830\n",
      "Epoch [43/5000]: Train r2_score: 0.0713, Valid r2_score: 0.1597\n",
      "Epoch [43/5000]: Train smape: 138.8671, Valid smape: 135.3307\n",
      "\n",
      "Saving model with loss 37.283...\n"
     ]
    },
    {
     "name": "stderr",
     "output_type": "stream",
     "text": [
      "Epoch [44/5000]: 100%|███████████████████████████████████████████████████████| 9/9 [00:00<00:00, 237.27it/s, loss=39.6]\n"
     ]
    },
    {
     "name": "stdout",
     "output_type": "stream",
     "text": [
      "Epoch [44/5000]: Train loss: 37.1728, Valid loss: 35.9714\n",
      "Epoch [44/5000]: Train r2_score: 0.0879, Valid r2_score: 0.1735\n",
      "Epoch [44/5000]: Train smape: 137.9935, Valid smape: 134.4558\n",
      "\n",
      "Saving model with loss 35.971...\n"
     ]
    },
    {
     "name": "stderr",
     "output_type": "stream",
     "text": [
      "Epoch [45/5000]: 100%|███████████████████████████████████████████████████████| 9/9 [00:00<00:00, 205.02it/s, loss=31.9]\n"
     ]
    },
    {
     "name": "stdout",
     "output_type": "stream",
     "text": [
      "Epoch [45/5000]: Train loss: 36.7582, Valid loss: 33.7745\n",
      "Epoch [45/5000]: Train r2_score: 0.0860, Valid r2_score: 0.2136\n",
      "Epoch [45/5000]: Train smape: 137.4741, Valid smape: 132.2121\n",
      "\n",
      "Saving model with loss 33.775...\n"
     ]
    },
    {
     "name": "stderr",
     "output_type": "stream",
     "text": [
      "Epoch [46/5000]: 100%|███████████████████████████████████████████████████████| 9/9 [00:00<00:00, 212.30it/s, loss=30.7]\n"
     ]
    },
    {
     "name": "stdout",
     "output_type": "stream",
     "text": [
      "Epoch [46/5000]: Train loss: 36.3660, Valid loss: 34.8219\n",
      "Epoch [46/5000]: Train r2_score: 0.0944, Valid r2_score: 0.2168\n",
      "Epoch [46/5000]: Train smape: 136.9148, Valid smape: 131.8251\n",
      "\n"
     ]
    },
    {
     "name": "stderr",
     "output_type": "stream",
     "text": [
      "Epoch [47/5000]: 100%|█████████████████████████████████████████████████████████| 9/9 [00:00<00:00, 235.83it/s, loss=33]\n"
     ]
    },
    {
     "name": "stdout",
     "output_type": "stream",
     "text": [
      "Epoch [47/5000]: Train loss: 35.8126, Valid loss: 33.0324\n",
      "Epoch [47/5000]: Train r2_score: 0.1127, Valid r2_score: 0.2505\n",
      "Epoch [47/5000]: Train smape: 135.7947, Valid smape: 129.8214\n",
      "\n",
      "Saving model with loss 33.032...\n"
     ]
    },
    {
     "name": "stderr",
     "output_type": "stream",
     "text": [
      "Epoch [48/5000]: 100%|███████████████████████████████████████████████████████| 9/9 [00:00<00:00, 252.17it/s, loss=32.7]\n"
     ]
    },
    {
     "name": "stdout",
     "output_type": "stream",
     "text": [
      "Epoch [48/5000]: Train loss: 35.1146, Valid loss: 31.9347\n",
      "Epoch [48/5000]: Train r2_score: 0.1305, Valid r2_score: 0.2814\n",
      "Epoch [48/5000]: Train smape: 135.3219, Valid smape: 127.9870\n",
      "\n",
      "Saving model with loss 31.935...\n"
     ]
    },
    {
     "name": "stderr",
     "output_type": "stream",
     "text": [
      "Epoch [49/5000]: 100%|███████████████████████████████████████████████████████| 9/9 [00:00<00:00, 250.00it/s, loss=37.7]\n"
     ]
    },
    {
     "name": "stdout",
     "output_type": "stream",
     "text": [
      "Epoch [49/5000]: Train loss: 35.7074, Valid loss: 32.9434\n",
      "Epoch [49/5000]: Train r2_score: 0.1233, Valid r2_score: 0.2663\n",
      "Epoch [49/5000]: Train smape: 135.3624, Valid smape: 128.8387\n",
      "\n"
     ]
    },
    {
     "name": "stderr",
     "output_type": "stream",
     "text": [
      "Epoch [50/5000]: 100%|███████████████████████████████████████████████████████| 9/9 [00:00<00:00, 273.79it/s, loss=29.9]\n"
     ]
    },
    {
     "name": "stdout",
     "output_type": "stream",
     "text": [
      "Epoch [50/5000]: Train loss: 33.6611, Valid loss: 32.9219\n",
      "Epoch [50/5000]: Train r2_score: 0.1642, Valid r2_score: 0.2614\n",
      "Epoch [50/5000]: Train smape: 133.7131, Valid smape: 129.0989\n",
      "\n"
     ]
    },
    {
     "name": "stderr",
     "output_type": "stream",
     "text": [
      "Epoch [51/5000]: 100%|███████████████████████████████████████████████████████| 9/9 [00:00<00:00, 249.98it/s, loss=30.6]\n"
     ]
    },
    {
     "name": "stdout",
     "output_type": "stream",
     "text": [
      "Epoch [51/5000]: Train loss: 34.4453, Valid loss: 31.9773\n",
      "Epoch [51/5000]: Train r2_score: 0.1447, Valid r2_score: 0.2716\n",
      "Epoch [51/5000]: Train smape: 134.2606, Valid smape: 128.3852\n",
      "\n"
     ]
    },
    {
     "name": "stderr",
     "output_type": "stream",
     "text": [
      "Epoch [52/5000]: 100%|███████████████████████████████████████████████████████| 9/9 [00:00<00:00, 273.82it/s, loss=33.7]\n"
     ]
    },
    {
     "name": "stdout",
     "output_type": "stream",
     "text": [
      "Epoch [52/5000]: Train loss: 34.5132, Valid loss: 31.7336\n",
      "Epoch [52/5000]: Train r2_score: 0.1481, Valid r2_score: 0.2879\n",
      "Epoch [52/5000]: Train smape: 134.0508, Valid smape: 127.3651\n",
      "\n",
      "Saving model with loss 31.734...\n"
     ]
    },
    {
     "name": "stderr",
     "output_type": "stream",
     "text": [
      "Epoch [53/5000]: 100%|███████████████████████████████████████████████████████| 9/9 [00:00<00:00, 206.25it/s, loss=37.5]\n"
     ]
    },
    {
     "name": "stdout",
     "output_type": "stream",
     "text": [
      "Epoch [53/5000]: Train loss: 34.2098, Valid loss: 32.5916\n",
      "Epoch [53/5000]: Train r2_score: 0.1622, Valid r2_score: 0.2967\n",
      "Epoch [53/5000]: Train smape: 133.1516, Valid smape: 126.8731\n",
      "\n"
     ]
    },
    {
     "name": "stderr",
     "output_type": "stream",
     "text": [
      "Epoch [54/5000]: 100%|█████████████████████████████████████████████████████████| 9/9 [00:00<00:00, 174.16it/s, loss=33]\n"
     ]
    },
    {
     "name": "stdout",
     "output_type": "stream",
     "text": [
      "Epoch [54/5000]: Train loss: 33.9012, Valid loss: 30.1031\n",
      "Epoch [54/5000]: Train r2_score: 0.1630, Valid r2_score: 0.3072\n",
      "Epoch [54/5000]: Train smape: 133.4761, Valid smape: 126.2099\n",
      "\n",
      "Saving model with loss 30.103...\n"
     ]
    },
    {
     "name": "stderr",
     "output_type": "stream",
     "text": [
      "Epoch [55/5000]: 100%|█████████████████████████████████████████████████████████| 9/9 [00:00<00:00, 224.42it/s, loss=37]\n"
     ]
    },
    {
     "name": "stdout",
     "output_type": "stream",
     "text": [
      "Epoch [55/5000]: Train loss: 34.1062, Valid loss: 28.8014\n",
      "Epoch [55/5000]: Train r2_score: 0.1641, Valid r2_score: 0.3006\n",
      "Epoch [55/5000]: Train smape: 133.2368, Valid smape: 126.6028\n",
      "\n",
      "Saving model with loss 28.801...\n"
     ]
    },
    {
     "name": "stderr",
     "output_type": "stream",
     "text": [
      "Epoch [56/5000]: 100%|███████████████████████████████████████████████████████| 9/9 [00:00<00:00, 232.01it/s, loss=39.8]\n"
     ]
    },
    {
     "name": "stdout",
     "output_type": "stream",
     "text": [
      "Epoch [56/5000]: Train loss: 33.8472, Valid loss: 31.3404\n",
      "Epoch [56/5000]: Train r2_score: 0.1756, Valid r2_score: 0.2918\n",
      "Epoch [56/5000]: Train smape: 132.6644, Valid smape: 127.1181\n",
      "\n"
     ]
    },
    {
     "name": "stderr",
     "output_type": "stream",
     "text": [
      "Epoch [57/5000]: 100%|███████████████████████████████████████████████████████| 9/9 [00:00<00:00, 214.47it/s, loss=33.4]\n"
     ]
    },
    {
     "name": "stdout",
     "output_type": "stream",
     "text": [
      "Epoch [57/5000]: Train loss: 33.9364, Valid loss: 32.3373\n",
      "Epoch [57/5000]: Train r2_score: 0.1626, Valid r2_score: 0.2915\n",
      "Epoch [57/5000]: Train smape: 133.0198, Valid smape: 127.1200\n",
      "\n"
     ]
    },
    {
     "name": "stderr",
     "output_type": "stream",
     "text": [
      "Epoch [58/5000]: 100%|███████████████████████████████████████████████████████| 9/9 [00:00<00:00, 214.63it/s, loss=33.1]\n"
     ]
    },
    {
     "name": "stdout",
     "output_type": "stream",
     "text": [
      "Epoch [58/5000]: Train loss: 33.9365, Valid loss: 30.4991\n",
      "Epoch [58/5000]: Train r2_score: 0.1622, Valid r2_score: 0.3016\n",
      "Epoch [58/5000]: Train smape: 132.8332, Valid smape: 126.5261\n",
      "\n"
     ]
    },
    {
     "name": "stderr",
     "output_type": "stream",
     "text": [
      "Epoch [59/5000]: 100%|███████████████████████████████████████████████████████| 9/9 [00:00<00:00, 225.00it/s, loss=32.1]\n"
     ]
    },
    {
     "name": "stdout",
     "output_type": "stream",
     "text": [
      "Epoch [59/5000]: Train loss: 33.5514, Valid loss: 31.5205\n",
      "Epoch [59/5000]: Train r2_score: 0.1707, Valid r2_score: 0.3101\n",
      "Epoch [59/5000]: Train smape: 132.6436, Valid smape: 125.9798\n",
      "\n"
     ]
    },
    {
     "name": "stderr",
     "output_type": "stream",
     "text": [
      "Epoch [60/5000]: 100%|███████████████████████████████████████████████████████| 9/9 [00:00<00:00, 100.59it/s, loss=32.9]\n"
     ]
    },
    {
     "name": "stdout",
     "output_type": "stream",
     "text": [
      "Epoch [60/5000]: Train loss: 33.6108, Valid loss: 30.5261\n",
      "Epoch [60/5000]: Train r2_score: 0.1704, Valid r2_score: 0.3192\n",
      "Epoch [60/5000]: Train smape: 132.4788, Valid smape: 125.3979\n",
      "\n"
     ]
    },
    {
     "name": "stderr",
     "output_type": "stream",
     "text": [
      "Epoch [61/5000]: 100%|███████████████████████████████████████████████████████| 9/9 [00:00<00:00, 257.70it/s, loss=42.7]"
     ]
    },
    {
     "name": "stdout",
     "output_type": "stream",
     "text": [
      "Epoch [61/5000]: Train loss: 33.8555, Valid loss: 30.9280\n",
      "Epoch [61/5000]: Train r2_score: 0.1801, Valid r2_score: 0.3017\n",
      "Epoch [61/5000]: Train smape: 132.5901, Valid smape: 126.4723\n",
      "\n"
     ]
    },
    {
     "name": "stderr",
     "output_type": "stream",
     "text": [
      "\n",
      "Epoch [62/5000]: 100%|███████████████████████████████████████████████████████| 9/9 [00:00<00:00, 259.73it/s, loss=30.5]\n"
     ]
    },
    {
     "name": "stdout",
     "output_type": "stream",
     "text": [
      "Epoch [62/5000]: Train loss: 33.3952, Valid loss: 31.4751\n",
      "Epoch [62/5000]: Train r2_score: 0.1722, Valid r2_score: 0.3116\n",
      "Epoch [62/5000]: Train smape: 132.5948, Valid smape: 125.8321\n",
      "\n"
     ]
    },
    {
     "name": "stderr",
     "output_type": "stream",
     "text": [
      "Epoch [63/5000]: 100%|███████████████████████████████████████████████████████| 9/9 [00:00<00:00, 248.26it/s, loss=35.2]\n"
     ]
    },
    {
     "name": "stdout",
     "output_type": "stream",
     "text": [
      "Epoch [63/5000]: Train loss: 33.2492, Valid loss: 30.7199\n",
      "Epoch [63/5000]: Train r2_score: 0.1837, Valid r2_score: 0.3150\n",
      "Epoch [63/5000]: Train smape: 131.9245, Valid smape: 125.7028\n",
      "\n"
     ]
    },
    {
     "name": "stderr",
     "output_type": "stream",
     "text": [
      "Epoch [64/5000]: 100%|███████████████████████████████████████████████████████| 9/9 [00:00<00:00, 226.93it/s, loss=28.8]\n"
     ]
    },
    {
     "name": "stdout",
     "output_type": "stream",
     "text": [
      "Epoch [64/5000]: Train loss: 32.5487, Valid loss: 32.7276\n",
      "Epoch [64/5000]: Train r2_score: 0.1917, Valid r2_score: 0.2955\n",
      "Epoch [64/5000]: Train smape: 131.3054, Valid smape: 126.8302\n",
      "\n"
     ]
    },
    {
     "name": "stderr",
     "output_type": "stream",
     "text": [
      "Epoch [65/5000]: 100%|███████████████████████████████████████████████████████| 9/9 [00:00<00:00, 264.71it/s, loss=28.5]\n"
     ]
    },
    {
     "name": "stdout",
     "output_type": "stream",
     "text": [
      "Epoch [65/5000]: Train loss: 31.7381, Valid loss: 29.6507\n",
      "Epoch [65/5000]: Train r2_score: 0.2124, Valid r2_score: 0.3217\n",
      "Epoch [65/5000]: Train smape: 129.8491, Valid smape: 125.0376\n",
      "\n"
     ]
    },
    {
     "name": "stderr",
     "output_type": "stream",
     "text": [
      "Epoch [66/5000]: 100%|███████████████████████████████████████████████████████| 9/9 [00:00<00:00, 253.55it/s, loss=37.4]\n"
     ]
    },
    {
     "name": "stdout",
     "output_type": "stream",
     "text": [
      "Epoch [66/5000]: Train loss: 31.9551, Valid loss: 31.9596\n",
      "Epoch [66/5000]: Train r2_score: 0.2213, Valid r2_score: 0.2753\n",
      "Epoch [66/5000]: Train smape: 128.5796, Valid smape: 127.5632\n",
      "\n"
     ]
    },
    {
     "name": "stderr",
     "output_type": "stream",
     "text": [
      "Epoch [67/5000]: 100%|███████████████████████████████████████████████████████| 9/9 [00:00<00:00, 244.99it/s, loss=32.7]\n"
     ]
    },
    {
     "name": "stdout",
     "output_type": "stream",
     "text": [
      "Epoch [67/5000]: Train loss: 30.8973, Valid loss: 28.5911\n",
      "Epoch [67/5000]: Train r2_score: 0.2415, Valid r2_score: 0.3458\n",
      "Epoch [67/5000]: Train smape: 127.8863, Valid smape: 123.0967\n",
      "\n",
      "Saving model with loss 28.591...\n"
     ]
    },
    {
     "name": "stderr",
     "output_type": "stream",
     "text": [
      "Epoch [68/5000]: 100%|█████████████████████████████████████████████████████████| 9/9 [00:00<00:00, 244.91it/s, loss=25]\n"
     ]
    },
    {
     "name": "stdout",
     "output_type": "stream",
     "text": [
      "Epoch [68/5000]: Train loss: 29.8825, Valid loss: 27.7620\n",
      "Epoch [68/5000]: Train r2_score: 0.2555, Valid r2_score: 0.3355\n",
      "Epoch [68/5000]: Train smape: 126.0659, Valid smape: 123.3043\n",
      "\n",
      "Saving model with loss 27.762...\n"
     ]
    },
    {
     "name": "stderr",
     "output_type": "stream",
     "text": [
      "Epoch [69/5000]: 100%|█████████████████████████████████████████████████████████| 9/9 [00:00<00:00, 243.65it/s, loss=35]\n"
     ]
    },
    {
     "name": "stdout",
     "output_type": "stream",
     "text": [
      "Epoch [69/5000]: Train loss: 29.3487, Valid loss: 27.6240\n",
      "Epoch [69/5000]: Train r2_score: 0.2860, Valid r2_score: 0.3553\n",
      "Epoch [69/5000]: Train smape: 124.6684, Valid smape: 121.9573\n",
      "\n",
      "Saving model with loss 27.624...\n"
     ]
    },
    {
     "name": "stderr",
     "output_type": "stream",
     "text": [
      "Epoch [70/5000]: 100%|███████████████████████████████████████████████████████| 9/9 [00:00<00:00, 243.29it/s, loss=32.2]\n"
     ]
    },
    {
     "name": "stdout",
     "output_type": "stream",
     "text": [
      "Epoch [70/5000]: Train loss: 28.3608, Valid loss: 28.1194\n",
      "Epoch [70/5000]: Train r2_score: 0.3073, Valid r2_score: 0.3326\n",
      "Epoch [70/5000]: Train smape: 122.8547, Valid smape: 123.2931\n",
      "\n"
     ]
    },
    {
     "name": "stderr",
     "output_type": "stream",
     "text": [
      "Epoch [71/5000]: 100%|███████████████████████████████████████████████████████| 9/9 [00:00<00:00, 256.75it/s, loss=24.3]\n"
     ]
    },
    {
     "name": "stdout",
     "output_type": "stream",
     "text": [
      "Epoch [71/5000]: Train loss: 27.2562, Valid loss: 26.2395\n",
      "Epoch [71/5000]: Train r2_score: 0.3234, Valid r2_score: 0.4348\n",
      "Epoch [71/5000]: Train smape: 121.8973, Valid smape: 116.1177\n",
      "\n",
      "Saving model with loss 26.240...\n"
     ]
    },
    {
     "name": "stderr",
     "output_type": "stream",
     "text": [
      "Epoch [72/5000]: 100%|█████████████████████████████████████████████████████████| 9/9 [00:00<00:00, 272.73it/s, loss=37]\n"
     ]
    },
    {
     "name": "stdout",
     "output_type": "stream",
     "text": [
      "Epoch [72/5000]: Train loss: 27.1654, Valid loss: 26.7094\n",
      "Epoch [72/5000]: Train r2_score: 0.3467, Valid r2_score: 0.4185\n",
      "Epoch [72/5000]: Train smape: 120.0447, Valid smape: 116.9939\n",
      "\n"
     ]
    },
    {
     "name": "stderr",
     "output_type": "stream",
     "text": [
      "Epoch [73/5000]: 100%|███████████████████████████████████████████████████████| 9/9 [00:00<00:00, 281.25it/s, loss=23.8]\n"
     ]
    },
    {
     "name": "stdout",
     "output_type": "stream",
     "text": [
      "Epoch [73/5000]: Train loss: 26.1158, Valid loss: 23.2013\n",
      "Epoch [73/5000]: Train r2_score: 0.3525, Valid r2_score: 0.4767\n",
      "Epoch [73/5000]: Train smape: 118.8626, Valid smape: 112.4960\n",
      "\n",
      "Saving model with loss 23.201...\n"
     ]
    },
    {
     "name": "stderr",
     "output_type": "stream",
     "text": [
      "Epoch [74/5000]: 100%|███████████████████████████████████████████████████████| 9/9 [00:00<00:00, 272.74it/s, loss=24.4]\n"
     ]
    },
    {
     "name": "stdout",
     "output_type": "stream",
     "text": [
      "Epoch [74/5000]: Train loss: 25.2897, Valid loss: 24.5779\n",
      "Epoch [74/5000]: Train r2_score: 0.3753, Valid r2_score: 0.4465\n",
      "Epoch [74/5000]: Train smape: 117.0208, Valid smape: 114.8733\n",
      "\n"
     ]
    },
    {
     "name": "stderr",
     "output_type": "stream",
     "text": [
      "Epoch [75/5000]: 100%|███████████████████████████████████████████████████████| 9/9 [00:00<00:00, 230.77it/s, loss=25.9]\n"
     ]
    },
    {
     "name": "stdout",
     "output_type": "stream",
     "text": [
      "Epoch [75/5000]: Train loss: 24.3535, Valid loss: 23.5228\n",
      "Epoch [75/5000]: Train r2_score: 0.4023, Valid r2_score: 0.4300\n",
      "Epoch [75/5000]: Train smape: 115.2441, Valid smape: 115.2801\n",
      "\n"
     ]
    },
    {
     "name": "stderr",
     "output_type": "stream",
     "text": [
      "Epoch [76/5000]: 100%|███████████████████████████████████████████████████████| 9/9 [00:00<00:00, 241.50it/s, loss=29.5]\n"
     ]
    },
    {
     "name": "stdout",
     "output_type": "stream",
     "text": [
      "Epoch [76/5000]: Train loss: 23.6610, Valid loss: 21.0485\n",
      "Epoch [76/5000]: Train r2_score: 0.4264, Valid r2_score: 0.5201\n",
      "Epoch [76/5000]: Train smape: 113.3992, Valid smape: 107.8548\n",
      "\n",
      "Saving model with loss 21.048...\n"
     ]
    },
    {
     "name": "stderr",
     "output_type": "stream",
     "text": [
      "Epoch [77/5000]: 100%|███████████████████████████████████████████████████████| 9/9 [00:00<00:00, 256.41it/s, loss=23.6]\n"
     ]
    },
    {
     "name": "stdout",
     "output_type": "stream",
     "text": [
      "Epoch [77/5000]: Train loss: 23.0764, Valid loss: 20.4168\n",
      "Epoch [77/5000]: Train r2_score: 0.4321, Valid r2_score: 0.5700\n",
      "Epoch [77/5000]: Train smape: 112.0869, Valid smape: 103.5001\n",
      "\n",
      "Saving model with loss 20.417...\n"
     ]
    },
    {
     "name": "stderr",
     "output_type": "stream",
     "text": [
      "Epoch [78/5000]: 100%|███████████████████████████████████████████████████████| 9/9 [00:00<00:00, 221.59it/s, loss=18.2]"
     ]
    },
    {
     "name": "stdout",
     "output_type": "stream",
     "text": [
      "Epoch [78/5000]: Train loss: 21.8055, Valid loss: 18.4573\n",
      "Epoch [78/5000]: Train r2_score: 0.4567, Valid r2_score: 0.5840\n",
      "Epoch [78/5000]: Train smape: 109.9561, Valid smape: 101.9341\n",
      "\n"
     ]
    },
    {
     "name": "stderr",
     "output_type": "stream",
     "text": [
      "\n"
     ]
    },
    {
     "name": "stdout",
     "output_type": "stream",
     "text": [
      "Saving model with loss 18.457...\n"
     ]
    },
    {
     "name": "stderr",
     "output_type": "stream",
     "text": [
      "Epoch [79/5000]: 100%|███████████████████████████████████████████████████████| 9/9 [00:00<00:00, 219.85it/s, loss=21.6]\n"
     ]
    },
    {
     "name": "stdout",
     "output_type": "stream",
     "text": [
      "Epoch [79/5000]: Train loss: 21.6444, Valid loss: 19.0819\n",
      "Epoch [79/5000]: Train r2_score: 0.4664, Valid r2_score: 0.5628\n",
      "Epoch [79/5000]: Train smape: 108.4677, Valid smape: 103.8154\n",
      "\n"
     ]
    },
    {
     "name": "stderr",
     "output_type": "stream",
     "text": [
      "Epoch [80/5000]: 100%|███████████████████████████████████████████████████████| 9/9 [00:00<00:00, 219.81it/s, loss=21.6]\n"
     ]
    },
    {
     "name": "stdout",
     "output_type": "stream",
     "text": [
      "Epoch [80/5000]: Train loss: 20.9809, Valid loss: 20.6488\n",
      "Epoch [80/5000]: Train r2_score: 0.4839, Valid r2_score: 0.5024\n",
      "Epoch [80/5000]: Train smape: 106.5995, Valid smape: 107.6382\n",
      "\n"
     ]
    },
    {
     "name": "stderr",
     "output_type": "stream",
     "text": [
      "Epoch [81/5000]: 100%|███████████████████████████████████████████████████████| 9/9 [00:00<00:00, 229.29it/s, loss=17.9]\n"
     ]
    },
    {
     "name": "stdout",
     "output_type": "stream",
     "text": [
      "Epoch [81/5000]: Train loss: 19.8611, Valid loss: 16.3424\n",
      "Epoch [81/5000]: Train r2_score: 0.5072, Valid r2_score: 0.6234\n",
      "Epoch [81/5000]: Train smape: 103.6804, Valid smape: 97.3078\n",
      "\n",
      "Saving model with loss 16.342...\n"
     ]
    },
    {
     "name": "stderr",
     "output_type": "stream",
     "text": [
      "Epoch [82/5000]: 100%|███████████████████████████████████████████████████████| 9/9 [00:00<00:00, 204.55it/s, loss=17.7]\n"
     ]
    },
    {
     "name": "stdout",
     "output_type": "stream",
     "text": [
      "Epoch [82/5000]: Train loss: 19.5621, Valid loss: 16.6600\n",
      "Epoch [82/5000]: Train r2_score: 0.5149, Valid r2_score: 0.6254\n",
      "Epoch [82/5000]: Train smape: 102.3177, Valid smape: 96.6171\n",
      "\n"
     ]
    },
    {
     "name": "stderr",
     "output_type": "stream",
     "text": [
      "Epoch [83/5000]: 100%|███████████████████████████████████████████████████████| 9/9 [00:00<00:00, 228.93it/s, loss=20.3]\n"
     ]
    },
    {
     "name": "stdout",
     "output_type": "stream",
     "text": [
      "Epoch [83/5000]: Train loss: 18.8176, Valid loss: 16.6877\n",
      "Epoch [83/5000]: Train r2_score: 0.5386, Valid r2_score: 0.6266\n",
      "Epoch [83/5000]: Train smape: 99.3745, Valid smape: 96.0091\n",
      "\n"
     ]
    },
    {
     "name": "stderr",
     "output_type": "stream",
     "text": [
      "Epoch [84/5000]: 100%|███████████████████████████████████████████████████████| 9/9 [00:00<00:00, 225.00it/s, loss=16.4]\n"
     ]
    },
    {
     "name": "stdout",
     "output_type": "stream",
     "text": [
      "Epoch [84/5000]: Train loss: 18.4520, Valid loss: 13.9782\n",
      "Epoch [84/5000]: Train r2_score: 0.5419, Valid r2_score: 0.6906\n",
      "Epoch [84/5000]: Train smape: 97.9803, Valid smape: 89.5257\n",
      "\n",
      "Saving model with loss 13.978...\n"
     ]
    },
    {
     "name": "stderr",
     "output_type": "stream",
     "text": [
      "Epoch [85/5000]: 100%|███████████████████████████████████████████████████████| 9/9 [00:00<00:00, 219.51it/s, loss=21.2]\n"
     ]
    },
    {
     "name": "stdout",
     "output_type": "stream",
     "text": [
      "Epoch [85/5000]: Train loss: 17.6332, Valid loss: 13.9149\n",
      "Epoch [85/5000]: Train r2_score: 0.5712, Valid r2_score: 0.6588\n",
      "Epoch [85/5000]: Train smape: 95.6945, Valid smape: 92.3795\n",
      "\n",
      "Saving model with loss 13.915...\n"
     ]
    },
    {
     "name": "stderr",
     "output_type": "stream",
     "text": [
      "Epoch [86/5000]: 100%|███████████████████████████████████████████████████████| 9/9 [00:00<00:00, 230.77it/s, loss=13.4]\n"
     ]
    },
    {
     "name": "stdout",
     "output_type": "stream",
     "text": [
      "Epoch [86/5000]: Train loss: 16.7443, Valid loss: 13.3666\n",
      "Epoch [86/5000]: Train r2_score: 0.5819, Valid r2_score: 0.6819\n",
      "Epoch [86/5000]: Train smape: 93.9933, Valid smape: 89.6491\n",
      "\n",
      "Saving model with loss 13.367...\n"
     ]
    },
    {
     "name": "stderr",
     "output_type": "stream",
     "text": [
      "Epoch [87/5000]: 100%|█████████████████████████████████████████████████████████| 9/9 [00:00<00:00, 243.50it/s, loss=15]\n"
     ]
    },
    {
     "name": "stdout",
     "output_type": "stream",
     "text": [
      "Epoch [87/5000]: Train loss: 16.1061, Valid loss: 12.7973\n",
      "Epoch [87/5000]: Train r2_score: 0.6012, Valid r2_score: 0.7016\n",
      "Epoch [87/5000]: Train smape: 91.3397, Valid smape: 86.2696\n",
      "\n",
      "Saving model with loss 12.797...\n"
     ]
    },
    {
     "name": "stderr",
     "output_type": "stream",
     "text": [
      "Epoch [88/5000]: 100%|███████████████████████████████████████████████████████| 9/9 [00:00<00:00, 261.20it/s, loss=19.5]\n"
     ]
    },
    {
     "name": "stdout",
     "output_type": "stream",
     "text": [
      "Epoch [88/5000]: Train loss: 15.5657, Valid loss: 11.4313\n",
      "Epoch [88/5000]: Train r2_score: 0.6229, Valid r2_score: 0.7294\n",
      "Epoch [88/5000]: Train smape: 88.5740, Valid smape: 82.8303\n",
      "\n",
      "Saving model with loss 11.431...\n"
     ]
    },
    {
     "name": "stderr",
     "output_type": "stream",
     "text": [
      "Epoch [89/5000]: 100%|███████████████████████████████████████████████████████| 9/9 [00:00<00:00, 249.95it/s, loss=15.3]\n"
     ]
    },
    {
     "name": "stdout",
     "output_type": "stream",
     "text": [
      "Epoch [89/5000]: Train loss: 15.3579, Valid loss: 11.2531\n",
      "Epoch [89/5000]: Train r2_score: 0.6214, Valid r2_score: 0.7420\n",
      "Epoch [89/5000]: Train smape: 87.4902, Valid smape: 81.7338\n",
      "\n",
      "Saving model with loss 11.253...\n"
     ]
    },
    {
     "name": "stderr",
     "output_type": "stream",
     "text": [
      "Epoch [90/5000]: 100%|███████████████████████████████████████████████████████| 9/9 [00:00<00:00, 225.00it/s, loss=15.4]\n"
     ]
    },
    {
     "name": "stdout",
     "output_type": "stream",
     "text": [
      "Epoch [90/5000]: Train loss: 14.2140, Valid loss: 12.0224\n",
      "Epoch [90/5000]: Train r2_score: 0.6516, Valid r2_score: 0.7181\n",
      "Epoch [90/5000]: Train smape: 84.5382, Valid smape: 83.8100\n",
      "\n"
     ]
    },
    {
     "name": "stderr",
     "output_type": "stream",
     "text": [
      "Epoch [91/5000]: 100%|███████████████████████████████████████████████████████| 9/9 [00:00<00:00, 234.48it/s, loss=10.9]\n"
     ]
    },
    {
     "name": "stdout",
     "output_type": "stream",
     "text": [
      "Epoch [91/5000]: Train loss: 13.8937, Valid loss: 10.7466\n",
      "Epoch [91/5000]: Train r2_score: 0.6526, Valid r2_score: 0.7702\n",
      "Epoch [91/5000]: Train smape: 82.3626, Valid smape: 77.3014\n",
      "\n",
      "Saving model with loss 10.747...\n"
     ]
    },
    {
     "name": "stderr",
     "output_type": "stream",
     "text": [
      "Epoch [92/5000]: 100%|███████████████████████████████████████████████████████| 9/9 [00:00<00:00, 255.77it/s, loss=14.9]\n"
     ]
    },
    {
     "name": "stdout",
     "output_type": "stream",
     "text": [
      "Epoch [92/5000]: Train loss: 13.9275, Valid loss: 10.0502\n",
      "Epoch [92/5000]: Train r2_score: 0.6584, Valid r2_score: 0.7733\n",
      "Epoch [92/5000]: Train smape: 81.4566, Valid smape: 76.1291\n",
      "\n",
      "Saving model with loss 10.050...\n"
     ]
    },
    {
     "name": "stderr",
     "output_type": "stream",
     "text": [
      "Epoch [93/5000]: 100%|███████████████████████████████████████████████████████| 9/9 [00:00<00:00, 276.12it/s, loss=10.5]\n"
     ]
    },
    {
     "name": "stdout",
     "output_type": "stream",
     "text": [
      "Epoch [93/5000]: Train loss: 12.6257, Valid loss: 8.6623\n",
      "Epoch [93/5000]: Train r2_score: 0.6853, Valid r2_score: 0.7961\n",
      "Epoch [93/5000]: Train smape: 78.9771, Valid smape: 72.9829\n",
      "\n",
      "Saving model with loss 8.662...\n"
     ]
    },
    {
     "name": "stderr",
     "output_type": "stream",
     "text": [
      "Epoch [94/5000]: 100%|████████████████████████████████████████████████████████| 9/9 [00:00<00:00, 271.50it/s, loss=9.3]\n"
     ]
    },
    {
     "name": "stdout",
     "output_type": "stream",
     "text": [
      "Epoch [94/5000]: Train loss: 12.2556, Valid loss: 9.3383\n",
      "Epoch [94/5000]: Train r2_score: 0.6931, Valid r2_score: 0.7970\n",
      "Epoch [94/5000]: Train smape: 76.8998, Valid smape: 71.4542\n",
      "\n"
     ]
    },
    {
     "name": "stderr",
     "output_type": "stream",
     "text": [
      "Epoch [95/5000]: 100%|███████████████████████████████████████████████████████| 9/9 [00:00<00:00, 271.31it/s, loss=12.4]\n"
     ]
    },
    {
     "name": "stdout",
     "output_type": "stream",
     "text": [
      "Epoch [95/5000]: Train loss: 12.1776, Valid loss: 8.0800\n",
      "Epoch [95/5000]: Train r2_score: 0.7003, Valid r2_score: 0.8077\n",
      "Epoch [95/5000]: Train smape: 74.8248, Valid smape: 69.7137\n",
      "\n",
      "Saving model with loss 8.080...\n"
     ]
    },
    {
     "name": "stderr",
     "output_type": "stream",
     "text": [
      "Epoch [96/5000]: 100%|███████████████████████████████████████████████████████| 9/9 [00:00<00:00, 234.56it/s, loss=8.14]\n"
     ]
    },
    {
     "name": "stdout",
     "output_type": "stream",
     "text": [
      "Epoch [96/5000]: Train loss: 11.7614, Valid loss: 8.4636\n",
      "Epoch [96/5000]: Train r2_score: 0.7042, Valid r2_score: 0.8142\n",
      "Epoch [96/5000]: Train smape: 73.2444, Valid smape: 68.3771\n",
      "\n"
     ]
    },
    {
     "name": "stderr",
     "output_type": "stream",
     "text": [
      "Epoch [97/5000]: 100%|███████████████████████████████████████████████████████| 9/9 [00:00<00:00, 257.67it/s, loss=8.93]\n"
     ]
    },
    {
     "name": "stdout",
     "output_type": "stream",
     "text": [
      "Epoch [97/5000]: Train loss: 10.7800, Valid loss: 7.3289\n",
      "Epoch [97/5000]: Train r2_score: 0.7313, Valid r2_score: 0.8352\n",
      "Epoch [97/5000]: Train smape: 70.8971, Valid smape: 65.1322\n",
      "\n",
      "Saving model with loss 7.329...\n"
     ]
    },
    {
     "name": "stderr",
     "output_type": "stream",
     "text": [
      "Epoch [98/5000]: 100%|███████████████████████████████████████████████████████| 9/9 [00:00<00:00, 243.24it/s, loss=12.1]\n"
     ]
    },
    {
     "name": "stdout",
     "output_type": "stream",
     "text": [
      "Epoch [98/5000]: Train loss: 11.7671, Valid loss: 7.0589\n",
      "Epoch [98/5000]: Train r2_score: 0.7106, Valid r2_score: 0.8329\n",
      "Epoch [98/5000]: Train smape: 70.4167, Valid smape: 64.8736\n",
      "\n",
      "Saving model with loss 7.059...\n"
     ]
    },
    {
     "name": "stderr",
     "output_type": "stream",
     "text": [
      "Epoch [99/5000]: 100%|█████████████████████████████████████████████████████████| 9/9 [00:00<00:00, 213.17it/s, loss=16]\n"
     ]
    },
    {
     "name": "stdout",
     "output_type": "stream",
     "text": [
      "Epoch [99/5000]: Train loss: 11.1460, Valid loss: 7.9599\n",
      "Epoch [99/5000]: Train r2_score: 0.7332, Valid r2_score: 0.8275\n",
      "Epoch [99/5000]: Train smape: 68.0827, Valid smape: 65.1538\n",
      "\n"
     ]
    },
    {
     "name": "stderr",
     "output_type": "stream",
     "text": [
      "Epoch [100/5000]: 100%|████████████████████████████████████████████████████████| 9/9 [00:00<00:00, 233.87it/s, loss=11]\n"
     ]
    },
    {
     "name": "stdout",
     "output_type": "stream",
     "text": [
      "Epoch [100/5000]: Train loss: 10.9621, Valid loss: 7.3664\n",
      "Epoch [100/5000]: Train r2_score: 0.7298, Valid r2_score: 0.8324\n",
      "Epoch [100/5000]: Train smape: 67.6369, Valid smape: 64.1016\n",
      "\n"
     ]
    },
    {
     "name": "stderr",
     "output_type": "stream",
     "text": [
      "Epoch [101/5000]: 100%|██████████████████████████████████████████████████████| 9/9 [00:00<00:00, 236.76it/s, loss=9.03]\n"
     ]
    },
    {
     "name": "stdout",
     "output_type": "stream",
     "text": [
      "Epoch [101/5000]: Train loss: 10.4182, Valid loss: 6.4119\n",
      "Epoch [101/5000]: Train r2_score: 0.7409, Valid r2_score: 0.8482\n",
      "Epoch [101/5000]: Train smape: 66.5604, Valid smape: 61.3923\n",
      "\n",
      "Saving model with loss 6.412...\n"
     ]
    },
    {
     "name": "stderr",
     "output_type": "stream",
     "text": [
      "Epoch [102/5000]: 100%|██████████████████████████████████████████████████████| 9/9 [00:00<00:00, 225.06it/s, loss=7.09]\n"
     ]
    },
    {
     "name": "stdout",
     "output_type": "stream",
     "text": [
      "Epoch [102/5000]: Train loss: 10.0824, Valid loss: 6.5441\n",
      "Epoch [102/5000]: Train r2_score: 0.7466, Valid r2_score: 0.8513\n",
      "Epoch [102/5000]: Train smape: 64.8245, Valid smape: 60.2258\n",
      "\n"
     ]
    },
    {
     "name": "stderr",
     "output_type": "stream",
     "text": [
      "Epoch [103/5000]: 100%|██████████████████████████████████████████████████████| 9/9 [00:00<00:00, 247.62it/s, loss=9.57]\n"
     ]
    },
    {
     "name": "stdout",
     "output_type": "stream",
     "text": [
      "Epoch [103/5000]: Train loss: 10.1252, Valid loss: 5.8632\n",
      "Epoch [103/5000]: Train r2_score: 0.7495, Valid r2_score: 0.8605\n",
      "Epoch [103/5000]: Train smape: 63.6529, Valid smape: 58.1203\n",
      "\n",
      "Saving model with loss 5.863...\n"
     ]
    },
    {
     "name": "stderr",
     "output_type": "stream",
     "text": [
      "Epoch [104/5000]: 100%|██████████████████████████████████████████████████████| 9/9 [00:00<00:00, 237.47it/s, loss=9.63]\n"
     ]
    },
    {
     "name": "stdout",
     "output_type": "stream",
     "text": [
      "Epoch [104/5000]: Train loss: 9.9862, Valid loss: 5.8833\n",
      "Epoch [104/5000]: Train r2_score: 0.7533, Valid r2_score: 0.8547\n",
      "Epoch [104/5000]: Train smape: 62.0182, Valid smape: 58.2846\n",
      "\n"
     ]
    },
    {
     "name": "stderr",
     "output_type": "stream",
     "text": [
      "Epoch [105/5000]: 100%|██████████████████████████████████████████████████████| 9/9 [00:00<00:00, 231.70it/s, loss=8.13]\n"
     ]
    },
    {
     "name": "stdout",
     "output_type": "stream",
     "text": [
      "Epoch [105/5000]: Train loss: 9.9748, Valid loss: 6.2732\n",
      "Epoch [105/5000]: Train r2_score: 0.7511, Valid r2_score: 0.8544\n",
      "Epoch [105/5000]: Train smape: 61.5636, Valid smape: 57.7791\n",
      "\n"
     ]
    },
    {
     "name": "stderr",
     "output_type": "stream",
     "text": [
      "Epoch [106/5000]: 100%|██████████████████████████████████████████████████████| 9/9 [00:00<00:00, 257.14it/s, loss=14.6]\n"
     ]
    },
    {
     "name": "stdout",
     "output_type": "stream",
     "text": [
      "Epoch [106/5000]: Train loss: 9.9331, Valid loss: 6.4096\n",
      "Epoch [106/5000]: Train r2_score: 0.7629, Valid r2_score: 0.8531\n",
      "Epoch [106/5000]: Train smape: 60.5213, Valid smape: 56.7362\n",
      "\n"
     ]
    },
    {
     "name": "stderr",
     "output_type": "stream",
     "text": [
      "Epoch [107/5000]: 100%|████████████████████████████████████████████████████████| 9/9 [00:00<00:00, 239.46it/s, loss=11]\n"
     ]
    },
    {
     "name": "stdout",
     "output_type": "stream",
     "text": [
      "Epoch [107/5000]: Train loss: 9.8309, Valid loss: 5.7372\n",
      "Epoch [107/5000]: Train r2_score: 0.7597, Valid r2_score: 0.8683\n",
      "Epoch [107/5000]: Train smape: 58.8822, Valid smape: 55.0260\n",
      "\n",
      "Saving model with loss 5.737...\n"
     ]
    },
    {
     "name": "stderr",
     "output_type": "stream",
     "text": [
      "Epoch [108/5000]: 100%|██████████████████████████████████████████████████████| 9/9 [00:00<00:00, 249.46it/s, loss=6.89]\n"
     ]
    },
    {
     "name": "stdout",
     "output_type": "stream",
     "text": [
      "Epoch [108/5000]: Train loss: 8.6505, Valid loss: 5.9502\n",
      "Epoch [108/5000]: Train r2_score: 0.7839, Valid r2_score: 0.8653\n",
      "Epoch [108/5000]: Train smape: 57.9955, Valid smape: 55.4179\n",
      "\n"
     ]
    },
    {
     "name": "stderr",
     "output_type": "stream",
     "text": [
      "Epoch [109/5000]: 100%|████████████████████████████████████████████████████████| 9/9 [00:00<00:00, 218.75it/s, loss=13]\n"
     ]
    },
    {
     "name": "stdout",
     "output_type": "stream",
     "text": [
      "Epoch [109/5000]: Train loss: 9.6535, Valid loss: 5.7577\n",
      "Epoch [109/5000]: Train r2_score: 0.7675, Valid r2_score: 0.8729\n",
      "Epoch [109/5000]: Train smape: 56.6167, Valid smape: 53.9469\n",
      "\n"
     ]
    },
    {
     "name": "stderr",
     "output_type": "stream",
     "text": [
      "Epoch [110/5000]: 100%|██████████████████████████████████████████████████████| 9/9 [00:00<00:00, 250.00it/s, loss=15.6]\n"
     ]
    },
    {
     "name": "stdout",
     "output_type": "stream",
     "text": [
      "Epoch [110/5000]: Train loss: 9.6836, Valid loss: 5.9410\n",
      "Epoch [110/5000]: Train r2_score: 0.7711, Valid r2_score: 0.8707\n",
      "Epoch [110/5000]: Train smape: 56.2153, Valid smape: 53.0426\n",
      "\n"
     ]
    },
    {
     "name": "stderr",
     "output_type": "stream",
     "text": [
      "Epoch [111/5000]: 100%|██████████████████████████████████████████████████████| 9/9 [00:00<00:00, 267.23it/s, loss=13.1]\n"
     ]
    },
    {
     "name": "stdout",
     "output_type": "stream",
     "text": [
      "Epoch [111/5000]: Train loss: 9.2410, Valid loss: 4.9250\n",
      "Epoch [111/5000]: Train r2_score: 0.7786, Valid r2_score: 0.8687\n",
      "Epoch [111/5000]: Train smape: 54.5019, Valid smape: 52.9036\n",
      "\n",
      "Saving model with loss 4.925...\n"
     ]
    },
    {
     "name": "stderr",
     "output_type": "stream",
     "text": [
      "Epoch [112/5000]: 100%|██████████████████████████████████████████████████████| 9/9 [00:00<00:00, 244.45it/s, loss=7.17]\n"
     ]
    },
    {
     "name": "stdout",
     "output_type": "stream",
     "text": [
      "Epoch [112/5000]: Train loss: 8.5423, Valid loss: 4.7756\n",
      "Epoch [112/5000]: Train r2_score: 0.7872, Valid r2_score: 0.8824\n",
      "Epoch [112/5000]: Train smape: 53.8062, Valid smape: 50.9780\n",
      "\n",
      "Saving model with loss 4.776...\n"
     ]
    },
    {
     "name": "stderr",
     "output_type": "stream",
     "text": [
      "Epoch [113/5000]: 100%|██████████████████████████████████████████████████████| 9/9 [00:00<00:00, 176.03it/s, loss=8.22]\n"
     ]
    },
    {
     "name": "stdout",
     "output_type": "stream",
     "text": [
      "Epoch [113/5000]: Train loss: 9.1126, Valid loss: 5.0715\n",
      "Epoch [113/5000]: Train r2_score: 0.7739, Valid r2_score: 0.8839\n",
      "Epoch [113/5000]: Train smape: 54.4123, Valid smape: 50.8945\n",
      "\n"
     ]
    },
    {
     "name": "stderr",
     "output_type": "stream",
     "text": [
      "Epoch [114/5000]: 100%|██████████████████████████████████████████████████████| 9/9 [00:00<00:00, 186.53it/s, loss=7.42]\n"
     ]
    },
    {
     "name": "stdout",
     "output_type": "stream",
     "text": [
      "Epoch [114/5000]: Train loss: 8.9403, Valid loss: 5.2582\n",
      "Epoch [114/5000]: Train r2_score: 0.7772, Valid r2_score: 0.8896\n",
      "Epoch [114/5000]: Train smape: 53.8004, Valid smape: 49.5805\n",
      "\n"
     ]
    },
    {
     "name": "stderr",
     "output_type": "stream",
     "text": [
      "Epoch [115/5000]: 100%|██████████████████████████████████████████████████████| 9/9 [00:00<00:00, 193.64it/s, loss=9.56]\n"
     ]
    },
    {
     "name": "stdout",
     "output_type": "stream",
     "text": [
      "Epoch [115/5000]: Train loss: 8.6986, Valid loss: 4.9760\n",
      "Epoch [115/5000]: Train r2_score: 0.7870, Valid r2_score: 0.8883\n",
      "Epoch [115/5000]: Train smape: 53.6810, Valid smape: 49.7118\n",
      "\n"
     ]
    },
    {
     "name": "stderr",
     "output_type": "stream",
     "text": [
      "Epoch [116/5000]: 100%|██████████████████████████████████████████████████████| 9/9 [00:00<00:00, 169.28it/s, loss=11.4]\n"
     ]
    },
    {
     "name": "stdout",
     "output_type": "stream",
     "text": [
      "Epoch [116/5000]: Train loss: 8.9500, Valid loss: 4.5476\n",
      "Epoch [116/5000]: Train r2_score: 0.7834, Valid r2_score: 0.8916\n",
      "Epoch [116/5000]: Train smape: 53.7390, Valid smape: 48.9435\n",
      "\n",
      "Saving model with loss 4.548...\n"
     ]
    },
    {
     "name": "stderr",
     "output_type": "stream",
     "text": [
      "Epoch [117/5000]: 100%|██████████████████████████████████████████████████████| 9/9 [00:00<00:00, 163.73it/s, loss=8.54]\n"
     ]
    },
    {
     "name": "stdout",
     "output_type": "stream",
     "text": [
      "Epoch [117/5000]: Train loss: 8.7789, Valid loss: 4.2338\n",
      "Epoch [117/5000]: Train r2_score: 0.7832, Valid r2_score: 0.8939\n",
      "Epoch [117/5000]: Train smape: 53.4998, Valid smape: 49.0277\n",
      "\n",
      "Saving model with loss 4.234...\n"
     ]
    },
    {
     "name": "stderr",
     "output_type": "stream",
     "text": [
      "Epoch [118/5000]: 100%|██████████████████████████████████████████████████████| 9/9 [00:00<00:00, 165.08it/s, loss=7.45]\n"
     ]
    },
    {
     "name": "stdout",
     "output_type": "stream",
     "text": [
      "Epoch [118/5000]: Train loss: 9.0220, Valid loss: 4.9318\n",
      "Epoch [118/5000]: Train r2_score: 0.7751, Valid r2_score: 0.8964\n",
      "Epoch [118/5000]: Train smape: 53.9640, Valid smape: 48.5019\n",
      "\n"
     ]
    },
    {
     "name": "stderr",
     "output_type": "stream",
     "text": [
      "Epoch [119/5000]: 100%|██████████████████████████████████████████████████████| 9/9 [00:00<00:00, 178.49it/s, loss=7.26]\n"
     ]
    },
    {
     "name": "stdout",
     "output_type": "stream",
     "text": [
      "Epoch [119/5000]: Train loss: 8.7489, Valid loss: 4.3335\n",
      "Epoch [119/5000]: Train r2_score: 0.7819, Valid r2_score: 0.8983\n",
      "Epoch [119/5000]: Train smape: 53.6651, Valid smape: 47.9367\n",
      "\n"
     ]
    },
    {
     "name": "stderr",
     "output_type": "stream",
     "text": [
      "Epoch [120/5000]: 100%|█████████████████████████████████████████████████████████| 9/9 [00:00<00:00, 74.53it/s, loss=11]\n"
     ]
    },
    {
     "name": "stdout",
     "output_type": "stream",
     "text": [
      "Epoch [120/5000]: Train loss: 8.4152, Valid loss: 4.3449\n",
      "Epoch [120/5000]: Train r2_score: 0.7969, Valid r2_score: 0.8902\n",
      "Epoch [120/5000]: Train smape: 52.2517, Valid smape: 48.8823\n",
      "\n"
     ]
    },
    {
     "name": "stderr",
     "output_type": "stream",
     "text": [
      "Epoch [121/5000]: 100%|██████████████████████████████████████████████████████| 9/9 [00:00<00:00, 252.88it/s, loss=11.3]\n"
     ]
    },
    {
     "name": "stdout",
     "output_type": "stream",
     "text": [
      "Epoch [121/5000]: Train loss: 9.1094, Valid loss: 5.2433\n",
      "Epoch [121/5000]: Train r2_score: 0.7790, Valid r2_score: 0.8865\n",
      "Epoch [121/5000]: Train smape: 53.2754, Valid smape: 49.6025\n",
      "\n"
     ]
    },
    {
     "name": "stderr",
     "output_type": "stream",
     "text": [
      "Epoch [122/5000]: 100%|██████████████████████████████████████████████████████| 9/9 [00:00<00:00, 264.70it/s, loss=5.06]\n"
     ]
    },
    {
     "name": "stdout",
     "output_type": "stream",
     "text": [
      "Epoch [122/5000]: Train loss: 8.4582, Valid loss: 4.6136\n",
      "Epoch [122/5000]: Train r2_score: 0.7859, Valid r2_score: 0.8950\n",
      "Epoch [122/5000]: Train smape: 52.5689, Valid smape: 48.2624\n",
      "\n"
     ]
    },
    {
     "name": "stderr",
     "output_type": "stream",
     "text": [
      "Epoch [123/5000]: 100%|██████████████████████████████████████████████████████| 9/9 [00:00<00:00, 256.37it/s, loss=7.31]\n"
     ]
    },
    {
     "name": "stdout",
     "output_type": "stream",
     "text": [
      "Epoch [123/5000]: Train loss: 8.5864, Valid loss: 4.2872\n",
      "Epoch [123/5000]: Train r2_score: 0.7863, Valid r2_score: 0.8967\n",
      "Epoch [123/5000]: Train smape: 52.4772, Valid smape: 47.7353\n",
      "\n"
     ]
    },
    {
     "name": "stderr",
     "output_type": "stream",
     "text": [
      "Epoch [124/5000]: 100%|██████████████████████████████████████████████████████| 9/9 [00:00<00:00, 265.55it/s, loss=7.78]\n"
     ]
    },
    {
     "name": "stdout",
     "output_type": "stream",
     "text": [
      "Epoch [124/5000]: Train loss: 8.4305, Valid loss: 5.1956\n",
      "Epoch [124/5000]: Train r2_score: 0.7912, Valid r2_score: 0.8969\n",
      "Epoch [124/5000]: Train smape: 52.3635, Valid smape: 47.6502\n",
      "\n"
     ]
    },
    {
     "name": "stderr",
     "output_type": "stream",
     "text": [
      "Epoch [125/5000]: 100%|██████████████████████████████████████████████████████| 9/9 [00:00<00:00, 257.14it/s, loss=9.89]\n"
     ]
    },
    {
     "name": "stdout",
     "output_type": "stream",
     "text": [
      "Epoch [125/5000]: Train loss: 8.8465, Valid loss: 4.2277\n",
      "Epoch [125/5000]: Train r2_score: 0.7837, Valid r2_score: 0.8944\n",
      "Epoch [125/5000]: Train smape: 51.8093, Valid smape: 48.3814\n",
      "\n",
      "Saving model with loss 4.228...\n"
     ]
    },
    {
     "name": "stderr",
     "output_type": "stream",
     "text": [
      "Epoch [126/5000]: 100%|██████████████████████████████████████████████████████| 9/9 [00:00<00:00, 247.51it/s, loss=6.84]\n"
     ]
    },
    {
     "name": "stdout",
     "output_type": "stream",
     "text": [
      "Epoch [126/5000]: Train loss: 8.5154, Valid loss: 4.5143\n",
      "Epoch [126/5000]: Train r2_score: 0.7874, Valid r2_score: 0.8951\n",
      "Epoch [126/5000]: Train smape: 52.5792, Valid smape: 48.4361\n",
      "\n"
     ]
    },
    {
     "name": "stderr",
     "output_type": "stream",
     "text": [
      "Epoch [127/5000]: 100%|██████████████████████████████████████████████████████| 9/9 [00:00<00:00, 243.36it/s, loss=5.61]\n"
     ]
    },
    {
     "name": "stdout",
     "output_type": "stream",
     "text": [
      "Epoch [127/5000]: Train loss: 7.9450, Valid loss: 4.5620\n",
      "Epoch [127/5000]: Train r2_score: 0.8004, Valid r2_score: 0.8944\n",
      "Epoch [127/5000]: Train smape: 50.0324, Valid smape: 45.8197\n",
      "\n"
     ]
    },
    {
     "name": "stderr",
     "output_type": "stream",
     "text": [
      "Epoch [128/5000]: 100%|██████████████████████████████████████████████████████| 9/9 [00:00<00:00, 275.17it/s, loss=6.87]\n"
     ]
    },
    {
     "name": "stdout",
     "output_type": "stream",
     "text": [
      "Epoch [128/5000]: Train loss: 7.8355, Valid loss: 4.0239\n",
      "Epoch [128/5000]: Train r2_score: 0.8053, Valid r2_score: 0.9009\n",
      "Epoch [128/5000]: Train smape: 46.4921, Valid smape: 41.7825\n",
      "\n",
      "Saving model with loss 4.024...\n"
     ]
    },
    {
     "name": "stderr",
     "output_type": "stream",
     "text": [
      "Epoch [129/5000]: 100%|██████████████████████████████████████████████████████| 9/9 [00:00<00:00, 264.78it/s, loss=5.72]\n"
     ]
    },
    {
     "name": "stdout",
     "output_type": "stream",
     "text": [
      "Epoch [129/5000]: Train loss: 7.2615, Valid loss: 3.1789\n",
      "Epoch [129/5000]: Train r2_score: 0.8185, Valid r2_score: 0.9292\n",
      "Epoch [129/5000]: Train smape: 42.5491, Valid smape: 35.4122\n",
      "\n",
      "Saving model with loss 3.179...\n"
     ]
    },
    {
     "name": "stderr",
     "output_type": "stream",
     "text": [
      "Epoch [130/5000]: 100%|██████████████████████████████████████████████████████| 9/9 [00:00<00:00, 252.75it/s, loss=5.53]\n"
     ]
    },
    {
     "name": "stdout",
     "output_type": "stream",
     "text": [
      "Epoch [130/5000]: Train loss: 7.1311, Valid loss: 3.2863\n",
      "Epoch [130/5000]: Train r2_score: 0.8216, Valid r2_score: 0.9257\n",
      "Epoch [130/5000]: Train smape: 42.1900, Valid smape: 36.3646\n",
      "\n"
     ]
    },
    {
     "name": "stderr",
     "output_type": "stream",
     "text": [
      "Epoch [131/5000]: 100%|██████████████████████████████████████████████████████| 9/9 [00:00<00:00, 257.44it/s, loss=10.3]\n"
     ]
    },
    {
     "name": "stdout",
     "output_type": "stream",
     "text": [
      "Epoch [131/5000]: Train loss: 7.4510, Valid loss: 2.9309\n",
      "Epoch [131/5000]: Train r2_score: 0.8211, Valid r2_score: 0.9364\n",
      "Epoch [131/5000]: Train smape: 38.8505, Valid smape: 31.2236\n",
      "\n",
      "Saving model with loss 2.931...\n"
     ]
    },
    {
     "name": "stderr",
     "output_type": "stream",
     "text": [
      "Epoch [132/5000]: 100%|██████████████████████████████████████████████████████| 9/9 [00:00<00:00, 239.72it/s, loss=4.86]\n"
     ]
    },
    {
     "name": "stdout",
     "output_type": "stream",
     "text": [
      "Epoch [132/5000]: Train loss: 6.6156, Valid loss: 1.7663\n",
      "Epoch [132/5000]: Train r2_score: 0.8341, Valid r2_score: 0.9568\n",
      "Epoch [132/5000]: Train smape: 37.7165, Valid smape: 25.5351\n",
      "\n",
      "Saving model with loss 1.766...\n"
     ]
    },
    {
     "name": "stderr",
     "output_type": "stream",
     "text": [
      "Epoch [133/5000]: 100%|██████████████████████████████████████████████████████| 9/9 [00:00<00:00, 265.90it/s, loss=5.09]\n"
     ]
    },
    {
     "name": "stdout",
     "output_type": "stream",
     "text": [
      "Epoch [133/5000]: Train loss: 6.6428, Valid loss: 3.0874\n",
      "Epoch [133/5000]: Train r2_score: 0.8337, Valid r2_score: 0.9350\n",
      "Epoch [133/5000]: Train smape: 35.3994, Valid smape: 28.3136\n",
      "\n"
     ]
    },
    {
     "name": "stderr",
     "output_type": "stream",
     "text": [
      "Epoch [134/5000]: 100%|██████████████████████████████████████████████████████| 9/9 [00:00<00:00, 252.32it/s, loss=5.72]\n"
     ]
    },
    {
     "name": "stdout",
     "output_type": "stream",
     "text": [
      "Epoch [134/5000]: Train loss: 6.4755, Valid loss: 2.5738\n",
      "Epoch [134/5000]: Train r2_score: 0.8392, Valid r2_score: 0.9387\n",
      "Epoch [134/5000]: Train smape: 32.3540, Valid smape: 25.6244\n",
      "\n"
     ]
    },
    {
     "name": "stderr",
     "output_type": "stream",
     "text": [
      "Epoch [135/5000]: 100%|██████████████████████████████████████████████████████| 9/9 [00:00<00:00, 268.87it/s, loss=7.94]\n"
     ]
    },
    {
     "name": "stdout",
     "output_type": "stream",
     "text": [
      "Epoch [135/5000]: Train loss: 6.6691, Valid loss: 1.8916\n",
      "Epoch [135/5000]: Train r2_score: 0.8377, Valid r2_score: 0.9587\n",
      "Epoch [135/5000]: Train smape: 31.0764, Valid smape: 21.4087\n",
      "\n"
     ]
    },
    {
     "name": "stderr",
     "output_type": "stream",
     "text": [
      "Epoch [136/5000]: 100%|██████████████████████████████████████████████████████| 9/9 [00:00<00:00, 249.01it/s, loss=4.33]\n"
     ]
    },
    {
     "name": "stdout",
     "output_type": "stream",
     "text": [
      "Epoch [136/5000]: Train loss: 6.1288, Valid loss: 1.6517\n",
      "Epoch [136/5000]: Train r2_score: 0.8460, Valid r2_score: 0.9635\n",
      "Epoch [136/5000]: Train smape: 30.1886, Valid smape: 20.2291\n",
      "\n",
      "Saving model with loss 1.652...\n"
     ]
    },
    {
     "name": "stderr",
     "output_type": "stream",
     "text": [
      "Epoch [137/5000]: 100%|██████████████████████████████████████████████████████| 9/9 [00:00<00:00, 265.08it/s, loss=7.85]\n"
     ]
    },
    {
     "name": "stdout",
     "output_type": "stream",
     "text": [
      "Epoch [137/5000]: Train loss: 6.8960, Valid loss: 2.3526\n",
      "Epoch [137/5000]: Train r2_score: 0.8316, Valid r2_score: 0.9474\n",
      "Epoch [137/5000]: Train smape: 29.0702, Valid smape: 22.3370\n",
      "\n"
     ]
    },
    {
     "name": "stderr",
     "output_type": "stream",
     "text": [
      "Epoch [138/5000]: 100%|██████████████████████████████████████████████████████| 9/9 [00:00<00:00, 257.33it/s, loss=4.09]\n"
     ]
    },
    {
     "name": "stdout",
     "output_type": "stream",
     "text": [
      "Epoch [138/5000]: Train loss: 6.4649, Valid loss: 1.8472\n",
      "Epoch [138/5000]: Train r2_score: 0.8368, Valid r2_score: 0.9623\n",
      "Epoch [138/5000]: Train smape: 29.4709, Valid smape: 19.0354\n",
      "\n"
     ]
    },
    {
     "name": "stderr",
     "output_type": "stream",
     "text": [
      "Epoch [139/5000]: 100%|██████████████████████████████████████████████████████| 9/9 [00:00<00:00, 249.84it/s, loss=5.48]\n"
     ]
    },
    {
     "name": "stdout",
     "output_type": "stream",
     "text": [
      "Epoch [139/5000]: Train loss: 6.0846, Valid loss: 2.1407\n",
      "Epoch [139/5000]: Train r2_score: 0.8490, Valid r2_score: 0.9561\n",
      "Epoch [139/5000]: Train smape: 28.1051, Valid smape: 18.6454\n",
      "\n"
     ]
    },
    {
     "name": "stderr",
     "output_type": "stream",
     "text": [
      "Epoch [140/5000]: 100%|██████████████████████████████████████████████████████| 9/9 [00:00<00:00, 271.28it/s, loss=5.74]\n"
     ]
    },
    {
     "name": "stdout",
     "output_type": "stream",
     "text": [
      "Epoch [140/5000]: Train loss: 6.2391, Valid loss: 1.2907\n",
      "Epoch [140/5000]: Train r2_score: 0.8454, Valid r2_score: 0.9677\n",
      "Epoch [140/5000]: Train smape: 27.0438, Valid smape: 16.7078\n",
      "\n",
      "Saving model with loss 1.291...\n"
     ]
    },
    {
     "name": "stderr",
     "output_type": "stream",
     "text": [
      "Epoch [141/5000]: 100%|██████████████████████████████████████████████████████| 9/9 [00:00<00:00, 264.72it/s, loss=5.96]\n"
     ]
    },
    {
     "name": "stdout",
     "output_type": "stream",
     "text": [
      "Epoch [141/5000]: Train loss: 5.8952, Valid loss: 1.7193\n",
      "Epoch [141/5000]: Train r2_score: 0.8548, Valid r2_score: 0.9585\n",
      "Epoch [141/5000]: Train smape: 25.8309, Valid smape: 17.1830\n",
      "\n"
     ]
    },
    {
     "name": "stderr",
     "output_type": "stream",
     "text": [
      "Epoch [142/5000]: 100%|██████████████████████████████████████████████████████| 9/9 [00:00<00:00, 273.76it/s, loss=4.89]\n"
     ]
    },
    {
     "name": "stdout",
     "output_type": "stream",
     "text": [
      "Epoch [142/5000]: Train loss: 5.8739, Valid loss: 1.1665\n",
      "Epoch [142/5000]: Train r2_score: 0.8536, Valid r2_score: 0.9686\n",
      "Epoch [142/5000]: Train smape: 25.4219, Valid smape: 15.8414\n",
      "\n",
      "Saving model with loss 1.167...\n"
     ]
    },
    {
     "name": "stderr",
     "output_type": "stream",
     "text": [
      "Epoch [143/5000]: 100%|██████████████████████████████████████████████████████| 9/9 [00:00<00:00, 254.21it/s, loss=5.13]\n"
     ]
    },
    {
     "name": "stdout",
     "output_type": "stream",
     "text": [
      "Epoch [143/5000]: Train loss: 5.9222, Valid loss: 1.4746\n",
      "Epoch [143/5000]: Train r2_score: 0.8527, Valid r2_score: 0.9688\n",
      "Epoch [143/5000]: Train smape: 25.4698, Valid smape: 15.5126\n",
      "\n"
     ]
    },
    {
     "name": "stderr",
     "output_type": "stream",
     "text": [
      "Epoch [144/5000]: 100%|██████████████████████████████████████████████████████| 9/9 [00:00<00:00, 260.15it/s, loss=4.84]\n"
     ]
    },
    {
     "name": "stdout",
     "output_type": "stream",
     "text": [
      "Epoch [144/5000]: Train loss: 5.6066, Valid loss: 1.5681\n",
      "Epoch [144/5000]: Train r2_score: 0.8606, Valid r2_score: 0.9627\n",
      "Epoch [144/5000]: Train smape: 25.7633, Valid smape: 16.4800\n",
      "\n"
     ]
    },
    {
     "name": "stderr",
     "output_type": "stream",
     "text": [
      "Epoch [145/5000]: 100%|██████████████████████████████████████████████████████| 9/9 [00:00<00:00, 264.68it/s, loss=8.37]\n"
     ]
    },
    {
     "name": "stdout",
     "output_type": "stream",
     "text": [
      "Epoch [145/5000]: Train loss: 6.4402, Valid loss: 1.8334\n",
      "Epoch [145/5000]: Train r2_score: 0.8444, Valid r2_score: 0.9576\n",
      "Epoch [145/5000]: Train smape: 24.7115, Valid smape: 15.7256\n",
      "\n"
     ]
    },
    {
     "name": "stderr",
     "output_type": "stream",
     "text": [
      "Epoch [146/5000]: 100%|██████████████████████████████████████████████████████| 9/9 [00:00<00:00, 230.40it/s, loss=4.58]\n"
     ]
    },
    {
     "name": "stdout",
     "output_type": "stream",
     "text": [
      "Epoch [146/5000]: Train loss: 5.8471, Valid loss: 1.5062\n",
      "Epoch [146/5000]: Train r2_score: 0.8538, Valid r2_score: 0.9707\n",
      "Epoch [146/5000]: Train smape: 24.3421, Valid smape: 13.8215\n",
      "\n"
     ]
    },
    {
     "name": "stderr",
     "output_type": "stream",
     "text": [
      "Epoch [147/5000]: 100%|██████████████████████████████████████████████████████| 9/9 [00:00<00:00, 237.33it/s, loss=7.04]\n"
     ]
    },
    {
     "name": "stdout",
     "output_type": "stream",
     "text": [
      "Epoch [147/5000]: Train loss: 5.8264, Valid loss: 1.4091\n",
      "Epoch [147/5000]: Train r2_score: 0.8584, Valid r2_score: 0.9653\n",
      "Epoch [147/5000]: Train smape: 23.4377, Valid smape: 15.2578\n",
      "\n"
     ]
    },
    {
     "name": "stderr",
     "output_type": "stream",
     "text": [
      "Epoch [148/5000]: 100%|███████████████████████████████████████████████████████| 9/9 [00:00<00:00, 222.96it/s, loss=4.5]\n"
     ]
    },
    {
     "name": "stdout",
     "output_type": "stream",
     "text": [
      "Epoch [148/5000]: Train loss: 5.5459, Valid loss: 1.3566\n",
      "Epoch [148/5000]: Train r2_score: 0.8616, Valid r2_score: 0.9663\n",
      "Epoch [148/5000]: Train smape: 23.9462, Valid smape: 15.3399\n",
      "\n"
     ]
    },
    {
     "name": "stderr",
     "output_type": "stream",
     "text": [
      "Epoch [149/5000]: 100%|██████████████████████████████████████████████████████| 9/9 [00:00<00:00, 200.16it/s, loss=6.56]\n"
     ]
    },
    {
     "name": "stdout",
     "output_type": "stream",
     "text": [
      "Epoch [149/5000]: Train loss: 6.0009, Valid loss: 1.2151\n",
      "Epoch [149/5000]: Train r2_score: 0.8530, Valid r2_score: 0.9694\n",
      "Epoch [149/5000]: Train smape: 25.3251, Valid smape: 14.7028\n",
      "\n"
     ]
    },
    {
     "name": "stderr",
     "output_type": "stream",
     "text": [
      "Epoch [150/5000]: 100%|██████████████████████████████████████████████████████| 9/9 [00:00<00:00, 218.96it/s, loss=7.51]\n"
     ]
    },
    {
     "name": "stdout",
     "output_type": "stream",
     "text": [
      "Epoch [150/5000]: Train loss: 6.3234, Valid loss: 1.8342\n",
      "Epoch [150/5000]: Train r2_score: 0.8461, Valid r2_score: 0.9547\n",
      "Epoch [150/5000]: Train smape: 24.0787, Valid smape: 15.5182\n",
      "\n"
     ]
    },
    {
     "name": "stderr",
     "output_type": "stream",
     "text": [
      "Epoch [151/5000]: 100%|██████████████████████████████████████████████████████| 9/9 [00:00<00:00, 223.15it/s, loss=8.42]\n"
     ]
    },
    {
     "name": "stdout",
     "output_type": "stream",
     "text": [
      "Epoch [151/5000]: Train loss: 5.5694, Valid loss: 1.4231\n",
      "Epoch [151/5000]: Train r2_score: 0.8674, Valid r2_score: 0.9692\n",
      "Epoch [151/5000]: Train smape: 23.7430, Valid smape: 13.4126\n",
      "\n"
     ]
    },
    {
     "name": "stderr",
     "output_type": "stream",
     "text": [
      "Epoch [152/5000]: 100%|██████████████████████████████████████████████████████| 9/9 [00:00<00:00, 234.43it/s, loss=7.28]\n"
     ]
    },
    {
     "name": "stdout",
     "output_type": "stream",
     "text": [
      "Epoch [152/5000]: Train loss: 5.7588, Valid loss: 1.3076\n",
      "Epoch [152/5000]: Train r2_score: 0.8606, Valid r2_score: 0.9701\n",
      "Epoch [152/5000]: Train smape: 24.1133, Valid smape: 13.6773\n",
      "\n"
     ]
    },
    {
     "name": "stderr",
     "output_type": "stream",
     "text": [
      "Epoch [153/5000]: 100%|██████████████████████████████████████████████████████| 9/9 [00:00<00:00, 239.71it/s, loss=10.5]\n"
     ]
    },
    {
     "name": "stdout",
     "output_type": "stream",
     "text": [
      "Epoch [153/5000]: Train loss: 5.9966, Valid loss: 1.3743\n",
      "Epoch [153/5000]: Train r2_score: 0.8595, Valid r2_score: 0.9687\n",
      "Epoch [153/5000]: Train smape: 24.8806, Valid smape: 13.6298\n",
      "\n"
     ]
    },
    {
     "name": "stderr",
     "output_type": "stream",
     "text": [
      "Epoch [154/5000]: 100%|███████████████████████████████████████████████████████| 9/9 [00:00<00:00, 225.59it/s, loss=4.2]\n"
     ]
    },
    {
     "name": "stdout",
     "output_type": "stream",
     "text": [
      "Epoch [154/5000]: Train loss: 5.1826, Valid loss: 1.2281\n",
      "Epoch [154/5000]: Train r2_score: 0.8707, Valid r2_score: 0.9693\n",
      "Epoch [154/5000]: Train smape: 23.8436, Valid smape: 12.9023\n",
      "\n"
     ]
    },
    {
     "name": "stderr",
     "output_type": "stream",
     "text": [
      "Epoch [155/5000]: 100%|███████████████████████████████████████████████████████| 9/9 [00:00<00:00, 236.29it/s, loss=6.3]\n"
     ]
    },
    {
     "name": "stdout",
     "output_type": "stream",
     "text": [
      "Epoch [155/5000]: Train loss: 5.6156, Valid loss: 1.1942\n",
      "Epoch [155/5000]: Train r2_score: 0.8627, Valid r2_score: 0.9707\n",
      "Epoch [155/5000]: Train smape: 23.2611, Valid smape: 12.8370\n",
      "\n"
     ]
    },
    {
     "name": "stderr",
     "output_type": "stream",
     "text": [
      "Epoch [156/5000]: 100%|██████████████████████████████████████████████████████| 9/9 [00:00<00:00, 252.16it/s, loss=5.81]\n"
     ]
    },
    {
     "name": "stdout",
     "output_type": "stream",
     "text": [
      "Epoch [156/5000]: Train loss: 5.9577, Valid loss: 1.4512\n",
      "Epoch [156/5000]: Train r2_score: 0.8529, Valid r2_score: 0.9615\n",
      "Epoch [156/5000]: Train smape: 24.2643, Valid smape: 14.8505\n",
      "\n"
     ]
    },
    {
     "name": "stderr",
     "output_type": "stream",
     "text": [
      "Epoch [157/5000]: 100%|██████████████████████████████████████████████████████| 9/9 [00:00<00:00, 256.22it/s, loss=5.32]\n"
     ]
    },
    {
     "name": "stdout",
     "output_type": "stream",
     "text": [
      "Epoch [157/5000]: Train loss: 5.3864, Valid loss: 1.4044\n",
      "Epoch [157/5000]: Train r2_score: 0.8671, Valid r2_score: 0.9696\n",
      "Epoch [157/5000]: Train smape: 23.9242, Valid smape: 13.3921\n",
      "\n"
     ]
    },
    {
     "name": "stderr",
     "output_type": "stream",
     "text": [
      "Epoch [158/5000]: 100%|██████████████████████████████████████████████████████| 9/9 [00:00<00:00, 234.73it/s, loss=5.17]\n"
     ]
    },
    {
     "name": "stdout",
     "output_type": "stream",
     "text": [
      "Epoch [158/5000]: Train loss: 5.5118, Valid loss: 1.4509\n",
      "Epoch [158/5000]: Train r2_score: 0.8636, Valid r2_score: 0.9710\n",
      "Epoch [158/5000]: Train smape: 23.7489, Valid smape: 13.1975\n",
      "\n"
     ]
    },
    {
     "name": "stderr",
     "output_type": "stream",
     "text": [
      "Epoch [159/5000]: 100%|███████████████████████████████████████████████████████| 9/9 [00:00<00:00, 216.66it/s, loss=5.5]\n"
     ]
    },
    {
     "name": "stdout",
     "output_type": "stream",
     "text": [
      "Epoch [159/5000]: Train loss: 5.7779, Valid loss: 1.7254\n",
      "Epoch [159/5000]: Train r2_score: 0.8571, Valid r2_score: 0.9622\n",
      "Epoch [159/5000]: Train smape: 24.3103, Valid smape: 14.6905\n",
      "\n"
     ]
    },
    {
     "name": "stderr",
     "output_type": "stream",
     "text": [
      "Epoch [160/5000]: 100%|███████████████████████████████████████████████████████| 9/9 [00:00<00:00, 231.10it/s, loss=5.1]\n"
     ]
    },
    {
     "name": "stdout",
     "output_type": "stream",
     "text": [
      "Epoch [160/5000]: Train loss: 5.2560, Valid loss: 1.5599\n",
      "Epoch [160/5000]: Train r2_score: 0.8702, Valid r2_score: 0.9657\n",
      "Epoch [160/5000]: Train smape: 23.1464, Valid smape: 14.2060\n",
      "\n"
     ]
    },
    {
     "name": "stderr",
     "output_type": "stream",
     "text": [
      "Epoch [161/5000]: 100%|██████████████████████████████████████████████████████| 9/9 [00:00<00:00, 254.37it/s, loss=4.93]\n"
     ]
    },
    {
     "name": "stdout",
     "output_type": "stream",
     "text": [
      "Epoch [161/5000]: Train loss: 5.8078, Valid loss: 1.3541\n",
      "Epoch [161/5000]: Train r2_score: 0.8554, Valid r2_score: 0.9712\n",
      "Epoch [161/5000]: Train smape: 23.2194, Valid smape: 13.1067\n",
      "\n"
     ]
    },
    {
     "name": "stderr",
     "output_type": "stream",
     "text": [
      "Epoch [162/5000]: 100%|██████████████████████████████████████████████████████| 9/9 [00:00<00:00, 220.03it/s, loss=5.71]\n"
     ]
    },
    {
     "name": "stdout",
     "output_type": "stream",
     "text": [
      "Epoch [162/5000]: Train loss: 5.3659, Valid loss: 1.5372\n",
      "Epoch [162/5000]: Train r2_score: 0.8683, Valid r2_score: 0.9666\n",
      "Epoch [162/5000]: Train smape: 23.4707, Valid smape: 13.7100\n",
      "\n"
     ]
    },
    {
     "name": "stderr",
     "output_type": "stream",
     "text": [
      "Epoch [163/5000]: 100%|██████████████████████████████████████████████████████| 9/9 [00:00<00:00, 257.16it/s, loss=5.86]\n"
     ]
    },
    {
     "name": "stdout",
     "output_type": "stream",
     "text": [
      "Epoch [163/5000]: Train loss: 5.8207, Valid loss: 1.3679\n",
      "Epoch [163/5000]: Train r2_score: 0.8566, Valid r2_score: 0.9670\n",
      "Epoch [163/5000]: Train smape: 23.0867, Valid smape: 13.3269\n",
      "\n"
     ]
    },
    {
     "name": "stderr",
     "output_type": "stream",
     "text": [
      "Epoch [164/5000]: 100%|██████████████████████████████████████████████████████| 9/9 [00:00<00:00, 273.99it/s, loss=8.59]\n"
     ]
    },
    {
     "name": "stdout",
     "output_type": "stream",
     "text": [
      "Epoch [164/5000]: Train loss: 6.1209, Valid loss: 1.5281\n",
      "Epoch [164/5000]: Train r2_score: 0.8532, Valid r2_score: 0.9639\n",
      "Epoch [164/5000]: Train smape: 24.1934, Valid smape: 14.2781\n",
      "\n"
     ]
    },
    {
     "name": "stderr",
     "output_type": "stream",
     "text": [
      "Epoch [165/5000]: 100%|██████████████████████████████████████████████████████| 9/9 [00:00<00:00, 272.64it/s, loss=3.79]\n"
     ]
    },
    {
     "name": "stdout",
     "output_type": "stream",
     "text": [
      "Epoch [165/5000]: Train loss: 5.2759, Valid loss: 1.2464\n",
      "Epoch [165/5000]: Train r2_score: 0.8675, Valid r2_score: 0.9705\n",
      "Epoch [165/5000]: Train smape: 24.0569, Valid smape: 13.0841\n",
      "\n"
     ]
    },
    {
     "name": "stderr",
     "output_type": "stream",
     "text": [
      "Epoch [166/5000]: 100%|██████████████████████████████████████████████████████| 9/9 [00:00<00:00, 257.75it/s, loss=5.28]\n"
     ]
    },
    {
     "name": "stdout",
     "output_type": "stream",
     "text": [
      "Epoch [166/5000]: Train loss: 5.2157, Valid loss: 1.3080\n",
      "Epoch [166/5000]: Train r2_score: 0.8716, Valid r2_score: 0.9702\n",
      "Epoch [166/5000]: Train smape: 22.4259, Valid smape: 12.8965\n",
      "\n"
     ]
    },
    {
     "name": "stderr",
     "output_type": "stream",
     "text": [
      "Epoch [167/5000]: 100%|███████████████████████████████████████████████████████| 9/9 [00:00<00:00, 255.62it/s, loss=4.1]\n"
     ]
    },
    {
     "name": "stdout",
     "output_type": "stream",
     "text": [
      "Epoch [167/5000]: Train loss: 5.1210, Valid loss: 1.3905\n",
      "Epoch [167/5000]: Train r2_score: 0.8721, Valid r2_score: 0.9673\n",
      "Epoch [167/5000]: Train smape: 23.3298, Valid smape: 13.5971\n",
      "\n"
     ]
    },
    {
     "name": "stderr",
     "output_type": "stream",
     "text": [
      "Epoch [168/5000]: 100%|██████████████████████████████████████████████████████| 9/9 [00:00<00:00, 236.71it/s, loss=5.77]\n"
     ]
    },
    {
     "name": "stdout",
     "output_type": "stream",
     "text": [
      "Epoch [168/5000]: Train loss: 5.3087, Valid loss: 1.5398\n",
      "Epoch [168/5000]: Train r2_score: 0.8699, Valid r2_score: 0.9638\n",
      "Epoch [168/5000]: Train smape: 22.8707, Valid smape: 13.4781\n",
      "\n"
     ]
    },
    {
     "name": "stderr",
     "output_type": "stream",
     "text": [
      "Epoch [169/5000]: 100%|██████████████████████████████████████████████████████| 9/9 [00:00<00:00, 242.06it/s, loss=6.99]\n"
     ]
    },
    {
     "name": "stdout",
     "output_type": "stream",
     "text": [
      "Epoch [169/5000]: Train loss: 5.2124, Valid loss: 1.3745\n",
      "Epoch [169/5000]: Train r2_score: 0.8745, Valid r2_score: 0.9723\n",
      "Epoch [169/5000]: Train smape: 21.7753, Valid smape: 12.3103\n",
      "\n"
     ]
    },
    {
     "name": "stderr",
     "output_type": "stream",
     "text": [
      "Epoch [170/5000]: 100%|██████████████████████████████████████████████████████| 9/9 [00:00<00:00, 239.95it/s, loss=5.36]\n"
     ]
    },
    {
     "name": "stdout",
     "output_type": "stream",
     "text": [
      "Epoch [170/5000]: Train loss: 5.5960, Valid loss: 1.3841\n",
      "Epoch [170/5000]: Train r2_score: 0.8617, Valid r2_score: 0.9703\n",
      "Epoch [170/5000]: Train smape: 22.5578, Valid smape: 13.0978\n",
      "\n"
     ]
    },
    {
     "name": "stderr",
     "output_type": "stream",
     "text": [
      "Epoch [171/5000]: 100%|██████████████████████████████████████████████████████| 9/9 [00:00<00:00, 250.14it/s, loss=4.25]\n"
     ]
    },
    {
     "name": "stdout",
     "output_type": "stream",
     "text": [
      "Epoch [171/5000]: Train loss: 5.1213, Valid loss: 1.2468\n",
      "Epoch [171/5000]: Train r2_score: 0.8723, Valid r2_score: 0.9694\n",
      "Epoch [171/5000]: Train smape: 22.8616, Valid smape: 13.4372\n",
      "\n"
     ]
    },
    {
     "name": "stderr",
     "output_type": "stream",
     "text": [
      "Epoch [172/5000]: 100%|██████████████████████████████████████████████████████| 9/9 [00:00<00:00, 213.59it/s, loss=4.65]\n"
     ]
    },
    {
     "name": "stdout",
     "output_type": "stream",
     "text": [
      "Epoch [172/5000]: Train loss: 5.4094, Valid loss: 1.4876\n",
      "Epoch [172/5000]: Train r2_score: 0.8654, Valid r2_score: 0.9715\n",
      "Epoch [172/5000]: Train smape: 23.5556, Valid smape: 12.8466\n",
      "\n"
     ]
    },
    {
     "name": "stderr",
     "output_type": "stream",
     "text": [
      "Epoch [173/5000]: 100%|██████████████████████████████████████████████████████| 9/9 [00:00<00:00, 244.04it/s, loss=5.49]\n"
     ]
    },
    {
     "name": "stdout",
     "output_type": "stream",
     "text": [
      "Epoch [173/5000]: Train loss: 5.3809, Valid loss: 1.5701\n",
      "Epoch [173/5000]: Train r2_score: 0.8676, Valid r2_score: 0.9696\n",
      "Epoch [173/5000]: Train smape: 23.6134, Valid smape: 13.1858\n",
      "\n"
     ]
    },
    {
     "name": "stderr",
     "output_type": "stream",
     "text": [
      "Epoch [174/5000]: 100%|██████████████████████████████████████████████████████| 9/9 [00:00<00:00, 259.23it/s, loss=5.46]\n"
     ]
    },
    {
     "name": "stdout",
     "output_type": "stream",
     "text": [
      "Epoch [174/5000]: Train loss: 5.4240, Valid loss: 1.6052\n",
      "Epoch [174/5000]: Train r2_score: 0.8664, Valid r2_score: 0.9626\n",
      "Epoch [174/5000]: Train smape: 22.2778, Valid smape: 13.4393\n",
      "\n"
     ]
    },
    {
     "name": "stderr",
     "output_type": "stream",
     "text": [
      "Epoch [175/5000]: 100%|██████████████████████████████████████████████████████| 9/9 [00:00<00:00, 261.52it/s, loss=4.99]\n"
     ]
    },
    {
     "name": "stdout",
     "output_type": "stream",
     "text": [
      "Epoch [175/5000]: Train loss: 5.4000, Valid loss: 1.2683\n",
      "Epoch [175/5000]: Train r2_score: 0.8662, Valid r2_score: 0.9703\n",
      "Epoch [175/5000]: Train smape: 21.7434, Valid smape: 12.4608\n",
      "\n"
     ]
    },
    {
     "name": "stderr",
     "output_type": "stream",
     "text": [
      "Epoch [176/5000]: 100%|██████████████████████████████████████████████████████| 9/9 [00:00<00:00, 249.72it/s, loss=7.56]\n"
     ]
    },
    {
     "name": "stdout",
     "output_type": "stream",
     "text": [
      "Epoch [176/5000]: Train loss: 5.4478, Valid loss: 1.6645\n",
      "Epoch [176/5000]: Train r2_score: 0.8692, Valid r2_score: 0.9679\n",
      "Epoch [176/5000]: Train smape: 22.2091, Valid smape: 13.2153\n",
      "\n"
     ]
    },
    {
     "name": "stderr",
     "output_type": "stream",
     "text": [
      "Epoch [177/5000]: 100%|██████████████████████████████████████████████████████| 9/9 [00:00<00:00, 274.81it/s, loss=4.63]\n"
     ]
    },
    {
     "name": "stdout",
     "output_type": "stream",
     "text": [
      "Epoch [177/5000]: Train loss: 5.0919, Valid loss: 1.5336\n",
      "Epoch [177/5000]: Train r2_score: 0.8737, Valid r2_score: 0.9657\n",
      "Epoch [177/5000]: Train smape: 22.5287, Valid smape: 13.0731\n",
      "\n"
     ]
    },
    {
     "name": "stderr",
     "output_type": "stream",
     "text": [
      "Epoch [178/5000]: 100%|██████████████████████████████████████████████████████| 9/9 [00:00<00:00, 264.91it/s, loss=5.87]\n"
     ]
    },
    {
     "name": "stdout",
     "output_type": "stream",
     "text": [
      "Epoch [178/5000]: Train loss: 5.3173, Valid loss: 1.3837\n",
      "Epoch [178/5000]: Train r2_score: 0.8699, Valid r2_score: 0.9708\n",
      "Epoch [178/5000]: Train smape: 22.3377, Valid smape: 11.9354\n",
      "\n"
     ]
    },
    {
     "name": "stderr",
     "output_type": "stream",
     "text": [
      "Epoch [179/5000]: 100%|██████████████████████████████████████████████████████| 9/9 [00:00<00:00, 105.73it/s, loss=5.52]\n"
     ]
    },
    {
     "name": "stdout",
     "output_type": "stream",
     "text": [
      "Epoch [179/5000]: Train loss: 5.0953, Valid loss: 1.3447\n",
      "Epoch [179/5000]: Train r2_score: 0.8751, Valid r2_score: 0.9698\n",
      "Epoch [179/5000]: Train smape: 22.3396, Valid smape: 12.1185\n",
      "\n"
     ]
    },
    {
     "name": "stderr",
     "output_type": "stream",
     "text": [
      "Epoch [180/5000]: 100%|██████████████████████████████████████████████████████| 9/9 [00:00<00:00, 258.51it/s, loss=4.78]\n"
     ]
    },
    {
     "name": "stdout",
     "output_type": "stream",
     "text": [
      "Epoch [180/5000]: Train loss: 5.2158, Valid loss: 1.2140\n",
      "Epoch [180/5000]: Train r2_score: 0.8707, Valid r2_score: 0.9724\n",
      "Epoch [180/5000]: Train smape: 23.0951, Valid smape: 11.9473\n",
      "\n"
     ]
    },
    {
     "name": "stderr",
     "output_type": "stream",
     "text": [
      "Epoch [181/5000]: 100%|███████████████████████████████████████████████████████| 9/9 [00:00<00:00, 209.56it/s, loss=7.3]\n"
     ]
    },
    {
     "name": "stdout",
     "output_type": "stream",
     "text": [
      "Epoch [181/5000]: Train loss: 5.7294, Valid loss: 1.3191\n",
      "Epoch [181/5000]: Train r2_score: 0.8614, Valid r2_score: 0.9700\n",
      "Epoch [181/5000]: Train smape: 22.4118, Valid smape: 12.2227\n",
      "\n"
     ]
    },
    {
     "name": "stderr",
     "output_type": "stream",
     "text": [
      "Epoch [182/5000]: 100%|██████████████████████████████████████████████████████| 9/9 [00:00<00:00, 247.18it/s, loss=7.49]\n"
     ]
    },
    {
     "name": "stdout",
     "output_type": "stream",
     "text": [
      "Epoch [182/5000]: Train loss: 5.8288, Valid loss: 1.2509\n",
      "Epoch [182/5000]: Train r2_score: 0.8591, Valid r2_score: 0.9683\n",
      "Epoch [182/5000]: Train smape: 22.1026, Valid smape: 12.3785\n",
      "\n"
     ]
    },
    {
     "name": "stderr",
     "output_type": "stream",
     "text": [
      "Epoch [183/5000]: 100%|██████████████████████████████████████████████████████| 9/9 [00:00<00:00, 255.81it/s, loss=4.88]\n"
     ]
    },
    {
     "name": "stdout",
     "output_type": "stream",
     "text": [
      "Epoch [183/5000]: Train loss: 5.2939, Valid loss: 1.7581\n",
      "Epoch [183/5000]: Train r2_score: 0.8688, Valid r2_score: 0.9642\n",
      "Epoch [183/5000]: Train smape: 22.2250, Valid smape: 12.7173\n",
      "\n"
     ]
    },
    {
     "name": "stderr",
     "output_type": "stream",
     "text": [
      "Epoch [184/5000]: 100%|██████████████████████████████████████████████████████| 9/9 [00:00<00:00, 250.15it/s, loss=5.16]\n"
     ]
    },
    {
     "name": "stdout",
     "output_type": "stream",
     "text": [
      "Epoch [184/5000]: Train loss: 5.0974, Valid loss: 1.7422\n",
      "Epoch [184/5000]: Train r2_score: 0.8745, Valid r2_score: 0.9694\n",
      "Epoch [184/5000]: Train smape: 22.3394, Valid smape: 12.2659\n",
      "\n"
     ]
    },
    {
     "name": "stderr",
     "output_type": "stream",
     "text": [
      "Epoch [185/5000]: 100%|██████████████████████████████████████████████████████| 9/9 [00:00<00:00, 249.78it/s, loss=5.24]\n"
     ]
    },
    {
     "name": "stdout",
     "output_type": "stream",
     "text": [
      "Epoch [185/5000]: Train loss: 5.5755, Valid loss: 1.1174\n",
      "Epoch [185/5000]: Train r2_score: 0.8620, Valid r2_score: 0.9725\n",
      "Epoch [185/5000]: Train smape: 22.6504, Valid smape: 11.9328\n",
      "\n",
      "Saving model with loss 1.117...\n"
     ]
    },
    {
     "name": "stderr",
     "output_type": "stream",
     "text": [
      "Epoch [186/5000]: 100%|██████████████████████████████████████████████████████| 9/9 [00:00<00:00, 252.94it/s, loss=4.47]"
     ]
    },
    {
     "name": "stdout",
     "output_type": "stream",
     "text": [
      "Epoch [186/5000]: Train loss: 5.6130, Valid loss: 1.2099\n",
      "Epoch [186/5000]: Train r2_score: 0.8598, Valid r2_score: 0.9718\n",
      "Epoch [186/5000]: Train smape: 22.5954, Valid smape: 12.2072\n",
      "\n"
     ]
    },
    {
     "name": "stderr",
     "output_type": "stream",
     "text": [
      "\n",
      "Epoch [187/5000]: 100%|██████████████████████████████████████████████████████| 9/9 [00:00<00:00, 249.48it/s, loss=4.96]\n"
     ]
    },
    {
     "name": "stdout",
     "output_type": "stream",
     "text": [
      "Epoch [187/5000]: Train loss: 5.4221, Valid loss: 1.5572\n",
      "Epoch [187/5000]: Train r2_score: 0.8656, Valid r2_score: 0.9607\n",
      "Epoch [187/5000]: Train smape: 22.8264, Valid smape: 14.1378\n",
      "\n"
     ]
    },
    {
     "name": "stderr",
     "output_type": "stream",
     "text": [
      "Epoch [188/5000]: 100%|██████████████████████████████████████████████████████| 9/9 [00:00<00:00, 250.68it/s, loss=4.48]\n"
     ]
    },
    {
     "name": "stdout",
     "output_type": "stream",
     "text": [
      "Epoch [188/5000]: Train loss: 4.9815, Valid loss: 1.8133\n",
      "Epoch [188/5000]: Train r2_score: 0.8764, Valid r2_score: 0.9600\n",
      "Epoch [188/5000]: Train smape: 21.4385, Valid smape: 13.1834\n",
      "\n"
     ]
    },
    {
     "name": "stderr",
     "output_type": "stream",
     "text": [
      "Epoch [189/5000]: 100%|██████████████████████████████████████████████████████| 9/9 [00:00<00:00, 248.49it/s, loss=6.38]\n"
     ]
    },
    {
     "name": "stdout",
     "output_type": "stream",
     "text": [
      "Epoch [189/5000]: Train loss: 5.2805, Valid loss: 1.2009\n",
      "Epoch [189/5000]: Train r2_score: 0.8717, Valid r2_score: 0.9707\n",
      "Epoch [189/5000]: Train smape: 21.4794, Valid smape: 11.7946\n",
      "\n"
     ]
    },
    {
     "name": "stderr",
     "output_type": "stream",
     "text": [
      "Epoch [190/5000]: 100%|██████████████████████████████████████████████████████| 9/9 [00:00<00:00, 249.84it/s, loss=5.62]\n"
     ]
    },
    {
     "name": "stdout",
     "output_type": "stream",
     "text": [
      "Epoch [190/5000]: Train loss: 5.2755, Valid loss: 1.1209\n",
      "Epoch [190/5000]: Train r2_score: 0.8705, Valid r2_score: 0.9720\n",
      "Epoch [190/5000]: Train smape: 22.5908, Valid smape: 11.7975\n",
      "\n"
     ]
    },
    {
     "name": "stderr",
     "output_type": "stream",
     "text": [
      "Epoch [191/5000]: 100%|██████████████████████████████████████████████████████| 9/9 [00:00<00:00, 267.05it/s, loss=5.21]\n"
     ]
    },
    {
     "name": "stdout",
     "output_type": "stream",
     "text": [
      "Epoch [191/5000]: Train loss: 5.1734, Valid loss: 1.3594\n",
      "Epoch [191/5000]: Train r2_score: 0.8726, Valid r2_score: 0.9680\n",
      "Epoch [191/5000]: Train smape: 22.4854, Valid smape: 12.6863\n",
      "\n"
     ]
    },
    {
     "name": "stderr",
     "output_type": "stream",
     "text": [
      "Epoch [192/5000]: 100%|██████████████████████████████████████████████████████| 9/9 [00:00<00:00, 255.95it/s, loss=4.91]\n"
     ]
    },
    {
     "name": "stdout",
     "output_type": "stream",
     "text": [
      "Epoch [192/5000]: Train loss: 4.7337, Valid loss: 1.5481\n",
      "Epoch [192/5000]: Train r2_score: 0.8836, Valid r2_score: 0.9613\n",
      "Epoch [192/5000]: Train smape: 21.7292, Valid smape: 13.1265\n",
      "\n"
     ]
    },
    {
     "name": "stderr",
     "output_type": "stream",
     "text": [
      "Epoch [193/5000]: 100%|██████████████████████████████████████████████████████| 9/9 [00:00<00:00, 243.94it/s, loss=7.42]\n"
     ]
    },
    {
     "name": "stdout",
     "output_type": "stream",
     "text": [
      "Epoch [193/5000]: Train loss: 5.3555, Valid loss: 1.3901\n",
      "Epoch [193/5000]: Train r2_score: 0.8714, Valid r2_score: 0.9697\n",
      "Epoch [193/5000]: Train smape: 22.1003, Valid smape: 11.8618\n",
      "\n"
     ]
    },
    {
     "name": "stderr",
     "output_type": "stream",
     "text": [
      "Epoch [194/5000]: 100%|██████████████████████████████████████████████████████| 9/9 [00:00<00:00, 245.43it/s, loss=5.32]\n"
     ]
    },
    {
     "name": "stdout",
     "output_type": "stream",
     "text": [
      "Epoch [194/5000]: Train loss: 4.7944, Valid loss: 1.1800\n",
      "Epoch [194/5000]: Train r2_score: 0.8827, Valid r2_score: 0.9711\n",
      "Epoch [194/5000]: Train smape: 21.1235, Valid smape: 11.6127\n",
      "\n"
     ]
    },
    {
     "name": "stderr",
     "output_type": "stream",
     "text": [
      "Epoch [195/5000]: 100%|██████████████████████████████████████████████████████| 9/9 [00:00<00:00, 218.61it/s, loss=6.09]\n"
     ]
    },
    {
     "name": "stdout",
     "output_type": "stream",
     "text": [
      "Epoch [195/5000]: Train loss: 5.1984, Valid loss: 1.1845\n",
      "Epoch [195/5000]: Train r2_score: 0.8733, Valid r2_score: 0.9694\n",
      "Epoch [195/5000]: Train smape: 22.0659, Valid smape: 11.9136\n",
      "\n"
     ]
    },
    {
     "name": "stderr",
     "output_type": "stream",
     "text": [
      "Epoch [196/5000]: 100%|██████████████████████████████████████████████████████| 9/9 [00:00<00:00, 237.20it/s, loss=5.56]\n"
     ]
    },
    {
     "name": "stdout",
     "output_type": "stream",
     "text": [
      "Epoch [196/5000]: Train loss: 5.2640, Valid loss: 1.3820\n",
      "Epoch [196/5000]: Train r2_score: 0.8707, Valid r2_score: 0.9638\n",
      "Epoch [196/5000]: Train smape: 22.1689, Valid smape: 12.6846\n",
      "\n"
     ]
    },
    {
     "name": "stderr",
     "output_type": "stream",
     "text": [
      "Epoch [197/5000]: 100%|██████████████████████████████████████████████████████| 9/9 [00:00<00:00, 246.98it/s, loss=5.19]"
     ]
    },
    {
     "name": "stdout",
     "output_type": "stream",
     "text": [
      "Epoch [197/5000]: Train loss: 5.3075, Valid loss: 1.4017\n",
      "Epoch [197/5000]: Train r2_score: 0.8690, Valid r2_score: 0.9688\n",
      "Epoch [197/5000]: Train smape: 21.8237, Valid smape: 12.1504\n",
      "\n"
     ]
    },
    {
     "name": "stderr",
     "output_type": "stream",
     "text": [
      "\n",
      "Epoch [198/5000]: 100%|██████████████████████████████████████████████████████| 9/9 [00:00<00:00, 237.48it/s, loss=6.53]\n"
     ]
    },
    {
     "name": "stdout",
     "output_type": "stream",
     "text": [
      "Epoch [198/5000]: Train loss: 5.0874, Valid loss: 1.1635\n",
      "Epoch [198/5000]: Train r2_score: 0.8770, Valid r2_score: 0.9720\n",
      "Epoch [198/5000]: Train smape: 21.3656, Valid smape: 11.8737\n",
      "\n"
     ]
    },
    {
     "name": "stderr",
     "output_type": "stream",
     "text": [
      "Epoch [199/5000]: 100%|██████████████████████████████████████████████████████| 9/9 [00:00<00:00, 237.26it/s, loss=6.04]\n"
     ]
    },
    {
     "name": "stdout",
     "output_type": "stream",
     "text": [
      "Epoch [199/5000]: Train loss: 5.2222, Valid loss: 1.3292\n",
      "Epoch [199/5000]: Train r2_score: 0.8726, Valid r2_score: 0.9699\n",
      "Epoch [199/5000]: Train smape: 22.2543, Valid smape: 12.1893\n",
      "\n"
     ]
    },
    {
     "name": "stderr",
     "output_type": "stream",
     "text": [
      "Epoch [200/5000]: 100%|██████████████████████████████████████████████████████| 9/9 [00:00<00:00, 244.06it/s, loss=6.34]\n"
     ]
    },
    {
     "name": "stdout",
     "output_type": "stream",
     "text": [
      "Epoch [200/5000]: Train loss: 5.0997, Valid loss: 1.4304\n",
      "Epoch [200/5000]: Train r2_score: 0.8763, Valid r2_score: 0.9689\n",
      "Epoch [200/5000]: Train smape: 22.0809, Valid smape: 12.4767\n",
      "\n"
     ]
    },
    {
     "name": "stderr",
     "output_type": "stream",
     "text": [
      "Epoch [201/5000]: 100%|██████████████████████████████████████████████████████| 9/9 [00:00<00:00, 225.50it/s, loss=6.22]"
     ]
    },
    {
     "name": "stdout",
     "output_type": "stream",
     "text": [
      "Epoch [201/5000]: Train loss: 5.2067, Valid loss: 1.5699\n",
      "Epoch [201/5000]: Train r2_score: 0.8733, Valid r2_score: 0.9638\n",
      "Epoch [201/5000]: Train smape: 21.8029, Valid smape: 12.8350\n",
      "\n"
     ]
    },
    {
     "name": "stderr",
     "output_type": "stream",
     "text": [
      "\n",
      "Epoch [202/5000]: 100%|███████████████████████████████████████████████████████| 9/9 [00:00<00:00, 250.78it/s, loss=5.4]\n"
     ]
    },
    {
     "name": "stdout",
     "output_type": "stream",
     "text": [
      "Epoch [202/5000]: Train loss: 5.2158, Valid loss: 1.2642\n",
      "Epoch [202/5000]: Train r2_score: 0.8717, Valid r2_score: 0.9694\n",
      "Epoch [202/5000]: Train smape: 21.7519, Valid smape: 12.0747\n",
      "\n"
     ]
    },
    {
     "name": "stderr",
     "output_type": "stream",
     "text": [
      "Epoch [203/5000]: 100%|██████████████████████████████████████████████████████| 9/9 [00:00<00:00, 230.11it/s, loss=6.29]\n"
     ]
    },
    {
     "name": "stdout",
     "output_type": "stream",
     "text": [
      "Epoch [203/5000]: Train loss: 5.4476, Valid loss: 1.2226\n",
      "Epoch [203/5000]: Train r2_score: 0.8671, Valid r2_score: 0.9711\n",
      "Epoch [203/5000]: Train smape: 22.3743, Valid smape: 12.0826\n",
      "\n"
     ]
    },
    {
     "name": "stderr",
     "output_type": "stream",
     "text": [
      "Epoch [204/5000]: 100%|██████████████████████████████████████████████████████| 9/9 [00:00<00:00, 243.30it/s, loss=5.62]\n"
     ]
    },
    {
     "name": "stdout",
     "output_type": "stream",
     "text": [
      "Epoch [204/5000]: Train loss: 4.9882, Valid loss: 1.4026\n",
      "Epoch [204/5000]: Train r2_score: 0.8781, Valid r2_score: 0.9713\n",
      "Epoch [204/5000]: Train smape: 21.4827, Valid smape: 11.8677\n",
      "\n"
     ]
    },
    {
     "name": "stderr",
     "output_type": "stream",
     "text": [
      "Epoch [205/5000]: 100%|██████████████████████████████████████████████████████| 9/9 [00:00<00:00, 247.25it/s, loss=5.66]\n"
     ]
    },
    {
     "name": "stdout",
     "output_type": "stream",
     "text": [
      "Epoch [205/5000]: Train loss: 4.7495, Valid loss: 1.3835\n",
      "Epoch [205/5000]: Train r2_score: 0.8844, Valid r2_score: 0.9662\n",
      "Epoch [205/5000]: Train smape: 21.2307, Valid smape: 11.9705\n",
      "\n"
     ]
    },
    {
     "name": "stderr",
     "output_type": "stream",
     "text": [
      "Epoch [206/5000]: 100%|██████████████████████████████████████████████████████| 9/9 [00:00<00:00, 236.68it/s, loss=6.13]\n"
     ]
    },
    {
     "name": "stdout",
     "output_type": "stream",
     "text": [
      "Epoch [206/5000]: Train loss: 5.3723, Valid loss: 1.2190\n",
      "Epoch [206/5000]: Train r2_score: 0.8688, Valid r2_score: 0.9701\n",
      "Epoch [206/5000]: Train smape: 21.9133, Valid smape: 11.8326\n",
      "\n"
     ]
    },
    {
     "name": "stderr",
     "output_type": "stream",
     "text": [
      "Epoch [207/5000]: 100%|██████████████████████████████████████████████████████| 9/9 [00:00<00:00, 254.66it/s, loss=4.54]\n"
     ]
    },
    {
     "name": "stdout",
     "output_type": "stream",
     "text": [
      "Epoch [207/5000]: Train loss: 5.0358, Valid loss: 1.1801\n",
      "Epoch [207/5000]: Train r2_score: 0.8751, Valid r2_score: 0.9704\n",
      "Epoch [207/5000]: Train smape: 21.6575, Valid smape: 12.0037\n",
      "\n"
     ]
    },
    {
     "name": "stderr",
     "output_type": "stream",
     "text": [
      "Epoch [208/5000]: 100%|██████████████████████████████████████████████████████| 9/9 [00:00<00:00, 250.68it/s, loss=6.06]\n"
     ]
    },
    {
     "name": "stdout",
     "output_type": "stream",
     "text": [
      "Epoch [208/5000]: Train loss: 5.2261, Valid loss: 1.4793\n",
      "Epoch [208/5000]: Train r2_score: 0.8726, Valid r2_score: 0.9679\n",
      "Epoch [208/5000]: Train smape: 22.2116, Valid smape: 12.3549\n",
      "\n"
     ]
    },
    {
     "name": "stderr",
     "output_type": "stream",
     "text": [
      "Epoch [209/5000]: 100%|███████████████████████████████████████████████████████| 9/9 [00:00<00:00, 250.83it/s, loss=6.6]\n"
     ]
    },
    {
     "name": "stdout",
     "output_type": "stream",
     "text": [
      "Epoch [209/5000]: Train loss: 5.2102, Valid loss: 1.4290\n",
      "Epoch [209/5000]: Train r2_score: 0.8739, Valid r2_score: 0.9720\n",
      "Epoch [209/5000]: Train smape: 22.0342, Valid smape: 11.7747\n",
      "\n"
     ]
    },
    {
     "name": "stderr",
     "output_type": "stream",
     "text": [
      "Epoch [210/5000]: 100%|██████████████████████████████████████████████████████| 9/9 [00:00<00:00, 257.96it/s, loss=4.19]\n"
     ]
    },
    {
     "name": "stdout",
     "output_type": "stream",
     "text": [
      "Epoch [210/5000]: Train loss: 4.8822, Valid loss: 1.2448\n",
      "Epoch [210/5000]: Train r2_score: 0.8785, Valid r2_score: 0.9696\n",
      "Epoch [210/5000]: Train smape: 22.6214, Valid smape: 12.1015\n",
      "\n"
     ]
    },
    {
     "name": "stderr",
     "output_type": "stream",
     "text": [
      "Epoch [211/5000]: 100%|██████████████████████████████████████████████████████| 9/9 [00:00<00:00, 264.60it/s, loss=7.15]\n"
     ]
    },
    {
     "name": "stdout",
     "output_type": "stream",
     "text": [
      "Epoch [211/5000]: Train loss: 5.3498, Valid loss: 1.2126\n",
      "Epoch [211/5000]: Train r2_score: 0.8711, Valid r2_score: 0.9710\n",
      "Epoch [211/5000]: Train smape: 22.3115, Valid smape: 12.3036\n",
      "\n"
     ]
    },
    {
     "name": "stderr",
     "output_type": "stream",
     "text": [
      "Epoch [212/5000]: 100%|██████████████████████████████████████████████████████| 9/9 [00:00<00:00, 248.43it/s, loss=5.17]\n"
     ]
    },
    {
     "name": "stdout",
     "output_type": "stream",
     "text": [
      "Epoch [212/5000]: Train loss: 5.0619, Valid loss: 1.5619\n",
      "Epoch [212/5000]: Train r2_score: 0.8754, Valid r2_score: 0.9679\n",
      "Epoch [212/5000]: Train smape: 21.6326, Valid smape: 12.7136\n",
      "\n"
     ]
    },
    {
     "name": "stderr",
     "output_type": "stream",
     "text": [
      "Epoch [213/5000]: 100%|██████████████████████████████████████████████████████| 9/9 [00:00<00:00, 232.17it/s, loss=6.01]"
     ]
    },
    {
     "name": "stdout",
     "output_type": "stream",
     "text": [
      "Epoch [213/5000]: Train loss: 5.0479, Valid loss: 1.3829\n",
      "Epoch [213/5000]: Train r2_score: 0.8772, Valid r2_score: 0.9688\n",
      "Epoch [213/5000]: Train smape: 21.8115, Valid smape: 12.3506\n",
      "\n"
     ]
    },
    {
     "name": "stderr",
     "output_type": "stream",
     "text": [
      "\n",
      "Epoch [214/5000]: 100%|██████████████████████████████████████████████████████| 9/9 [00:00<00:00, 264.10it/s, loss=4.88]\n"
     ]
    },
    {
     "name": "stdout",
     "output_type": "stream",
     "text": [
      "Epoch [214/5000]: Train loss: 5.0387, Valid loss: 1.3257\n",
      "Epoch [214/5000]: Train r2_score: 0.8756, Valid r2_score: 0.9707\n",
      "Epoch [214/5000]: Train smape: 22.2444, Valid smape: 12.1134\n",
      "\n"
     ]
    },
    {
     "name": "stderr",
     "output_type": "stream",
     "text": [
      "Epoch [215/5000]: 100%|██████████████████████████████████████████████████████| 9/9 [00:00<00:00, 257.02it/s, loss=4.46]\n"
     ]
    },
    {
     "name": "stdout",
     "output_type": "stream",
     "text": [
      "Epoch [215/5000]: Train loss: 4.8240, Valid loss: 1.2894\n",
      "Epoch [215/5000]: Train r2_score: 0.8805, Valid r2_score: 0.9705\n",
      "Epoch [215/5000]: Train smape: 21.4906, Valid smape: 12.0248\n",
      "\n"
     ]
    },
    {
     "name": "stderr",
     "output_type": "stream",
     "text": [
      "Epoch [216/5000]: 100%|██████████████████████████████████████████████████████| 9/9 [00:00<00:00, 225.47it/s, loss=3.24]\n"
     ]
    },
    {
     "name": "stdout",
     "output_type": "stream",
     "text": [
      "Epoch [216/5000]: Train loss: 4.5969, Valid loss: 1.2869\n",
      "Epoch [216/5000]: Train r2_score: 0.8845, Valid r2_score: 0.9704\n",
      "Epoch [216/5000]: Train smape: 21.7348, Valid smape: 11.9505\n",
      "\n"
     ]
    },
    {
     "name": "stderr",
     "output_type": "stream",
     "text": [
      "Epoch [217/5000]: 100%|██████████████████████████████████████████████████████| 9/9 [00:00<00:00, 244.60it/s, loss=7.04]\n"
     ]
    },
    {
     "name": "stdout",
     "output_type": "stream",
     "text": [
      "Epoch [217/5000]: Train loss: 5.0842, Valid loss: 1.2796\n",
      "Epoch [217/5000]: Train r2_score: 0.8779, Valid r2_score: 0.9703\n",
      "Epoch [217/5000]: Train smape: 22.1007, Valid smape: 12.1697\n",
      "\n"
     ]
    },
    {
     "name": "stderr",
     "output_type": "stream",
     "text": [
      "Epoch [218/5000]: 100%|██████████████████████████████████████████████████████| 9/9 [00:00<00:00, 242.49it/s, loss=4.25]"
     ]
    },
    {
     "name": "stdout",
     "output_type": "stream",
     "text": [
      "Epoch [218/5000]: Train loss: 4.6078, Valid loss: 1.4333\n",
      "Epoch [218/5000]: Train r2_score: 0.8858, Valid r2_score: 0.9699\n",
      "Epoch [218/5000]: Train smape: 21.5735, Valid smape: 11.9772\n",
      "\n"
     ]
    },
    {
     "name": "stderr",
     "output_type": "stream",
     "text": [
      "\n",
      "Epoch [219/5000]: 100%|██████████████████████████████████████████████████████| 9/9 [00:00<00:00, 256.42it/s, loss=4.61]\n"
     ]
    },
    {
     "name": "stdout",
     "output_type": "stream",
     "text": [
      "Epoch [219/5000]: Train loss: 5.2247, Valid loss: 1.3215\n",
      "Epoch [219/5000]: Train r2_score: 0.8702, Valid r2_score: 0.9688\n",
      "Epoch [219/5000]: Train smape: 21.7921, Valid smape: 12.1284\n",
      "\n"
     ]
    },
    {
     "name": "stderr",
     "output_type": "stream",
     "text": [
      "Epoch [220/5000]: 100%|███████████████████████████████████████████████████████| 9/9 [00:00<00:00, 228.90it/s, loss=6.2]\n"
     ]
    },
    {
     "name": "stdout",
     "output_type": "stream",
     "text": [
      "Epoch [220/5000]: Train loss: 5.2834, Valid loss: 1.5592\n",
      "Epoch [220/5000]: Train r2_score: 0.8713, Valid r2_score: 0.9685\n",
      "Epoch [220/5000]: Train smape: 22.5034, Valid smape: 12.0293\n",
      "\n"
     ]
    },
    {
     "name": "stderr",
     "output_type": "stream",
     "text": [
      "Epoch [221/5000]: 100%|█████████████████████████████████████████████████████████| 9/9 [00:00<00:00, 226.40it/s, loss=5]\n"
     ]
    },
    {
     "name": "stdout",
     "output_type": "stream",
     "text": [
      "Epoch [221/5000]: Train loss: 5.0738, Valid loss: 1.2514\n",
      "Epoch [221/5000]: Train r2_score: 0.8748, Valid r2_score: 0.9708\n",
      "Epoch [221/5000]: Train smape: 21.6679, Valid smape: 11.7152\n",
      "\n"
     ]
    },
    {
     "name": "stderr",
     "output_type": "stream",
     "text": [
      "Epoch [222/5000]: 100%|██████████████████████████████████████████████████████| 9/9 [00:00<00:00, 224.37it/s, loss=5.89]\n"
     ]
    },
    {
     "name": "stdout",
     "output_type": "stream",
     "text": [
      "Epoch [222/5000]: Train loss: 4.9010, Valid loss: 1.1854\n",
      "Epoch [222/5000]: Train r2_score: 0.8808, Valid r2_score: 0.9700\n",
      "Epoch [222/5000]: Train smape: 21.4354, Valid smape: 11.8238\n",
      "\n"
     ]
    },
    {
     "name": "stderr",
     "output_type": "stream",
     "text": [
      "Epoch [223/5000]: 100%|██████████████████████████████████████████████████████| 9/9 [00:00<00:00, 258.00it/s, loss=6.16]\n"
     ]
    },
    {
     "name": "stdout",
     "output_type": "stream",
     "text": [
      "Epoch [223/5000]: Train loss: 4.9076, Valid loss: 1.2781\n",
      "Epoch [223/5000]: Train r2_score: 0.8811, Valid r2_score: 0.9686\n",
      "Epoch [223/5000]: Train smape: 21.8839, Valid smape: 11.9033\n",
      "\n"
     ]
    },
    {
     "name": "stderr",
     "output_type": "stream",
     "text": [
      "Epoch [224/5000]: 100%|██████████████████████████████████████████████████████| 9/9 [00:00<00:00, 243.98it/s, loss=5.68]\n"
     ]
    },
    {
     "name": "stdout",
     "output_type": "stream",
     "text": [
      "Epoch [224/5000]: Train loss: 4.9843, Valid loss: 1.6169\n",
      "Epoch [224/5000]: Train r2_score: 0.8783, Valid r2_score: 0.9690\n",
      "Epoch [224/5000]: Train smape: 21.5511, Valid smape: 11.9917\n",
      "\n"
     ]
    },
    {
     "name": "stderr",
     "output_type": "stream",
     "text": [
      "Epoch [225/5000]: 100%|██████████████████████████████████████████████████████| 9/9 [00:00<00:00, 208.99it/s, loss=3.89]\n"
     ]
    },
    {
     "name": "stdout",
     "output_type": "stream",
     "text": [
      "Epoch [225/5000]: Train loss: 4.3347, Valid loss: 1.3878\n",
      "Epoch [225/5000]: Train r2_score: 0.8924, Valid r2_score: 0.9724\n",
      "Epoch [225/5000]: Train smape: 21.1496, Valid smape: 11.5677\n",
      "\n"
     ]
    },
    {
     "name": "stderr",
     "output_type": "stream",
     "text": [
      "Epoch [226/5000]: 100%|██████████████████████████████████████████████████████| 9/9 [00:00<00:00, 240.82it/s, loss=4.61]\n"
     ]
    },
    {
     "name": "stdout",
     "output_type": "stream",
     "text": [
      "Epoch [226/5000]: Train loss: 5.2966, Valid loss: 1.2147\n",
      "Epoch [226/5000]: Train r2_score: 0.8683, Valid r2_score: 0.9724\n",
      "Epoch [226/5000]: Train smape: 22.5952, Valid smape: 11.6930\n",
      "\n"
     ]
    },
    {
     "name": "stderr",
     "output_type": "stream",
     "text": [
      "Epoch [227/5000]: 100%|██████████████████████████████████████████████████████| 9/9 [00:00<00:00, 233.83it/s, loss=6.12]\n"
     ]
    },
    {
     "name": "stdout",
     "output_type": "stream",
     "text": [
      "Epoch [227/5000]: Train loss: 5.3592, Valid loss: 1.2235\n",
      "Epoch [227/5000]: Train r2_score: 0.8692, Valid r2_score: 0.9691\n",
      "Epoch [227/5000]: Train smape: 21.5811, Valid smape: 12.0101\n",
      "\n"
     ]
    },
    {
     "name": "stderr",
     "output_type": "stream",
     "text": [
      "Epoch [228/5000]: 100%|███████████████████████████████████████████████████████| 9/9 [00:00<00:00, 248.66it/s, loss=6.6]\n"
     ]
    },
    {
     "name": "stdout",
     "output_type": "stream",
     "text": [
      "Epoch [228/5000]: Train loss: 5.1321, Valid loss: 1.2231\n",
      "Epoch [228/5000]: Train r2_score: 0.8759, Valid r2_score: 0.9689\n",
      "Epoch [228/5000]: Train smape: 20.9205, Valid smape: 12.0212\n",
      "\n"
     ]
    },
    {
     "name": "stderr",
     "output_type": "stream",
     "text": [
      "Epoch [229/5000]: 100%|██████████████████████████████████████████████████████| 9/9 [00:00<00:00, 209.32it/s, loss=4.51]\n"
     ]
    },
    {
     "name": "stdout",
     "output_type": "stream",
     "text": [
      "Epoch [229/5000]: Train loss: 5.0002, Valid loss: 1.3151\n",
      "Epoch [229/5000]: Train r2_score: 0.8760, Valid r2_score: 0.9701\n",
      "Epoch [229/5000]: Train smape: 21.3223, Valid smape: 11.9067\n",
      "\n"
     ]
    },
    {
     "name": "stderr",
     "output_type": "stream",
     "text": [
      "Epoch [230/5000]: 100%|██████████████████████████████████████████████████████| 9/9 [00:00<00:00, 236.84it/s, loss=3.81]\n"
     ]
    },
    {
     "name": "stdout",
     "output_type": "stream",
     "text": [
      "Epoch [230/5000]: Train loss: 5.2053, Valid loss: 1.6163\n",
      "Epoch [230/5000]: Train r2_score: 0.8694, Valid r2_score: 0.9694\n",
      "Epoch [230/5000]: Train smape: 21.6711, Valid smape: 11.9663\n",
      "\n"
     ]
    },
    {
     "name": "stderr",
     "output_type": "stream",
     "text": [
      "Epoch [231/5000]: 100%|██████████████████████████████████████████████████████| 9/9 [00:00<00:00, 250.03it/s, loss=6.01]\n"
     ]
    },
    {
     "name": "stdout",
     "output_type": "stream",
     "text": [
      "Epoch [231/5000]: Train loss: 5.2886, Valid loss: 1.1986\n",
      "Epoch [231/5000]: Train r2_score: 0.8708, Valid r2_score: 0.9711\n",
      "Epoch [231/5000]: Train smape: 22.1170, Valid smape: 11.7780\n",
      "\n"
     ]
    },
    {
     "name": "stderr",
     "output_type": "stream",
     "text": [
      "Epoch [232/5000]: 100%|███████████████████████████████████████████████████████| 9/9 [00:00<00:00, 263.56it/s, loss=5.4]\n"
     ]
    },
    {
     "name": "stdout",
     "output_type": "stream",
     "text": [
      "Epoch [232/5000]: Train loss: 5.1012, Valid loss: 1.2737\n",
      "Epoch [232/5000]: Train r2_score: 0.8748, Valid r2_score: 0.9712\n",
      "Epoch [232/5000]: Train smape: 21.6973, Valid smape: 11.6866\n",
      "\n"
     ]
    },
    {
     "name": "stderr",
     "output_type": "stream",
     "text": [
      "Epoch [233/5000]: 100%|██████████████████████████████████████████████████████| 9/9 [00:00<00:00, 236.38it/s, loss=4.64]"
     ]
    },
    {
     "name": "stdout",
     "output_type": "stream",
     "text": [
      "Epoch [233/5000]: Train loss: 4.9074, Valid loss: 1.3645\n",
      "Epoch [233/5000]: Train r2_score: 0.8786, Valid r2_score: 0.9723\n",
      "Epoch [233/5000]: Train smape: 21.8279, Valid smape: 11.7060\n",
      "\n"
     ]
    },
    {
     "name": "stderr",
     "output_type": "stream",
     "text": [
      "\n",
      "Epoch [234/5000]: 100%|██████████████████████████████████████████████████████| 9/9 [00:00<00:00, 243.65it/s, loss=5.99]\n"
     ]
    },
    {
     "name": "stdout",
     "output_type": "stream",
     "text": [
      "Epoch [234/5000]: Train loss: 4.7527, Valid loss: 1.2124\n",
      "Epoch [234/5000]: Train r2_score: 0.8849, Valid r2_score: 0.9705\n",
      "Epoch [234/5000]: Train smape: 20.8649, Valid smape: 11.9799\n",
      "\n"
     ]
    },
    {
     "name": "stderr",
     "output_type": "stream",
     "text": [
      "Epoch [235/5000]: 100%|██████████████████████████████████████████████████████| 9/9 [00:00<00:00, 236.65it/s, loss=4.82]\n"
     ]
    },
    {
     "name": "stdout",
     "output_type": "stream",
     "text": [
      "Epoch [235/5000]: Train loss: 4.8350, Valid loss: 1.3909\n",
      "Epoch [235/5000]: Train r2_score: 0.8808, Valid r2_score: 0.9710\n",
      "Epoch [235/5000]: Train smape: 21.6654, Valid smape: 11.7976\n",
      "\n"
     ]
    },
    {
     "name": "stderr",
     "output_type": "stream",
     "text": [
      "Epoch [236/5000]: 100%|██████████████████████████████████████████████████████| 9/9 [00:00<00:00, 224.85it/s, loss=5.39]\n"
     ]
    },
    {
     "name": "stdout",
     "output_type": "stream",
     "text": [
      "Epoch [236/5000]: Train loss: 4.7129, Valid loss: 1.1400\n",
      "Epoch [236/5000]: Train r2_score: 0.8850, Valid r2_score: 0.9695\n",
      "Epoch [236/5000]: Train smape: 20.9367, Valid smape: 11.9854\n",
      "\n"
     ]
    },
    {
     "name": "stderr",
     "output_type": "stream",
     "text": [
      "Epoch [237/5000]: 100%|██████████████████████████████████████████████████████| 9/9 [00:00<00:00, 248.18it/s, loss=4.94]\n"
     ]
    },
    {
     "name": "stdout",
     "output_type": "stream",
     "text": [
      "Epoch [237/5000]: Train loss: 4.8915, Valid loss: 1.2843\n",
      "Epoch [237/5000]: Train r2_score: 0.8795, Valid r2_score: 0.9708\n",
      "Epoch [237/5000]: Train smape: 21.4839, Valid smape: 11.8979\n",
      "\n"
     ]
    },
    {
     "name": "stderr",
     "output_type": "stream",
     "text": [
      "Epoch [238/5000]: 100%|██████████████████████████████████████████████████████| 9/9 [00:00<00:00, 238.16it/s, loss=5.94]\n"
     ]
    },
    {
     "name": "stdout",
     "output_type": "stream",
     "text": [
      "Epoch [238/5000]: Train loss: 5.2095, Valid loss: 1.3170\n",
      "Epoch [238/5000]: Train r2_score: 0.8728, Valid r2_score: 0.9698\n",
      "Epoch [238/5000]: Train smape: 21.4263, Valid smape: 12.1290\n",
      "\n"
     ]
    },
    {
     "name": "stderr",
     "output_type": "stream",
     "text": [
      "Epoch [239/5000]: 100%|██████████████████████████████████████████████████████| 9/9 [00:00<00:00, 100.07it/s, loss=4.77]\n"
     ]
    },
    {
     "name": "stdout",
     "output_type": "stream",
     "text": [
      "Epoch [239/5000]: Train loss: 4.6920, Valid loss: 1.1884\n",
      "Epoch [239/5000]: Train r2_score: 0.8845, Valid r2_score: 0.9713\n",
      "Epoch [239/5000]: Train smape: 20.9974, Valid smape: 11.9466\n",
      "\n"
     ]
    },
    {
     "name": "stderr",
     "output_type": "stream",
     "text": [
      "Epoch [240/5000]: 100%|██████████████████████████████████████████████████████| 9/9 [00:00<00:00, 233.67it/s, loss=5.87]\n"
     ]
    },
    {
     "name": "stdout",
     "output_type": "stream",
     "text": [
      "Epoch [240/5000]: Train loss: 4.9609, Valid loss: 1.3782\n",
      "Epoch [240/5000]: Train r2_score: 0.8792, Valid r2_score: 0.9714\n",
      "Epoch [240/5000]: Train smape: 21.6515, Valid smape: 12.0547\n",
      "\n"
     ]
    },
    {
     "name": "stderr",
     "output_type": "stream",
     "text": [
      "Epoch [241/5000]: 100%|██████████████████████████████████████████████████████| 9/9 [00:00<00:00, 248.66it/s, loss=4.39]\n"
     ]
    },
    {
     "name": "stdout",
     "output_type": "stream",
     "text": [
      "Epoch [241/5000]: Train loss: 5.1218, Valid loss: 1.1826\n",
      "Epoch [241/5000]: Train r2_score: 0.8726, Valid r2_score: 0.9712\n",
      "Epoch [241/5000]: Train smape: 22.5414, Valid smape: 11.9683\n",
      "\n"
     ]
    },
    {
     "name": "stderr",
     "output_type": "stream",
     "text": [
      "Epoch [242/5000]: 100%|██████████████████████████████████████████████████████| 9/9 [00:00<00:00, 234.81it/s, loss=4.59]\n"
     ]
    },
    {
     "name": "stdout",
     "output_type": "stream",
     "text": [
      "Epoch [242/5000]: Train loss: 5.3002, Valid loss: 1.1799\n",
      "Epoch [242/5000]: Train r2_score: 0.8682, Valid r2_score: 0.9700\n",
      "Epoch [242/5000]: Train smape: 22.1850, Valid smape: 12.1441\n",
      "\n"
     ]
    },
    {
     "name": "stderr",
     "output_type": "stream",
     "text": [
      "Epoch [243/5000]: 100%|██████████████████████████████████████████████████████| 9/9 [00:00<00:00, 247.62it/s, loss=5.85]\n"
     ]
    },
    {
     "name": "stdout",
     "output_type": "stream",
     "text": [
      "Epoch [243/5000]: Train loss: 5.4785, Valid loss: 1.7473\n",
      "Epoch [243/5000]: Train r2_score: 0.8656, Valid r2_score: 0.9703\n",
      "Epoch [243/5000]: Train smape: 22.3717, Valid smape: 12.0272\n",
      "\n"
     ]
    },
    {
     "name": "stderr",
     "output_type": "stream",
     "text": [
      "Epoch [244/5000]: 100%|███████████████████████████████████████████████████████| 9/9 [00:00<00:00, 248.85it/s, loss=4.3]\n"
     ]
    },
    {
     "name": "stdout",
     "output_type": "stream",
     "text": [
      "Epoch [244/5000]: Train loss: 4.8166, Valid loss: 1.3485\n",
      "Epoch [244/5000]: Train r2_score: 0.8804, Valid r2_score: 0.9690\n",
      "Epoch [244/5000]: Train smape: 21.4666, Valid smape: 12.1583\n",
      "\n"
     ]
    },
    {
     "name": "stderr",
     "output_type": "stream",
     "text": [
      "Epoch [245/5000]: 100%|██████████████████████████████████████████████████████| 9/9 [00:00<00:00, 230.68it/s, loss=5.42]\n"
     ]
    },
    {
     "name": "stdout",
     "output_type": "stream",
     "text": [
      "Epoch [245/5000]: Train loss: 4.7622, Valid loss: 1.4629\n",
      "Epoch [245/5000]: Train r2_score: 0.8837, Valid r2_score: 0.9692\n",
      "Epoch [245/5000]: Train smape: 21.0096, Valid smape: 11.8315\n",
      "\n"
     ]
    },
    {
     "name": "stderr",
     "output_type": "stream",
     "text": [
      "Epoch [246/5000]: 100%|██████████████████████████████████████████████████████| 9/9 [00:00<00:00, 224.97it/s, loss=5.74]\n"
     ]
    },
    {
     "name": "stdout",
     "output_type": "stream",
     "text": [
      "Epoch [246/5000]: Train loss: 4.9870, Valid loss: 1.2974\n",
      "Epoch [246/5000]: Train r2_score: 0.8783, Valid r2_score: 0.9683\n",
      "Epoch [246/5000]: Train smape: 20.9895, Valid smape: 12.0598\n",
      "\n"
     ]
    },
    {
     "name": "stderr",
     "output_type": "stream",
     "text": [
      "Epoch [247/5000]: 100%|██████████████████████████████████████████████████████| 9/9 [00:00<00:00, 224.82it/s, loss=4.29]\n"
     ]
    },
    {
     "name": "stdout",
     "output_type": "stream",
     "text": [
      "Epoch [247/5000]: Train loss: 4.8207, Valid loss: 1.2886\n",
      "Epoch [247/5000]: Train r2_score: 0.8803, Valid r2_score: 0.9696\n",
      "Epoch [247/5000]: Train smape: 21.6121, Valid smape: 12.0118\n",
      "\n"
     ]
    },
    {
     "name": "stderr",
     "output_type": "stream",
     "text": [
      "Epoch [248/5000]: 100%|███████████████████████████████████████████████████████| 9/9 [00:00<00:00, 247.26it/s, loss=5.8]"
     ]
    },
    {
     "name": "stdout",
     "output_type": "stream",
     "text": [
      "Epoch [248/5000]: Train loss: 5.0115, Valid loss: 1.1304\n",
      "Epoch [248/5000]: Train r2_score: 0.8778, Valid r2_score: 0.9707\n",
      "Epoch [248/5000]: Train smape: 20.9504, Valid smape: 11.7147\n",
      "\n"
     ]
    },
    {
     "name": "stderr",
     "output_type": "stream",
     "text": [
      "\n",
      "Epoch [249/5000]: 100%|██████████████████████████████████████████████████████| 9/9 [00:00<00:00, 243.82it/s, loss=5.28]"
     ]
    },
    {
     "name": "stdout",
     "output_type": "stream",
     "text": [
      "Epoch [249/5000]: Train loss: 4.8026, Valid loss: 1.3133\n",
      "Epoch [249/5000]: Train r2_score: 0.8824, Valid r2_score: 0.9698\n",
      "Epoch [249/5000]: Train smape: 21.4068, Valid smape: 11.9125\n",
      "\n"
     ]
    },
    {
     "name": "stderr",
     "output_type": "stream",
     "text": [
      "\n",
      "Epoch [250/5000]: 100%|██████████████████████████████████████████████████████| 9/9 [00:00<00:00, 237.12it/s, loss=4.42]\n"
     ]
    },
    {
     "name": "stdout",
     "output_type": "stream",
     "text": [
      "Epoch [250/5000]: Train loss: 4.5975, Valid loss: 1.5188\n",
      "Epoch [250/5000]: Train r2_score: 0.8864, Valid r2_score: 0.9696\n",
      "Epoch [250/5000]: Train smape: 21.1931, Valid smape: 12.0016\n",
      "\n"
     ]
    },
    {
     "name": "stderr",
     "output_type": "stream",
     "text": [
      "Epoch [251/5000]: 100%|██████████████████████████████████████████████████████| 9/9 [00:00<00:00, 226.06it/s, loss=7.13]\n"
     ]
    },
    {
     "name": "stdout",
     "output_type": "stream",
     "text": [
      "Epoch [251/5000]: Train loss: 5.4658, Valid loss: 1.2014\n",
      "Epoch [251/5000]: Train r2_score: 0.8680, Valid r2_score: 0.9720\n",
      "Epoch [251/5000]: Train smape: 22.2488, Valid smape: 11.7877\n",
      "\n"
     ]
    },
    {
     "name": "stderr",
     "output_type": "stream",
     "text": [
      "Epoch [252/5000]: 100%|██████████████████████████████████████████████████████| 9/9 [00:00<00:00, 228.83it/s, loss=5.68]\n"
     ]
    },
    {
     "name": "stdout",
     "output_type": "stream",
     "text": [
      "Epoch [252/5000]: Train loss: 5.2865, Valid loss: 1.2232\n",
      "Epoch [252/5000]: Train r2_score: 0.8703, Valid r2_score: 0.9713\n",
      "Epoch [252/5000]: Train smape: 21.6108, Valid smape: 11.7329\n",
      "\n"
     ]
    },
    {
     "name": "stderr",
     "output_type": "stream",
     "text": [
      "Epoch [253/5000]: 100%|██████████████████████████████████████████████████████| 9/9 [00:00<00:00, 236.73it/s, loss=4.09]\n"
     ]
    },
    {
     "name": "stdout",
     "output_type": "stream",
     "text": [
      "Epoch [253/5000]: Train loss: 5.0868, Valid loss: 1.3127\n",
      "Epoch [253/5000]: Train r2_score: 0.8730, Valid r2_score: 0.9699\n",
      "Epoch [253/5000]: Train smape: 21.8068, Valid smape: 11.9830\n",
      "\n"
     ]
    },
    {
     "name": "stderr",
     "output_type": "stream",
     "text": [
      "Epoch [254/5000]: 100%|██████████████████████████████████████████████████████| 9/9 [00:00<00:00, 241.15it/s, loss=4.16]\n"
     ]
    },
    {
     "name": "stdout",
     "output_type": "stream",
     "text": [
      "Epoch [254/5000]: Train loss: 4.5450, Valid loss: 1.2619\n",
      "Epoch [254/5000]: Train r2_score: 0.8874, Valid r2_score: 0.9707\n",
      "Epoch [254/5000]: Train smape: 21.0969, Valid smape: 11.8980\n",
      "\n"
     ]
    },
    {
     "name": "stderr",
     "output_type": "stream",
     "text": [
      "Epoch [255/5000]: 100%|███████████████████████████████████████████████████████| 9/9 [00:00<00:00, 246.39it/s, loss=4.9]\n"
     ]
    },
    {
     "name": "stdout",
     "output_type": "stream",
     "text": [
      "Epoch [255/5000]: Train loss: 5.0248, Valid loss: 1.0666\n",
      "Epoch [255/5000]: Train r2_score: 0.8759, Valid r2_score: 0.9728\n",
      "Epoch [255/5000]: Train smape: 22.2408, Valid smape: 11.4200\n",
      "\n",
      "Saving model with loss 1.067...\n"
     ]
    },
    {
     "name": "stderr",
     "output_type": "stream",
     "text": [
      "Epoch [256/5000]: 100%|██████████████████████████████████████████████████████| 9/9 [00:00<00:00, 230.77it/s, loss=3.85]\n"
     ]
    },
    {
     "name": "stdout",
     "output_type": "stream",
     "text": [
      "Epoch [256/5000]: Train loss: 4.8193, Valid loss: 1.7816\n",
      "Epoch [256/5000]: Train r2_score: 0.8796, Valid r2_score: 0.9622\n",
      "Epoch [256/5000]: Train smape: 22.3646, Valid smape: 12.9055\n",
      "\n"
     ]
    },
    {
     "name": "stderr",
     "output_type": "stream",
     "text": [
      "Epoch [257/5000]: 100%|██████████████████████████████████████████████████████| 9/9 [00:00<00:00, 236.09it/s, loss=4.25]\n"
     ]
    },
    {
     "name": "stdout",
     "output_type": "stream",
     "text": [
      "Epoch [257/5000]: Train loss: 4.5174, Valid loss: 1.3383\n",
      "Epoch [257/5000]: Train r2_score: 0.8882, Valid r2_score: 0.9694\n",
      "Epoch [257/5000]: Train smape: 21.3904, Valid smape: 11.7605\n",
      "\n"
     ]
    },
    {
     "name": "stderr",
     "output_type": "stream",
     "text": [
      "Epoch [258/5000]: 100%|██████████████████████████████████████████████████████| 9/9 [00:00<00:00, 230.79it/s, loss=6.14]\n"
     ]
    },
    {
     "name": "stdout",
     "output_type": "stream",
     "text": [
      "Epoch [258/5000]: Train loss: 5.7428, Valid loss: 1.2765\n",
      "Epoch [258/5000]: Train r2_score: 0.8591, Valid r2_score: 0.9727\n",
      "Epoch [258/5000]: Train smape: 23.1459, Valid smape: 11.4315\n",
      "\n"
     ]
    },
    {
     "name": "stderr",
     "output_type": "stream",
     "text": [
      "Epoch [259/5000]: 100%|██████████████████████████████████████████████████████| 9/9 [00:00<00:00, 229.90it/s, loss=6.56]\n"
     ]
    },
    {
     "name": "stdout",
     "output_type": "stream",
     "text": [
      "Epoch [259/5000]: Train loss: 4.9205, Valid loss: 1.5477\n",
      "Epoch [259/5000]: Train r2_score: 0.8814, Valid r2_score: 0.9670\n",
      "Epoch [259/5000]: Train smape: 21.4356, Valid smape: 12.4475\n",
      "\n"
     ]
    },
    {
     "name": "stderr",
     "output_type": "stream",
     "text": [
      "Epoch [260/5000]: 100%|██████████████████████████████████████████████████████| 9/9 [00:00<00:00, 232.62it/s, loss=3.98]\n"
     ]
    },
    {
     "name": "stdout",
     "output_type": "stream",
     "text": [
      "Epoch [260/5000]: Train loss: 4.4791, Valid loss: 1.8562\n",
      "Epoch [260/5000]: Train r2_score: 0.8888, Valid r2_score: 0.9630\n",
      "Epoch [260/5000]: Train smape: 20.5980, Valid smape: 12.4247\n",
      "\n"
     ]
    },
    {
     "name": "stderr",
     "output_type": "stream",
     "text": [
      "Epoch [261/5000]: 100%|███████████████████████████████████████████████████████| 9/9 [00:00<00:00, 223.40it/s, loss=4.2]\n"
     ]
    },
    {
     "name": "stdout",
     "output_type": "stream",
     "text": [
      "Epoch [261/5000]: Train loss: 5.0083, Valid loss: 1.1027\n",
      "Epoch [261/5000]: Train r2_score: 0.8752, Valid r2_score: 0.9734\n",
      "Epoch [261/5000]: Train smape: 21.2213, Valid smape: 11.1462\n",
      "\n"
     ]
    },
    {
     "name": "stderr",
     "output_type": "stream",
     "text": [
      "Epoch [262/5000]: 100%|██████████████████████████████████████████████████████| 9/9 [00:00<00:00, 235.42it/s, loss=3.73]\n"
     ]
    },
    {
     "name": "stdout",
     "output_type": "stream",
     "text": [
      "Epoch [262/5000]: Train loss: 4.7829, Valid loss: 1.3083\n",
      "Epoch [262/5000]: Train r2_score: 0.8804, Valid r2_score: 0.9707\n",
      "Epoch [262/5000]: Train smape: 21.1260, Valid smape: 11.6322\n",
      "\n"
     ]
    },
    {
     "name": "stderr",
     "output_type": "stream",
     "text": [
      "Epoch [263/5000]: 100%|██████████████████████████████████████████████████████| 9/9 [00:00<00:00, 235.61it/s, loss=6.13]\n"
     ]
    },
    {
     "name": "stdout",
     "output_type": "stream",
     "text": [
      "Epoch [263/5000]: Train loss: 4.9633, Valid loss: 0.9809\n",
      "Epoch [263/5000]: Train r2_score: 0.8796, Valid r2_score: 0.9733\n",
      "Epoch [263/5000]: Train smape: 21.6223, Valid smape: 11.4367\n",
      "\n",
      "Saving model with loss 0.981...\n"
     ]
    },
    {
     "name": "stderr",
     "output_type": "stream",
     "text": [
      "Epoch [264/5000]: 100%|██████████████████████████████████████████████████████| 9/9 [00:00<00:00, 233.75it/s, loss=6.76]\n"
     ]
    },
    {
     "name": "stdout",
     "output_type": "stream",
     "text": [
      "Epoch [264/5000]: Train loss: 5.0004, Valid loss: 1.4265\n",
      "Epoch [264/5000]: Train r2_score: 0.8796, Valid r2_score: 0.9691\n",
      "Epoch [264/5000]: Train smape: 21.3496, Valid smape: 11.7802\n",
      "\n"
     ]
    },
    {
     "name": "stderr",
     "output_type": "stream",
     "text": [
      "Epoch [265/5000]: 100%|██████████████████████████████████████████████████████| 9/9 [00:00<00:00, 243.90it/s, loss=4.93]\n"
     ]
    },
    {
     "name": "stdout",
     "output_type": "stream",
     "text": [
      "Epoch [265/5000]: Train loss: 4.9026, Valid loss: 1.0722\n",
      "Epoch [265/5000]: Train r2_score: 0.8792, Valid r2_score: 0.9730\n",
      "Epoch [265/5000]: Train smape: 21.5727, Valid smape: 11.6281\n",
      "\n"
     ]
    },
    {
     "name": "stderr",
     "output_type": "stream",
     "text": [
      "Epoch [266/5000]: 100%|██████████████████████████████████████████████████████| 9/9 [00:00<00:00, 236.86it/s, loss=4.59]\n"
     ]
    },
    {
     "name": "stdout",
     "output_type": "stream",
     "text": [
      "Epoch [266/5000]: Train loss: 4.7672, Valid loss: 1.3620\n",
      "Epoch [266/5000]: Train r2_score: 0.8822, Valid r2_score: 0.9681\n",
      "Epoch [266/5000]: Train smape: 21.8013, Valid smape: 12.4905\n",
      "\n"
     ]
    },
    {
     "name": "stderr",
     "output_type": "stream",
     "text": [
      "Epoch [267/5000]: 100%|██████████████████████████████████████████████████████| 9/9 [00:00<00:00, 241.04it/s, loss=3.71]\n"
     ]
    },
    {
     "name": "stdout",
     "output_type": "stream",
     "text": [
      "Epoch [267/5000]: Train loss: 4.3924, Valid loss: 1.9739\n",
      "Epoch [267/5000]: Train r2_score: 0.8906, Valid r2_score: 0.9525\n",
      "Epoch [267/5000]: Train smape: 20.7931, Valid smape: 13.4160\n",
      "\n"
     ]
    },
    {
     "name": "stderr",
     "output_type": "stream",
     "text": [
      "Epoch [268/5000]: 100%|██████████████████████████████████████████████████████| 9/9 [00:00<00:00, 237.50it/s, loss=4.16]\n"
     ]
    },
    {
     "name": "stdout",
     "output_type": "stream",
     "text": [
      "Epoch [268/5000]: Train loss: 4.7970, Valid loss: 1.0696\n",
      "Epoch [268/5000]: Train r2_score: 0.8807, Valid r2_score: 0.9722\n",
      "Epoch [268/5000]: Train smape: 20.9264, Valid smape: 11.1484\n",
      "\n"
     ]
    },
    {
     "name": "stderr",
     "output_type": "stream",
     "text": [
      "Epoch [269/5000]: 100%|██████████████████████████████████████████████████████| 9/9 [00:00<00:00, 232.53it/s, loss=5.31]\n"
     ]
    },
    {
     "name": "stdout",
     "output_type": "stream",
     "text": [
      "Epoch [269/5000]: Train loss: 4.9229, Valid loss: 1.1020\n",
      "Epoch [269/5000]: Train r2_score: 0.8793, Valid r2_score: 0.9719\n",
      "Epoch [269/5000]: Train smape: 22.4201, Valid smape: 11.6487\n",
      "\n"
     ]
    },
    {
     "name": "stderr",
     "output_type": "stream",
     "text": [
      "Epoch [270/5000]: 100%|██████████████████████████████████████████████████████| 9/9 [00:00<00:00, 244.54it/s, loss=3.59]"
     ]
    },
    {
     "name": "stdout",
     "output_type": "stream",
     "text": [
      "Epoch [270/5000]: Train loss: 4.6374, Valid loss: 2.2813\n",
      "Epoch [270/5000]: Train r2_score: 0.8840, Valid r2_score: 0.9495\n",
      "Epoch [270/5000]: Train smape: 20.8565, Valid smape: 13.2306\n",
      "\n"
     ]
    },
    {
     "name": "stderr",
     "output_type": "stream",
     "text": [
      "\n",
      "Epoch [271/5000]: 100%|██████████████████████████████████████████████████████| 9/9 [00:00<00:00, 239.84it/s, loss=4.27]\n"
     ]
    },
    {
     "name": "stdout",
     "output_type": "stream",
     "text": [
      "Epoch [271/5000]: Train loss: 4.8447, Valid loss: 1.1594\n",
      "Epoch [271/5000]: Train r2_score: 0.8796, Valid r2_score: 0.9719\n",
      "Epoch [271/5000]: Train smape: 20.9019, Valid smape: 11.1713\n",
      "\n"
     ]
    },
    {
     "name": "stderr",
     "output_type": "stream",
     "text": [
      "Epoch [272/5000]: 100%|██████████████████████████████████████████████████████| 9/9 [00:00<00:00, 224.92it/s, loss=3.91]\n"
     ]
    },
    {
     "name": "stdout",
     "output_type": "stream",
     "text": [
      "Epoch [272/5000]: Train loss: 4.4540, Valid loss: 1.0866\n",
      "Epoch [272/5000]: Train r2_score: 0.8893, Valid r2_score: 0.9721\n",
      "Epoch [272/5000]: Train smape: 20.4415, Valid smape: 11.4954\n",
      "\n"
     ]
    },
    {
     "name": "stderr",
     "output_type": "stream",
     "text": [
      "Epoch [273/5000]: 100%|██████████████████████████████████████████████████████| 9/9 [00:00<00:00, 230.91it/s, loss=5.28]"
     ]
    },
    {
     "name": "stdout",
     "output_type": "stream",
     "text": [
      "Epoch [273/5000]: Train loss: 4.7001, Valid loss: 1.5086\n",
      "Epoch [273/5000]: Train r2_score: 0.8851, Valid r2_score: 0.9715\n",
      "Epoch [273/5000]: Train smape: 21.2218, Valid smape: 11.5093\n",
      "\n"
     ]
    },
    {
     "name": "stderr",
     "output_type": "stream",
     "text": [
      "\n",
      "Epoch [274/5000]: 100%|██████████████████████████████████████████████████████| 9/9 [00:00<00:00, 230.69it/s, loss=6.92]\n"
     ]
    },
    {
     "name": "stdout",
     "output_type": "stream",
     "text": [
      "Epoch [274/5000]: Train loss: 5.3902, Valid loss: 1.6903\n",
      "Epoch [274/5000]: Train r2_score: 0.8697, Valid r2_score: 0.9676\n",
      "Epoch [274/5000]: Train smape: 21.8754, Valid smape: 11.7644\n",
      "\n"
     ]
    },
    {
     "name": "stderr",
     "output_type": "stream",
     "text": [
      "Epoch [275/5000]: 100%|██████████████████████████████████████████████████████| 9/9 [00:00<00:00, 232.22it/s, loss=8.13]\n"
     ]
    },
    {
     "name": "stdout",
     "output_type": "stream",
     "text": [
      "Epoch [275/5000]: Train loss: 5.0452, Valid loss: 1.5586\n",
      "Epoch [275/5000]: Train r2_score: 0.8807, Valid r2_score: 0.9707\n",
      "Epoch [275/5000]: Train smape: 20.8805, Valid smape: 11.2211\n",
      "\n"
     ]
    },
    {
     "name": "stderr",
     "output_type": "stream",
     "text": [
      "Epoch [276/5000]: 100%|██████████████████████████████████████████████████████| 9/9 [00:00<00:00, 235.88it/s, loss=6.51]\n"
     ]
    },
    {
     "name": "stdout",
     "output_type": "stream",
     "text": [
      "Epoch [276/5000]: Train loss: 4.7582, Valid loss: 1.0558\n",
      "Epoch [276/5000]: Train r2_score: 0.8856, Valid r2_score: 0.9723\n",
      "Epoch [276/5000]: Train smape: 20.8099, Valid smape: 11.7968\n",
      "\n"
     ]
    },
    {
     "name": "stderr",
     "output_type": "stream",
     "text": [
      "Epoch [277/5000]: 100%|██████████████████████████████████████████████████████| 9/9 [00:00<00:00, 238.12it/s, loss=4.98]\n"
     ]
    },
    {
     "name": "stdout",
     "output_type": "stream",
     "text": [
      "Epoch [277/5000]: Train loss: 4.8154, Valid loss: 1.5298\n",
      "Epoch [277/5000]: Train r2_score: 0.8816, Valid r2_score: 0.9634\n",
      "Epoch [277/5000]: Train smape: 20.6996, Valid smape: 12.3929\n",
      "\n"
     ]
    },
    {
     "name": "stderr",
     "output_type": "stream",
     "text": [
      "Epoch [278/5000]: 100%|██████████████████████████████████████████████████████| 9/9 [00:00<00:00, 215.18it/s, loss=3.93]\n"
     ]
    },
    {
     "name": "stdout",
     "output_type": "stream",
     "text": [
      "Epoch [278/5000]: Train loss: 4.4276, Valid loss: 1.1380\n",
      "Epoch [278/5000]: Train r2_score: 0.8901, Valid r2_score: 0.9735\n",
      "Epoch [278/5000]: Train smape: 20.1792, Valid smape: 11.1439\n",
      "\n"
     ]
    },
    {
     "name": "stderr",
     "output_type": "stream",
     "text": [
      "Epoch [279/5000]: 100%|██████████████████████████████████████████████████████| 9/9 [00:00<00:00, 231.97it/s, loss=4.35]\n"
     ]
    },
    {
     "name": "stdout",
     "output_type": "stream",
     "text": [
      "Epoch [279/5000]: Train loss: 4.5933, Valid loss: 1.6337\n",
      "Epoch [279/5000]: Train r2_score: 0.8864, Valid r2_score: 0.9608\n",
      "Epoch [279/5000]: Train smape: 20.3215, Valid smape: 12.2956\n",
      "\n"
     ]
    },
    {
     "name": "stderr",
     "output_type": "stream",
     "text": [
      "Epoch [280/5000]: 100%|██████████████████████████████████████████████████████| 9/9 [00:00<00:00, 232.69it/s, loss=4.35]\n"
     ]
    },
    {
     "name": "stdout",
     "output_type": "stream",
     "text": [
      "Epoch [280/5000]: Train loss: 4.4543, Valid loss: 1.3771\n",
      "Epoch [280/5000]: Train r2_score: 0.8900, Valid r2_score: 0.9738\n",
      "Epoch [280/5000]: Train smape: 19.7667, Valid smape: 10.9939\n",
      "\n"
     ]
    },
    {
     "name": "stderr",
     "output_type": "stream",
     "text": [
      "Epoch [281/5000]: 100%|███████████████████████████████████████████████████████| 9/9 [00:00<00:00, 221.14it/s, loss=5.5]\n"
     ]
    },
    {
     "name": "stdout",
     "output_type": "stream",
     "text": [
      "Epoch [281/5000]: Train loss: 4.9747, Valid loss: 1.4224\n",
      "Epoch [281/5000]: Train r2_score: 0.8783, Valid r2_score: 0.9669\n",
      "Epoch [281/5000]: Train smape: 20.4551, Valid smape: 12.3813\n",
      "\n"
     ]
    },
    {
     "name": "stderr",
     "output_type": "stream",
     "text": [
      "Epoch [282/5000]: 100%|██████████████████████████████████████████████████████| 9/9 [00:00<00:00, 222.48it/s, loss=6.04]\n"
     ]
    },
    {
     "name": "stdout",
     "output_type": "stream",
     "text": [
      "Epoch [282/5000]: Train loss: 4.9355, Valid loss: 1.4722\n",
      "Epoch [282/5000]: Train r2_score: 0.8802, Valid r2_score: 0.9652\n",
      "Epoch [282/5000]: Train smape: 20.4241, Valid smape: 12.2128\n",
      "\n"
     ]
    },
    {
     "name": "stderr",
     "output_type": "stream",
     "text": [
      "Epoch [283/5000]: 100%|██████████████████████████████████████████████████████| 9/9 [00:00<00:00, 219.33it/s, loss=4.16]\n"
     ]
    },
    {
     "name": "stdout",
     "output_type": "stream",
     "text": [
      "Epoch [283/5000]: Train loss: 4.5509, Valid loss: 1.2686\n",
      "Epoch [283/5000]: Train r2_score: 0.8872, Valid r2_score: 0.9731\n",
      "Epoch [283/5000]: Train smape: 20.5066, Valid smape: 11.3641\n",
      "\n"
     ]
    },
    {
     "name": "stderr",
     "output_type": "stream",
     "text": [
      "Epoch [284/5000]: 100%|███████████████████████████████████████████████████████| 9/9 [00:00<00:00, 217.95it/s, loss=4.3]\n"
     ]
    },
    {
     "name": "stdout",
     "output_type": "stream",
     "text": [
      "Epoch [284/5000]: Train loss: 4.5510, Valid loss: 2.0611\n",
      "Epoch [284/5000]: Train r2_score: 0.8874, Valid r2_score: 0.9591\n",
      "Epoch [284/5000]: Train smape: 20.5137, Valid smape: 12.9011\n",
      "\n"
     ]
    },
    {
     "name": "stderr",
     "output_type": "stream",
     "text": [
      "Epoch [285/5000]: 100%|██████████████████████████████████████████████████████| 9/9 [00:00<00:00, 231.63it/s, loss=4.57]\n"
     ]
    },
    {
     "name": "stdout",
     "output_type": "stream",
     "text": [
      "Epoch [285/5000]: Train loss: 4.5743, Valid loss: 1.2445\n",
      "Epoch [285/5000]: Train r2_score: 0.8873, Valid r2_score: 0.9705\n",
      "Epoch [285/5000]: Train smape: 20.3306, Valid smape: 11.1890\n",
      "\n"
     ]
    },
    {
     "name": "stderr",
     "output_type": "stream",
     "text": [
      "Epoch [286/5000]: 100%|██████████████████████████████████████████████████████| 9/9 [00:00<00:00, 230.70it/s, loss=4.73]\n"
     ]
    },
    {
     "name": "stdout",
     "output_type": "stream",
     "text": [
      "Epoch [286/5000]: Train loss: 5.0166, Valid loss: 1.1670\n",
      "Epoch [286/5000]: Train r2_score: 0.8759, Valid r2_score: 0.9725\n",
      "Epoch [286/5000]: Train smape: 21.0555, Valid smape: 10.9495\n",
      "\n"
     ]
    },
    {
     "name": "stderr",
     "output_type": "stream",
     "text": [
      "Epoch [287/5000]: 100%|██████████████████████████████████████████████████████| 9/9 [00:00<00:00, 230.06it/s, loss=4.24]\n"
     ]
    },
    {
     "name": "stdout",
     "output_type": "stream",
     "text": [
      "Epoch [287/5000]: Train loss: 4.4971, Valid loss: 1.0437\n",
      "Epoch [287/5000]: Train r2_score: 0.8887, Valid r2_score: 0.9731\n",
      "Epoch [287/5000]: Train smape: 20.5648, Valid smape: 11.1942\n",
      "\n"
     ]
    },
    {
     "name": "stderr",
     "output_type": "stream",
     "text": [
      "Epoch [288/5000]: 100%|██████████████████████████████████████████████████████| 9/9 [00:00<00:00, 242.92it/s, loss=4.24]\n"
     ]
    },
    {
     "name": "stdout",
     "output_type": "stream",
     "text": [
      "Epoch [288/5000]: Train loss: 4.6021, Valid loss: 1.3852\n",
      "Epoch [288/5000]: Train r2_score: 0.8860, Valid r2_score: 0.9740\n",
      "Epoch [288/5000]: Train smape: 21.2458, Valid smape: 11.1015\n",
      "\n"
     ]
    },
    {
     "name": "stderr",
     "output_type": "stream",
     "text": [
      "Epoch [289/5000]: 100%|██████████████████████████████████████████████████████| 9/9 [00:00<00:00, 230.62it/s, loss=4.66]\n"
     ]
    },
    {
     "name": "stdout",
     "output_type": "stream",
     "text": [
      "Epoch [289/5000]: Train loss: 4.7701, Valid loss: 1.2928\n",
      "Epoch [289/5000]: Train r2_score: 0.8823, Valid r2_score: 0.9682\n",
      "Epoch [289/5000]: Train smape: 20.3629, Valid smape: 11.6804\n",
      "\n"
     ]
    },
    {
     "name": "stderr",
     "output_type": "stream",
     "text": [
      "Epoch [290/5000]: 100%|██████████████████████████████████████████████████████| 9/9 [00:00<00:00, 237.60it/s, loss=4.01]\n"
     ]
    },
    {
     "name": "stdout",
     "output_type": "stream",
     "text": [
      "Epoch [290/5000]: Train loss: 4.5754, Valid loss: 1.0892\n",
      "Epoch [290/5000]: Train r2_score: 0.8863, Valid r2_score: 0.9715\n",
      "Epoch [290/5000]: Train smape: 20.1869, Valid smape: 11.2945\n",
      "\n"
     ]
    },
    {
     "name": "stderr",
     "output_type": "stream",
     "text": [
      "Epoch [291/5000]: 100%|██████████████████████████████████████████████████████| 9/9 [00:00<00:00, 230.59it/s, loss=2.98]\n"
     ]
    },
    {
     "name": "stdout",
     "output_type": "stream",
     "text": [
      "Epoch [291/5000]: Train loss: 4.6648, Valid loss: 1.6222\n",
      "Epoch [291/5000]: Train r2_score: 0.8823, Valid r2_score: 0.9658\n",
      "Epoch [291/5000]: Train smape: 21.0047, Valid smape: 12.0529\n",
      "\n"
     ]
    },
    {
     "name": "stderr",
     "output_type": "stream",
     "text": [
      "Epoch [292/5000]: 100%|██████████████████████████████████████████████████████| 9/9 [00:00<00:00, 219.62it/s, loss=5.48]\n"
     ]
    },
    {
     "name": "stdout",
     "output_type": "stream",
     "text": [
      "Epoch [292/5000]: Train loss: 4.7617, Valid loss: 1.2586\n",
      "Epoch [292/5000]: Train r2_score: 0.8838, Valid r2_score: 0.9721\n",
      "Epoch [292/5000]: Train smape: 19.8899, Valid smape: 10.9494\n",
      "\n"
     ]
    },
    {
     "name": "stderr",
     "output_type": "stream",
     "text": [
      "Epoch [293/5000]: 100%|██████████████████████████████████████████████████████| 9/9 [00:00<00:00, 205.29it/s, loss=4.14]\n"
     ]
    },
    {
     "name": "stdout",
     "output_type": "stream",
     "text": [
      "Epoch [293/5000]: Train loss: 4.3909, Valid loss: 1.1795\n",
      "Epoch [293/5000]: Train r2_score: 0.8914, Valid r2_score: 0.9736\n",
      "Epoch [293/5000]: Train smape: 19.7945, Valid smape: 10.8295\n",
      "\n"
     ]
    },
    {
     "name": "stderr",
     "output_type": "stream",
     "text": [
      "Epoch [294/5000]: 100%|██████████████████████████████████████████████████████| 9/9 [00:00<00:00, 233.69it/s, loss=3.46]\n"
     ]
    },
    {
     "name": "stdout",
     "output_type": "stream",
     "text": [
      "Epoch [294/5000]: Train loss: 4.5888, Valid loss: 1.5051\n",
      "Epoch [294/5000]: Train r2_score: 0.8851, Valid r2_score: 0.9674\n",
      "Epoch [294/5000]: Train smape: 20.0870, Valid smape: 11.6557\n",
      "\n"
     ]
    },
    {
     "name": "stderr",
     "output_type": "stream",
     "text": [
      "Epoch [295/5000]: 100%|██████████████████████████████████████████████████████| 9/9 [00:00<00:00, 229.85it/s, loss=4.35]\n"
     ]
    },
    {
     "name": "stdout",
     "output_type": "stream",
     "text": [
      "Epoch [295/5000]: Train loss: 4.6498, Valid loss: 1.3900\n",
      "Epoch [295/5000]: Train r2_score: 0.8849, Valid r2_score: 0.9643\n",
      "Epoch [295/5000]: Train smape: 20.3749, Valid smape: 11.8779\n",
      "\n"
     ]
    },
    {
     "name": "stderr",
     "output_type": "stream",
     "text": [
      "Epoch [296/5000]: 100%|██████████████████████████████████████████████████████| 9/9 [00:00<00:00, 230.50it/s, loss=6.22]\n"
     ]
    },
    {
     "name": "stdout",
     "output_type": "stream",
     "text": [
      "Epoch [296/5000]: Train loss: 4.5659, Valid loss: 1.2275\n",
      "Epoch [296/5000]: Train r2_score: 0.8902, Valid r2_score: 0.9723\n",
      "Epoch [296/5000]: Train smape: 19.6207, Valid smape: 11.0161\n",
      "\n"
     ]
    },
    {
     "name": "stderr",
     "output_type": "stream",
     "text": [
      "Epoch [297/5000]: 100%|███████████████████████████████████████████████████████| 9/9 [00:00<00:00, 231.54it/s, loss=4.6]\n"
     ]
    },
    {
     "name": "stdout",
     "output_type": "stream",
     "text": [
      "Epoch [297/5000]: Train loss: 4.2964, Valid loss: 1.1525\n",
      "Epoch [297/5000]: Train r2_score: 0.8946, Valid r2_score: 0.9731\n",
      "Epoch [297/5000]: Train smape: 19.6229, Valid smape: 10.8316\n",
      "\n"
     ]
    },
    {
     "name": "stderr",
     "output_type": "stream",
     "text": [
      "Epoch [298/5000]: 100%|██████████████████████████████████████████████████████| 9/9 [00:00<00:00, 102.00it/s, loss=4.85]\n"
     ]
    },
    {
     "name": "stdout",
     "output_type": "stream",
     "text": [
      "Epoch [298/5000]: Train loss: 4.7875, Valid loss: 1.2516\n",
      "Epoch [298/5000]: Train r2_score: 0.8821, Valid r2_score: 0.9740\n",
      "Epoch [298/5000]: Train smape: 20.2587, Valid smape: 10.9415\n",
      "\n"
     ]
    },
    {
     "name": "stderr",
     "output_type": "stream",
     "text": [
      "Epoch [299/5000]: 100%|██████████████████████████████████████████████████████| 9/9 [00:00<00:00, 209.26it/s, loss=3.77]\n"
     ]
    },
    {
     "name": "stdout",
     "output_type": "stream",
     "text": [
      "Epoch [299/5000]: Train loss: 4.1913, Valid loss: 1.2129\n",
      "Epoch [299/5000]: Train r2_score: 0.8960, Valid r2_score: 0.9696\n",
      "Epoch [299/5000]: Train smape: 19.3961, Valid smape: 11.2668\n",
      "\n"
     ]
    },
    {
     "name": "stderr",
     "output_type": "stream",
     "text": [
      "Epoch [300/5000]: 100%|██████████████████████████████████████████████████████| 9/9 [00:00<00:00, 225.64it/s, loss=5.41]\n"
     ]
    },
    {
     "name": "stdout",
     "output_type": "stream",
     "text": [
      "Epoch [300/5000]: Train loss: 4.3853, Valid loss: 1.1768\n",
      "Epoch [300/5000]: Train r2_score: 0.8936, Valid r2_score: 0.9717\n",
      "Epoch [300/5000]: Train smape: 20.0652, Valid smape: 10.9914\n",
      "\n"
     ]
    },
    {
     "name": "stderr",
     "output_type": "stream",
     "text": [
      "Epoch [301/5000]: 100%|██████████████████████████████████████████████████████| 9/9 [00:00<00:00, 220.51it/s, loss=5.12]\n"
     ]
    },
    {
     "name": "stdout",
     "output_type": "stream",
     "text": [
      "Epoch [301/5000]: Train loss: 4.7120, Valid loss: 1.2562\n",
      "Epoch [301/5000]: Train r2_score: 0.8845, Valid r2_score: 0.9742\n",
      "Epoch [301/5000]: Train smape: 20.0403, Valid smape: 10.8363\n",
      "\n"
     ]
    },
    {
     "name": "stderr",
     "output_type": "stream",
     "text": [
      "Epoch [302/5000]: 100%|██████████████████████████████████████████████████████| 9/9 [00:00<00:00, 213.30it/s, loss=3.42]\n"
     ]
    },
    {
     "name": "stdout",
     "output_type": "stream",
     "text": [
      "Epoch [302/5000]: Train loss: 4.2802, Valid loss: 1.2620\n",
      "Epoch [302/5000]: Train r2_score: 0.8931, Valid r2_score: 0.9680\n",
      "Epoch [302/5000]: Train smape: 19.9036, Valid smape: 11.3293\n",
      "\n"
     ]
    },
    {
     "name": "stderr",
     "output_type": "stream",
     "text": [
      "Epoch [303/5000]: 100%|██████████████████████████████████████████████████████| 9/9 [00:00<00:00, 224.95it/s, loss=3.49]\n"
     ]
    },
    {
     "name": "stdout",
     "output_type": "stream",
     "text": [
      "Epoch [303/5000]: Train loss: 4.3245, Valid loss: 1.2211\n",
      "Epoch [303/5000]: Train r2_score: 0.8920, Valid r2_score: 0.9736\n",
      "Epoch [303/5000]: Train smape: 19.0972, Valid smape: 11.0368\n",
      "\n"
     ]
    },
    {
     "name": "stderr",
     "output_type": "stream",
     "text": [
      "Epoch [304/5000]: 100%|██████████████████████████████████████████████████████| 9/9 [00:00<00:00, 214.18it/s, loss=4.59]\n"
     ]
    },
    {
     "name": "stdout",
     "output_type": "stream",
     "text": [
      "Epoch [304/5000]: Train loss: 3.9245, Valid loss: 2.1950\n",
      "Epoch [304/5000]: Train r2_score: 0.9044, Valid r2_score: 0.9497\n",
      "Epoch [304/5000]: Train smape: 18.7499, Valid smape: 13.9251\n",
      "\n"
     ]
    },
    {
     "name": "stderr",
     "output_type": "stream",
     "text": [
      "Epoch [305/5000]: 100%|██████████████████████████████████████████████████████| 9/9 [00:00<00:00, 225.58it/s, loss=4.56]\n"
     ]
    },
    {
     "name": "stdout",
     "output_type": "stream",
     "text": [
      "Epoch [305/5000]: Train loss: 4.5346, Valid loss: 1.5545\n",
      "Epoch [305/5000]: Train r2_score: 0.8883, Valid r2_score: 0.9734\n",
      "Epoch [305/5000]: Train smape: 19.5690, Valid smape: 10.7219\n",
      "\n"
     ]
    },
    {
     "name": "stderr",
     "output_type": "stream",
     "text": [
      "Epoch [306/5000]: 100%|██████████████████████████████████████████████████████| 9/9 [00:00<00:00, 226.17it/s, loss=4.88]\n"
     ]
    },
    {
     "name": "stdout",
     "output_type": "stream",
     "text": [
      "Epoch [306/5000]: Train loss: 4.3173, Valid loss: 1.3618\n",
      "Epoch [306/5000]: Train r2_score: 0.8945, Valid r2_score: 0.9740\n",
      "Epoch [306/5000]: Train smape: 20.0316, Valid smape: 10.7128\n",
      "\n"
     ]
    },
    {
     "name": "stderr",
     "output_type": "stream",
     "text": [
      "Epoch [307/5000]: 100%|██████████████████████████████████████████████████████| 9/9 [00:00<00:00, 222.52it/s, loss=5.91]\n"
     ]
    },
    {
     "name": "stdout",
     "output_type": "stream",
     "text": [
      "Epoch [307/5000]: Train loss: 4.9049, Valid loss: 1.3437\n",
      "Epoch [307/5000]: Train r2_score: 0.8808, Valid r2_score: 0.9701\n",
      "Epoch [307/5000]: Train smape: 20.4895, Valid smape: 11.6445\n",
      "\n"
     ]
    },
    {
     "name": "stderr",
     "output_type": "stream",
     "text": [
      "Epoch [308/5000]: 100%|██████████████████████████████████████████████████████| 9/9 [00:00<00:00, 200.00it/s, loss=2.89]\n"
     ]
    },
    {
     "name": "stdout",
     "output_type": "stream",
     "text": [
      "Epoch [308/5000]: Train loss: 4.1921, Valid loss: 1.5457\n",
      "Epoch [308/5000]: Train r2_score: 0.8945, Valid r2_score: 0.9614\n",
      "Epoch [308/5000]: Train smape: 19.6672, Valid smape: 12.0465\n",
      "\n"
     ]
    },
    {
     "name": "stderr",
     "output_type": "stream",
     "text": [
      "Epoch [309/5000]: 100%|██████████████████████████████████████████████████████| 9/9 [00:00<00:00, 224.14it/s, loss=4.23]\n"
     ]
    },
    {
     "name": "stdout",
     "output_type": "stream",
     "text": [
      "Epoch [309/5000]: Train loss: 4.3441, Valid loss: 1.2710\n",
      "Epoch [309/5000]: Train r2_score: 0.8927, Valid r2_score: 0.9729\n",
      "Epoch [309/5000]: Train smape: 19.5066, Valid smape: 10.7635\n",
      "\n"
     ]
    },
    {
     "name": "stderr",
     "output_type": "stream",
     "text": [
      "Epoch [310/5000]: 100%|██████████████████████████████████████████████████████| 9/9 [00:00<00:00, 219.70it/s, loss=4.64]\n"
     ]
    },
    {
     "name": "stdout",
     "output_type": "stream",
     "text": [
      "Epoch [310/5000]: Train loss: 4.2551, Valid loss: 1.0525\n",
      "Epoch [310/5000]: Train r2_score: 0.8957, Valid r2_score: 0.9725\n",
      "Epoch [310/5000]: Train smape: 19.2067, Valid smape: 10.9244\n",
      "\n"
     ]
    },
    {
     "name": "stderr",
     "output_type": "stream",
     "text": [
      "Epoch [311/5000]: 100%|██████████████████████████████████████████████████████| 9/9 [00:00<00:00, 224.19it/s, loss=3.57]\n"
     ]
    },
    {
     "name": "stdout",
     "output_type": "stream",
     "text": [
      "Epoch [311/5000]: Train loss: 4.4326, Valid loss: 1.2737\n",
      "Epoch [311/5000]: Train r2_score: 0.8893, Valid r2_score: 0.9713\n",
      "Epoch [311/5000]: Train smape: 19.5405, Valid smape: 11.1094\n",
      "\n"
     ]
    },
    {
     "name": "stderr",
     "output_type": "stream",
     "text": [
      "Epoch [312/5000]: 100%|██████████████████████████████████████████████████████| 9/9 [00:00<00:00, 217.83it/s, loss=4.08]\n"
     ]
    },
    {
     "name": "stdout",
     "output_type": "stream",
     "text": [
      "Epoch [312/5000]: Train loss: 4.2326, Valid loss: 1.2744\n",
      "Epoch [312/5000]: Train r2_score: 0.8954, Valid r2_score: 0.9711\n",
      "Epoch [312/5000]: Train smape: 20.1916, Valid smape: 11.4126\n",
      "\n"
     ]
    },
    {
     "name": "stderr",
     "output_type": "stream",
     "text": [
      "Epoch [313/5000]: 100%|██████████████████████████████████████████████████████| 9/9 [00:00<00:00, 218.81it/s, loss=4.88]\n"
     ]
    },
    {
     "name": "stdout",
     "output_type": "stream",
     "text": [
      "Epoch [313/5000]: Train loss: 4.2066, Valid loss: 1.1295\n",
      "Epoch [313/5000]: Train r2_score: 0.8974, Valid r2_score: 0.9721\n",
      "Epoch [313/5000]: Train smape: 19.7219, Valid smape: 11.3250\n",
      "\n"
     ]
    },
    {
     "name": "stderr",
     "output_type": "stream",
     "text": [
      "Epoch [314/5000]: 100%|██████████████████████████████████████████████████████| 9/9 [00:00<00:00, 209.99it/s, loss=4.17]\n"
     ]
    },
    {
     "name": "stdout",
     "output_type": "stream",
     "text": [
      "Epoch [314/5000]: Train loss: 4.3442, Valid loss: 1.5072\n",
      "Epoch [314/5000]: Train r2_score: 0.8926, Valid r2_score: 0.9679\n",
      "Epoch [314/5000]: Train smape: 19.8043, Valid smape: 11.3914\n",
      "\n"
     ]
    },
    {
     "name": "stderr",
     "output_type": "stream",
     "text": [
      "Epoch [315/5000]: 100%|██████████████████████████████████████████████████████| 9/9 [00:00<00:00, 229.86it/s, loss=4.23]\n"
     ]
    },
    {
     "name": "stdout",
     "output_type": "stream",
     "text": [
      "Epoch [315/5000]: Train loss: 4.3185, Valid loss: 1.1238\n",
      "Epoch [315/5000]: Train r2_score: 0.8934, Valid r2_score: 0.9737\n",
      "Epoch [315/5000]: Train smape: 19.7381, Valid smape: 10.6754\n",
      "\n"
     ]
    },
    {
     "name": "stderr",
     "output_type": "stream",
     "text": [
      "Epoch [316/5000]: 100%|██████████████████████████████████████████████████████| 9/9 [00:00<00:00, 223.12it/s, loss=3.45]\n"
     ]
    },
    {
     "name": "stdout",
     "output_type": "stream",
     "text": [
      "Epoch [316/5000]: Train loss: 4.2936, Valid loss: 1.1956\n",
      "Epoch [316/5000]: Train r2_score: 0.8928, Valid r2_score: 0.9712\n",
      "Epoch [316/5000]: Train smape: 20.1535, Valid smape: 11.0237\n",
      "\n"
     ]
    },
    {
     "name": "stderr",
     "output_type": "stream",
     "text": [
      "Epoch [317/5000]: 100%|██████████████████████████████████████████████████████| 9/9 [00:00<00:00, 218.90it/s, loss=3.96]\n"
     ]
    },
    {
     "name": "stdout",
     "output_type": "stream",
     "text": [
      "Epoch [317/5000]: Train loss: 4.0588, Valid loss: 1.0569\n",
      "Epoch [317/5000]: Train r2_score: 0.8998, Valid r2_score: 0.9738\n",
      "Epoch [317/5000]: Train smape: 19.4044, Valid smape: 10.5604\n",
      "\n"
     ]
    },
    {
     "name": "stderr",
     "output_type": "stream",
     "text": [
      "Epoch [318/5000]: 100%|██████████████████████████████████████████████████████| 9/9 [00:00<00:00, 223.67it/s, loss=3.62]\n"
     ]
    },
    {
     "name": "stdout",
     "output_type": "stream",
     "text": [
      "Epoch [318/5000]: Train loss: 4.2286, Valid loss: 1.4128\n",
      "Epoch [318/5000]: Train r2_score: 0.8948, Valid r2_score: 0.9713\n",
      "Epoch [318/5000]: Train smape: 19.0187, Valid smape: 10.8461\n",
      "\n"
     ]
    },
    {
     "name": "stderr",
     "output_type": "stream",
     "text": [
      "Epoch [319/5000]: 100%|██████████████████████████████████████████████████████| 9/9 [00:00<00:00, 219.47it/s, loss=6.06]\n"
     ]
    },
    {
     "name": "stdout",
     "output_type": "stream",
     "text": [
      "Epoch [319/5000]: Train loss: 4.7525, Valid loss: 1.5815\n",
      "Epoch [319/5000]: Train r2_score: 0.8850, Valid r2_score: 0.9697\n",
      "Epoch [319/5000]: Train smape: 19.7237, Valid smape: 11.4859\n",
      "\n"
     ]
    },
    {
     "name": "stderr",
     "output_type": "stream",
     "text": [
      "Epoch [320/5000]: 100%|██████████████████████████████████████████████████████| 9/9 [00:00<00:00, 217.17it/s, loss=5.03]\n"
     ]
    },
    {
     "name": "stdout",
     "output_type": "stream",
     "text": [
      "Epoch [320/5000]: Train loss: 4.3863, Valid loss: 1.5251\n",
      "Epoch [320/5000]: Train r2_score: 0.8929, Valid r2_score: 0.9645\n",
      "Epoch [320/5000]: Train smape: 19.3189, Valid smape: 12.0119\n",
      "\n"
     ]
    },
    {
     "name": "stderr",
     "output_type": "stream",
     "text": [
      "Epoch [321/5000]: 100%|██████████████████████████████████████████████████████| 9/9 [00:00<00:00, 207.72it/s, loss=3.62]\n"
     ]
    },
    {
     "name": "stdout",
     "output_type": "stream",
     "text": [
      "Epoch [321/5000]: Train loss: 4.2792, Valid loss: 1.1536\n",
      "Epoch [321/5000]: Train r2_score: 0.8934, Valid r2_score: 0.9715\n",
      "Epoch [321/5000]: Train smape: 19.2950, Valid smape: 11.0232\n",
      "\n"
     ]
    },
    {
     "name": "stderr",
     "output_type": "stream",
     "text": [
      "Epoch [322/5000]: 100%|██████████████████████████████████████████████████████| 9/9 [00:00<00:00, 204.25it/s, loss=4.46]\n"
     ]
    },
    {
     "name": "stdout",
     "output_type": "stream",
     "text": [
      "Epoch [322/5000]: Train loss: 4.0382, Valid loss: 1.6721\n",
      "Epoch [322/5000]: Train r2_score: 0.9012, Valid r2_score: 0.9729\n",
      "Epoch [322/5000]: Train smape: 18.7757, Valid smape: 10.6684\n",
      "\n"
     ]
    },
    {
     "name": "stderr",
     "output_type": "stream",
     "text": [
      "Epoch [323/5000]: 100%|██████████████████████████████████████████████████████| 9/9 [00:00<00:00, 197.21it/s, loss=5.41]\n"
     ]
    },
    {
     "name": "stdout",
     "output_type": "stream",
     "text": [
      "Epoch [323/5000]: Train loss: 4.5129, Valid loss: 1.1172\n",
      "Epoch [323/5000]: Train r2_score: 0.8902, Valid r2_score: 0.9734\n",
      "Epoch [323/5000]: Train smape: 19.3874, Valid smape: 10.7142\n",
      "\n"
     ]
    },
    {
     "name": "stderr",
     "output_type": "stream",
     "text": [
      "Epoch [324/5000]: 100%|██████████████████████████████████████████████████████| 9/9 [00:00<00:00, 205.61it/s, loss=3.84]\n"
     ]
    },
    {
     "name": "stdout",
     "output_type": "stream",
     "text": [
      "Epoch [324/5000]: Train loss: 4.1775, Valid loss: 1.1174\n",
      "Epoch [324/5000]: Train r2_score: 0.8965, Valid r2_score: 0.9704\n",
      "Epoch [324/5000]: Train smape: 19.0135, Valid smape: 10.9398\n",
      "\n"
     ]
    },
    {
     "name": "stderr",
     "output_type": "stream",
     "text": [
      "Epoch [325/5000]: 100%|██████████████████████████████████████████████████████| 9/9 [00:00<00:00, 209.13it/s, loss=3.54]\n"
     ]
    },
    {
     "name": "stdout",
     "output_type": "stream",
     "text": [
      "Epoch [325/5000]: Train loss: 4.2229, Valid loss: 1.1812\n",
      "Epoch [325/5000]: Train r2_score: 0.8948, Valid r2_score: 0.9709\n",
      "Epoch [325/5000]: Train smape: 19.1425, Valid smape: 10.7484\n",
      "\n"
     ]
    },
    {
     "name": "stderr",
     "output_type": "stream",
     "text": [
      "Epoch [326/5000]: 100%|██████████████████████████████████████████████████████| 9/9 [00:00<00:00, 206.15it/s, loss=4.64]\n"
     ]
    },
    {
     "name": "stdout",
     "output_type": "stream",
     "text": [
      "Epoch [326/5000]: Train loss: 4.2082, Valid loss: 1.1426\n",
      "Epoch [326/5000]: Train r2_score: 0.8970, Valid r2_score: 0.9727\n",
      "Epoch [326/5000]: Train smape: 19.0896, Valid smape: 10.5368\n",
      "\n"
     ]
    },
    {
     "name": "stderr",
     "output_type": "stream",
     "text": [
      "Epoch [327/5000]: 100%|██████████████████████████████████████████████████████| 9/9 [00:00<00:00, 192.54it/s, loss=3.69]\n"
     ]
    },
    {
     "name": "stdout",
     "output_type": "stream",
     "text": [
      "Epoch [327/5000]: Train loss: 3.9458, Valid loss: 1.1500\n",
      "Epoch [327/5000]: Train r2_score: 0.9023, Valid r2_score: 0.9737\n",
      "Epoch [327/5000]: Train smape: 18.7024, Valid smape: 10.5862\n",
      "\n"
     ]
    },
    {
     "name": "stderr",
     "output_type": "stream",
     "text": [
      "Epoch [328/5000]: 100%|██████████████████████████████████████████████████████| 9/9 [00:00<00:00, 198.09it/s, loss=3.37]\n"
     ]
    },
    {
     "name": "stdout",
     "output_type": "stream",
     "text": [
      "Epoch [328/5000]: Train loss: 4.0649, Valid loss: 1.2614\n",
      "Epoch [328/5000]: Train r2_score: 0.8987, Valid r2_score: 0.9738\n",
      "Epoch [328/5000]: Train smape: 19.1667, Valid smape: 10.7207\n",
      "\n"
     ]
    },
    {
     "name": "stderr",
     "output_type": "stream",
     "text": [
      "Epoch [329/5000]: 100%|██████████████████████████████████████████████████████| 9/9 [00:00<00:00, 224.67it/s, loss=3.57]\n"
     ]
    },
    {
     "name": "stdout",
     "output_type": "stream",
     "text": [
      "Epoch [329/5000]: Train loss: 3.8962, Valid loss: 1.2766\n",
      "Epoch [329/5000]: Train r2_score: 0.9034, Valid r2_score: 0.9691\n",
      "Epoch [329/5000]: Train smape: 18.4345, Valid smape: 11.1839\n",
      "\n"
     ]
    },
    {
     "name": "stderr",
     "output_type": "stream",
     "text": [
      "Epoch [330/5000]: 100%|██████████████████████████████████████████████████████| 9/9 [00:00<00:00, 231.55it/s, loss=4.34]\n"
     ]
    },
    {
     "name": "stdout",
     "output_type": "stream",
     "text": [
      "Epoch [330/5000]: Train loss: 4.2089, Valid loss: 1.0793\n",
      "Epoch [330/5000]: Train r2_score: 0.8965, Valid r2_score: 0.9726\n",
      "Epoch [330/5000]: Train smape: 19.0544, Valid smape: 10.6324\n",
      "\n"
     ]
    },
    {
     "name": "stderr",
     "output_type": "stream",
     "text": [
      "Epoch [331/5000]: 100%|██████████████████████████████████████████████████████| 9/9 [00:00<00:00, 235.15it/s, loss=5.17]\n"
     ]
    },
    {
     "name": "stdout",
     "output_type": "stream",
     "text": [
      "Epoch [331/5000]: Train loss: 4.4093, Valid loss: 1.6484\n",
      "Epoch [331/5000]: Train r2_score: 0.8926, Valid r2_score: 0.9554\n",
      "Epoch [331/5000]: Train smape: 19.3411, Valid smape: 12.6388\n",
      "\n"
     ]
    },
    {
     "name": "stderr",
     "output_type": "stream",
     "text": [
      "Epoch [332/5000]: 100%|██████████████████████████████████████████████████████| 9/9 [00:00<00:00, 214.84it/s, loss=4.88]\n"
     ]
    },
    {
     "name": "stdout",
     "output_type": "stream",
     "text": [
      "Epoch [332/5000]: Train loss: 4.4585, Valid loss: 1.1528\n",
      "Epoch [332/5000]: Train r2_score: 0.8908, Valid r2_score: 0.9744\n",
      "Epoch [332/5000]: Train smape: 18.8884, Valid smape: 10.4549\n",
      "\n"
     ]
    },
    {
     "name": "stderr",
     "output_type": "stream",
     "text": [
      "Epoch [333/5000]: 100%|██████████████████████████████████████████████████████| 9/9 [00:00<00:00, 215.24it/s, loss=5.82]\n"
     ]
    },
    {
     "name": "stdout",
     "output_type": "stream",
     "text": [
      "Epoch [333/5000]: Train loss: 4.0508, Valid loss: 1.1696\n",
      "Epoch [333/5000]: Train r2_score: 0.9031, Valid r2_score: 0.9733\n",
      "Epoch [333/5000]: Train smape: 19.1423, Valid smape: 10.6233\n",
      "\n"
     ]
    },
    {
     "name": "stderr",
     "output_type": "stream",
     "text": [
      "Epoch [334/5000]: 100%|██████████████████████████████████████████████████████| 9/9 [00:00<00:00, 227.31it/s, loss=4.59]\n"
     ]
    },
    {
     "name": "stdout",
     "output_type": "stream",
     "text": [
      "Epoch [334/5000]: Train loss: 4.1289, Valid loss: 1.2790\n",
      "Epoch [334/5000]: Train r2_score: 0.8990, Valid r2_score: 0.9700\n",
      "Epoch [334/5000]: Train smape: 18.5336, Valid smape: 10.9001\n",
      "\n"
     ]
    },
    {
     "name": "stderr",
     "output_type": "stream",
     "text": [
      "Epoch [335/5000]: 100%|██████████████████████████████████████████████████████| 9/9 [00:00<00:00, 231.04it/s, loss=3.67]\n"
     ]
    },
    {
     "name": "stdout",
     "output_type": "stream",
     "text": [
      "Epoch [335/5000]: Train loss: 4.0926, Valid loss: 1.2731\n",
      "Epoch [335/5000]: Train r2_score: 0.8984, Valid r2_score: 0.9729\n",
      "Epoch [335/5000]: Train smape: 18.8910, Valid smape: 10.6465\n",
      "\n"
     ]
    },
    {
     "name": "stderr",
     "output_type": "stream",
     "text": [
      "Epoch [336/5000]: 100%|███████████████████████████████████████████████████████| 9/9 [00:00<00:00, 225.40it/s, loss=4.2]\n"
     ]
    },
    {
     "name": "stdout",
     "output_type": "stream",
     "text": [
      "Epoch [336/5000]: Train loss: 4.2725, Valid loss: 0.9887\n",
      "Epoch [336/5000]: Train r2_score: 0.8946, Valid r2_score: 0.9736\n",
      "Epoch [336/5000]: Train smape: 19.6976, Valid smape: 10.8681\n",
      "\n"
     ]
    },
    {
     "name": "stderr",
     "output_type": "stream",
     "text": [
      "Epoch [337/5000]: 100%|███████████████████████████████████████████████████████| 9/9 [00:00<00:00, 226.01it/s, loss=5.4]\n"
     ]
    },
    {
     "name": "stdout",
     "output_type": "stream",
     "text": [
      "Epoch [337/5000]: Train loss: 4.4117, Valid loss: 1.4711\n",
      "Epoch [337/5000]: Train r2_score: 0.8929, Valid r2_score: 0.9616\n",
      "Epoch [337/5000]: Train smape: 18.8633, Valid smape: 11.7350\n",
      "\n"
     ]
    },
    {
     "name": "stderr",
     "output_type": "stream",
     "text": [
      "Epoch [338/5000]: 100%|██████████████████████████████████████████████████████| 9/9 [00:00<00:00, 231.40it/s, loss=4.58]\n"
     ]
    },
    {
     "name": "stdout",
     "output_type": "stream",
     "text": [
      "Epoch [338/5000]: Train loss: 4.1981, Valid loss: 1.2882\n",
      "Epoch [338/5000]: Train r2_score: 0.8972, Valid r2_score: 0.9740\n",
      "Epoch [338/5000]: Train smape: 18.7640, Valid smape: 10.5314\n",
      "\n"
     ]
    },
    {
     "name": "stderr",
     "output_type": "stream",
     "text": [
      "Epoch [339/5000]: 100%|██████████████████████████████████████████████████████| 9/9 [00:00<00:00, 224.94it/s, loss=4.37]\n"
     ]
    },
    {
     "name": "stdout",
     "output_type": "stream",
     "text": [
      "Epoch [339/5000]: Train loss: 3.9665, Valid loss: 1.2909\n",
      "Epoch [339/5000]: Train r2_score: 0.9029, Valid r2_score: 0.9719\n",
      "Epoch [339/5000]: Train smape: 18.9066, Valid smape: 10.7618\n",
      "\n"
     ]
    },
    {
     "name": "stderr",
     "output_type": "stream",
     "text": [
      "Epoch [340/5000]: 100%|███████████████████████████████████████████████████████| 9/9 [00:00<00:00, 234.38it/s, loss=5.4]\n"
     ]
    },
    {
     "name": "stdout",
     "output_type": "stream",
     "text": [
      "Epoch [340/5000]: Train loss: 4.1447, Valid loss: 1.0558\n",
      "Epoch [340/5000]: Train r2_score: 0.8999, Valid r2_score: 0.9718\n",
      "Epoch [340/5000]: Train smape: 18.7011, Valid smape: 10.7532\n",
      "\n"
     ]
    },
    {
     "name": "stderr",
     "output_type": "stream",
     "text": [
      "Epoch [341/5000]: 100%|██████████████████████████████████████████████████████| 9/9 [00:00<00:00, 221.20it/s, loss=4.48]\n"
     ]
    },
    {
     "name": "stdout",
     "output_type": "stream",
     "text": [
      "Epoch [341/5000]: Train loss: 4.1910, Valid loss: 1.1141\n",
      "Epoch [341/5000]: Train r2_score: 0.8972, Valid r2_score: 0.9745\n",
      "Epoch [341/5000]: Train smape: 19.1115, Valid smape: 10.5749\n",
      "\n"
     ]
    },
    {
     "name": "stderr",
     "output_type": "stream",
     "text": [
      "Epoch [342/5000]: 100%|██████████████████████████████████████████████████████| 9/9 [00:00<00:00, 223.64it/s, loss=4.69]\n"
     ]
    },
    {
     "name": "stdout",
     "output_type": "stream",
     "text": [
      "Epoch [342/5000]: Train loss: 4.0583, Valid loss: 1.6189\n",
      "Epoch [342/5000]: Train r2_score: 0.9010, Valid r2_score: 0.9603\n",
      "Epoch [342/5000]: Train smape: 17.7888, Valid smape: 11.8641\n",
      "\n"
     ]
    },
    {
     "name": "stderr",
     "output_type": "stream",
     "text": [
      "Epoch [343/5000]: 100%|██████████████████████████████████████████████████████| 9/9 [00:00<00:00, 233.01it/s, loss=3.42]\n"
     ]
    },
    {
     "name": "stdout",
     "output_type": "stream",
     "text": [
      "Epoch [343/5000]: Train loss: 4.0600, Valid loss: 1.5305\n",
      "Epoch [343/5000]: Train r2_score: 0.8989, Valid r2_score: 0.9706\n",
      "Epoch [343/5000]: Train smape: 18.6101, Valid smape: 10.6836\n",
      "\n"
     ]
    },
    {
     "name": "stderr",
     "output_type": "stream",
     "text": [
      "Epoch [344/5000]: 100%|██████████████████████████████████████████████████████| 9/9 [00:00<00:00, 227.31it/s, loss=3.82]\n"
     ]
    },
    {
     "name": "stdout",
     "output_type": "stream",
     "text": [
      "Epoch [344/5000]: Train loss: 3.8889, Valid loss: 1.3012\n",
      "Epoch [344/5000]: Train r2_score: 0.9040, Valid r2_score: 0.9715\n",
      "Epoch [344/5000]: Train smape: 18.0904, Valid smape: 10.6694\n",
      "\n"
     ]
    },
    {
     "name": "stderr",
     "output_type": "stream",
     "text": [
      "Epoch [345/5000]: 100%|██████████████████████████████████████████████████████| 9/9 [00:00<00:00, 222.89it/s, loss=4.38]\n"
     ]
    },
    {
     "name": "stdout",
     "output_type": "stream",
     "text": [
      "Epoch [345/5000]: Train loss: 3.9371, Valid loss: 1.1009\n",
      "Epoch [345/5000]: Train r2_score: 0.9037, Valid r2_score: 0.9725\n",
      "Epoch [345/5000]: Train smape: 18.0575, Valid smape: 10.5879\n",
      "\n"
     ]
    },
    {
     "name": "stderr",
     "output_type": "stream",
     "text": [
      "Epoch [346/5000]: 100%|██████████████████████████████████████████████████████| 9/9 [00:00<00:00, 228.16it/s, loss=3.95]\n"
     ]
    },
    {
     "name": "stdout",
     "output_type": "stream",
     "text": [
      "Epoch [346/5000]: Train loss: 4.2506, Valid loss: 1.0616\n",
      "Epoch [346/5000]: Train r2_score: 0.8947, Valid r2_score: 0.9733\n",
      "Epoch [346/5000]: Train smape: 19.4032, Valid smape: 10.6552\n",
      "\n"
     ]
    },
    {
     "name": "stderr",
     "output_type": "stream",
     "text": [
      "Epoch [347/5000]: 100%|██████████████████████████████████████████████████████| 9/9 [00:00<00:00, 224.10it/s, loss=5.38]\n"
     ]
    },
    {
     "name": "stdout",
     "output_type": "stream",
     "text": [
      "Epoch [347/5000]: Train loss: 4.1055, Valid loss: 1.6851\n",
      "Epoch [347/5000]: Train r2_score: 0.9009, Valid r2_score: 0.9649\n",
      "Epoch [347/5000]: Train smape: 18.3618, Valid smape: 11.2647\n",
      "\n"
     ]
    },
    {
     "name": "stderr",
     "output_type": "stream",
     "text": [
      "Epoch [348/5000]: 100%|██████████████████████████████████████████████████████| 9/9 [00:00<00:00, 227.34it/s, loss=4.19]\n"
     ]
    },
    {
     "name": "stdout",
     "output_type": "stream",
     "text": [
      "Epoch [348/5000]: Train loss: 4.0542, Valid loss: 1.2440\n",
      "Epoch [348/5000]: Train r2_score: 0.9003, Valid r2_score: 0.9740\n",
      "Epoch [348/5000]: Train smape: 18.8682, Valid smape: 10.4587\n",
      "\n"
     ]
    },
    {
     "name": "stderr",
     "output_type": "stream",
     "text": [
      "Epoch [349/5000]: 100%|██████████████████████████████████████████████████████| 9/9 [00:00<00:00, 214.46it/s, loss=5.02]\n"
     ]
    },
    {
     "name": "stdout",
     "output_type": "stream",
     "text": [
      "Epoch [349/5000]: Train loss: 4.0980, Valid loss: 1.3389\n",
      "Epoch [349/5000]: Train r2_score: 0.9005, Valid r2_score: 0.9719\n",
      "Epoch [349/5000]: Train smape: 17.7418, Valid smape: 10.6232\n",
      "\n"
     ]
    },
    {
     "name": "stderr",
     "output_type": "stream",
     "text": [
      "Epoch [350/5000]: 100%|██████████████████████████████████████████████████████| 9/9 [00:00<00:00, 222.31it/s, loss=3.86]\n"
     ]
    },
    {
     "name": "stdout",
     "output_type": "stream",
     "text": [
      "Epoch [350/5000]: Train loss: 3.9636, Valid loss: 1.0589\n",
      "Epoch [350/5000]: Train r2_score: 0.9021, Valid r2_score: 0.9745\n",
      "Epoch [350/5000]: Train smape: 19.1032, Valid smape: 10.6426\n",
      "\n"
     ]
    },
    {
     "name": "stderr",
     "output_type": "stream",
     "text": [
      "Epoch [351/5000]: 100%|██████████████████████████████████████████████████████| 9/9 [00:00<00:00, 219.89it/s, loss=6.75]\n"
     ]
    },
    {
     "name": "stdout",
     "output_type": "stream",
     "text": [
      "Epoch [351/5000]: Train loss: 4.2367, Valid loss: 1.5195\n",
      "Epoch [351/5000]: Train r2_score: 0.8997, Valid r2_score: 0.9630\n",
      "Epoch [351/5000]: Train smape: 19.1283, Valid smape: 11.8754\n",
      "\n"
     ]
    },
    {
     "name": "stderr",
     "output_type": "stream",
     "text": [
      "Epoch [352/5000]: 100%|██████████████████████████████████████████████████████| 9/9 [00:00<00:00, 222.07it/s, loss=3.54]\n"
     ]
    },
    {
     "name": "stdout",
     "output_type": "stream",
     "text": [
      "Epoch [352/5000]: Train loss: 4.2837, Valid loss: 1.1576\n",
      "Epoch [352/5000]: Train r2_score: 0.8932, Valid r2_score: 0.9738\n",
      "Epoch [352/5000]: Train smape: 19.2534, Valid smape: 10.7558\n",
      "\n"
     ]
    },
    {
     "name": "stderr",
     "output_type": "stream",
     "text": [
      "Epoch [353/5000]: 100%|██████████████████████████████████████████████████████| 9/9 [00:00<00:00, 233.38it/s, loss=5.46]\n"
     ]
    },
    {
     "name": "stdout",
     "output_type": "stream",
     "text": [
      "Epoch [353/5000]: Train loss: 3.8944, Valid loss: 1.9369\n",
      "Epoch [353/5000]: Train r2_score: 0.9066, Valid r2_score: 0.9592\n",
      "Epoch [353/5000]: Train smape: 18.9121, Valid smape: 11.8074\n",
      "\n"
     ]
    },
    {
     "name": "stderr",
     "output_type": "stream",
     "text": [
      "Epoch [354/5000]: 100%|██████████████████████████████████████████████████████| 9/9 [00:00<00:00, 214.14it/s, loss=4.35]\n"
     ]
    },
    {
     "name": "stdout",
     "output_type": "stream",
     "text": [
      "Epoch [354/5000]: Train loss: 3.9262, Valid loss: 1.1380\n",
      "Epoch [354/5000]: Train r2_score: 0.9039, Valid r2_score: 0.9721\n",
      "Epoch [354/5000]: Train smape: 17.9486, Valid smape: 10.6204\n",
      "\n"
     ]
    },
    {
     "name": "stderr",
     "output_type": "stream",
     "text": [
      "Epoch [355/5000]: 100%|██████████████████████████████████████████████████████| 9/9 [00:00<00:00, 214.29it/s, loss=4.02]\n"
     ]
    },
    {
     "name": "stdout",
     "output_type": "stream",
     "text": [
      "Epoch [355/5000]: Train loss: 4.0500, Valid loss: 1.3841\n",
      "Epoch [355/5000]: Train r2_score: 0.9001, Valid r2_score: 0.9732\n",
      "Epoch [355/5000]: Train smape: 18.9822, Valid smape: 10.6510\n",
      "\n"
     ]
    },
    {
     "name": "stderr",
     "output_type": "stream",
     "text": [
      "Epoch [356/5000]: 100%|██████████████████████████████████████████████████████| 9/9 [00:00<00:00, 220.08it/s, loss=3.71]\n"
     ]
    },
    {
     "name": "stdout",
     "output_type": "stream",
     "text": [
      "Epoch [356/5000]: Train loss: 3.7453, Valid loss: 1.8006\n",
      "Epoch [356/5000]: Train r2_score: 0.9076, Valid r2_score: 0.9679\n",
      "Epoch [356/5000]: Train smape: 18.5653, Valid smape: 11.4037\n",
      "\n"
     ]
    },
    {
     "name": "stderr",
     "output_type": "stream",
     "text": [
      "Epoch [357/5000]: 100%|██████████████████████████████████████████████████████| 9/9 [00:00<00:00, 228.46it/s, loss=3.93]\n"
     ]
    },
    {
     "name": "stdout",
     "output_type": "stream",
     "text": [
      "Epoch [357/5000]: Train loss: 3.8927, Valid loss: 1.1269\n",
      "Epoch [357/5000]: Train r2_score: 0.9041, Valid r2_score: 0.9731\n",
      "Epoch [357/5000]: Train smape: 18.0242, Valid smape: 10.5393\n",
      "\n"
     ]
    },
    {
     "name": "stderr",
     "output_type": "stream",
     "text": [
      "Epoch [358/5000]: 100%|███████████████████████████████████████████████████████| 9/9 [00:00<00:00, 96.86it/s, loss=5.01]\n"
     ]
    },
    {
     "name": "stdout",
     "output_type": "stream",
     "text": [
      "Epoch [358/5000]: Train loss: 3.8701, Valid loss: 1.1241\n",
      "Epoch [358/5000]: Train r2_score: 0.9065, Valid r2_score: 0.9723\n",
      "Epoch [358/5000]: Train smape: 18.5532, Valid smape: 10.9135\n",
      "\n"
     ]
    },
    {
     "name": "stderr",
     "output_type": "stream",
     "text": [
      "Epoch [359/5000]: 100%|██████████████████████████████████████████████████████| 9/9 [00:00<00:00, 217.80it/s, loss=3.77]\n"
     ]
    },
    {
     "name": "stdout",
     "output_type": "stream",
     "text": [
      "Epoch [359/5000]: Train loss: 3.8327, Valid loss: 1.3890\n",
      "Epoch [359/5000]: Train r2_score: 0.9054, Valid r2_score: 0.9671\n",
      "Epoch [359/5000]: Train smape: 18.0983, Valid smape: 11.6016\n",
      "\n"
     ]
    },
    {
     "name": "stderr",
     "output_type": "stream",
     "text": [
      "Epoch [360/5000]: 100%|███████████████████████████████████████████████████████| 9/9 [00:00<00:00, 232.08it/s, loss=3.6]\n"
     ]
    },
    {
     "name": "stdout",
     "output_type": "stream",
     "text": [
      "Epoch [360/5000]: Train loss: 3.9153, Valid loss: 1.5826\n",
      "Epoch [360/5000]: Train r2_score: 0.9030, Valid r2_score: 0.9676\n",
      "Epoch [360/5000]: Train smape: 17.8803, Valid smape: 11.1107\n",
      "\n"
     ]
    },
    {
     "name": "stderr",
     "output_type": "stream",
     "text": [
      "Epoch [361/5000]: 100%|██████████████████████████████████████████████████████| 9/9 [00:00<00:00, 212.73it/s, loss=3.34]\n"
     ]
    },
    {
     "name": "stdout",
     "output_type": "stream",
     "text": [
      "Epoch [361/5000]: Train loss: 3.9089, Valid loss: 1.2790\n",
      "Epoch [361/5000]: Train r2_score: 0.9027, Valid r2_score: 0.9736\n",
      "Epoch [361/5000]: Train smape: 18.3063, Valid smape: 10.5584\n",
      "\n"
     ]
    },
    {
     "name": "stderr",
     "output_type": "stream",
     "text": [
      "Epoch [362/5000]: 100%|██████████████████████████████████████████████████████| 9/9 [00:00<00:00, 227.29it/s, loss=3.35]\n"
     ]
    },
    {
     "name": "stdout",
     "output_type": "stream",
     "text": [
      "Epoch [362/5000]: Train loss: 3.9640, Valid loss: 1.3017\n",
      "Epoch [362/5000]: Train r2_score: 0.9013, Valid r2_score: 0.9692\n",
      "Epoch [362/5000]: Train smape: 18.2261, Valid smape: 11.2389\n",
      "\n"
     ]
    },
    {
     "name": "stderr",
     "output_type": "stream",
     "text": [
      "Epoch [363/5000]: 100%|██████████████████████████████████████████████████████| 9/9 [00:00<00:00, 214.28it/s, loss=3.27]\n"
     ]
    },
    {
     "name": "stdout",
     "output_type": "stream",
     "text": [
      "Epoch [363/5000]: Train loss: 3.5541, Valid loss: 1.1005\n",
      "Epoch [363/5000]: Train r2_score: 0.9119, Valid r2_score: 0.9736\n",
      "Epoch [363/5000]: Train smape: 18.5751, Valid smape: 10.6555\n",
      "\n"
     ]
    },
    {
     "name": "stderr",
     "output_type": "stream",
     "text": [
      "Epoch [364/5000]: 100%|██████████████████████████████████████████████████████| 9/9 [00:00<00:00, 223.18it/s, loss=4.57]\n"
     ]
    },
    {
     "name": "stdout",
     "output_type": "stream",
     "text": [
      "Epoch [364/5000]: Train loss: 4.1431, Valid loss: 1.3168\n",
      "Epoch [364/5000]: Train r2_score: 0.8986, Valid r2_score: 0.9740\n",
      "Epoch [364/5000]: Train smape: 18.5561, Valid smape: 10.6095\n",
      "\n"
     ]
    },
    {
     "name": "stderr",
     "output_type": "stream",
     "text": [
      "Epoch [365/5000]: 100%|██████████████████████████████████████████████████████| 9/9 [00:00<00:00, 231.48it/s, loss=5.17]\n"
     ]
    },
    {
     "name": "stdout",
     "output_type": "stream",
     "text": [
      "Epoch [365/5000]: Train loss: 3.8708, Valid loss: 1.4867\n",
      "Epoch [365/5000]: Train r2_score: 0.9067, Valid r2_score: 0.9720\n",
      "Epoch [365/5000]: Train smape: 18.3153, Valid smape: 10.7853\n",
      "\n"
     ]
    },
    {
     "name": "stderr",
     "output_type": "stream",
     "text": [
      "Epoch [366/5000]: 100%|██████████████████████████████████████████████████████| 9/9 [00:00<00:00, 219.30it/s, loss=4.04]\n"
     ]
    },
    {
     "name": "stdout",
     "output_type": "stream",
     "text": [
      "Epoch [366/5000]: Train loss: 3.9596, Valid loss: 1.8442\n",
      "Epoch [366/5000]: Train r2_score: 0.9025, Valid r2_score: 0.9544\n",
      "Epoch [366/5000]: Train smape: 19.1118, Valid smape: 13.2202\n",
      "\n"
     ]
    },
    {
     "name": "stderr",
     "output_type": "stream",
     "text": [
      "Epoch [367/5000]: 100%|███████████████████████████████████████████████████████| 9/9 [00:00<00:00, 213.77it/s, loss=3.4]\n"
     ]
    },
    {
     "name": "stdout",
     "output_type": "stream",
     "text": [
      "Epoch [367/5000]: Train loss: 3.6671, Valid loss: 1.1516\n",
      "Epoch [367/5000]: Train r2_score: 0.9092, Valid r2_score: 0.9688\n",
      "Epoch [367/5000]: Train smape: 18.0510, Valid smape: 11.0715\n",
      "\n"
     ]
    },
    {
     "name": "stderr",
     "output_type": "stream",
     "text": [
      "Epoch [368/5000]: 100%|██████████████████████████████████████████████████████| 9/9 [00:00<00:00, 220.30it/s, loss=3.08]\n"
     ]
    },
    {
     "name": "stdout",
     "output_type": "stream",
     "text": [
      "Epoch [368/5000]: Train loss: 3.7362, Valid loss: 1.0917\n",
      "Epoch [368/5000]: Train r2_score: 0.9068, Valid r2_score: 0.9745\n",
      "Epoch [368/5000]: Train smape: 18.2156, Valid smape: 10.3991\n",
      "\n"
     ]
    },
    {
     "name": "stderr",
     "output_type": "stream",
     "text": [
      "Epoch [369/5000]: 100%|██████████████████████████████████████████████████████| 9/9 [00:00<00:00, 205.52it/s, loss=2.95]\n"
     ]
    },
    {
     "name": "stdout",
     "output_type": "stream",
     "text": [
      "Epoch [369/5000]: Train loss: 3.6282, Valid loss: 1.2453\n",
      "Epoch [369/5000]: Train r2_score: 0.9095, Valid r2_score: 0.9745\n",
      "Epoch [369/5000]: Train smape: 18.0999, Valid smape: 10.3817\n",
      "\n"
     ]
    },
    {
     "name": "stderr",
     "output_type": "stream",
     "text": [
      "Epoch [370/5000]: 100%|██████████████████████████████████████████████████████| 9/9 [00:00<00:00, 200.67it/s, loss=4.45]\n"
     ]
    },
    {
     "name": "stdout",
     "output_type": "stream",
     "text": [
      "Epoch [370/5000]: Train loss: 3.9821, Valid loss: 1.1628\n",
      "Epoch [370/5000]: Train r2_score: 0.9026, Valid r2_score: 0.9733\n",
      "Epoch [370/5000]: Train smape: 17.8578, Valid smape: 10.6243\n",
      "\n"
     ]
    },
    {
     "name": "stderr",
     "output_type": "stream",
     "text": [
      "Epoch [371/5000]: 100%|██████████████████████████████████████████████████████| 9/9 [00:00<00:00, 218.19it/s, loss=3.86]\n"
     ]
    },
    {
     "name": "stdout",
     "output_type": "stream",
     "text": [
      "Epoch [371/5000]: Train loss: 3.8211, Valid loss: 1.2889\n",
      "Epoch [371/5000]: Train r2_score: 0.9059, Valid r2_score: 0.9708\n",
      "Epoch [371/5000]: Train smape: 18.4748, Valid smape: 10.7534\n",
      "\n"
     ]
    },
    {
     "name": "stderr",
     "output_type": "stream",
     "text": [
      "Epoch [372/5000]: 100%|██████████████████████████████████████████████████████| 9/9 [00:00<00:00, 209.26it/s, loss=3.33]\n"
     ]
    },
    {
     "name": "stdout",
     "output_type": "stream",
     "text": [
      "Epoch [372/5000]: Train loss: 4.0248, Valid loss: 1.1453\n",
      "Epoch [372/5000]: Train r2_score: 0.8997, Valid r2_score: 0.9731\n",
      "Epoch [372/5000]: Train smape: 18.3822, Valid smape: 10.5270\n",
      "\n"
     ]
    },
    {
     "name": "stderr",
     "output_type": "stream",
     "text": [
      "Epoch [373/5000]: 100%|██████████████████████████████████████████████████████| 9/9 [00:00<00:00, 204.70it/s, loss=3.77]\n"
     ]
    },
    {
     "name": "stdout",
     "output_type": "stream",
     "text": [
      "Epoch [373/5000]: Train loss: 3.6398, Valid loss: 1.2077\n",
      "Epoch [373/5000]: Train r2_score: 0.9105, Valid r2_score: 0.9712\n",
      "Epoch [373/5000]: Train smape: 17.9329, Valid smape: 10.8588\n",
      "\n"
     ]
    },
    {
     "name": "stderr",
     "output_type": "stream",
     "text": [
      "Epoch [374/5000]: 100%|██████████████████████████████████████████████████████| 9/9 [00:00<00:00, 214.74it/s, loss=4.45]\n"
     ]
    },
    {
     "name": "stdout",
     "output_type": "stream",
     "text": [
      "Epoch [374/5000]: Train loss: 3.7380, Valid loss: 1.2044\n",
      "Epoch [374/5000]: Train r2_score: 0.9090, Valid r2_score: 0.9712\n",
      "Epoch [374/5000]: Train smape: 17.8387, Valid smape: 10.8912\n",
      "\n"
     ]
    },
    {
     "name": "stderr",
     "output_type": "stream",
     "text": [
      "Epoch [375/5000]: 100%|██████████████████████████████████████████████████████| 9/9 [00:00<00:00, 211.36it/s, loss=7.58]\n"
     ]
    },
    {
     "name": "stdout",
     "output_type": "stream",
     "text": [
      "Epoch [375/5000]: Train loss: 4.1714, Valid loss: 1.1738\n",
      "Epoch [375/5000]: Train r2_score: 0.9028, Valid r2_score: 0.9704\n",
      "Epoch [375/5000]: Train smape: 18.3625, Valid smape: 10.8698\n",
      "\n"
     ]
    },
    {
     "name": "stderr",
     "output_type": "stream",
     "text": [
      "Epoch [376/5000]: 100%|██████████████████████████████████████████████████████| 9/9 [00:00<00:00, 218.70it/s, loss=3.79]\n"
     ]
    },
    {
     "name": "stdout",
     "output_type": "stream",
     "text": [
      "Epoch [376/5000]: Train loss: 3.8473, Valid loss: 1.1741\n",
      "Epoch [376/5000]: Train r2_score: 0.9051, Valid r2_score: 0.9742\n",
      "Epoch [376/5000]: Train smape: 18.1248, Valid smape: 10.4740\n",
      "\n"
     ]
    },
    {
     "name": "stderr",
     "output_type": "stream",
     "text": [
      "Epoch [377/5000]: 100%|███████████████████████████████████████████████████████| 9/9 [00:00<00:00, 219.45it/s, loss=3.5]\n"
     ]
    },
    {
     "name": "stdout",
     "output_type": "stream",
     "text": [
      "Epoch [377/5000]: Train loss: 3.7560, Valid loss: 1.4631\n",
      "Epoch [377/5000]: Train r2_score: 0.9070, Valid r2_score: 0.9724\n",
      "Epoch [377/5000]: Train smape: 18.4606, Valid smape: 10.7634\n",
      "\n"
     ]
    },
    {
     "name": "stderr",
     "output_type": "stream",
     "text": [
      "Epoch [378/5000]: 100%|██████████████████████████████████████████████████████| 9/9 [00:00<00:00, 228.61it/s, loss=6.57]\n"
     ]
    },
    {
     "name": "stdout",
     "output_type": "stream",
     "text": [
      "Epoch [378/5000]: Train loss: 4.4175, Valid loss: 1.2818\n",
      "Epoch [378/5000]: Train r2_score: 0.8947, Valid r2_score: 0.9689\n",
      "Epoch [378/5000]: Train smape: 18.6645, Valid smape: 11.3533\n",
      "\n"
     ]
    },
    {
     "name": "stderr",
     "output_type": "stream",
     "text": [
      "Epoch [379/5000]: 100%|██████████████████████████████████████████████████████| 9/9 [00:00<00:00, 217.34it/s, loss=3.63]\n"
     ]
    },
    {
     "name": "stdout",
     "output_type": "stream",
     "text": [
      "Epoch [379/5000]: Train loss: 3.9068, Valid loss: 1.3389\n",
      "Epoch [379/5000]: Train r2_score: 0.9032, Valid r2_score: 0.9700\n",
      "Epoch [379/5000]: Train smape: 18.0097, Valid smape: 11.1609\n",
      "\n"
     ]
    },
    {
     "name": "stderr",
     "output_type": "stream",
     "text": [
      "Epoch [380/5000]: 100%|██████████████████████████████████████████████████████| 9/9 [00:00<00:00, 221.44it/s, loss=3.26]\n"
     ]
    },
    {
     "name": "stdout",
     "output_type": "stream",
     "text": [
      "Epoch [380/5000]: Train loss: 3.8572, Valid loss: 1.4695\n",
      "Epoch [380/5000]: Train r2_score: 0.9040, Valid r2_score: 0.9701\n",
      "Epoch [380/5000]: Train smape: 18.7515, Valid smape: 10.6812\n",
      "\n"
     ]
    },
    {
     "name": "stderr",
     "output_type": "stream",
     "text": [
      "Epoch [381/5000]: 100%|█████████████████████████████████████████████████████████| 9/9 [00:00<00:00, 241.29it/s, loss=4]\n"
     ]
    },
    {
     "name": "stdout",
     "output_type": "stream",
     "text": [
      "Epoch [381/5000]: Train loss: 3.9209, Valid loss: 0.9687\n",
      "Epoch [381/5000]: Train r2_score: 0.9035, Valid r2_score: 0.9732\n",
      "Epoch [381/5000]: Train smape: 18.2599, Valid smape: 10.4087\n",
      "\n",
      "Saving model with loss 0.969...\n"
     ]
    },
    {
     "name": "stderr",
     "output_type": "stream",
     "text": [
      "Epoch [382/5000]: 100%|██████████████████████████████████████████████████████| 9/9 [00:00<00:00, 220.93it/s, loss=4.81]\n"
     ]
    },
    {
     "name": "stdout",
     "output_type": "stream",
     "text": [
      "Epoch [382/5000]: Train loss: 3.8950, Valid loss: 1.4262\n",
      "Epoch [382/5000]: Train r2_score: 0.9055, Valid r2_score: 0.9690\n",
      "Epoch [382/5000]: Train smape: 17.9388, Valid smape: 10.7770\n",
      "\n"
     ]
    },
    {
     "name": "stderr",
     "output_type": "stream",
     "text": [
      "Epoch [383/5000]: 100%|██████████████████████████████████████████████████████| 9/9 [00:00<00:00, 232.09it/s, loss=2.73]\n"
     ]
    },
    {
     "name": "stdout",
     "output_type": "stream",
     "text": [
      "Epoch [383/5000]: Train loss: 3.8316, Valid loss: 1.1308\n",
      "Epoch [383/5000]: Train r2_score: 0.9038, Valid r2_score: 0.9738\n",
      "Epoch [383/5000]: Train smape: 18.2629, Valid smape: 10.4237\n",
      "\n"
     ]
    },
    {
     "name": "stderr",
     "output_type": "stream",
     "text": [
      "Epoch [384/5000]: 100%|██████████████████████████████████████████████████████| 9/9 [00:00<00:00, 210.82it/s, loss=6.73]\n"
     ]
    },
    {
     "name": "stdout",
     "output_type": "stream",
     "text": [
      "Epoch [384/5000]: Train loss: 4.2093, Valid loss: 1.3182\n",
      "Epoch [384/5000]: Train r2_score: 0.9004, Valid r2_score: 0.9726\n",
      "Epoch [384/5000]: Train smape: 18.1909, Valid smape: 10.6283\n",
      "\n"
     ]
    },
    {
     "name": "stderr",
     "output_type": "stream",
     "text": [
      "Epoch [385/5000]: 100%|██████████████████████████████████████████████████████| 9/9 [00:00<00:00, 224.39it/s, loss=3.17]\n"
     ]
    },
    {
     "name": "stdout",
     "output_type": "stream",
     "text": [
      "Epoch [385/5000]: Train loss: 3.6422, Valid loss: 1.2076\n",
      "Epoch [385/5000]: Train r2_score: 0.9095, Valid r2_score: 0.9736\n",
      "Epoch [385/5000]: Train smape: 17.7368, Valid smape: 10.6216\n",
      "\n"
     ]
    },
    {
     "name": "stderr",
     "output_type": "stream",
     "text": [
      "Epoch [386/5000]: 100%|██████████████████████████████████████████████████████| 9/9 [00:00<00:00, 228.75it/s, loss=2.97]\n"
     ]
    },
    {
     "name": "stdout",
     "output_type": "stream",
     "text": [
      "Epoch [386/5000]: Train loss: 3.4154, Valid loss: 1.4199\n",
      "Epoch [386/5000]: Train r2_score: 0.9151, Valid r2_score: 0.9691\n",
      "Epoch [386/5000]: Train smape: 17.8095, Valid smape: 11.0327\n",
      "\n"
     ]
    },
    {
     "name": "stderr",
     "output_type": "stream",
     "text": [
      "Epoch [387/5000]: 100%|██████████████████████████████████████████████████████| 9/9 [00:00<00:00, 222.77it/s, loss=5.53]\n"
     ]
    },
    {
     "name": "stdout",
     "output_type": "stream",
     "text": [
      "Epoch [387/5000]: Train loss: 3.7462, Valid loss: 1.4641\n",
      "Epoch [387/5000]: Train r2_score: 0.9106, Valid r2_score: 0.9695\n",
      "Epoch [387/5000]: Train smape: 17.9028, Valid smape: 10.8920\n",
      "\n"
     ]
    },
    {
     "name": "stderr",
     "output_type": "stream",
     "text": [
      "Epoch [388/5000]: 100%|██████████████████████████████████████████████████████| 9/9 [00:00<00:00, 222.70it/s, loss=3.06]\n"
     ]
    },
    {
     "name": "stdout",
     "output_type": "stream",
     "text": [
      "Epoch [388/5000]: Train loss: 3.6488, Valid loss: 1.1525\n",
      "Epoch [388/5000]: Train r2_score: 0.9091, Valid r2_score: 0.9722\n",
      "Epoch [388/5000]: Train smape: 16.9351, Valid smape: 10.5659\n",
      "\n"
     ]
    },
    {
     "name": "stderr",
     "output_type": "stream",
     "text": [
      "Epoch [389/5000]: 100%|██████████████████████████████████████████████████████| 9/9 [00:00<00:00, 222.91it/s, loss=2.98]\n"
     ]
    },
    {
     "name": "stdout",
     "output_type": "stream",
     "text": [
      "Epoch [389/5000]: Train loss: 3.7208, Valid loss: 1.1859\n",
      "Epoch [389/5000]: Train r2_score: 0.9071, Valid r2_score: 0.9735\n",
      "Epoch [389/5000]: Train smape: 18.1498, Valid smape: 10.4174\n",
      "\n"
     ]
    },
    {
     "name": "stderr",
     "output_type": "stream",
     "text": [
      "Epoch [390/5000]: 100%|██████████████████████████████████████████████████████| 9/9 [00:00<00:00, 226.18it/s, loss=3.59]\n"
     ]
    },
    {
     "name": "stdout",
     "output_type": "stream",
     "text": [
      "Epoch [390/5000]: Train loss: 3.8355, Valid loss: 1.4254\n",
      "Epoch [390/5000]: Train r2_score: 0.9051, Valid r2_score: 0.9727\n",
      "Epoch [390/5000]: Train smape: 17.9274, Valid smape: 10.5200\n",
      "\n"
     ]
    },
    {
     "name": "stderr",
     "output_type": "stream",
     "text": [
      "Epoch [391/5000]: 100%|██████████████████████████████████████████████████████| 9/9 [00:00<00:00, 233.08it/s, loss=5.08]\n"
     ]
    },
    {
     "name": "stdout",
     "output_type": "stream",
     "text": [
      "Epoch [391/5000]: Train loss: 4.0822, Valid loss: 1.1977\n",
      "Epoch [391/5000]: Train r2_score: 0.9010, Valid r2_score: 0.9700\n",
      "Epoch [391/5000]: Train smape: 18.0293, Valid smape: 10.7984\n",
      "\n"
     ]
    },
    {
     "name": "stderr",
     "output_type": "stream",
     "text": [
      "Epoch [392/5000]: 100%|██████████████████████████████████████████████████████| 9/9 [00:00<00:00, 226.42it/s, loss=3.75]\n"
     ]
    },
    {
     "name": "stdout",
     "output_type": "stream",
     "text": [
      "Epoch [392/5000]: Train loss: 3.8691, Valid loss: 1.0319\n",
      "Epoch [392/5000]: Train r2_score: 0.9044, Valid r2_score: 0.9733\n",
      "Epoch [392/5000]: Train smape: 17.8860, Valid smape: 10.5145\n",
      "\n"
     ]
    },
    {
     "name": "stderr",
     "output_type": "stream",
     "text": [
      "Epoch [393/5000]: 100%|██████████████████████████████████████████████████████| 9/9 [00:00<00:00, 226.72it/s, loss=3.33]\n"
     ]
    },
    {
     "name": "stdout",
     "output_type": "stream",
     "text": [
      "Epoch [393/5000]: Train loss: 3.4032, Valid loss: 1.1092\n",
      "Epoch [393/5000]: Train r2_score: 0.9160, Valid r2_score: 0.9728\n",
      "Epoch [393/5000]: Train smape: 17.1886, Valid smape: 10.4811\n",
      "\n"
     ]
    },
    {
     "name": "stderr",
     "output_type": "stream",
     "text": [
      "Epoch [394/5000]: 100%|██████████████████████████████████████████████████████| 9/9 [00:00<00:00, 216.03it/s, loss=3.67]\n"
     ]
    },
    {
     "name": "stdout",
     "output_type": "stream",
     "text": [
      "Epoch [394/5000]: Train loss: 3.8497, Valid loss: 1.7998\n",
      "Epoch [394/5000]: Train r2_score: 0.9048, Valid r2_score: 0.9700\n",
      "Epoch [394/5000]: Train smape: 17.5117, Valid smape: 10.6991\n",
      "\n"
     ]
    },
    {
     "name": "stderr",
     "output_type": "stream",
     "text": [
      "Epoch [395/5000]: 100%|██████████████████████████████████████████████████████| 9/9 [00:00<00:00, 229.11it/s, loss=2.86]\n"
     ]
    },
    {
     "name": "stdout",
     "output_type": "stream",
     "text": [
      "Epoch [395/5000]: Train loss: 3.3251, Valid loss: 1.2478\n",
      "Epoch [395/5000]: Train r2_score: 0.9173, Valid r2_score: 0.9740\n",
      "Epoch [395/5000]: Train smape: 17.0374, Valid smape: 10.3514\n",
      "\n"
     ]
    },
    {
     "name": "stderr",
     "output_type": "stream",
     "text": [
      "Epoch [396/5000]: 100%|██████████████████████████████████████████████████████| 9/9 [00:00<00:00, 228.15it/s, loss=2.03]\n"
     ]
    },
    {
     "name": "stdout",
     "output_type": "stream",
     "text": [
      "Epoch [396/5000]: Train loss: 3.4471, Valid loss: 1.2198\n",
      "Epoch [396/5000]: Train r2_score: 0.9127, Valid r2_score: 0.9731\n",
      "Epoch [396/5000]: Train smape: 17.6182, Valid smape: 10.5803\n",
      "\n"
     ]
    },
    {
     "name": "stderr",
     "output_type": "stream",
     "text": [
      "Epoch [397/5000]: 100%|██████████████████████████████████████████████████████| 9/9 [00:00<00:00, 218.18it/s, loss=5.39]\n"
     ]
    },
    {
     "name": "stdout",
     "output_type": "stream",
     "text": [
      "Epoch [397/5000]: Train loss: 4.0725, Valid loss: 1.2017\n",
      "Epoch [397/5000]: Train r2_score: 0.9018, Valid r2_score: 0.9722\n",
      "Epoch [397/5000]: Train smape: 17.9722, Valid smape: 10.5955\n",
      "\n"
     ]
    },
    {
     "name": "stderr",
     "output_type": "stream",
     "text": [
      "Epoch [398/5000]: 100%|█████████████████████████████████████████████████████████| 9/9 [00:00<00:00, 220.57it/s, loss=3]\n"
     ]
    },
    {
     "name": "stdout",
     "output_type": "stream",
     "text": [
      "Epoch [398/5000]: Train loss: 3.6274, Valid loss: 1.3031\n",
      "Epoch [398/5000]: Train r2_score: 0.9096, Valid r2_score: 0.9745\n",
      "Epoch [398/5000]: Train smape: 17.8988, Valid smape: 10.3353\n",
      "\n"
     ]
    },
    {
     "name": "stderr",
     "output_type": "stream",
     "text": [
      "Epoch [399/5000]: 100%|██████████████████████████████████████████████████████| 9/9 [00:00<00:00, 220.68it/s, loss=6.05]\n"
     ]
    },
    {
     "name": "stdout",
     "output_type": "stream",
     "text": [
      "Epoch [399/5000]: Train loss: 4.1360, Valid loss: 1.4459\n",
      "Epoch [399/5000]: Train r2_score: 0.9012, Valid r2_score: 0.9722\n",
      "Epoch [399/5000]: Train smape: 18.5976, Valid smape: 10.5467\n",
      "\n"
     ]
    },
    {
     "name": "stderr",
     "output_type": "stream",
     "text": [
      "Epoch [400/5000]: 100%|███████████████████████████████████████████████████████| 9/9 [00:00<00:00, 224.02it/s, loss=4.6]\n"
     ]
    },
    {
     "name": "stdout",
     "output_type": "stream",
     "text": [
      "Epoch [400/5000]: Train loss: 3.7118, Valid loss: 1.4352\n",
      "Epoch [400/5000]: Train r2_score: 0.9100, Valid r2_score: 0.9704\n",
      "Epoch [400/5000]: Train smape: 17.9896, Valid smape: 10.7593\n",
      "\n"
     ]
    },
    {
     "name": "stderr",
     "output_type": "stream",
     "text": [
      "Epoch [401/5000]: 100%|██████████████████████████████████████████████████████| 9/9 [00:00<00:00, 215.99it/s, loss=2.38]\n"
     ]
    },
    {
     "name": "stdout",
     "output_type": "stream",
     "text": [
      "Epoch [401/5000]: Train loss: 3.3888, Valid loss: 1.2195\n",
      "Epoch [401/5000]: Train r2_score: 0.9148, Valid r2_score: 0.9695\n",
      "Epoch [401/5000]: Train smape: 17.1189, Valid smape: 10.9235\n",
      "\n"
     ]
    },
    {
     "name": "stderr",
     "output_type": "stream",
     "text": [
      "Epoch [402/5000]: 100%|██████████████████████████████████████████████████████| 9/9 [00:00<00:00, 227.20it/s, loss=4.15]\n"
     ]
    },
    {
     "name": "stdout",
     "output_type": "stream",
     "text": [
      "Epoch [402/5000]: Train loss: 3.8829, Valid loss: 1.2456\n",
      "Epoch [402/5000]: Train r2_score: 0.9047, Valid r2_score: 0.9730\n",
      "Epoch [402/5000]: Train smape: 17.7143, Valid smape: 10.5213\n",
      "\n"
     ]
    },
    {
     "name": "stderr",
     "output_type": "stream",
     "text": [
      "Epoch [403/5000]: 100%|██████████████████████████████████████████████████████| 9/9 [00:00<00:00, 231.30it/s, loss=3.68]\n"
     ]
    },
    {
     "name": "stdout",
     "output_type": "stream",
     "text": [
      "Epoch [403/5000]: Train loss: 3.4113, Valid loss: 1.1503\n",
      "Epoch [403/5000]: Train r2_score: 0.9164, Valid r2_score: 0.9737\n",
      "Epoch [403/5000]: Train smape: 17.2552, Valid smape: 10.5251\n",
      "\n"
     ]
    },
    {
     "name": "stderr",
     "output_type": "stream",
     "text": [
      "Epoch [404/5000]: 100%|██████████████████████████████████████████████████████| 9/9 [00:00<00:00, 224.86it/s, loss=5.01]\n"
     ]
    },
    {
     "name": "stdout",
     "output_type": "stream",
     "text": [
      "Epoch [404/5000]: Train loss: 3.9789, Valid loss: 1.2065\n",
      "Epoch [404/5000]: Train r2_score: 0.9036, Valid r2_score: 0.9710\n",
      "Epoch [404/5000]: Train smape: 18.1110, Valid smape: 10.8847\n",
      "\n"
     ]
    },
    {
     "name": "stderr",
     "output_type": "stream",
     "text": [
      "Epoch [405/5000]: 100%|██████████████████████████████████████████████████████| 9/9 [00:00<00:00, 225.39it/s, loss=2.81]\n"
     ]
    },
    {
     "name": "stdout",
     "output_type": "stream",
     "text": [
      "Epoch [405/5000]: Train loss: 3.4750, Valid loss: 1.5077\n",
      "Epoch [405/5000]: Train r2_score: 0.9133, Valid r2_score: 0.9671\n",
      "Epoch [405/5000]: Train smape: 18.0137, Valid smape: 11.0501\n",
      "\n"
     ]
    },
    {
     "name": "stderr",
     "output_type": "stream",
     "text": [
      "Epoch [406/5000]: 100%|██████████████████████████████████████████████████████| 9/9 [00:00<00:00, 222.31it/s, loss=3.98]\n"
     ]
    },
    {
     "name": "stdout",
     "output_type": "stream",
     "text": [
      "Epoch [406/5000]: Train loss: 3.8027, Valid loss: 1.6996\n",
      "Epoch [406/5000]: Train r2_score: 0.9066, Valid r2_score: 0.9698\n",
      "Epoch [406/5000]: Train smape: 17.0849, Valid smape: 10.7274\n",
      "\n"
     ]
    },
    {
     "name": "stderr",
     "output_type": "stream",
     "text": [
      "Epoch [407/5000]: 100%|██████████████████████████████████████████████████████| 9/9 [00:00<00:00, 216.72it/s, loss=3.71]\n"
     ]
    },
    {
     "name": "stdout",
     "output_type": "stream",
     "text": [
      "Epoch [407/5000]: Train loss: 3.4830, Valid loss: 1.0566\n",
      "Epoch [407/5000]: Train r2_score: 0.9145, Valid r2_score: 0.9740\n",
      "Epoch [407/5000]: Train smape: 17.4844, Valid smape: 10.3831\n",
      "\n"
     ]
    },
    {
     "name": "stderr",
     "output_type": "stream",
     "text": [
      "Epoch [408/5000]: 100%|██████████████████████████████████████████████████████| 9/9 [00:00<00:00, 230.67it/s, loss=3.85]\n"
     ]
    },
    {
     "name": "stdout",
     "output_type": "stream",
     "text": [
      "Epoch [408/5000]: Train loss: 3.4462, Valid loss: 1.1538\n",
      "Epoch [408/5000]: Train r2_score: 0.9157, Valid r2_score: 0.9747\n",
      "Epoch [408/5000]: Train smape: 17.2547, Valid smape: 10.3421\n",
      "\n"
     ]
    },
    {
     "name": "stderr",
     "output_type": "stream",
     "text": [
      "Epoch [409/5000]: 100%|██████████████████████████████████████████████████████| 9/9 [00:00<00:00, 205.88it/s, loss=4.27]\n"
     ]
    },
    {
     "name": "stdout",
     "output_type": "stream",
     "text": [
      "Epoch [409/5000]: Train loss: 3.5827, Valid loss: 1.2358\n",
      "Epoch [409/5000]: Train r2_score: 0.9128, Valid r2_score: 0.9706\n",
      "Epoch [409/5000]: Train smape: 17.0536, Valid smape: 10.7670\n",
      "\n"
     ]
    },
    {
     "name": "stderr",
     "output_type": "stream",
     "text": [
      "Epoch [410/5000]: 100%|██████████████████████████████████████████████████████| 9/9 [00:00<00:00, 220.02it/s, loss=3.84]\n"
     ]
    },
    {
     "name": "stdout",
     "output_type": "stream",
     "text": [
      "Epoch [410/5000]: Train loss: 3.6484, Valid loss: 1.1528\n",
      "Epoch [410/5000]: Train r2_score: 0.9104, Valid r2_score: 0.9713\n",
      "Epoch [410/5000]: Train smape: 17.4272, Valid smape: 10.5433\n",
      "\n"
     ]
    },
    {
     "name": "stderr",
     "output_type": "stream",
     "text": [
      "Epoch [411/5000]: 100%|███████████████████████████████████████████████████████| 9/9 [00:00<00:00, 190.92it/s, loss=2.4]\n"
     ]
    },
    {
     "name": "stdout",
     "output_type": "stream",
     "text": [
      "Epoch [411/5000]: Train loss: 3.4417, Valid loss: 0.9487\n",
      "Epoch [411/5000]: Train r2_score: 0.9135, Valid r2_score: 0.9739\n",
      "Epoch [411/5000]: Train smape: 17.3811, Valid smape: 10.3394\n",
      "\n",
      "Saving model with loss 0.949...\n"
     ]
    },
    {
     "name": "stderr",
     "output_type": "stream",
     "text": [
      "Epoch [412/5000]: 100%|██████████████████████████████████████████████████████| 9/9 [00:00<00:00, 224.99it/s, loss=5.39]\n"
     ]
    },
    {
     "name": "stdout",
     "output_type": "stream",
     "text": [
      "Epoch [412/5000]: Train loss: 3.9093, Valid loss: 1.0388\n",
      "Epoch [412/5000]: Train r2_score: 0.9061, Valid r2_score: 0.9730\n",
      "Epoch [412/5000]: Train smape: 17.8048, Valid smape: 10.5318\n",
      "\n"
     ]
    },
    {
     "name": "stderr",
     "output_type": "stream",
     "text": [
      "Epoch [413/5000]: 100%|██████████████████████████████████████████████████████| 9/9 [00:00<00:00, 225.00it/s, loss=2.71]\n"
     ]
    },
    {
     "name": "stdout",
     "output_type": "stream",
     "text": [
      "Epoch [413/5000]: Train loss: 3.8077, Valid loss: 0.9721\n",
      "Epoch [413/5000]: Train r2_score: 0.9044, Valid r2_score: 0.9730\n",
      "Epoch [413/5000]: Train smape: 18.0208, Valid smape: 10.6466\n",
      "\n"
     ]
    },
    {
     "name": "stderr",
     "output_type": "stream",
     "text": [
      "Epoch [414/5000]: 100%|██████████████████████████████████████████████████████| 9/9 [00:00<00:00, 213.80it/s, loss=3.16]\n"
     ]
    },
    {
     "name": "stdout",
     "output_type": "stream",
     "text": [
      "Epoch [414/5000]: Train loss: 3.9322, Valid loss: 1.0647\n",
      "Epoch [414/5000]: Train r2_score: 0.9018, Valid r2_score: 0.9716\n",
      "Epoch [414/5000]: Train smape: 18.2760, Valid smape: 10.5902\n",
      "\n"
     ]
    },
    {
     "name": "stderr",
     "output_type": "stream",
     "text": [
      "Epoch [415/5000]: 100%|██████████████████████████████████████████████████████| 9/9 [00:00<00:00, 209.79it/s, loss=4.39]\n"
     ]
    },
    {
     "name": "stdout",
     "output_type": "stream",
     "text": [
      "Epoch [415/5000]: Train loss: 3.5476, Valid loss: 1.5909\n",
      "Epoch [415/5000]: Train r2_score: 0.9139, Valid r2_score: 0.9673\n",
      "Epoch [415/5000]: Train smape: 17.0565, Valid smape: 10.8203\n",
      "\n"
     ]
    },
    {
     "name": "stderr",
     "output_type": "stream",
     "text": [
      "Epoch [416/5000]: 100%|██████████████████████████████████████████████████████| 9/9 [00:00<00:00, 215.46it/s, loss=3.61]\n"
     ]
    },
    {
     "name": "stdout",
     "output_type": "stream",
     "text": [
      "Epoch [416/5000]: Train loss: 3.5482, Valid loss: 1.0501\n",
      "Epoch [416/5000]: Train r2_score: 0.9127, Valid r2_score: 0.9741\n",
      "Epoch [416/5000]: Train smape: 17.1718, Valid smape: 10.3418\n",
      "\n"
     ]
    },
    {
     "name": "stderr",
     "output_type": "stream",
     "text": [
      "Epoch [417/5000]: 100%|████████████████████████████████████████████████████████| 9/9 [00:00<00:00, 99.84it/s, loss=3.8]\n"
     ]
    },
    {
     "name": "stdout",
     "output_type": "stream",
     "text": [
      "Epoch [417/5000]: Train loss: 3.6264, Valid loss: 1.2203\n",
      "Epoch [417/5000]: Train r2_score: 0.9109, Valid r2_score: 0.9734\n",
      "Epoch [417/5000]: Train smape: 17.9997, Valid smape: 10.5222\n",
      "\n"
     ]
    },
    {
     "name": "stderr",
     "output_type": "stream",
     "text": [
      "Epoch [418/5000]: 100%|███████████████████████████████████████████████████████| 9/9 [00:00<00:00, 214.77it/s, loss=3.7]\n"
     ]
    },
    {
     "name": "stdout",
     "output_type": "stream",
     "text": [
      "Epoch [418/5000]: Train loss: 3.9586, Valid loss: 1.1369\n",
      "Epoch [418/5000]: Train r2_score: 0.9020, Valid r2_score: 0.9712\n",
      "Epoch [418/5000]: Train smape: 18.2030, Valid smape: 10.7085\n",
      "\n"
     ]
    },
    {
     "name": "stderr",
     "output_type": "stream",
     "text": [
      "Epoch [419/5000]: 100%|███████████████████████████████████████████████████████| 9/9 [00:00<00:00, 224.38it/s, loss=3.3]\n"
     ]
    },
    {
     "name": "stdout",
     "output_type": "stream",
     "text": [
      "Epoch [419/5000]: Train loss: 3.6872, Valid loss: 1.1655\n",
      "Epoch [419/5000]: Train r2_score: 0.9085, Valid r2_score: 0.9733\n",
      "Epoch [419/5000]: Train smape: 17.8474, Valid smape: 10.5282\n",
      "\n"
     ]
    },
    {
     "name": "stderr",
     "output_type": "stream",
     "text": [
      "Epoch [420/5000]: 100%|██████████████████████████████████████████████████████| 9/9 [00:00<00:00, 233.89it/s, loss=3.13]\n"
     ]
    },
    {
     "name": "stdout",
     "output_type": "stream",
     "text": [
      "Epoch [420/5000]: Train loss: 3.6656, Valid loss: 1.2582\n",
      "Epoch [420/5000]: Train r2_score: 0.9088, Valid r2_score: 0.9718\n",
      "Epoch [420/5000]: Train smape: 17.7749, Valid smape: 10.7043\n",
      "\n"
     ]
    },
    {
     "name": "stderr",
     "output_type": "stream",
     "text": [
      "Epoch [421/5000]: 100%|██████████████████████████████████████████████████████| 9/9 [00:00<00:00, 224.71it/s, loss=3.92]\n"
     ]
    },
    {
     "name": "stdout",
     "output_type": "stream",
     "text": [
      "Epoch [421/5000]: Train loss: 3.8526, Valid loss: 1.1429\n",
      "Epoch [421/5000]: Train r2_score: 0.9052, Valid r2_score: 0.9730\n",
      "Epoch [421/5000]: Train smape: 17.9208, Valid smape: 10.5103\n",
      "\n"
     ]
    },
    {
     "name": "stderr",
     "output_type": "stream",
     "text": [
      "Epoch [422/5000]: 100%|██████████████████████████████████████████████████████| 9/9 [00:00<00:00, 230.75it/s, loss=3.99]\n"
     ]
    },
    {
     "name": "stdout",
     "output_type": "stream",
     "text": [
      "Epoch [422/5000]: Train loss: 3.7356, Valid loss: 1.1718\n",
      "Epoch [422/5000]: Train r2_score: 0.9083, Valid r2_score: 0.9736\n",
      "Epoch [422/5000]: Train smape: 17.8650, Valid smape: 10.3777\n",
      "\n"
     ]
    },
    {
     "name": "stderr",
     "output_type": "stream",
     "text": [
      "Epoch [423/5000]: 100%|██████████████████████████████████████████████████████| 9/9 [00:00<00:00, 219.51it/s, loss=4.07]\n"
     ]
    },
    {
     "name": "stdout",
     "output_type": "stream",
     "text": [
      "Epoch [423/5000]: Train loss: 3.9673, Valid loss: 0.9800\n",
      "Epoch [423/5000]: Train r2_score: 0.9024, Valid r2_score: 0.9749\n",
      "Epoch [423/5000]: Train smape: 18.0886, Valid smape: 10.2830\n",
      "\n"
     ]
    },
    {
     "name": "stderr",
     "output_type": "stream",
     "text": [
      "Epoch [424/5000]: 100%|███████████████████████████████████████████████████████| 9/9 [00:00<00:00, 213.91it/s, loss=5.6]\n"
     ]
    },
    {
     "name": "stdout",
     "output_type": "stream",
     "text": [
      "Epoch [424/5000]: Train loss: 3.7519, Valid loss: 1.1041\n",
      "Epoch [424/5000]: Train r2_score: 0.9106, Valid r2_score: 0.9749\n",
      "Epoch [424/5000]: Train smape: 18.1207, Valid smape: 10.3455\n",
      "\n"
     ]
    },
    {
     "name": "stderr",
     "output_type": "stream",
     "text": [
      "Epoch [425/5000]: 100%|██████████████████████████████████████████████████████| 9/9 [00:00<00:00, 226.03it/s, loss=4.09]\n"
     ]
    },
    {
     "name": "stdout",
     "output_type": "stream",
     "text": [
      "Epoch [425/5000]: Train loss: 3.5868, Valid loss: 1.6272\n",
      "Epoch [425/5000]: Train r2_score: 0.9124, Valid r2_score: 0.9694\n",
      "Epoch [425/5000]: Train smape: 17.8010, Valid smape: 10.8247\n",
      "\n"
     ]
    },
    {
     "name": "stderr",
     "output_type": "stream",
     "text": [
      "Epoch [426/5000]: 100%|██████████████████████████████████████████████████████| 9/9 [00:00<00:00, 225.79it/s, loss=3.98]\n"
     ]
    },
    {
     "name": "stdout",
     "output_type": "stream",
     "text": [
      "Epoch [426/5000]: Train loss: 3.6040, Valid loss: 1.0873\n",
      "Epoch [426/5000]: Train r2_score: 0.9118, Valid r2_score: 0.9720\n",
      "Epoch [426/5000]: Train smape: 17.2616, Valid smape: 10.5590\n",
      "\n"
     ]
    },
    {
     "name": "stderr",
     "output_type": "stream",
     "text": [
      "Epoch [427/5000]: 100%|███████████████████████████████████████████████████████| 9/9 [00:00<00:00, 227.38it/s, loss=3.2]\n"
     ]
    },
    {
     "name": "stdout",
     "output_type": "stream",
     "text": [
      "Epoch [427/5000]: Train loss: 3.3048, Valid loss: 1.3383\n",
      "Epoch [427/5000]: Train r2_score: 0.9184, Valid r2_score: 0.9737\n",
      "Epoch [427/5000]: Train smape: 16.6297, Valid smape: 10.4260\n",
      "\n"
     ]
    },
    {
     "name": "stderr",
     "output_type": "stream",
     "text": [
      "Epoch [428/5000]: 100%|██████████████████████████████████████████████████████| 9/9 [00:00<00:00, 216.83it/s, loss=4.42]\n"
     ]
    },
    {
     "name": "stdout",
     "output_type": "stream",
     "text": [
      "Epoch [428/5000]: Train loss: 3.6606, Valid loss: 1.0782\n",
      "Epoch [428/5000]: Train r2_score: 0.9110, Valid r2_score: 0.9735\n",
      "Epoch [428/5000]: Train smape: 17.6987, Valid smape: 10.5025\n",
      "\n"
     ]
    },
    {
     "name": "stderr",
     "output_type": "stream",
     "text": [
      "Epoch [429/5000]: 100%|██████████████████████████████████████████████████████| 9/9 [00:00<00:00, 211.11it/s, loss=2.77]\n"
     ]
    },
    {
     "name": "stdout",
     "output_type": "stream",
     "text": [
      "Epoch [429/5000]: Train loss: 3.5844, Valid loss: 1.1877\n",
      "Epoch [429/5000]: Train r2_score: 0.9103, Valid r2_score: 0.9739\n",
      "Epoch [429/5000]: Train smape: 17.3339, Valid smape: 10.4177\n",
      "\n"
     ]
    },
    {
     "name": "stderr",
     "output_type": "stream",
     "text": [
      "Epoch [430/5000]: 100%|███████████████████████████████████████████████████████| 9/9 [00:00<00:00, 220.55it/s, loss=6.5]\n"
     ]
    },
    {
     "name": "stdout",
     "output_type": "stream",
     "text": [
      "Epoch [430/5000]: Train loss: 3.7892, Valid loss: 1.2677\n",
      "Epoch [430/5000]: Train r2_score: 0.9111, Valid r2_score: 0.9699\n",
      "Epoch [430/5000]: Train smape: 17.3787, Valid smape: 10.9678\n",
      "\n"
     ]
    },
    {
     "name": "stderr",
     "output_type": "stream",
     "text": [
      "Epoch [431/5000]: 100%|███████████████████████████████████████████████████████| 9/9 [00:00<00:00, 230.77it/s, loss=4.5]\n"
     ]
    },
    {
     "name": "stdout",
     "output_type": "stream",
     "text": [
      "Epoch [431/5000]: Train loss: 3.6925, Valid loss: 1.3541\n",
      "Epoch [431/5000]: Train r2_score: 0.9103, Valid r2_score: 0.9731\n",
      "Epoch [431/5000]: Train smape: 17.1762, Valid smape: 10.4688\n",
      "\n"
     ]
    },
    {
     "name": "stderr",
     "output_type": "stream",
     "text": [
      "Epoch [432/5000]: 100%|██████████████████████████████████████████████████████| 9/9 [00:00<00:00, 225.36it/s, loss=2.87]\n"
     ]
    },
    {
     "name": "stdout",
     "output_type": "stream",
     "text": [
      "Epoch [432/5000]: Train loss: 3.6217, Valid loss: 1.1312\n",
      "Epoch [432/5000]: Train r2_score: 0.9095, Valid r2_score: 0.9717\n",
      "Epoch [432/5000]: Train smape: 17.4205, Valid smape: 10.5751\n",
      "\n"
     ]
    },
    {
     "name": "stderr",
     "output_type": "stream",
     "text": [
      "Epoch [433/5000]: 100%|██████████████████████████████████████████████████████| 9/9 [00:00<00:00, 238.59it/s, loss=2.64]\n"
     ]
    },
    {
     "name": "stdout",
     "output_type": "stream",
     "text": [
      "Epoch [433/5000]: Train loss: 3.6140, Valid loss: 1.0734\n",
      "Epoch [433/5000]: Train r2_score: 0.9093, Valid r2_score: 0.9734\n",
      "Epoch [433/5000]: Train smape: 17.3125, Valid smape: 10.4131\n",
      "\n"
     ]
    },
    {
     "name": "stderr",
     "output_type": "stream",
     "text": [
      "Epoch [434/5000]: 100%|███████████████████████████████████████████████████████| 9/9 [00:00<00:00, 228.46it/s, loss=5.4]\n"
     ]
    },
    {
     "name": "stdout",
     "output_type": "stream",
     "text": [
      "Epoch [434/5000]: Train loss: 3.8448, Valid loss: 1.0055\n",
      "Epoch [434/5000]: Train r2_score: 0.9078, Valid r2_score: 0.9742\n",
      "Epoch [434/5000]: Train smape: 17.1774, Valid smape: 10.3954\n",
      "\n"
     ]
    },
    {
     "name": "stderr",
     "output_type": "stream",
     "text": [
      "Epoch [435/5000]: 100%|██████████████████████████████████████████████████████| 9/9 [00:00<00:00, 220.81it/s, loss=3.08]\n"
     ]
    },
    {
     "name": "stdout",
     "output_type": "stream",
     "text": [
      "Epoch [435/5000]: Train loss: 3.4622, Valid loss: 1.4404\n",
      "Epoch [435/5000]: Train r2_score: 0.9140, Valid r2_score: 0.9721\n",
      "Epoch [435/5000]: Train smape: 17.2085, Valid smape: 10.6594\n",
      "\n"
     ]
    },
    {
     "name": "stderr",
     "output_type": "stream",
     "text": [
      "Epoch [436/5000]: 100%|██████████████████████████████████████████████████████| 9/9 [00:00<00:00, 226.18it/s, loss=3.84]\n"
     ]
    },
    {
     "name": "stdout",
     "output_type": "stream",
     "text": [
      "Epoch [436/5000]: Train loss: 3.5884, Valid loss: 1.1785\n",
      "Epoch [436/5000]: Train r2_score: 0.9120, Valid r2_score: 0.9719\n",
      "Epoch [436/5000]: Train smape: 17.4929, Valid smape: 10.7811\n",
      "\n"
     ]
    },
    {
     "name": "stderr",
     "output_type": "stream",
     "text": [
      "Epoch [437/5000]: 100%|██████████████████████████████████████████████████████| 9/9 [00:00<00:00, 214.29it/s, loss=3.41]\n"
     ]
    },
    {
     "name": "stdout",
     "output_type": "stream",
     "text": [
      "Epoch [437/5000]: Train loss: 3.7731, Valid loss: 1.2019\n",
      "Epoch [437/5000]: Train r2_score: 0.9064, Valid r2_score: 0.9693\n",
      "Epoch [437/5000]: Train smape: 17.8137, Valid smape: 10.8679\n",
      "\n"
     ]
    },
    {
     "name": "stderr",
     "output_type": "stream",
     "text": [
      "Epoch [438/5000]: 100%|██████████████████████████████████████████████████████| 9/9 [00:00<00:00, 227.39it/s, loss=4.18]\n"
     ]
    },
    {
     "name": "stdout",
     "output_type": "stream",
     "text": [
      "Epoch [438/5000]: Train loss: 3.5062, Valid loss: 1.2842\n",
      "Epoch [438/5000]: Train r2_score: 0.9147, Valid r2_score: 0.9703\n",
      "Epoch [438/5000]: Train smape: 17.3169, Valid smape: 10.7541\n",
      "\n"
     ]
    },
    {
     "name": "stderr",
     "output_type": "stream",
     "text": [
      "Epoch [439/5000]: 100%|██████████████████████████████████████████████████████| 9/9 [00:00<00:00, 221.09it/s, loss=5.23]\n"
     ]
    },
    {
     "name": "stdout",
     "output_type": "stream",
     "text": [
      "Epoch [439/5000]: Train loss: 3.9827, Valid loss: 1.1668\n",
      "Epoch [439/5000]: Train r2_score: 0.9039, Valid r2_score: 0.9741\n",
      "Epoch [439/5000]: Train smape: 18.1560, Valid smape: 10.4693\n",
      "\n"
     ]
    },
    {
     "name": "stderr",
     "output_type": "stream",
     "text": [
      "Epoch [440/5000]: 100%|██████████████████████████████████████████████████████| 9/9 [00:00<00:00, 220.59it/s, loss=4.53]\n"
     ]
    },
    {
     "name": "stdout",
     "output_type": "stream",
     "text": [
      "Epoch [440/5000]: Train loss: 3.7789, Valid loss: 1.1082\n",
      "Epoch [440/5000]: Train r2_score: 0.9081, Valid r2_score: 0.9743\n",
      "Epoch [440/5000]: Train smape: 17.5654, Valid smape: 10.4344\n",
      "\n"
     ]
    },
    {
     "name": "stderr",
     "output_type": "stream",
     "text": [
      "Epoch [441/5000]: 100%|██████████████████████████████████████████████████████| 9/9 [00:00<00:00, 221.07it/s, loss=2.94]\n"
     ]
    },
    {
     "name": "stdout",
     "output_type": "stream",
     "text": [
      "Epoch [441/5000]: Train loss: 3.5230, Valid loss: 1.1762\n",
      "Epoch [441/5000]: Train r2_score: 0.9122, Valid r2_score: 0.9723\n",
      "Epoch [441/5000]: Train smape: 17.3013, Valid smape: 10.6054\n",
      "\n"
     ]
    },
    {
     "name": "stderr",
     "output_type": "stream",
     "text": [
      "Epoch [442/5000]: 100%|██████████████████████████████████████████████████████| 9/9 [00:00<00:00, 205.91it/s, loss=3.02]\n"
     ]
    },
    {
     "name": "stdout",
     "output_type": "stream",
     "text": [
      "Epoch [442/5000]: Train loss: 3.3946, Valid loss: 1.2414\n",
      "Epoch [442/5000]: Train r2_score: 0.9157, Valid r2_score: 0.9721\n",
      "Epoch [442/5000]: Train smape: 16.8566, Valid smape: 10.5885\n",
      "\n"
     ]
    },
    {
     "name": "stderr",
     "output_type": "stream",
     "text": [
      "Epoch [443/5000]: 100%|██████████████████████████████████████████████████████| 9/9 [00:00<00:00, 219.51it/s, loss=4.04]\n"
     ]
    },
    {
     "name": "stdout",
     "output_type": "stream",
     "text": [
      "Epoch [443/5000]: Train loss: 3.7859, Valid loss: 1.2839\n",
      "Epoch [443/5000]: Train r2_score: 0.9071, Valid r2_score: 0.9707\n",
      "Epoch [443/5000]: Train smape: 17.4640, Valid smape: 10.6540\n",
      "\n"
     ]
    },
    {
     "name": "stderr",
     "output_type": "stream",
     "text": [
      "Epoch [444/5000]: 100%|██████████████████████████████████████████████████████| 9/9 [00:00<00:00, 219.44it/s, loss=3.81]\n"
     ]
    },
    {
     "name": "stdout",
     "output_type": "stream",
     "text": [
      "Epoch [444/5000]: Train loss: 3.6334, Valid loss: 1.1889\n",
      "Epoch [444/5000]: Train r2_score: 0.9107, Valid r2_score: 0.9725\n",
      "Epoch [444/5000]: Train smape: 17.3613, Valid smape: 10.5073\n",
      "\n"
     ]
    },
    {
     "name": "stderr",
     "output_type": "stream",
     "text": [
      "Epoch [445/5000]: 100%|██████████████████████████████████████████████████████| 9/9 [00:00<00:00, 220.10it/s, loss=3.82]\n"
     ]
    },
    {
     "name": "stdout",
     "output_type": "stream",
     "text": [
      "Epoch [445/5000]: Train loss: 3.6183, Valid loss: 1.1276\n",
      "Epoch [445/5000]: Train r2_score: 0.9112, Valid r2_score: 0.9719\n",
      "Epoch [445/5000]: Train smape: 17.4682, Valid smape: 10.5386\n",
      "\n"
     ]
    },
    {
     "name": "stderr",
     "output_type": "stream",
     "text": [
      "Epoch [446/5000]: 100%|███████████████████████████████████████████████████████| 9/9 [00:00<00:00, 224.76it/s, loss=3.1]\n"
     ]
    },
    {
     "name": "stdout",
     "output_type": "stream",
     "text": [
      "Epoch [446/5000]: Train loss: 3.7091, Valid loss: 1.0076\n",
      "Epoch [446/5000]: Train r2_score: 0.9076, Valid r2_score: 0.9739\n",
      "Epoch [446/5000]: Train smape: 17.5170, Valid smape: 10.4052\n",
      "\n"
     ]
    },
    {
     "name": "stderr",
     "output_type": "stream",
     "text": [
      "Epoch [447/5000]: 100%|██████████████████████████████████████████████████████| 9/9 [00:00<00:00, 218.32it/s, loss=2.69]\n"
     ]
    },
    {
     "name": "stdout",
     "output_type": "stream",
     "text": [
      "Epoch [447/5000]: Train loss: 3.4033, Valid loss: 1.3201\n",
      "Epoch [447/5000]: Train r2_score: 0.9150, Valid r2_score: 0.9726\n",
      "Epoch [447/5000]: Train smape: 17.2973, Valid smape: 10.5375\n",
      "\n"
     ]
    },
    {
     "name": "stderr",
     "output_type": "stream",
     "text": [
      "Epoch [448/5000]: 100%|██████████████████████████████████████████████████████| 9/9 [00:00<00:00, 225.01it/s, loss=3.04]\n"
     ]
    },
    {
     "name": "stdout",
     "output_type": "stream",
     "text": [
      "Epoch [448/5000]: Train loss: 3.4528, Valid loss: 1.2335\n",
      "Epoch [448/5000]: Train r2_score: 0.9142, Valid r2_score: 0.9731\n",
      "Epoch [448/5000]: Train smape: 17.0245, Valid smape: 10.4959\n",
      "\n"
     ]
    },
    {
     "name": "stderr",
     "output_type": "stream",
     "text": [
      "Epoch [449/5000]: 100%|██████████████████████████████████████████████████████| 9/9 [00:00<00:00, 205.11it/s, loss=3.61]\n"
     ]
    },
    {
     "name": "stdout",
     "output_type": "stream",
     "text": [
      "Epoch [449/5000]: Train loss: 3.5624, Valid loss: 1.2491\n",
      "Epoch [449/5000]: Train r2_score: 0.9123, Valid r2_score: 0.9726\n",
      "Epoch [449/5000]: Train smape: 16.7050, Valid smape: 10.5619\n",
      "\n"
     ]
    },
    {
     "name": "stderr",
     "output_type": "stream",
     "text": [
      "Epoch [450/5000]: 100%|██████████████████████████████████████████████████████| 9/9 [00:00<00:00, 207.30it/s, loss=4.53]\n"
     ]
    },
    {
     "name": "stdout",
     "output_type": "stream",
     "text": [
      "Epoch [450/5000]: Train loss: 3.7875, Valid loss: 1.5909\n",
      "Epoch [450/5000]: Train r2_score: 0.9079, Valid r2_score: 0.9704\n",
      "Epoch [450/5000]: Train smape: 17.0028, Valid smape: 10.7667\n",
      "\n"
     ]
    },
    {
     "name": "stderr",
     "output_type": "stream",
     "text": [
      "Epoch [451/5000]: 100%|██████████████████████████████████████████████████████| 9/9 [00:00<00:00, 222.01it/s, loss=4.53]\n"
     ]
    },
    {
     "name": "stdout",
     "output_type": "stream",
     "text": [
      "Epoch [451/5000]: Train loss: 3.7423, Valid loss: 1.3600\n",
      "Epoch [451/5000]: Train r2_score: 0.9091, Valid r2_score: 0.9709\n",
      "Epoch [451/5000]: Train smape: 17.4908, Valid smape: 10.6583\n",
      "\n"
     ]
    },
    {
     "name": "stderr",
     "output_type": "stream",
     "text": [
      "Epoch [452/5000]: 100%|██████████████████████████████████████████████████████| 9/9 [00:00<00:00, 228.50it/s, loss=3.56]\n"
     ]
    },
    {
     "name": "stdout",
     "output_type": "stream",
     "text": [
      "Epoch [452/5000]: Train loss: 3.4523, Valid loss: 1.2624\n",
      "Epoch [452/5000]: Train r2_score: 0.9151, Valid r2_score: 0.9729\n",
      "Epoch [452/5000]: Train smape: 16.9781, Valid smape: 10.5109\n",
      "\n"
     ]
    },
    {
     "name": "stderr",
     "output_type": "stream",
     "text": [
      "Epoch [453/5000]: 100%|██████████████████████████████████████████████████████| 9/9 [00:00<00:00, 199.18it/s, loss=2.51]\n"
     ]
    },
    {
     "name": "stdout",
     "output_type": "stream",
     "text": [
      "Epoch [453/5000]: Train loss: 3.4484, Valid loss: 1.1423\n",
      "Epoch [453/5000]: Train r2_score: 0.9135, Valid r2_score: 0.9733\n",
      "Epoch [453/5000]: Train smape: 17.2233, Valid smape: 10.4583\n",
      "\n"
     ]
    },
    {
     "name": "stderr",
     "output_type": "stream",
     "text": [
      "Epoch [454/5000]: 100%|█████████████████████████████████████████████████████████| 9/9 [00:00<00:00, 225.87it/s, loss=3]\n"
     ]
    },
    {
     "name": "stdout",
     "output_type": "stream",
     "text": [
      "Epoch [454/5000]: Train loss: 3.2213, Valid loss: 1.1688\n",
      "Epoch [454/5000]: Train r2_score: 0.9202, Valid r2_score: 0.9720\n",
      "Epoch [454/5000]: Train smape: 16.9154, Valid smape: 10.5983\n",
      "\n"
     ]
    },
    {
     "name": "stderr",
     "output_type": "stream",
     "text": [
      "Epoch [455/5000]: 100%|███████████████████████████████████████████████████████| 9/9 [00:00<00:00, 219.43it/s, loss=4.1]\n"
     ]
    },
    {
     "name": "stdout",
     "output_type": "stream",
     "text": [
      "Epoch [455/5000]: Train loss: 3.6029, Valid loss: 1.4711\n",
      "Epoch [455/5000]: Train r2_score: 0.9120, Valid r2_score: 0.9719\n",
      "Epoch [455/5000]: Train smape: 17.2326, Valid smape: 10.5156\n",
      "\n"
     ]
    },
    {
     "name": "stderr",
     "output_type": "stream",
     "text": [
      "Epoch [456/5000]: 100%|██████████████████████████████████████████████████████| 9/9 [00:00<00:00, 231.19it/s, loss=2.91]\n"
     ]
    },
    {
     "name": "stdout",
     "output_type": "stream",
     "text": [
      "Epoch [456/5000]: Train loss: 3.6069, Valid loss: 1.1589\n",
      "Epoch [456/5000]: Train r2_score: 0.9100, Valid r2_score: 0.9738\n",
      "Epoch [456/5000]: Train smape: 17.0122, Valid smape: 10.4486\n",
      "\n"
     ]
    },
    {
     "name": "stderr",
     "output_type": "stream",
     "text": [
      "Epoch [457/5000]: 100%|██████████████████████████████████████████████████████| 9/9 [00:00<00:00, 220.05it/s, loss=1.95]\n"
     ]
    },
    {
     "name": "stdout",
     "output_type": "stream",
     "text": [
      "Epoch [457/5000]: Train loss: 3.2967, Valid loss: 1.3053\n",
      "Epoch [457/5000]: Train r2_score: 0.9165, Valid r2_score: 0.9723\n",
      "Epoch [457/5000]: Train smape: 16.9217, Valid smape: 10.6017\n",
      "\n"
     ]
    },
    {
     "name": "stderr",
     "output_type": "stream",
     "text": [
      "Epoch [458/5000]: 100%|███████████████████████████████████████████████████████| 9/9 [00:00<00:00, 225.32it/s, loss=2.8]\n"
     ]
    },
    {
     "name": "stdout",
     "output_type": "stream",
     "text": [
      "Epoch [458/5000]: Train loss: 3.4577, Valid loss: 1.0175\n",
      "Epoch [458/5000]: Train r2_score: 0.9137, Valid r2_score: 0.9723\n",
      "Epoch [458/5000]: Train smape: 17.0605, Valid smape: 10.5882\n",
      "\n"
     ]
    },
    {
     "name": "stderr",
     "output_type": "stream",
     "text": [
      "Epoch [459/5000]: 100%|██████████████████████████████████████████████████████| 9/9 [00:00<00:00, 224.92it/s, loss=5.38]\n"
     ]
    },
    {
     "name": "stdout",
     "output_type": "stream",
     "text": [
      "Epoch [459/5000]: Train loss: 3.6249, Valid loss: 1.1975\n",
      "Epoch [459/5000]: Train r2_score: 0.9135, Valid r2_score: 0.9719\n",
      "Epoch [459/5000]: Train smape: 17.2311, Valid smape: 10.5961\n",
      "\n"
     ]
    },
    {
     "name": "stderr",
     "output_type": "stream",
     "text": [
      "Epoch [460/5000]: 100%|██████████████████████████████████████████████████████| 9/9 [00:00<00:00, 214.27it/s, loss=3.73]\n"
     ]
    },
    {
     "name": "stdout",
     "output_type": "stream",
     "text": [
      "Epoch [460/5000]: Train loss: 3.5189, Valid loss: 1.1717\n",
      "Epoch [460/5000]: Train r2_score: 0.9136, Valid r2_score: 0.9724\n",
      "Epoch [460/5000]: Train smape: 17.2954, Valid smape: 10.5614\n",
      "\n"
     ]
    },
    {
     "name": "stderr",
     "output_type": "stream",
     "text": [
      "Epoch [461/5000]: 100%|██████████████████████████████████████████████████████| 9/9 [00:00<00:00, 225.76it/s, loss=3.05]\n"
     ]
    },
    {
     "name": "stdout",
     "output_type": "stream",
     "text": [
      "Epoch [461/5000]: Train loss: 3.4276, Valid loss: 1.2536\n",
      "Epoch [461/5000]: Train r2_score: 0.9149, Valid r2_score: 0.9721\n",
      "Epoch [461/5000]: Train smape: 17.0830, Valid smape: 10.5598\n",
      "\n"
     ]
    },
    {
     "name": "stderr",
     "output_type": "stream",
     "text": [
      "Epoch [462/5000]: 100%|██████████████████████████████████████████████████████| 9/9 [00:00<00:00, 210.18it/s, loss=4.81]\n"
     ]
    },
    {
     "name": "stdout",
     "output_type": "stream",
     "text": [
      "Epoch [462/5000]: Train loss: 3.8985, Valid loss: 1.3435\n",
      "Epoch [462/5000]: Train r2_score: 0.9054, Valid r2_score: 0.9720\n",
      "Epoch [462/5000]: Train smape: 17.3160, Valid smape: 10.6038\n",
      "\n"
     ]
    },
    {
     "name": "stderr",
     "output_type": "stream",
     "text": [
      "Epoch [463/5000]: 100%|██████████████████████████████████████████████████████| 9/9 [00:00<00:00, 204.93it/s, loss=3.68]\n"
     ]
    },
    {
     "name": "stdout",
     "output_type": "stream",
     "text": [
      "Epoch [463/5000]: Train loss: 3.6076, Valid loss: 1.1450\n",
      "Epoch [463/5000]: Train r2_score: 0.9112, Valid r2_score: 0.9716\n",
      "Epoch [463/5000]: Train smape: 17.1857, Valid smape: 10.6798\n",
      "\n"
     ]
    },
    {
     "name": "stderr",
     "output_type": "stream",
     "text": [
      "Epoch [464/5000]: 100%|███████████████████████████████████████████████████████| 9/9 [00:00<00:00, 222.45it/s, loss=3.1]\n"
     ]
    },
    {
     "name": "stdout",
     "output_type": "stream",
     "text": [
      "Epoch [464/5000]: Train loss: 3.4824, Valid loss: 1.1647\n",
      "Epoch [464/5000]: Train r2_score: 0.9135, Valid r2_score: 0.9722\n",
      "Epoch [464/5000]: Train smape: 17.7505, Valid smape: 10.5440\n",
      "\n"
     ]
    },
    {
     "name": "stderr",
     "output_type": "stream",
     "text": [
      "Epoch [465/5000]: 100%|██████████████████████████████████████████████████████| 9/9 [00:00<00:00, 220.82it/s, loss=3.67]\n"
     ]
    },
    {
     "name": "stdout",
     "output_type": "stream",
     "text": [
      "Epoch [465/5000]: Train loss: 3.5179, Valid loss: 1.1404\n",
      "Epoch [465/5000]: Train r2_score: 0.9135, Valid r2_score: 0.9712\n",
      "Epoch [465/5000]: Train smape: 17.5388, Valid smape: 10.6439\n",
      "\n"
     ]
    },
    {
     "name": "stderr",
     "output_type": "stream",
     "text": [
      "Epoch [466/5000]: 100%|██████████████████████████████████████████████████████| 9/9 [00:00<00:00, 219.99it/s, loss=3.03]\n"
     ]
    },
    {
     "name": "stdout",
     "output_type": "stream",
     "text": [
      "Epoch [466/5000]: Train loss: 3.5359, Valid loss: 1.2865\n",
      "Epoch [466/5000]: Train r2_score: 0.9120, Valid r2_score: 0.9713\n",
      "Epoch [466/5000]: Train smape: 17.5686, Valid smape: 10.5931\n",
      "\n"
     ]
    },
    {
     "name": "stderr",
     "output_type": "stream",
     "text": [
      "Epoch [467/5000]: 100%|██████████████████████████████████████████████████████| 9/9 [00:00<00:00, 218.84it/s, loss=4.08]\n"
     ]
    },
    {
     "name": "stdout",
     "output_type": "stream",
     "text": [
      "Epoch [467/5000]: Train loss: 4.1619, Valid loss: 1.0726\n",
      "Epoch [467/5000]: Train r2_score: 0.8973, Valid r2_score: 0.9722\n",
      "Epoch [467/5000]: Train smape: 18.1121, Valid smape: 10.5216\n",
      "\n"
     ]
    },
    {
     "name": "stderr",
     "output_type": "stream",
     "text": [
      "Epoch [468/5000]: 100%|██████████████████████████████████████████████████████| 9/9 [00:00<00:00, 225.31it/s, loss=6.23]\n"
     ]
    },
    {
     "name": "stdout",
     "output_type": "stream",
     "text": [
      "Epoch [468/5000]: Train loss: 4.1964, Valid loss: 1.2373\n",
      "Epoch [468/5000]: Train r2_score: 0.8999, Valid r2_score: 0.9739\n",
      "Epoch [468/5000]: Train smape: 18.5429, Valid smape: 10.4065\n",
      "\n"
     ]
    },
    {
     "name": "stderr",
     "output_type": "stream",
     "text": [
      "Epoch [469/5000]: 100%|██████████████████████████████████████████████████████| 9/9 [00:00<00:00, 214.18it/s, loss=2.75]\n"
     ]
    },
    {
     "name": "stdout",
     "output_type": "stream",
     "text": [
      "Epoch [469/5000]: Train loss: 3.6354, Valid loss: 1.2797\n",
      "Epoch [469/5000]: Train r2_score: 0.9089, Valid r2_score: 0.9738\n",
      "Epoch [469/5000]: Train smape: 17.7024, Valid smape: 10.4506\n",
      "\n"
     ]
    },
    {
     "name": "stderr",
     "output_type": "stream",
     "text": [
      "Epoch [470/5000]: 100%|██████████████████████████████████████████████████████| 9/9 [00:00<00:00, 218.91it/s, loss=4.37]\n"
     ]
    },
    {
     "name": "stdout",
     "output_type": "stream",
     "text": [
      "Epoch [470/5000]: Train loss: 3.6809, Valid loss: 1.1612\n",
      "Epoch [470/5000]: Train r2_score: 0.9104, Valid r2_score: 0.9722\n",
      "Epoch [470/5000]: Train smape: 17.6532, Valid smape: 10.7323\n",
      "\n"
     ]
    },
    {
     "name": "stderr",
     "output_type": "stream",
     "text": [
      "Epoch [471/5000]: 100%|██████████████████████████████████████████████████████| 9/9 [00:00<00:00, 219.37it/s, loss=3.45]\n"
     ]
    },
    {
     "name": "stdout",
     "output_type": "stream",
     "text": [
      "Epoch [471/5000]: Train loss: 3.4380, Valid loss: 1.1516\n",
      "Epoch [471/5000]: Train r2_score: 0.9153, Valid r2_score: 0.9735\n",
      "Epoch [471/5000]: Train smape: 17.6185, Valid smape: 10.6506\n",
      "\n"
     ]
    },
    {
     "name": "stderr",
     "output_type": "stream",
     "text": [
      "Epoch [472/5000]: 100%|██████████████████████████████████████████████████████| 9/9 [00:00<00:00, 220.80it/s, loss=4.52]\n"
     ]
    },
    {
     "name": "stdout",
     "output_type": "stream",
     "text": [
      "Epoch [472/5000]: Train loss: 3.6133, Valid loss: 1.1016\n",
      "Epoch [472/5000]: Train r2_score: 0.9124, Valid r2_score: 0.9736\n",
      "Epoch [472/5000]: Train smape: 17.2566, Valid smape: 10.5560\n",
      "\n"
     ]
    },
    {
     "name": "stderr",
     "output_type": "stream",
     "text": [
      "Epoch [473/5000]: 100%|██████████████████████████████████████████████████████| 9/9 [00:00<00:00, 217.01it/s, loss=2.57]\n"
     ]
    },
    {
     "name": "stdout",
     "output_type": "stream",
     "text": [
      "Epoch [473/5000]: Train loss: 3.3812, Valid loss: 1.1345\n",
      "Epoch [473/5000]: Train r2_score: 0.9153, Valid r2_score: 0.9729\n",
      "Epoch [473/5000]: Train smape: 17.3008, Valid smape: 10.5035\n",
      "\n"
     ]
    },
    {
     "name": "stderr",
     "output_type": "stream",
     "text": [
      "Epoch [474/5000]: 100%|██████████████████████████████████████████████████████| 9/9 [00:00<00:00, 221.57it/s, loss=4.51]\n"
     ]
    },
    {
     "name": "stdout",
     "output_type": "stream",
     "text": [
      "Epoch [474/5000]: Train loss: 3.6134, Valid loss: 1.2713\n",
      "Epoch [474/5000]: Train r2_score: 0.9124, Valid r2_score: 0.9718\n",
      "Epoch [474/5000]: Train smape: 17.4612, Valid smape: 10.6078\n",
      "\n"
     ]
    },
    {
     "name": "stderr",
     "output_type": "stream",
     "text": [
      "Epoch [475/5000]: 100%|██████████████████████████████████████████████████████| 9/9 [00:00<00:00, 229.43it/s, loss=3.56]\n"
     ]
    },
    {
     "name": "stdout",
     "output_type": "stream",
     "text": [
      "Epoch [475/5000]: Train loss: 3.4321, Valid loss: 1.0619\n",
      "Epoch [475/5000]: Train r2_score: 0.9156, Valid r2_score: 0.9732\n",
      "Epoch [475/5000]: Train smape: 16.9085, Valid smape: 10.4460\n",
      "\n"
     ]
    },
    {
     "name": "stderr",
     "output_type": "stream",
     "text": [
      "Epoch [476/5000]: 100%|██████████████████████████████████████████████████████| 9/9 [00:00<00:00, 225.84it/s, loss=2.51]\n"
     ]
    },
    {
     "name": "stdout",
     "output_type": "stream",
     "text": [
      "Epoch [476/5000]: Train loss: 3.5401, Valid loss: 1.2335\n",
      "Epoch [476/5000]: Train r2_score: 0.9111, Valid r2_score: 0.9724\n",
      "Epoch [476/5000]: Train smape: 17.1036, Valid smape: 10.5160\n",
      "\n"
     ]
    },
    {
     "name": "stderr",
     "output_type": "stream",
     "text": [
      "Epoch [477/5000]: 100%|██████████████████████████████████████████████████████████| 9/9 [00:00<00:00, 96.92it/s, loss=3]\n"
     ]
    },
    {
     "name": "stdout",
     "output_type": "stream",
     "text": [
      "Epoch [477/5000]: Train loss: 3.6470, Valid loss: 1.1528\n",
      "Epoch [477/5000]: Train r2_score: 0.9090, Valid r2_score: 0.9726\n",
      "Epoch [477/5000]: Train smape: 17.0588, Valid smape: 10.4959\n",
      "\n"
     ]
    },
    {
     "name": "stderr",
     "output_type": "stream",
     "text": [
      "Epoch [478/5000]: 100%|█████████████████████████████████████████████████████████| 9/9 [00:00<00:00, 220.89it/s, loss=4]\n"
     ]
    },
    {
     "name": "stdout",
     "output_type": "stream",
     "text": [
      "Epoch [478/5000]: Train loss: 3.6066, Valid loss: 1.1384\n",
      "Epoch [478/5000]: Train r2_score: 0.9118, Valid r2_score: 0.9733\n",
      "Epoch [478/5000]: Train smape: 17.3595, Valid smape: 10.4370\n",
      "\n"
     ]
    },
    {
     "name": "stderr",
     "output_type": "stream",
     "text": [
      "Epoch [479/5000]: 100%|██████████████████████████████████████████████████████| 9/9 [00:00<00:00, 222.10it/s, loss=4.69]\n"
     ]
    },
    {
     "name": "stdout",
     "output_type": "stream",
     "text": [
      "Epoch [479/5000]: Train loss: 3.6979, Valid loss: 1.2531\n",
      "Epoch [479/5000]: Train r2_score: 0.9105, Valid r2_score: 0.9705\n",
      "Epoch [479/5000]: Train smape: 17.3343, Valid smape: 10.7308\n",
      "\n"
     ]
    },
    {
     "name": "stderr",
     "output_type": "stream",
     "text": [
      "Epoch [480/5000]: 100%|██████████████████████████████████████████████████████| 9/9 [00:00<00:00, 225.18it/s, loss=3.72]\n"
     ]
    },
    {
     "name": "stdout",
     "output_type": "stream",
     "text": [
      "Epoch [480/5000]: Train loss: 3.6093, Valid loss: 1.2498\n",
      "Epoch [480/5000]: Train r2_score: 0.9112, Valid r2_score: 0.9737\n",
      "Epoch [480/5000]: Train smape: 17.0554, Valid smape: 10.4462\n",
      "\n"
     ]
    },
    {
     "name": "stderr",
     "output_type": "stream",
     "text": [
      "Epoch [481/5000]: 100%|██████████████████████████████████████████████████████| 9/9 [00:00<00:00, 214.57it/s, loss=4.52]\n"
     ]
    },
    {
     "name": "stdout",
     "output_type": "stream",
     "text": [
      "Epoch [481/5000]: Train loss: 3.5936, Valid loss: 1.1193\n",
      "Epoch [481/5000]: Train r2_score: 0.9129, Valid r2_score: 0.9727\n",
      "Epoch [481/5000]: Train smape: 16.8923, Valid smape: 10.5158\n",
      "\n"
     ]
    },
    {
     "name": "stderr",
     "output_type": "stream",
     "text": [
      "Epoch [482/5000]: 100%|███████████████████████████████████████████████████████| 9/9 [00:00<00:00, 213.94it/s, loss=4.3]\n"
     ]
    },
    {
     "name": "stdout",
     "output_type": "stream",
     "text": [
      "Epoch [482/5000]: Train loss: 3.7311, Valid loss: 1.2369\n",
      "Epoch [482/5000]: Train r2_score: 0.9090, Valid r2_score: 0.9726\n",
      "Epoch [482/5000]: Train smape: 17.9190, Valid smape: 10.5339\n",
      "\n"
     ]
    },
    {
     "name": "stderr",
     "output_type": "stream",
     "text": [
      "Epoch [483/5000]: 100%|██████████████████████████████████████████████████████| 9/9 [00:00<00:00, 224.43it/s, loss=4.43]\n"
     ]
    },
    {
     "name": "stdout",
     "output_type": "stream",
     "text": [
      "Epoch [483/5000]: Train loss: 3.3533, Valid loss: 1.1444\n",
      "Epoch [483/5000]: Train r2_score: 0.9191, Valid r2_score: 0.9726\n",
      "Epoch [483/5000]: Train smape: 16.4737, Valid smape: 10.5553\n",
      "\n"
     ]
    },
    {
     "name": "stderr",
     "output_type": "stream",
     "text": [
      "Epoch [484/5000]: 100%|██████████████████████████████████████████████████████| 9/9 [00:00<00:00, 231.58it/s, loss=3.53]\n"
     ]
    },
    {
     "name": "stdout",
     "output_type": "stream",
     "text": [
      "Epoch [484/5000]: Train loss: 3.6686, Valid loss: 1.4110\n",
      "Epoch [484/5000]: Train r2_score: 0.9094, Valid r2_score: 0.9723\n",
      "Epoch [484/5000]: Train smape: 17.8967, Valid smape: 10.6109\n",
      "\n"
     ]
    },
    {
     "name": "stderr",
     "output_type": "stream",
     "text": [
      "Epoch [485/5000]: 100%|███████████████████████████████████████████████████████| 9/9 [00:00<00:00, 225.93it/s, loss=4.4]\n"
     ]
    },
    {
     "name": "stdout",
     "output_type": "stream",
     "text": [
      "Epoch [485/5000]: Train loss: 3.8036, Valid loss: 1.1950\n",
      "Epoch [485/5000]: Train r2_score: 0.9072, Valid r2_score: 0.9730\n",
      "Epoch [485/5000]: Train smape: 17.4468, Valid smape: 10.5508\n",
      "\n"
     ]
    },
    {
     "name": "stderr",
     "output_type": "stream",
     "text": [
      "Epoch [486/5000]: 100%|██████████████████████████████████████████████████████| 9/9 [00:00<00:00, 217.82it/s, loss=2.87]\n"
     ]
    },
    {
     "name": "stdout",
     "output_type": "stream",
     "text": [
      "Epoch [486/5000]: Train loss: 3.3046, Valid loss: 1.3974\n",
      "Epoch [486/5000]: Train r2_score: 0.9178, Valid r2_score: 0.9722\n",
      "Epoch [486/5000]: Train smape: 17.0043, Valid smape: 10.6349\n",
      "\n"
     ]
    },
    {
     "name": "stderr",
     "output_type": "stream",
     "text": [
      "Epoch [487/5000]: 100%|██████████████████████████████████████████████████████| 9/9 [00:00<00:00, 227.19it/s, loss=3.64]\n"
     ]
    },
    {
     "name": "stdout",
     "output_type": "stream",
     "text": [
      "Epoch [487/5000]: Train loss: 3.7680, Valid loss: 1.2762\n",
      "Epoch [487/5000]: Train r2_score: 0.9069, Valid r2_score: 0.9721\n",
      "Epoch [487/5000]: Train smape: 17.5604, Valid smape: 10.6109\n",
      "\n"
     ]
    },
    {
     "name": "stderr",
     "output_type": "stream",
     "text": [
      "Epoch [488/5000]: 100%|██████████████████████████████████████████████████████| 9/9 [00:00<00:00, 228.54it/s, loss=6.03]\n"
     ]
    },
    {
     "name": "stdout",
     "output_type": "stream",
     "text": [
      "Epoch [488/5000]: Train loss: 3.8687, Valid loss: 1.2002\n",
      "Epoch [488/5000]: Train r2_score: 0.9082, Valid r2_score: 0.9711\n",
      "Epoch [488/5000]: Train smape: 17.2888, Valid smape: 10.6671\n",
      "\n"
     ]
    },
    {
     "name": "stderr",
     "output_type": "stream",
     "text": [
      "Epoch [489/5000]: 100%|██████████████████████████████████████████████████████| 9/9 [00:00<00:00, 219.17it/s, loss=2.68]\n"
     ]
    },
    {
     "name": "stdout",
     "output_type": "stream",
     "text": [
      "Epoch [489/5000]: Train loss: 3.1616, Valid loss: 1.3647\n",
      "Epoch [489/5000]: Train r2_score: 0.9213, Valid r2_score: 0.9718\n",
      "Epoch [489/5000]: Train smape: 16.7208, Valid smape: 10.5694\n",
      "\n"
     ]
    },
    {
     "name": "stderr",
     "output_type": "stream",
     "text": [
      "Epoch [490/5000]: 100%|██████████████████████████████████████████████████████| 9/9 [00:00<00:00, 224.41it/s, loss=4.59]\n"
     ]
    },
    {
     "name": "stdout",
     "output_type": "stream",
     "text": [
      "Epoch [490/5000]: Train loss: 3.6700, Valid loss: 1.3782\n",
      "Epoch [490/5000]: Train r2_score: 0.9111, Valid r2_score: 0.9726\n",
      "Epoch [490/5000]: Train smape: 17.4454, Valid smape: 10.5043\n",
      "\n"
     ]
    },
    {
     "name": "stderr",
     "output_type": "stream",
     "text": [
      "Epoch [491/5000]: 100%|██████████████████████████████████████████████████████| 9/9 [00:00<00:00, 221.09it/s, loss=3.17]\n"
     ]
    },
    {
     "name": "stdout",
     "output_type": "stream",
     "text": [
      "Epoch [491/5000]: Train loss: 3.8523, Valid loss: 1.0455\n",
      "Epoch [491/5000]: Train r2_score: 0.9039, Valid r2_score: 0.9730\n",
      "Epoch [491/5000]: Train smape: 17.6621, Valid smape: 10.4828\n",
      "\n"
     ]
    },
    {
     "name": "stderr",
     "output_type": "stream",
     "text": [
      "Epoch [492/5000]: 100%|██████████████████████████████████████████████████████| 9/9 [00:00<00:00, 228.51it/s, loss=4.21]\n"
     ]
    },
    {
     "name": "stdout",
     "output_type": "stream",
     "text": [
      "Epoch [492/5000]: Train loss: 3.8414, Valid loss: 1.1754\n",
      "Epoch [492/5000]: Train r2_score: 0.9059, Valid r2_score: 0.9734\n",
      "Epoch [492/5000]: Train smape: 16.9787, Valid smape: 10.4785\n",
      "\n"
     ]
    },
    {
     "name": "stderr",
     "output_type": "stream",
     "text": [
      "Epoch [493/5000]: 100%|██████████████████████████████████████████████████████| 9/9 [00:00<00:00, 187.50it/s, loss=5.39]\n"
     ]
    },
    {
     "name": "stdout",
     "output_type": "stream",
     "text": [
      "Epoch [493/5000]: Train loss: 3.8543, Valid loss: 1.2887\n",
      "Epoch [493/5000]: Train r2_score: 0.9075, Valid r2_score: 0.9717\n",
      "Epoch [493/5000]: Train smape: 18.0093, Valid smape: 10.7946\n",
      "\n"
     ]
    },
    {
     "name": "stderr",
     "output_type": "stream",
     "text": [
      "Epoch [494/5000]: 100%|██████████████████████████████████████████████████████| 9/9 [00:00<00:00, 214.09it/s, loss=2.73]\n"
     ]
    },
    {
     "name": "stdout",
     "output_type": "stream",
     "text": [
      "Epoch [494/5000]: Train loss: 3.4430, Valid loss: 1.2679\n",
      "Epoch [494/5000]: Train r2_score: 0.9140, Valid r2_score: 0.9726\n",
      "Epoch [494/5000]: Train smape: 16.9562, Valid smape: 10.6171\n",
      "\n"
     ]
    },
    {
     "name": "stderr",
     "output_type": "stream",
     "text": [
      "Epoch [495/5000]: 100%|██████████████████████████████████████████████████████| 9/9 [00:00<00:00, 230.71it/s, loss=4.77]\n"
     ]
    },
    {
     "name": "stdout",
     "output_type": "stream",
     "text": [
      "Epoch [495/5000]: Train loss: 3.6286, Valid loss: 1.2208\n",
      "Epoch [495/5000]: Train r2_score: 0.9124, Valid r2_score: 0.9720\n",
      "Epoch [495/5000]: Train smape: 16.9349, Valid smape: 10.7152\n",
      "\n"
     ]
    },
    {
     "name": "stderr",
     "output_type": "stream",
     "text": [
      "Epoch [496/5000]: 100%|██████████████████████████████████████████████████████| 9/9 [00:00<00:00, 226.10it/s, loss=3.72]\n"
     ]
    },
    {
     "name": "stdout",
     "output_type": "stream",
     "text": [
      "Epoch [496/5000]: Train loss: 3.4000, Valid loss: 1.3630\n",
      "Epoch [496/5000]: Train r2_score: 0.9167, Valid r2_score: 0.9719\n",
      "Epoch [496/5000]: Train smape: 17.0650, Valid smape: 10.7271\n",
      "\n"
     ]
    },
    {
     "name": "stderr",
     "output_type": "stream",
     "text": [
      "Epoch [497/5000]: 100%|██████████████████████████████████████████████████████| 9/9 [00:00<00:00, 225.01it/s, loss=4.75]\n"
     ]
    },
    {
     "name": "stdout",
     "output_type": "stream",
     "text": [
      "Epoch [497/5000]: Train loss: 3.7570, Valid loss: 1.2096\n",
      "Epoch [497/5000]: Train r2_score: 0.9090, Valid r2_score: 0.9724\n",
      "Epoch [497/5000]: Train smape: 17.7519, Valid smape: 10.7309\n",
      "\n"
     ]
    },
    {
     "name": "stderr",
     "output_type": "stream",
     "text": [
      "Epoch [498/5000]: 100%|██████████████████████████████████████████████████████| 9/9 [00:00<00:00, 215.22it/s, loss=4.22]\n"
     ]
    },
    {
     "name": "stdout",
     "output_type": "stream",
     "text": [
      "Epoch [498/5000]: Train loss: 3.7357, Valid loss: 1.3523\n",
      "Epoch [498/5000]: Train r2_score: 0.9087, Valid r2_score: 0.9716\n",
      "Epoch [498/5000]: Train smape: 17.8034, Valid smape: 10.8402\n",
      "\n"
     ]
    },
    {
     "name": "stderr",
     "output_type": "stream",
     "text": [
      "Epoch [499/5000]: 100%|██████████████████████████████████████████████████████| 9/9 [00:00<00:00, 233.42it/s, loss=3.78]\n"
     ]
    },
    {
     "name": "stdout",
     "output_type": "stream",
     "text": [
      "Epoch [499/5000]: Train loss: 3.4021, Valid loss: 1.1555\n",
      "Epoch [499/5000]: Train r2_score: 0.9168, Valid r2_score: 0.9713\n",
      "Epoch [499/5000]: Train smape: 16.9085, Valid smape: 10.7181\n",
      "\n"
     ]
    },
    {
     "name": "stderr",
     "output_type": "stream",
     "text": [
      "Epoch [500/5000]: 100%|██████████████████████████████████████████████████████| 9/9 [00:00<00:00, 218.92it/s, loss=3.97]\n"
     ]
    },
    {
     "name": "stdout",
     "output_type": "stream",
     "text": [
      "Epoch [500/5000]: Train loss: 3.6800, Valid loss: 1.0848\n",
      "Epoch [500/5000]: Train r2_score: 0.9098, Valid r2_score: 0.9730\n",
      "Epoch [500/5000]: Train smape: 17.1829, Valid smape: 10.5617\n",
      "\n"
     ]
    },
    {
     "name": "stderr",
     "output_type": "stream",
     "text": [
      "Epoch [501/5000]: 100%|██████████████████████████████████████████████████████| 9/9 [00:00<00:00, 233.38it/s, loss=3.76]\n"
     ]
    },
    {
     "name": "stdout",
     "output_type": "stream",
     "text": [
      "Epoch [501/5000]: Train loss: 3.4839, Valid loss: 1.3507\n",
      "Epoch [501/5000]: Train r2_score: 0.9146, Valid r2_score: 0.9721\n",
      "Epoch [501/5000]: Train smape: 17.1583, Valid smape: 10.6563\n",
      "\n"
     ]
    },
    {
     "name": "stderr",
     "output_type": "stream",
     "text": [
      "Epoch [502/5000]: 100%|██████████████████████████████████████████████████████| 9/9 [00:00<00:00, 237.37it/s, loss=3.36]\n"
     ]
    },
    {
     "name": "stdout",
     "output_type": "stream",
     "text": [
      "Epoch [502/5000]: Train loss: 3.4175, Valid loss: 1.0882\n",
      "Epoch [502/5000]: Train r2_score: 0.9157, Valid r2_score: 0.9724\n",
      "Epoch [502/5000]: Train smape: 17.1391, Valid smape: 10.6035\n",
      "\n"
     ]
    },
    {
     "name": "stderr",
     "output_type": "stream",
     "text": [
      "Epoch [503/5000]: 100%|██████████████████████████████████████████████████████| 9/9 [00:00<00:00, 224.62it/s, loss=3.38]\n"
     ]
    },
    {
     "name": "stdout",
     "output_type": "stream",
     "text": [
      "Epoch [503/5000]: Train loss: 3.5525, Valid loss: 1.2214\n",
      "Epoch [503/5000]: Train r2_score: 0.9122, Valid r2_score: 0.9720\n",
      "Epoch [503/5000]: Train smape: 17.1675, Valid smape: 10.6876\n",
      "\n"
     ]
    },
    {
     "name": "stderr",
     "output_type": "stream",
     "text": [
      "Epoch [504/5000]: 100%|██████████████████████████████████████████████████████| 9/9 [00:00<00:00, 220.20it/s, loss=2.07]\n"
     ]
    },
    {
     "name": "stdout",
     "output_type": "stream",
     "text": [
      "Epoch [504/5000]: Train loss: 3.5159, Valid loss: 1.0809\n",
      "Epoch [504/5000]: Train r2_score: 0.9110, Valid r2_score: 0.9730\n",
      "Epoch [504/5000]: Train smape: 17.2157, Valid smape: 10.5064\n",
      "\n"
     ]
    },
    {
     "name": "stderr",
     "output_type": "stream",
     "text": [
      "Epoch [505/5000]: 100%|██████████████████████████████████████████████████████| 9/9 [00:00<00:00, 236.09it/s, loss=3.18]\n"
     ]
    },
    {
     "name": "stdout",
     "output_type": "stream",
     "text": [
      "Epoch [505/5000]: Train loss: 3.2636, Valid loss: 1.1688\n",
      "Epoch [505/5000]: Train r2_score: 0.9194, Valid r2_score: 0.9731\n",
      "Epoch [505/5000]: Train smape: 17.0331, Valid smape: 10.4884\n",
      "\n"
     ]
    },
    {
     "name": "stderr",
     "output_type": "stream",
     "text": [
      "Epoch [506/5000]: 100%|██████████████████████████████████████████████████████| 9/9 [00:00<00:00, 239.24it/s, loss=3.21]\n"
     ]
    },
    {
     "name": "stdout",
     "output_type": "stream",
     "text": [
      "Epoch [506/5000]: Train loss: 3.5686, Valid loss: 1.3495\n",
      "Epoch [506/5000]: Train r2_score: 0.9115, Valid r2_score: 0.9730\n",
      "Epoch [506/5000]: Train smape: 16.9624, Valid smape: 10.4787\n",
      "\n"
     ]
    },
    {
     "name": "stderr",
     "output_type": "stream",
     "text": [
      "Epoch [507/5000]: 100%|█████████████████████████████████████████████████████████| 9/9 [00:00<00:00, 232.02it/s, loss=3]\n"
     ]
    },
    {
     "name": "stdout",
     "output_type": "stream",
     "text": [
      "Epoch [507/5000]: Train loss: 3.6144, Valid loss: 1.1912\n",
      "Epoch [507/5000]: Train r2_score: 0.9099, Valid r2_score: 0.9731\n",
      "Epoch [507/5000]: Train smape: 17.5881, Valid smape: 10.5310\n",
      "\n"
     ]
    },
    {
     "name": "stderr",
     "output_type": "stream",
     "text": [
      "Epoch [508/5000]: 100%|██████████████████████████████████████████████████████| 9/9 [00:00<00:00, 219.81it/s, loss=3.79]\n"
     ]
    },
    {
     "name": "stdout",
     "output_type": "stream",
     "text": [
      "Epoch [508/5000]: Train loss: 3.4289, Valid loss: 1.2153\n",
      "Epoch [508/5000]: Train r2_score: 0.9161, Valid r2_score: 0.9738\n",
      "Epoch [508/5000]: Train smape: 16.6823, Valid smape: 10.4568\n",
      "\n"
     ]
    },
    {
     "name": "stderr",
     "output_type": "stream",
     "text": [
      "Epoch [509/5000]: 100%|██████████████████████████████████████████████████████| 9/9 [00:00<00:00, 215.34it/s, loss=9.53]\n"
     ]
    },
    {
     "name": "stdout",
     "output_type": "stream",
     "text": [
      "Epoch [509/5000]: Train loss: 4.2061, Valid loss: 1.3812\n",
      "Epoch [509/5000]: Train r2_score: 0.9051, Valid r2_score: 0.9717\n",
      "Epoch [509/5000]: Train smape: 17.1092, Valid smape: 10.7066\n",
      "\n"
     ]
    },
    {
     "name": "stderr",
     "output_type": "stream",
     "text": [
      "Epoch [510/5000]: 100%|██████████████████████████████████████████████████████| 9/9 [00:00<00:00, 224.86it/s, loss=6.16]\n"
     ]
    },
    {
     "name": "stdout",
     "output_type": "stream",
     "text": [
      "Epoch [510/5000]: Train loss: 3.6462, Valid loss: 1.3357\n",
      "Epoch [510/5000]: Train r2_score: 0.9143, Valid r2_score: 0.9713\n",
      "Epoch [510/5000]: Train smape: 17.4642, Valid smape: 10.6928\n",
      "\n"
     ]
    },
    {
     "name": "stderr",
     "output_type": "stream",
     "text": [
      "Epoch [511/5000]: 100%|███████████████████████████████████████████████████████| 9/9 [00:00<00:00, 237.90it/s, loss=3.3]\n"
     ]
    },
    {
     "name": "stdout",
     "output_type": "stream",
     "text": [
      "Epoch [511/5000]: Train loss: 3.4248, Valid loss: 1.4267\n",
      "Epoch [511/5000]: Train r2_score: 0.9154, Valid r2_score: 0.9711\n",
      "Epoch [511/5000]: Train smape: 16.9622, Valid smape: 10.6405\n",
      "\n"
     ]
    },
    {
     "name": "stderr",
     "output_type": "stream",
     "text": [
      "Epoch [512/5000]: 100%|██████████████████████████████████████████████████████| 9/9 [00:00<00:00, 242.98it/s, loss=2.97]\n"
     ]
    },
    {
     "name": "stdout",
     "output_type": "stream",
     "text": [
      "Epoch [512/5000]: Train loss: 3.4467, Valid loss: 1.0814\n",
      "Epoch [512/5000]: Train r2_score: 0.9143, Valid r2_score: 0.9743\n",
      "Epoch [512/5000]: Train smape: 16.9306, Valid smape: 10.3653\n",
      "\n"
     ]
    },
    {
     "name": "stderr",
     "output_type": "stream",
     "text": [
      "Epoch [513/5000]: 100%|██████████████████████████████████████████████████████| 9/9 [00:00<00:00, 242.23it/s, loss=2.83]\n"
     ]
    },
    {
     "name": "stdout",
     "output_type": "stream",
     "text": [
      "Epoch [513/5000]: Train loss: 3.5483, Valid loss: 1.4038\n",
      "Epoch [513/5000]: Train r2_score: 0.9114, Valid r2_score: 0.9741\n",
      "Epoch [513/5000]: Train smape: 17.1271, Valid smape: 10.4639\n",
      "\n"
     ]
    },
    {
     "name": "stderr",
     "output_type": "stream",
     "text": [
      "Epoch [514/5000]: 100%|██████████████████████████████████████████████████████| 9/9 [00:00<00:00, 240.94it/s, loss=3.57]\n"
     ]
    },
    {
     "name": "stdout",
     "output_type": "stream",
     "text": [
      "Epoch [514/5000]: Train loss: 3.7238, Valid loss: 1.5512\n",
      "Epoch [514/5000]: Train r2_score: 0.9080, Valid r2_score: 0.9626\n",
      "Epoch [514/5000]: Train smape: 17.3700, Valid smape: 11.4103\n",
      "\n"
     ]
    },
    {
     "name": "stderr",
     "output_type": "stream",
     "text": [
      "Epoch [515/5000]: 100%|██████████████████████████████████████████████████████| 9/9 [00:00<00:00, 240.08it/s, loss=4.91]\n"
     ]
    },
    {
     "name": "stdout",
     "output_type": "stream",
     "text": [
      "Epoch [515/5000]: Train loss: 3.9528, Valid loss: 1.0856\n",
      "Epoch [515/5000]: Train r2_score: 0.9042, Valid r2_score: 0.9740\n",
      "Epoch [515/5000]: Train smape: 17.0900, Valid smape: 10.4603\n",
      "\n"
     ]
    },
    {
     "name": "stderr",
     "output_type": "stream",
     "text": [
      "Epoch [516/5000]: 100%|██████████████████████████████████████████████████████| 9/9 [00:00<00:00, 242.90it/s, loss=2.64]\n"
     ]
    },
    {
     "name": "stdout",
     "output_type": "stream",
     "text": [
      "Epoch [516/5000]: Train loss: 3.2834, Valid loss: 1.2634\n",
      "Epoch [516/5000]: Train r2_score: 0.9180, Valid r2_score: 0.9681\n",
      "Epoch [516/5000]: Train smape: 16.9252, Valid smape: 11.0490\n",
      "\n"
     ]
    },
    {
     "name": "stderr",
     "output_type": "stream",
     "text": [
      "Epoch [517/5000]: 100%|██████████████████████████████████████████████████████| 9/9 [00:00<00:00, 231.36it/s, loss=2.87]\n"
     ]
    },
    {
     "name": "stdout",
     "output_type": "stream",
     "text": [
      "Epoch [517/5000]: Train loss: 3.3851, Valid loss: 1.0626\n",
      "Epoch [517/5000]: Train r2_score: 0.9157, Valid r2_score: 0.9730\n",
      "Epoch [517/5000]: Train smape: 16.9695, Valid smape: 10.5099\n",
      "\n"
     ]
    },
    {
     "name": "stderr",
     "output_type": "stream",
     "text": [
      "Epoch [518/5000]: 100%|██████████████████████████████████████████████████████| 9/9 [00:00<00:00, 225.68it/s, loss=2.68]"
     ]
    },
    {
     "name": "stdout",
     "output_type": "stream",
     "text": [
      "Epoch [518/5000]: Train loss: 3.5636, Valid loss: 1.1617\n",
      "Epoch [518/5000]: Train r2_score: 0.9107, Valid r2_score: 0.9737\n",
      "Epoch [518/5000]: Train smape: 17.2191, Valid smape: 10.4972\n",
      "\n"
     ]
    },
    {
     "name": "stderr",
     "output_type": "stream",
     "text": [
      "\n",
      "Epoch [519/5000]: 100%|██████████████████████████████████████████████████████| 9/9 [00:00<00:00, 226.45it/s, loss=2.81]\n"
     ]
    },
    {
     "name": "stdout",
     "output_type": "stream",
     "text": [
      "Epoch [519/5000]: Train loss: 3.3757, Valid loss: 1.3278\n",
      "Epoch [519/5000]: Train r2_score: 0.9159, Valid r2_score: 0.9717\n",
      "Epoch [519/5000]: Train smape: 16.9181, Valid smape: 10.7006\n",
      "\n"
     ]
    },
    {
     "name": "stderr",
     "output_type": "stream",
     "text": [
      "Epoch [520/5000]: 100%|██████████████████████████████████████████████████████| 9/9 [00:00<00:00, 241.27it/s, loss=3.44]\n"
     ]
    },
    {
     "name": "stdout",
     "output_type": "stream",
     "text": [
      "Epoch [520/5000]: Train loss: 3.5492, Valid loss: 1.1405\n",
      "Epoch [520/5000]: Train r2_score: 0.9123, Valid r2_score: 0.9736\n",
      "Epoch [520/5000]: Train smape: 17.4065, Valid smape: 10.5075\n",
      "\n"
     ]
    },
    {
     "name": "stderr",
     "output_type": "stream",
     "text": [
      "Epoch [521/5000]: 100%|██████████████████████████████████████████████████████| 9/9 [00:00<00:00, 246.23it/s, loss=3.34]\n"
     ]
    },
    {
     "name": "stdout",
     "output_type": "stream",
     "text": [
      "Epoch [521/5000]: Train loss: 3.5576, Valid loss: 1.2387\n",
      "Epoch [521/5000]: Train r2_score: 0.9120, Valid r2_score: 0.9719\n",
      "Epoch [521/5000]: Train smape: 16.8444, Valid smape: 10.6491\n",
      "\n"
     ]
    },
    {
     "name": "stderr",
     "output_type": "stream",
     "text": [
      "Epoch [522/5000]: 100%|██████████████████████████████████████████████████████| 9/9 [00:00<00:00, 229.27it/s, loss=4.05]\n"
     ]
    },
    {
     "name": "stdout",
     "output_type": "stream",
     "text": [
      "Epoch [522/5000]: Train loss: 3.6915, Valid loss: 1.3865\n",
      "Epoch [522/5000]: Train r2_score: 0.9096, Valid r2_score: 0.9707\n",
      "Epoch [522/5000]: Train smape: 16.7676, Valid smape: 10.6334\n",
      "\n"
     ]
    },
    {
     "name": "stderr",
     "output_type": "stream",
     "text": [
      "Epoch [523/5000]: 100%|██████████████████████████████████████████████████████| 9/9 [00:00<00:00, 238.14it/s, loss=3.96]\n"
     ]
    },
    {
     "name": "stdout",
     "output_type": "stream",
     "text": [
      "Epoch [523/5000]: Train loss: 3.8004, Valid loss: 1.0984\n",
      "Epoch [523/5000]: Train r2_score: 0.9066, Valid r2_score: 0.9738\n",
      "Epoch [523/5000]: Train smape: 18.0137, Valid smape: 10.4752\n",
      "\n"
     ]
    },
    {
     "name": "stderr",
     "output_type": "stream",
     "text": [
      "Epoch [524/5000]: 100%|█████████████████████████████████████████████████████████| 9/9 [00:00<00:00, 229.75it/s, loss=8]\n"
     ]
    },
    {
     "name": "stdout",
     "output_type": "stream",
     "text": [
      "Epoch [524/5000]: Train loss: 4.0150, Valid loss: 1.7221\n",
      "Epoch [524/5000]: Train r2_score: 0.9076, Valid r2_score: 0.9677\n",
      "Epoch [524/5000]: Train smape: 17.3894, Valid smape: 10.9905\n",
      "\n"
     ]
    },
    {
     "name": "stderr",
     "output_type": "stream",
     "text": [
      "Epoch [525/5000]: 100%|██████████████████████████████████████████████████████| 9/9 [00:00<00:00, 223.83it/s, loss=3.56]\n"
     ]
    },
    {
     "name": "stdout",
     "output_type": "stream",
     "text": [
      "Epoch [525/5000]: Train loss: 3.4791, Valid loss: 1.4403\n",
      "Epoch [525/5000]: Train r2_score: 0.9144, Valid r2_score: 0.9706\n",
      "Epoch [525/5000]: Train smape: 16.8118, Valid smape: 10.7753\n",
      "\n"
     ]
    },
    {
     "name": "stderr",
     "output_type": "stream",
     "text": [
      "Epoch [526/5000]: 100%|██████████████████████████████████████████████████████| 9/9 [00:00<00:00, 237.66it/s, loss=4.47]\n"
     ]
    },
    {
     "name": "stdout",
     "output_type": "stream",
     "text": [
      "Epoch [526/5000]: Train loss: 3.5587, Valid loss: 1.2420\n",
      "Epoch [526/5000]: Train r2_score: 0.9138, Valid r2_score: 0.9738\n",
      "Epoch [526/5000]: Train smape: 16.5512, Valid smape: 10.5898\n",
      "\n"
     ]
    },
    {
     "name": "stderr",
     "output_type": "stream",
     "text": [
      "Epoch [527/5000]: 100%|██████████████████████████████████████████████████████| 9/9 [00:00<00:00, 203.59it/s, loss=4.82]\n"
     ]
    },
    {
     "name": "stdout",
     "output_type": "stream",
     "text": [
      "Epoch [527/5000]: Train loss: 3.5299, Valid loss: 1.1802\n",
      "Epoch [527/5000]: Train r2_score: 0.9151, Valid r2_score: 0.9704\n",
      "Epoch [527/5000]: Train smape: 16.5915, Valid smape: 10.7892\n",
      "\n"
     ]
    },
    {
     "name": "stderr",
     "output_type": "stream",
     "text": [
      "Epoch [528/5000]: 100%|██████████████████████████████████████████████████████| 9/9 [00:00<00:00, 215.04it/s, loss=4.01]\n"
     ]
    },
    {
     "name": "stdout",
     "output_type": "stream",
     "text": [
      "Epoch [528/5000]: Train loss: 3.4252, Valid loss: 1.2469\n",
      "Epoch [528/5000]: Train r2_score: 0.9165, Valid r2_score: 0.9742\n",
      "Epoch [528/5000]: Train smape: 16.4277, Valid smape: 10.4783\n",
      "\n"
     ]
    },
    {
     "name": "stderr",
     "output_type": "stream",
     "text": [
      "Epoch [529/5000]: 100%|██████████████████████████████████████████████████████| 9/9 [00:00<00:00, 171.14it/s, loss=4.57]\n"
     ]
    },
    {
     "name": "stdout",
     "output_type": "stream",
     "text": [
      "Epoch [529/5000]: Train loss: 3.5819, Valid loss: 1.8387\n",
      "Epoch [529/5000]: Train r2_score: 0.9133, Valid r2_score: 0.9562\n",
      "Epoch [529/5000]: Train smape: 17.1120, Valid smape: 11.9792\n",
      "\n"
     ]
    },
    {
     "name": "stderr",
     "output_type": "stream",
     "text": [
      "Epoch [530/5000]: 100%|██████████████████████████████████████████████████████| 9/9 [00:00<00:00, 206.03it/s, loss=3.25]\n"
     ]
    },
    {
     "name": "stdout",
     "output_type": "stream",
     "text": [
      "Epoch [530/5000]: Train loss: 3.5738, Valid loss: 0.9875\n",
      "Epoch [530/5000]: Train r2_score: 0.9114, Valid r2_score: 0.9744\n",
      "Epoch [530/5000]: Train smape: 16.9171, Valid smape: 10.4276\n",
      "\n"
     ]
    },
    {
     "name": "stderr",
     "output_type": "stream",
     "text": [
      "Epoch [531/5000]: 100%|██████████████████████████████████████████████████████| 9/9 [00:00<00:00, 199.27it/s, loss=3.09]\n"
     ]
    },
    {
     "name": "stdout",
     "output_type": "stream",
     "text": [
      "Epoch [531/5000]: Train loss: 3.3765, Valid loss: 1.3151\n",
      "Epoch [531/5000]: Train r2_score: 0.9163, Valid r2_score: 0.9737\n",
      "Epoch [531/5000]: Train smape: 16.8815, Valid smape: 10.4369\n",
      "\n"
     ]
    },
    {
     "name": "stderr",
     "output_type": "stream",
     "text": [
      "Epoch [532/5000]: 100%|██████████████████████████████████████████████████████| 9/9 [00:00<00:00, 211.34it/s, loss=3.12]\n"
     ]
    },
    {
     "name": "stdout",
     "output_type": "stream",
     "text": [
      "Epoch [532/5000]: Train loss: 3.3307, Valid loss: 1.1324\n",
      "Epoch [532/5000]: Train r2_score: 0.9176, Valid r2_score: 0.9743\n",
      "Epoch [532/5000]: Train smape: 16.4823, Valid smape: 10.4631\n",
      "\n"
     ]
    },
    {
     "name": "stderr",
     "output_type": "stream",
     "text": [
      "Epoch [533/5000]: 100%|███████████████████████████████████████████████████████| 9/9 [00:00<00:00, 209.30it/s, loss=3.5]\n"
     ]
    },
    {
     "name": "stdout",
     "output_type": "stream",
     "text": [
      "Epoch [533/5000]: Train loss: 3.3357, Valid loss: 1.2385\n",
      "Epoch [533/5000]: Train r2_score: 0.9181, Valid r2_score: 0.9714\n",
      "Epoch [533/5000]: Train smape: 16.9973, Valid smape: 10.8249\n",
      "\n"
     ]
    },
    {
     "name": "stderr",
     "output_type": "stream",
     "text": [
      "Epoch [534/5000]: 100%|██████████████████████████████████████████████████████| 9/9 [00:00<00:00, 196.41it/s, loss=3.92]\n"
     ]
    },
    {
     "name": "stdout",
     "output_type": "stream",
     "text": [
      "Epoch [534/5000]: Train loss: 3.2771, Valid loss: 1.5100\n",
      "Epoch [534/5000]: Train r2_score: 0.9203, Valid r2_score: 0.9668\n",
      "Epoch [534/5000]: Train smape: 16.3131, Valid smape: 10.9956\n",
      "\n"
     ]
    },
    {
     "name": "stderr",
     "output_type": "stream",
     "text": [
      "Epoch [535/5000]: 100%|██████████████████████████████████████████████████████| 9/9 [00:00<00:00, 194.48it/s, loss=4.21]\n"
     ]
    },
    {
     "name": "stdout",
     "output_type": "stream",
     "text": [
      "Epoch [535/5000]: Train loss: 3.5939, Valid loss: 1.2689\n",
      "Epoch [535/5000]: Train r2_score: 0.9124, Valid r2_score: 0.9718\n",
      "Epoch [535/5000]: Train smape: 16.4057, Valid smape: 10.6001\n",
      "\n"
     ]
    },
    {
     "name": "stderr",
     "output_type": "stream",
     "text": [
      "Epoch [536/5000]: 100%|███████████████████████████████████████████████████████| 9/9 [00:00<00:00, 72.18it/s, loss=3.87]\n"
     ]
    },
    {
     "name": "stdout",
     "output_type": "stream",
     "text": [
      "Epoch [536/5000]: Train loss: 3.2561, Valid loss: 1.0986\n",
      "Epoch [536/5000]: Train r2_score: 0.9207, Valid r2_score: 0.9741\n",
      "Epoch [536/5000]: Train smape: 16.8845, Valid smape: 10.5396\n",
      "\n"
     ]
    },
    {
     "name": "stderr",
     "output_type": "stream",
     "text": [
      "Epoch [537/5000]: 100%|██████████████████████████████████████████████████████| 9/9 [00:00<00:00, 171.47it/s, loss=2.89]\n"
     ]
    },
    {
     "name": "stdout",
     "output_type": "stream",
     "text": [
      "Epoch [537/5000]: Train loss: 3.2376, Valid loss: 1.2946\n",
      "Epoch [537/5000]: Train r2_score: 0.9196, Valid r2_score: 0.9693\n",
      "Epoch [537/5000]: Train smape: 16.4901, Valid smape: 10.8506\n",
      "\n"
     ]
    },
    {
     "name": "stderr",
     "output_type": "stream",
     "text": [
      "Epoch [538/5000]: 100%|███████████████████████████████████████████████████████| 9/9 [00:00<00:00, 158.68it/s, loss=3.1]\n"
     ]
    },
    {
     "name": "stdout",
     "output_type": "stream",
     "text": [
      "Epoch [538/5000]: Train loss: 3.3272, Valid loss: 1.2318\n",
      "Epoch [538/5000]: Train r2_score: 0.9176, Valid r2_score: 0.9733\n",
      "Epoch [538/5000]: Train smape: 16.2540, Valid smape: 10.4679\n",
      "\n"
     ]
    },
    {
     "name": "stderr",
     "output_type": "stream",
     "text": [
      "Epoch [539/5000]: 100%|██████████████████████████████████████████████████████| 9/9 [00:00<00:00, 157.79it/s, loss=4.42]\n"
     ]
    },
    {
     "name": "stdout",
     "output_type": "stream",
     "text": [
      "Epoch [539/5000]: Train loss: 3.7352, Valid loss: 1.1853\n",
      "Epoch [539/5000]: Train r2_score: 0.9091, Valid r2_score: 0.9728\n",
      "Epoch [539/5000]: Train smape: 16.5669, Valid smape: 10.5694\n",
      "\n"
     ]
    },
    {
     "name": "stderr",
     "output_type": "stream",
     "text": [
      "Epoch [540/5000]: 100%|██████████████████████████████████████████████████████| 9/9 [00:00<00:00, 150.50it/s, loss=4.28]\n"
     ]
    },
    {
     "name": "stdout",
     "output_type": "stream",
     "text": [
      "Epoch [540/5000]: Train loss: 3.3081, Valid loss: 1.2175\n",
      "Epoch [540/5000]: Train r2_score: 0.9201, Valid r2_score: 0.9684\n",
      "Epoch [540/5000]: Train smape: 16.6897, Valid smape: 10.9175\n",
      "\n"
     ]
    },
    {
     "name": "stderr",
     "output_type": "stream",
     "text": [
      "Epoch [541/5000]: 100%|██████████████████████████████████████████████████████| 9/9 [00:00<00:00, 141.64it/s, loss=4.03]\n"
     ]
    },
    {
     "name": "stdout",
     "output_type": "stream",
     "text": [
      "Epoch [541/5000]: Train loss: 3.5786, Valid loss: 1.1379\n",
      "Epoch [541/5000]: Train r2_score: 0.9125, Valid r2_score: 0.9731\n",
      "Epoch [541/5000]: Train smape: 16.8676, Valid smape: 10.6008\n",
      "\n"
     ]
    },
    {
     "name": "stderr",
     "output_type": "stream",
     "text": [
      "Epoch [542/5000]: 100%|██████████████████████████████████████████████████████| 9/9 [00:00<00:00, 158.05it/s, loss=3.48]\n"
     ]
    },
    {
     "name": "stdout",
     "output_type": "stream",
     "text": [
      "Epoch [542/5000]: Train loss: 3.3319, Valid loss: 1.1621\n",
      "Epoch [542/5000]: Train r2_score: 0.9181, Valid r2_score: 0.9742\n",
      "Epoch [542/5000]: Train smape: 16.4470, Valid smape: 10.5186\n",
      "\n"
     ]
    },
    {
     "name": "stderr",
     "output_type": "stream",
     "text": [
      "Epoch [543/5000]: 100%|██████████████████████████████████████████████████████| 9/9 [00:00<00:00, 187.07it/s, loss=3.92]\n"
     ]
    },
    {
     "name": "stdout",
     "output_type": "stream",
     "text": [
      "Epoch [543/5000]: Train loss: 3.3900, Valid loss: 1.5448\n",
      "Epoch [543/5000]: Train r2_score: 0.9173, Valid r2_score: 0.9719\n",
      "Epoch [543/5000]: Train smape: 16.2226, Valid smape: 10.7883\n",
      "\n"
     ]
    },
    {
     "name": "stderr",
     "output_type": "stream",
     "text": [
      "Epoch [544/5000]: 100%|██████████████████████████████████████████████████████| 9/9 [00:00<00:00, 189.31it/s, loss=4.54]\n"
     ]
    },
    {
     "name": "stdout",
     "output_type": "stream",
     "text": [
      "Epoch [544/5000]: Train loss: 3.6193, Valid loss: 1.1800\n",
      "Epoch [544/5000]: Train r2_score: 0.9123, Valid r2_score: 0.9707\n",
      "Epoch [544/5000]: Train smape: 16.7539, Valid smape: 10.5738\n",
      "\n"
     ]
    },
    {
     "name": "stderr",
     "output_type": "stream",
     "text": [
      "Epoch [545/5000]: 100%|██████████████████████████████████████████████████████| 9/9 [00:00<00:00, 194.90it/s, loss=3.92]\n"
     ]
    },
    {
     "name": "stdout",
     "output_type": "stream",
     "text": [
      "Epoch [545/5000]: Train loss: 3.2731, Valid loss: 1.3765\n",
      "Epoch [545/5000]: Train r2_score: 0.9204, Valid r2_score: 0.9689\n",
      "Epoch [545/5000]: Train smape: 16.3308, Valid smape: 10.9287\n",
      "\n"
     ]
    },
    {
     "name": "stderr",
     "output_type": "stream",
     "text": [
      "Epoch [546/5000]: 100%|██████████████████████████████████████████████████████| 9/9 [00:00<00:00, 184.43it/s, loss=2.95]\n"
     ]
    },
    {
     "name": "stdout",
     "output_type": "stream",
     "text": [
      "Epoch [546/5000]: Train loss: 3.2969, Valid loss: 1.4081\n",
      "Epoch [546/5000]: Train r2_score: 0.9182, Valid r2_score: 0.9650\n",
      "Epoch [546/5000]: Train smape: 16.3960, Valid smape: 11.3770\n",
      "\n"
     ]
    },
    {
     "name": "stderr",
     "output_type": "stream",
     "text": [
      "Epoch [547/5000]: 100%|██████████████████████████████████████████████████████| 9/9 [00:00<00:00, 204.46it/s, loss=2.83]\n"
     ]
    },
    {
     "name": "stdout",
     "output_type": "stream",
     "text": [
      "Epoch [547/5000]: Train loss: 3.3288, Valid loss: 1.4749\n",
      "Epoch [547/5000]: Train r2_score: 0.9171, Valid r2_score: 0.9723\n",
      "Epoch [547/5000]: Train smape: 16.8361, Valid smape: 10.5748\n",
      "\n"
     ]
    },
    {
     "name": "stderr",
     "output_type": "stream",
     "text": [
      "Epoch [548/5000]: 100%|██████████████████████████████████████████████████████| 9/9 [00:00<00:00, 197.69it/s, loss=3.31]\n"
     ]
    },
    {
     "name": "stdout",
     "output_type": "stream",
     "text": [
      "Epoch [548/5000]: Train loss: 3.2989, Valid loss: 1.4155\n",
      "Epoch [548/5000]: Train r2_score: 0.9187, Valid r2_score: 0.9735\n",
      "Epoch [548/5000]: Train smape: 16.6216, Valid smape: 10.5503\n",
      "\n"
     ]
    },
    {
     "name": "stderr",
     "output_type": "stream",
     "text": [
      "Epoch [549/5000]: 100%|██████████████████████████████████████████████████████| 9/9 [00:00<00:00, 188.67it/s, loss=3.75]\n"
     ]
    },
    {
     "name": "stdout",
     "output_type": "stream",
     "text": [
      "Epoch [549/5000]: Train loss: 3.5749, Valid loss: 1.2665\n",
      "Epoch [549/5000]: Train r2_score: 0.9122, Valid r2_score: 0.9685\n",
      "Epoch [549/5000]: Train smape: 16.6703, Valid smape: 10.8816\n",
      "\n"
     ]
    },
    {
     "name": "stderr",
     "output_type": "stream",
     "text": [
      "Epoch [550/5000]: 100%|██████████████████████████████████████████████████████| 9/9 [00:00<00:00, 157.04it/s, loss=4.56]\n"
     ]
    },
    {
     "name": "stdout",
     "output_type": "stream",
     "text": [
      "Epoch [550/5000]: Train loss: 3.2266, Valid loss: 1.3777\n",
      "Epoch [550/5000]: Train r2_score: 0.9227, Valid r2_score: 0.9727\n",
      "Epoch [550/5000]: Train smape: 16.1399, Valid smape: 10.5355\n",
      "\n"
     ]
    },
    {
     "name": "stderr",
     "output_type": "stream",
     "text": [
      "Epoch [551/5000]: 100%|██████████████████████████████████████████████████████| 9/9 [00:00<00:00, 187.56it/s, loss=3.92]\n"
     ]
    },
    {
     "name": "stdout",
     "output_type": "stream",
     "text": [
      "Epoch [551/5000]: Train loss: 3.5130, Valid loss: 1.1871\n",
      "Epoch [551/5000]: Train r2_score: 0.9141, Valid r2_score: 0.9725\n",
      "Epoch [551/5000]: Train smape: 16.4135, Valid smape: 10.6891\n",
      "\n"
     ]
    },
    {
     "name": "stderr",
     "output_type": "stream",
     "text": [
      "Epoch [552/5000]: 100%|██████████████████████████████████████████████████████| 9/9 [00:00<00:00, 177.87it/s, loss=3.11]"
     ]
    },
    {
     "name": "stdout",
     "output_type": "stream",
     "text": [
      "Epoch [552/5000]: Train loss: 3.2030, Valid loss: 1.4575"
     ]
    },
    {
     "name": "stderr",
     "output_type": "stream",
     "text": [
      "\n"
     ]
    },
    {
     "name": "stdout",
     "output_type": "stream",
     "text": [
      "\n",
      "Epoch [552/5000]: Train r2_score: 0.9209, Valid r2_score: 0.9693\n",
      "Epoch [552/5000]: Train smape: 15.6442, Valid smape: 10.8861\n",
      "\n"
     ]
    },
    {
     "name": "stderr",
     "output_type": "stream",
     "text": [
      "Epoch [553/5000]: 100%|███████████████████████████████████████████████████████| 9/9 [00:00<00:00, 180.36it/s, loss=3.1]\n"
     ]
    },
    {
     "name": "stdout",
     "output_type": "stream",
     "text": [
      "Epoch [553/5000]: Train loss: 3.2208, Valid loss: 1.1408\n",
      "Epoch [553/5000]: Train r2_score: 0.9204, Valid r2_score: 0.9730\n",
      "Epoch [553/5000]: Train smape: 16.1252, Valid smape: 10.4883\n",
      "\n"
     ]
    },
    {
     "name": "stderr",
     "output_type": "stream",
     "text": [
      "Epoch [554/5000]: 100%|██████████████████████████████████████████████████████| 9/9 [00:00<00:00, 171.73it/s, loss=3.83]\n"
     ]
    },
    {
     "name": "stdout",
     "output_type": "stream",
     "text": [
      "Epoch [554/5000]: Train loss: 3.3347, Valid loss: 1.1972\n",
      "Epoch [554/5000]: Train r2_score: 0.9186, Valid r2_score: 0.9707\n",
      "Epoch [554/5000]: Train smape: 16.2676, Valid smape: 10.5858\n",
      "\n"
     ]
    },
    {
     "name": "stderr",
     "output_type": "stream",
     "text": [
      "Epoch [555/5000]: 100%|██████████████████████████████████████████████████████| 9/9 [00:00<00:00, 178.26it/s, loss=2.95]"
     ]
    },
    {
     "name": "stdout",
     "output_type": "stream",
     "text": [
      "Epoch [555/5000]: Train loss: 3.2096, Valid loss: 1.1204\n",
      "Epoch [555/5000]: Train r2_score: 0.9205, Valid r2_score: 0.9736\n",
      "Epoch [555/5000]: Train smape: 16.1464, Valid smape: 10.4219\n",
      "\n"
     ]
    },
    {
     "name": "stderr",
     "output_type": "stream",
     "text": [
      "\n",
      "Epoch [556/5000]: 100%|██████████████████████████████████████████████████████| 9/9 [00:00<00:00, 172.87it/s, loss=3.64]\n"
     ]
    },
    {
     "name": "stdout",
     "output_type": "stream",
     "text": [
      "Epoch [556/5000]: Train loss: 3.3136, Valid loss: 1.5087\n",
      "Epoch [556/5000]: Train r2_score: 0.9189, Valid r2_score: 0.9589\n",
      "Epoch [556/5000]: Train smape: 16.0151, Valid smape: 11.8299\n",
      "\n"
     ]
    },
    {
     "name": "stderr",
     "output_type": "stream",
     "text": [
      "Epoch [557/5000]: 100%|███████████████████████████████████████████████████████| 9/9 [00:00<00:00, 187.87it/s, loss=4.1]\n"
     ]
    },
    {
     "name": "stdout",
     "output_type": "stream",
     "text": [
      "Epoch [557/5000]: Train loss: 3.6033, Valid loss: 1.1609\n",
      "Epoch [557/5000]: Train r2_score: 0.9120, Valid r2_score: 0.9720\n",
      "Epoch [557/5000]: Train smape: 16.4023, Valid smape: 10.5458\n",
      "\n"
     ]
    },
    {
     "name": "stderr",
     "output_type": "stream",
     "text": [
      "Epoch [558/5000]: 100%|██████████████████████████████████████████████████████| 9/9 [00:00<00:00, 179.16it/s, loss=3.04]\n"
     ]
    },
    {
     "name": "stdout",
     "output_type": "stream",
     "text": [
      "Epoch [558/5000]: Train loss: 3.0794, Valid loss: 1.1649\n",
      "Epoch [558/5000]: Train r2_score: 0.9240, Valid r2_score: 0.9740\n",
      "Epoch [558/5000]: Train smape: 16.3941, Valid smape: 10.4883\n",
      "\n"
     ]
    },
    {
     "name": "stderr",
     "output_type": "stream",
     "text": [
      "Epoch [559/5000]: 100%|██████████████████████████████████████████████████████| 9/9 [00:00<00:00, 177.39it/s, loss=2.61]\n"
     ]
    },
    {
     "name": "stdout",
     "output_type": "stream",
     "text": [
      "Epoch [559/5000]: Train loss: 3.1455, Valid loss: 2.2713\n",
      "Epoch [559/5000]: Train r2_score: 0.9216, Valid r2_score: 0.9452\n",
      "Epoch [559/5000]: Train smape: 16.4248, Valid smape: 12.9852\n",
      "\n"
     ]
    },
    {
     "name": "stderr",
     "output_type": "stream",
     "text": [
      "Epoch [560/5000]: 100%|██████████████████████████████████████████████████████| 9/9 [00:00<00:00, 191.75it/s, loss=3.02]\n"
     ]
    },
    {
     "name": "stdout",
     "output_type": "stream",
     "text": [
      "Epoch [560/5000]: Train loss: 3.5110, Valid loss: 1.0160\n",
      "Epoch [560/5000]: Train r2_score: 0.9127, Valid r2_score: 0.9742\n",
      "Epoch [560/5000]: Train smape: 16.3012, Valid smape: 10.5041\n",
      "\n"
     ]
    },
    {
     "name": "stderr",
     "output_type": "stream",
     "text": [
      "Epoch [561/5000]: 100%|██████████████████████████████████████████████████████| 9/9 [00:00<00:00, 152.99it/s, loss=2.95]\n"
     ]
    },
    {
     "name": "stdout",
     "output_type": "stream",
     "text": [
      "Epoch [561/5000]: Train loss: 3.3268, Valid loss: 1.1271\n",
      "Epoch [561/5000]: Train r2_score: 0.9174, Valid r2_score: 0.9732\n",
      "Epoch [561/5000]: Train smape: 15.9326, Valid smape: 10.5768\n",
      "\n"
     ]
    },
    {
     "name": "stderr",
     "output_type": "stream",
     "text": [
      "Epoch [562/5000]: 100%|██████████████████████████████████████████████████████| 9/9 [00:00<00:00, 194.23it/s, loss=7.18]\n"
     ]
    },
    {
     "name": "stdout",
     "output_type": "stream",
     "text": [
      "Epoch [562/5000]: Train loss: 3.7305, Valid loss: 1.7817\n",
      "Epoch [562/5000]: Train r2_score: 0.9137, Valid r2_score: 0.9594\n",
      "Epoch [562/5000]: Train smape: 16.1456, Valid smape: 11.5013\n",
      "\n"
     ]
    },
    {
     "name": "stderr",
     "output_type": "stream",
     "text": [
      "Epoch [563/5000]: 100%|█████████████████████████████████████████████████████████| 9/9 [00:00<00:00, 179.72it/s, loss=3]\n"
     ]
    },
    {
     "name": "stdout",
     "output_type": "stream",
     "text": [
      "Epoch [563/5000]: Train loss: 3.2292, Valid loss: 1.2910\n",
      "Epoch [563/5000]: Train r2_score: 0.9200, Valid r2_score: 0.9726\n",
      "Epoch [563/5000]: Train smape: 15.5531, Valid smape: 10.7281\n",
      "\n"
     ]
    },
    {
     "name": "stderr",
     "output_type": "stream",
     "text": [
      "Epoch [564/5000]: 100%|██████████████████████████████████████████████████████| 9/9 [00:00<00:00, 191.57it/s, loss=2.94]\n"
     ]
    },
    {
     "name": "stdout",
     "output_type": "stream",
     "text": [
      "Epoch [564/5000]: Train loss: 3.2227, Valid loss: 1.5310\n",
      "Epoch [564/5000]: Train r2_score: 0.9201, Valid r2_score: 0.9700\n",
      "Epoch [564/5000]: Train smape: 15.5122, Valid smape: 10.7009\n",
      "\n"
     ]
    },
    {
     "name": "stderr",
     "output_type": "stream",
     "text": [
      "Epoch [565/5000]: 100%|██████████████████████████████████████████████████████| 9/9 [00:00<00:00, 184.06it/s, loss=2.72]\n"
     ]
    },
    {
     "name": "stdout",
     "output_type": "stream",
     "text": [
      "Epoch [565/5000]: Train loss: 3.4680, Valid loss: 1.2450\n",
      "Epoch [565/5000]: Train r2_score: 0.9133, Valid r2_score: 0.9719\n",
      "Epoch [565/5000]: Train smape: 16.1053, Valid smape: 10.6058\n",
      "\n"
     ]
    },
    {
     "name": "stderr",
     "output_type": "stream",
     "text": [
      "Epoch [566/5000]: 100%|██████████████████████████████████████████████████████| 9/9 [00:00<00:00, 161.31it/s, loss=4.85]\n"
     ]
    },
    {
     "name": "stdout",
     "output_type": "stream",
     "text": [
      "Epoch [566/5000]: Train loss: 3.3843, Valid loss: 1.2364\n",
      "Epoch [566/5000]: Train r2_score: 0.9190, Valid r2_score: 0.9733\n",
      "Epoch [566/5000]: Train smape: 16.0281, Valid smape: 10.4593\n",
      "\n"
     ]
    },
    {
     "name": "stderr",
     "output_type": "stream",
     "text": [
      "Epoch [567/5000]: 100%|██████████████████████████████████████████████████████| 9/9 [00:00<00:00, 180.24it/s, loss=5.79]\n"
     ]
    },
    {
     "name": "stdout",
     "output_type": "stream",
     "text": [
      "Epoch [567/5000]: Train loss: 3.4811, Valid loss: 1.0969\n",
      "Epoch [567/5000]: Train r2_score: 0.9180, Valid r2_score: 0.9729\n",
      "Epoch [567/5000]: Train smape: 17.3817, Valid smape: 10.8854\n",
      "\n"
     ]
    },
    {
     "name": "stderr",
     "output_type": "stream",
     "text": [
      "Epoch [568/5000]: 100%|██████████████████████████████████████████████████████| 9/9 [00:00<00:00, 173.08it/s, loss=3.12]\n"
     ]
    },
    {
     "name": "stdout",
     "output_type": "stream",
     "text": [
      "Epoch [568/5000]: Train loss: 3.4186, Valid loss: 1.2994\n",
      "Epoch [568/5000]: Train r2_score: 0.9152, Valid r2_score: 0.9717\n",
      "Epoch [568/5000]: Train smape: 16.7028, Valid smape: 10.6547\n",
      "\n"
     ]
    },
    {
     "name": "stderr",
     "output_type": "stream",
     "text": [
      "Epoch [569/5000]: 100%|██████████████████████████████████████████████████████| 9/9 [00:00<00:00, 173.08it/s, loss=3.74]\n"
     ]
    },
    {
     "name": "stdout",
     "output_type": "stream",
     "text": [
      "Epoch [569/5000]: Train loss: 3.1596, Valid loss: 1.0716\n",
      "Epoch [569/5000]: Train r2_score: 0.9231, Valid r2_score: 0.9733\n",
      "Epoch [569/5000]: Train smape: 15.5127, Valid smape: 10.4750\n",
      "\n"
     ]
    },
    {
     "name": "stderr",
     "output_type": "stream",
     "text": [
      "Epoch [570/5000]: 100%|██████████████████████████████████████████████████████| 9/9 [00:00<00:00, 185.88it/s, loss=2.71]\n"
     ]
    },
    {
     "name": "stdout",
     "output_type": "stream",
     "text": [
      "Epoch [570/5000]: Train loss: 2.9614, Valid loss: 1.1935\n",
      "Epoch [570/5000]: Train r2_score: 0.9266, Valid r2_score: 0.9719\n",
      "Epoch [570/5000]: Train smape: 15.6366, Valid smape: 10.5826\n",
      "\n"
     ]
    },
    {
     "name": "stderr",
     "output_type": "stream",
     "text": [
      "Epoch [571/5000]: 100%|██████████████████████████████████████████████████████| 9/9 [00:00<00:00, 173.90it/s, loss=5.43]\n"
     ]
    },
    {
     "name": "stdout",
     "output_type": "stream",
     "text": [
      "Epoch [571/5000]: Train loss: 3.5594, Valid loss: 1.0681\n",
      "Epoch [571/5000]: Train r2_score: 0.9153, Valid r2_score: 0.9742\n",
      "Epoch [571/5000]: Train smape: 16.4649, Valid smape: 10.4411\n",
      "\n"
     ]
    },
    {
     "name": "stderr",
     "output_type": "stream",
     "text": [
      "Epoch [572/5000]: 100%|██████████████████████████████████████████████████████| 9/9 [00:00<00:00, 157.65it/s, loss=3.46]\n"
     ]
    },
    {
     "name": "stdout",
     "output_type": "stream",
     "text": [
      "Epoch [572/5000]: Train loss: 3.1499, Valid loss: 1.2153\n",
      "Epoch [572/5000]: Train r2_score: 0.9229, Valid r2_score: 0.9732\n",
      "Epoch [572/5000]: Train smape: 16.7661, Valid smape: 10.5418\n",
      "\n"
     ]
    },
    {
     "name": "stderr",
     "output_type": "stream",
     "text": [
      "Epoch [573/5000]: 100%|███████████████████████████████████████████████████████| 9/9 [00:00<00:00, 173.06it/s, loss=4.3]\n"
     ]
    },
    {
     "name": "stdout",
     "output_type": "stream",
     "text": [
      "Epoch [573/5000]: Train loss: 3.3502, Valid loss: 1.1128\n",
      "Epoch [573/5000]: Train r2_score: 0.9190, Valid r2_score: 0.9710\n",
      "Epoch [573/5000]: Train smape: 15.8937, Valid smape: 10.6651\n",
      "\n"
     ]
    },
    {
     "name": "stderr",
     "output_type": "stream",
     "text": [
      "Epoch [574/5000]: 100%|██████████████████████████████████████████████████████| 9/9 [00:00<00:00, 166.67it/s, loss=4.89]\n"
     ]
    },
    {
     "name": "stdout",
     "output_type": "stream",
     "text": [
      "Epoch [574/5000]: Train loss: 3.5063, Valid loss: 1.1554\n",
      "Epoch [574/5000]: Train r2_score: 0.9158, Valid r2_score: 0.9730\n",
      "Epoch [574/5000]: Train smape: 16.3977, Valid smape: 10.5199\n",
      "\n"
     ]
    },
    {
     "name": "stderr",
     "output_type": "stream",
     "text": [
      "Epoch [575/5000]: 100%|██████████████████████████████████████████████████████| 9/9 [00:00<00:00, 169.96it/s, loss=4.38]\n"
     ]
    },
    {
     "name": "stdout",
     "output_type": "stream",
     "text": [
      "Epoch [575/5000]: Train loss: 3.2914, Valid loss: 1.5832\n",
      "Epoch [575/5000]: Train r2_score: 0.9207, Valid r2_score: 0.9728\n",
      "Epoch [575/5000]: Train smape: 15.7727, Valid smape: 10.5723\n",
      "\n"
     ]
    },
    {
     "name": "stderr",
     "output_type": "stream",
     "text": [
      "Epoch [576/5000]: 100%|██████████████████████████████████████████████████████| 9/9 [00:00<00:00, 162.47it/s, loss=3.24]\n"
     ]
    },
    {
     "name": "stdout",
     "output_type": "stream",
     "text": [
      "Epoch [576/5000]: Train loss: 3.2158, Valid loss: 1.6141\n",
      "Epoch [576/5000]: Train r2_score: 0.9208, Valid r2_score: 0.9628\n",
      "Epoch [576/5000]: Train smape: 15.8317, Valid smape: 11.3576\n",
      "\n"
     ]
    },
    {
     "name": "stderr",
     "output_type": "stream",
     "text": [
      "Epoch [577/5000]: 100%|██████████████████████████████████████████████████████| 9/9 [00:00<00:00, 171.60it/s, loss=3.59]\n"
     ]
    },
    {
     "name": "stdout",
     "output_type": "stream",
     "text": [
      "Epoch [577/5000]: Train loss: 3.2026, Valid loss: 1.5794\n",
      "Epoch [577/5000]: Train r2_score: 0.9217, Valid r2_score: 0.9725\n",
      "Epoch [577/5000]: Train smape: 15.5306, Valid smape: 10.4423\n",
      "\n"
     ]
    },
    {
     "name": "stderr",
     "output_type": "stream",
     "text": [
      "Epoch [578/5000]: 100%|███████████████████████████████████████████████████████| 9/9 [00:00<00:00, 173.07it/s, loss=4.7]"
     ]
    },
    {
     "name": "stdout",
     "output_type": "stream",
     "text": [
      "Epoch [578/5000]: Train loss: 3.2289, Valid loss: 1.2764\n",
      "Epoch [578/5000]: Train r2_score: 0.9228, Valid r2_score: 0.9708\n",
      "Epoch [578/5000]: Train smape: 15.6721, Valid smape: 10.6303\n",
      "\n"
     ]
    },
    {
     "name": "stderr",
     "output_type": "stream",
     "text": [
      "\n",
      "Epoch [579/5000]: 100%|███████████████████████████████████████████████████████| 9/9 [00:00<00:00, 173.02it/s, loss=2.9]\n"
     ]
    },
    {
     "name": "stdout",
     "output_type": "stream",
     "text": [
      "Epoch [579/5000]: Train loss: 3.4176, Valid loss: 1.5983\n",
      "Epoch [579/5000]: Train r2_score: 0.9149, Valid r2_score: 0.9665\n",
      "Epoch [579/5000]: Train smape: 16.4610, Valid smape: 10.9640\n",
      "\n"
     ]
    },
    {
     "name": "stderr",
     "output_type": "stream",
     "text": [
      "Epoch [580/5000]: 100%|██████████████████████████████████████████████████████| 9/9 [00:00<00:00, 166.83it/s, loss=4.41]"
     ]
    },
    {
     "name": "stdout",
     "output_type": "stream",
     "text": [
      "Epoch [580/5000]: Train loss: 3.4395, Valid loss: 1.6013\n",
      "Epoch [580/5000]: Train r2_score: 0.9168, Valid r2_score: 0.9702\n",
      "Epoch [580/5000]: Train smape: 15.9621, Valid smape: 10.5871\n",
      "\n"
     ]
    },
    {
     "name": "stderr",
     "output_type": "stream",
     "text": [
      "\n",
      "Epoch [581/5000]: 100%|██████████████████████████████████████████████████████| 9/9 [00:00<00:00, 175.49it/s, loss=2.44]"
     ]
    },
    {
     "name": "stdout",
     "output_type": "stream",
     "text": [
      "Epoch [581/5000]: Train loss: 3.0379, Valid loss: 1.0475\n",
      "Epoch [581/5000]: Train r2_score: 0.9241, Valid r2_score: 0.9738\n",
      "Epoch [581/5000]: Train smape: 15.3979, Valid smape: 10.3749\n",
      "\n"
     ]
    },
    {
     "name": "stderr",
     "output_type": "stream",
     "text": [
      "\n",
      "Epoch [582/5000]: 100%|██████████████████████████████████████████████████████| 9/9 [00:00<00:00, 162.90it/s, loss=3.59]\n"
     ]
    },
    {
     "name": "stdout",
     "output_type": "stream",
     "text": [
      "Epoch [582/5000]: Train loss: 3.3719, Valid loss: 1.0743\n",
      "Epoch [582/5000]: Train r2_score: 0.9172, Valid r2_score: 0.9731\n",
      "Epoch [582/5000]: Train smape: 15.8454, Valid smape: 10.4000\n",
      "\n"
     ]
    },
    {
     "name": "stderr",
     "output_type": "stream",
     "text": [
      "Epoch [583/5000]: 100%|██████████████████████████████████████████████████████| 9/9 [00:00<00:00, 171.60it/s, loss=3.75]\n"
     ]
    },
    {
     "name": "stdout",
     "output_type": "stream",
     "text": [
      "Epoch [583/5000]: Train loss: 3.3644, Valid loss: 1.2421\n",
      "Epoch [583/5000]: Train r2_score: 0.9177, Valid r2_score: 0.9732\n",
      "Epoch [583/5000]: Train smape: 16.0803, Valid smape: 10.4825\n",
      "\n"
     ]
    },
    {
     "name": "stderr",
     "output_type": "stream",
     "text": [
      "Epoch [584/5000]: 100%|██████████████████████████████████████████████████████| 9/9 [00:00<00:00, 158.62it/s, loss=3.92]\n"
     ]
    },
    {
     "name": "stdout",
     "output_type": "stream",
     "text": [
      "Epoch [584/5000]: Train loss: 3.3229, Valid loss: 1.0068\n",
      "Epoch [584/5000]: Train r2_score: 0.9191, Valid r2_score: 0.9723\n",
      "Epoch [584/5000]: Train smape: 16.4202, Valid smape: 10.4346\n",
      "\n"
     ]
    },
    {
     "name": "stderr",
     "output_type": "stream",
     "text": [
      "Epoch [585/5000]: 100%|██████████████████████████████████████████████████████| 9/9 [00:00<00:00, 179.87it/s, loss=4.74]\n"
     ]
    },
    {
     "name": "stdout",
     "output_type": "stream",
     "text": [
      "Epoch [585/5000]: Train loss: 3.3571, Valid loss: 1.1758\n",
      "Epoch [585/5000]: Train r2_score: 0.9195, Valid r2_score: 0.9741\n",
      "Epoch [585/5000]: Train smape: 15.8771, Valid smape: 10.3762\n",
      "\n"
     ]
    },
    {
     "name": "stderr",
     "output_type": "stream",
     "text": [
      "Epoch [586/5000]: 100%|██████████████████████████████████████████████████████| 9/9 [00:00<00:00, 175.71it/s, loss=3.01]\n"
     ]
    },
    {
     "name": "stdout",
     "output_type": "stream",
     "text": [
      "Epoch [586/5000]: Train loss: 3.2496, Valid loss: 1.3351\n",
      "Epoch [586/5000]: Train r2_score: 0.9195, Valid r2_score: 0.9671\n",
      "Epoch [586/5000]: Train smape: 15.6315, Valid smape: 10.8295\n",
      "\n"
     ]
    },
    {
     "name": "stderr",
     "output_type": "stream",
     "text": [
      "Epoch [587/5000]: 100%|██████████████████████████████████████████████████████| 9/9 [00:00<00:00, 173.28it/s, loss=2.73]\n"
     ]
    },
    {
     "name": "stdout",
     "output_type": "stream",
     "text": [
      "Epoch [587/5000]: Train loss: 3.1779, Valid loss: 1.3551\n",
      "Epoch [587/5000]: Train r2_score: 0.9209, Valid r2_score: 0.9711\n",
      "Epoch [587/5000]: Train smape: 15.8053, Valid smape: 10.8368\n",
      "\n"
     ]
    },
    {
     "name": "stderr",
     "output_type": "stream",
     "text": [
      "Epoch [588/5000]: 100%|██████████████████████████████████████████████████████| 9/9 [00:00<00:00, 163.83it/s, loss=4.07]\n"
     ]
    },
    {
     "name": "stdout",
     "output_type": "stream",
     "text": [
      "Epoch [588/5000]: Train loss: 3.3900, Valid loss: 1.3944\n",
      "Epoch [588/5000]: Train r2_score: 0.9176, Valid r2_score: 0.9680\n",
      "Epoch [588/5000]: Train smape: 16.1404, Valid smape: 11.1899\n",
      "\n"
     ]
    },
    {
     "name": "stderr",
     "output_type": "stream",
     "text": [
      "Epoch [589/5000]: 100%|██████████████████████████████████████████████████████| 9/9 [00:00<00:00, 176.00it/s, loss=3.71]\n"
     ]
    },
    {
     "name": "stdout",
     "output_type": "stream",
     "text": [
      "Epoch [589/5000]: Train loss: 2.9934, Valid loss: 1.4749\n",
      "Epoch [589/5000]: Train r2_score: 0.9274, Valid r2_score: 0.9644\n",
      "Epoch [589/5000]: Train smape: 15.1741, Valid smape: 11.0524\n",
      "\n"
     ]
    },
    {
     "name": "stderr",
     "output_type": "stream",
     "text": [
      "Epoch [590/5000]: 100%|███████████████████████████████████████████████████████| 9/9 [00:00<00:00, 200.33it/s, loss=3.1]\n"
     ]
    },
    {
     "name": "stdout",
     "output_type": "stream",
     "text": [
      "Epoch [590/5000]: Train loss: 3.1569, Valid loss: 1.1795\n",
      "Epoch [590/5000]: Train r2_score: 0.9221, Valid r2_score: 0.9744\n",
      "Epoch [590/5000]: Train smape: 15.4265, Valid smape: 10.3939\n",
      "\n"
     ]
    },
    {
     "name": "stderr",
     "output_type": "stream",
     "text": [
      "Epoch [591/5000]: 100%|███████████████████████████████████████████████████████| 9/9 [00:00<00:00, 191.95it/s, loss=2.6]\n"
     ]
    },
    {
     "name": "stdout",
     "output_type": "stream",
     "text": [
      "Epoch [591/5000]: Train loss: 2.9845, Valid loss: 1.5093\n",
      "Epoch [591/5000]: Train r2_score: 0.9258, Valid r2_score: 0.9697\n",
      "Epoch [591/5000]: Train smape: 15.7701, Valid smape: 10.6515\n",
      "\n"
     ]
    },
    {
     "name": "stderr",
     "output_type": "stream",
     "text": [
      "Epoch [592/5000]: 100%|██████████████████████████████████████████████████████| 9/9 [00:00<00:00, 198.57it/s, loss=3.84]\n"
     ]
    },
    {
     "name": "stdout",
     "output_type": "stream",
     "text": [
      "Epoch [592/5000]: Train loss: 3.1025, Valid loss: 1.2722\n",
      "Epoch [592/5000]: Train r2_score: 0.9247, Valid r2_score: 0.9747\n",
      "Epoch [592/5000]: Train smape: 15.2546, Valid smape: 10.3414\n",
      "\n"
     ]
    },
    {
     "name": "stderr",
     "output_type": "stream",
     "text": [
      "Epoch [593/5000]: 100%|██████████████████████████████████████████████████████| 9/9 [00:00<00:00, 170.36it/s, loss=3.92]\n"
     ]
    },
    {
     "name": "stdout",
     "output_type": "stream",
     "text": [
      "Epoch [593/5000]: Train loss: 3.0554, Valid loss: 1.1324\n",
      "Epoch [593/5000]: Train r2_score: 0.9261, Valid r2_score: 0.9724\n",
      "Epoch [593/5000]: Train smape: 15.5625, Valid smape: 10.4427\n",
      "\n"
     ]
    },
    {
     "name": "stderr",
     "output_type": "stream",
     "text": [
      "Epoch [594/5000]: 100%|██████████████████████████████████████████████████████| 9/9 [00:00<00:00, 179.98it/s, loss=3.15]\n"
     ]
    },
    {
     "name": "stdout",
     "output_type": "stream",
     "text": [
      "Epoch [594/5000]: Train loss: 3.0277, Valid loss: 1.2026\n",
      "Epoch [594/5000]: Train r2_score: 0.9256, Valid r2_score: 0.9713\n",
      "Epoch [594/5000]: Train smape: 15.6293, Valid smape: 10.5219\n",
      "\n"
     ]
    },
    {
     "name": "stderr",
     "output_type": "stream",
     "text": [
      "Epoch [595/5000]: 100%|██████████████████████████████████████████████████████| 9/9 [00:00<00:00, 174.78it/s, loss=2.56]\n"
     ]
    },
    {
     "name": "stdout",
     "output_type": "stream",
     "text": [
      "Epoch [595/5000]: Train loss: 2.9839, Valid loss: 1.4811\n",
      "Epoch [595/5000]: Train r2_score: 0.9258, Valid r2_score: 0.9734\n",
      "Epoch [595/5000]: Train smape: 15.4729, Valid smape: 10.4494\n",
      "\n"
     ]
    },
    {
     "name": "stderr",
     "output_type": "stream",
     "text": [
      "Epoch [596/5000]: 100%|██████████████████████████████████████████████████████| 9/9 [00:00<00:00, 179.43it/s, loss=2.98]\n"
     ]
    },
    {
     "name": "stdout",
     "output_type": "stream",
     "text": [
      "Epoch [596/5000]: Train loss: 3.3019, Valid loss: 1.0936\n",
      "Epoch [596/5000]: Train r2_score: 0.9181, Valid r2_score: 0.9736\n",
      "Epoch [596/5000]: Train smape: 15.9214, Valid smape: 10.4180\n",
      "\n"
     ]
    },
    {
     "name": "stderr",
     "output_type": "stream",
     "text": [
      "Epoch [597/5000]: 100%|██████████████████████████████████████████████████████| 9/9 [00:00<00:00, 195.62it/s, loss=2.89]\n"
     ]
    },
    {
     "name": "stdout",
     "output_type": "stream",
     "text": [
      "Epoch [597/5000]: Train loss: 3.0881, Valid loss: 1.2973\n",
      "Epoch [597/5000]: Train r2_score: 0.9236, Valid r2_score: 0.9699\n",
      "Epoch [597/5000]: Train smape: 15.7992, Valid smape: 10.7962\n",
      "\n"
     ]
    },
    {
     "name": "stderr",
     "output_type": "stream",
     "text": [
      "Epoch [598/5000]: 100%|██████████████████████████████████████████████████████| 9/9 [00:00<00:00, 209.05it/s, loss=2.89]\n"
     ]
    },
    {
     "name": "stdout",
     "output_type": "stream",
     "text": [
      "Epoch [598/5000]: Train loss: 3.0621, Valid loss: 1.1913\n",
      "Epoch [598/5000]: Train r2_score: 0.9243, Valid r2_score: 0.9733\n",
      "Epoch [598/5000]: Train smape: 15.4189, Valid smape: 10.3865\n",
      "\n"
     ]
    },
    {
     "name": "stderr",
     "output_type": "stream",
     "text": [
      "Epoch [599/5000]: 100%|██████████████████████████████████████████████████████| 9/9 [00:00<00:00, 196.11it/s, loss=4.03]\n"
     ]
    },
    {
     "name": "stdout",
     "output_type": "stream",
     "text": [
      "Epoch [599/5000]: Train loss: 3.1951, Valid loss: 1.1238\n",
      "Epoch [599/5000]: Train r2_score: 0.9226, Valid r2_score: 0.9733\n",
      "Epoch [599/5000]: Train smape: 15.1714, Valid smape: 10.4134\n",
      "\n"
     ]
    },
    {
     "name": "stderr",
     "output_type": "stream",
     "text": [
      "Epoch [600/5000]: 100%|██████████████████████████████████████████████████████| 9/9 [00:00<00:00, 192.08it/s, loss=4.67]\n"
     ]
    },
    {
     "name": "stdout",
     "output_type": "stream",
     "text": [
      "Epoch [600/5000]: Train loss: 3.3194, Valid loss: 1.2307\n",
      "Epoch [600/5000]: Train r2_score: 0.9204, Valid r2_score: 0.9742\n",
      "Epoch [600/5000]: Train smape: 15.5680, Valid smape: 10.3654\n",
      "\n"
     ]
    },
    {
     "name": "stderr",
     "output_type": "stream",
     "text": [
      "Epoch [601/5000]: 100%|██████████████████████████████████████████████████████| 9/9 [00:00<00:00, 179.18it/s, loss=2.81]\n"
     ]
    },
    {
     "name": "stdout",
     "output_type": "stream",
     "text": [
      "Epoch [601/5000]: Train loss: 3.1224, Valid loss: 1.4392\n",
      "Epoch [601/5000]: Train r2_score: 0.9225, Valid r2_score: 0.9672\n",
      "Epoch [601/5000]: Train smape: 15.3300, Valid smape: 10.7986\n",
      "\n"
     ]
    },
    {
     "name": "stderr",
     "output_type": "stream",
     "text": [
      "Epoch [602/5000]: 100%|███████████████████████████████████████████████████████| 9/9 [00:00<00:00, 157.93it/s, loss=3.3]"
     ]
    },
    {
     "name": "stdout",
     "output_type": "stream",
     "text": [
      "Epoch [602/5000]: Train loss: 3.3147, Valid loss: 1.0985\n",
      "Epoch [602/5000]: Train r2_score: 0.9183, Valid r2_score: 0.9732\n"
     ]
    },
    {
     "name": "stderr",
     "output_type": "stream",
     "text": [
      "\n"
     ]
    },
    {
     "name": "stdout",
     "output_type": "stream",
     "text": [
      "Epoch [602/5000]: Train smape: 15.3485, Valid smape: 10.3920\n",
      "\n"
     ]
    },
    {
     "name": "stderr",
     "output_type": "stream",
     "text": [
      "Epoch [603/5000]: 100%|██████████████████████████████████████████████████████| 9/9 [00:00<00:00, 154.20it/s, loss=3.83]\n"
     ]
    },
    {
     "name": "stdout",
     "output_type": "stream",
     "text": [
      "Epoch [603/5000]: Train loss: 3.2403, Valid loss: 1.1341\n",
      "Epoch [603/5000]: Train r2_score: 0.9211, Valid r2_score: 0.9740\n",
      "Epoch [603/5000]: Train smape: 16.0364, Valid smape: 10.5135\n",
      "\n"
     ]
    },
    {
     "name": "stderr",
     "output_type": "stream",
     "text": [
      "Epoch [604/5000]: 100%|██████████████████████████████████████████████████████| 9/9 [00:00<00:00, 191.44it/s, loss=3.23]\n"
     ]
    },
    {
     "name": "stdout",
     "output_type": "stream",
     "text": [
      "Epoch [604/5000]: Train loss: 3.0414, Valid loss: 1.3907\n",
      "Epoch [604/5000]: Train r2_score: 0.9254, Valid r2_score: 0.9700\n",
      "Epoch [604/5000]: Train smape: 15.7866, Valid smape: 10.7271\n",
      "\n"
     ]
    },
    {
     "name": "stderr",
     "output_type": "stream",
     "text": [
      "Epoch [605/5000]: 100%|██████████████████████████████████████████████████████| 9/9 [00:00<00:00, 190.32it/s, loss=5.52]\n"
     ]
    },
    {
     "name": "stdout",
     "output_type": "stream",
     "text": [
      "Epoch [605/5000]: Train loss: 3.2372, Valid loss: 1.1818\n",
      "Epoch [605/5000]: Train r2_score: 0.9240, Valid r2_score: 0.9742\n",
      "Epoch [605/5000]: Train smape: 15.2792, Valid smape: 10.4342\n",
      "\n"
     ]
    },
    {
     "name": "stderr",
     "output_type": "stream",
     "text": [
      "Epoch [606/5000]: 100%|██████████████████████████████████████████████████████| 9/9 [00:00<00:00, 182.09it/s, loss=3.21]\n"
     ]
    },
    {
     "name": "stdout",
     "output_type": "stream",
     "text": [
      "Epoch [606/5000]: Train loss: 2.9950, Valid loss: 1.6802\n",
      "Epoch [606/5000]: Train r2_score: 0.9265, Valid r2_score: 0.9698\n",
      "Epoch [606/5000]: Train smape: 15.4421, Valid smape: 10.6233\n",
      "\n"
     ]
    },
    {
     "name": "stderr",
     "output_type": "stream",
     "text": [
      "Epoch [607/5000]: 100%|██████████████████████████████████████████████████████| 9/9 [00:00<00:00, 203.74it/s, loss=3.14]\n"
     ]
    },
    {
     "name": "stdout",
     "output_type": "stream",
     "text": [
      "Epoch [607/5000]: Train loss: 3.0280, Valid loss: 1.1510\n",
      "Epoch [607/5000]: Train r2_score: 0.9255, Valid r2_score: 0.9739\n",
      "Epoch [607/5000]: Train smape: 15.0130, Valid smape: 10.3882\n",
      "\n"
     ]
    },
    {
     "name": "stderr",
     "output_type": "stream",
     "text": [
      "Epoch [608/5000]: 100%|██████████████████████████████████████████████████████| 9/9 [00:00<00:00, 192.11it/s, loss=2.37]\n"
     ]
    },
    {
     "name": "stdout",
     "output_type": "stream",
     "text": [
      "Epoch [608/5000]: Train loss: 3.2051, Valid loss: 1.3687\n",
      "Epoch [608/5000]: Train r2_score: 0.9196, Valid r2_score: 0.9701\n",
      "Epoch [608/5000]: Train smape: 16.0277, Valid smape: 10.6041\n",
      "\n"
     ]
    },
    {
     "name": "stderr",
     "output_type": "stream",
     "text": [
      "Epoch [609/5000]: 100%|██████████████████████████████████████████████████████| 9/9 [00:00<00:00, 209.52it/s, loss=2.99]\n"
     ]
    },
    {
     "name": "stdout",
     "output_type": "stream",
     "text": [
      "Epoch [609/5000]: Train loss: 3.3012, Valid loss: 1.1031\n",
      "Epoch [609/5000]: Train r2_score: 0.9181, Valid r2_score: 0.9744\n",
      "Epoch [609/5000]: Train smape: 15.2801, Valid smape: 10.3647\n",
      "\n"
     ]
    },
    {
     "name": "stderr",
     "output_type": "stream",
     "text": [
      "Epoch [610/5000]: 100%|██████████████████████████████████████████████████████| 9/9 [00:00<00:00, 218.38it/s, loss=2.72]\n"
     ]
    },
    {
     "name": "stdout",
     "output_type": "stream",
     "text": [
      "Epoch [610/5000]: Train loss: 3.0943, Valid loss: 1.3762\n",
      "Epoch [610/5000]: Train r2_score: 0.9231, Valid r2_score: 0.9721\n",
      "Epoch [610/5000]: Train smape: 15.3167, Valid smape: 10.5406\n",
      "\n"
     ]
    },
    {
     "name": "stderr",
     "output_type": "stream",
     "text": [
      "Epoch [611/5000]: 100%|██████████████████████████████████████████████████████| 9/9 [00:00<00:00, 200.45it/s, loss=2.61]\n"
     ]
    },
    {
     "name": "stdout",
     "output_type": "stream",
     "text": [
      "Epoch [611/5000]: Train loss: 2.9716, Valid loss: 1.3412\n",
      "Epoch [611/5000]: Train r2_score: 0.9262, Valid r2_score: 0.9709\n",
      "Epoch [611/5000]: Train smape: 14.9015, Valid smape: 10.5370\n",
      "\n"
     ]
    },
    {
     "name": "stderr",
     "output_type": "stream",
     "text": [
      "Epoch [612/5000]: 100%|██████████████████████████████████████████████████████| 9/9 [00:00<00:00, 198.52it/s, loss=4.57]\n"
     ]
    },
    {
     "name": "stdout",
     "output_type": "stream",
     "text": [
      "Epoch [612/5000]: Train loss: 3.1668, Valid loss: 1.0763\n",
      "Epoch [612/5000]: Train r2_score: 0.9243, Valid r2_score: 0.9747\n",
      "Epoch [612/5000]: Train smape: 15.4040, Valid smape: 10.3299\n",
      "\n"
     ]
    },
    {
     "name": "stderr",
     "output_type": "stream",
     "text": [
      "Epoch [613/5000]: 100%|██████████████████████████████████████████████████████| 9/9 [00:00<00:00, 227.97it/s, loss=2.16]\n"
     ]
    },
    {
     "name": "stdout",
     "output_type": "stream",
     "text": [
      "Epoch [613/5000]: Train loss: 2.9978, Valid loss: 1.0088\n",
      "Epoch [613/5000]: Train r2_score: 0.9247, Valid r2_score: 0.9748\n",
      "Epoch [613/5000]: Train smape: 15.4237, Valid smape: 10.2927\n",
      "\n"
     ]
    },
    {
     "name": "stderr",
     "output_type": "stream",
     "text": [
      "Epoch [614/5000]: 100%|██████████████████████████████████████████████████████| 9/9 [00:00<00:00, 210.81it/s, loss=5.23]\n"
     ]
    },
    {
     "name": "stdout",
     "output_type": "stream",
     "text": [
      "Epoch [614/5000]: Train loss: 3.3658, Valid loss: 1.3123\n",
      "Epoch [614/5000]: Train r2_score: 0.9201, Valid r2_score: 0.9702\n",
      "Epoch [614/5000]: Train smape: 15.4618, Valid smape: 10.6741\n",
      "\n"
     ]
    },
    {
     "name": "stderr",
     "output_type": "stream",
     "text": [
      "Epoch [615/5000]: 100%|██████████████████████████████████████████████████████| 9/9 [00:00<00:00, 191.64it/s, loss=3.26]\n"
     ]
    },
    {
     "name": "stdout",
     "output_type": "stream",
     "text": [
      "Epoch [615/5000]: Train loss: 3.0398, Valid loss: 1.3483\n",
      "Epoch [615/5000]: Train r2_score: 0.9254, Valid r2_score: 0.9747\n",
      "Epoch [615/5000]: Train smape: 14.6011, Valid smape: 10.3534\n",
      "\n"
     ]
    },
    {
     "name": "stderr",
     "output_type": "stream",
     "text": [
      "Epoch [616/5000]: 100%|██████████████████████████████████████████████████████| 9/9 [00:00<00:00, 180.96it/s, loss=3.33]\n"
     ]
    },
    {
     "name": "stdout",
     "output_type": "stream",
     "text": [
      "Epoch [616/5000]: Train loss: 2.9085, Valid loss: 1.2805\n",
      "Epoch [616/5000]: Train r2_score: 0.9290, Valid r2_score: 0.9701\n",
      "Epoch [616/5000]: Train smape: 14.9388, Valid smape: 10.7509\n",
      "\n"
     ]
    },
    {
     "name": "stderr",
     "output_type": "stream",
     "text": [
      "Epoch [617/5000]: 100%|███████████████████████████████████████████████████████| 9/9 [00:00<00:00, 211.78it/s, loss=2.6]\n"
     ]
    },
    {
     "name": "stdout",
     "output_type": "stream",
     "text": [
      "Epoch [617/5000]: Train loss: 2.9334, Valid loss: 1.0643\n",
      "Epoch [617/5000]: Train r2_score: 0.9272, Valid r2_score: 0.9743\n",
      "Epoch [617/5000]: Train smape: 15.0659, Valid smape: 10.3819\n",
      "\n"
     ]
    },
    {
     "name": "stderr",
     "output_type": "stream",
     "text": [
      "Epoch [618/5000]: 100%|██████████████████████████████████████████████████████| 9/9 [00:00<00:00, 210.88it/s, loss=3.21]\n"
     ]
    },
    {
     "name": "stdout",
     "output_type": "stream",
     "text": [
      "Epoch [618/5000]: Train loss: 3.1085, Valid loss: 1.3988\n",
      "Epoch [618/5000]: Train r2_score: 0.9235, Valid r2_score: 0.9712\n",
      "Epoch [618/5000]: Train smape: 15.5704, Valid smape: 10.7351\n",
      "\n"
     ]
    },
    {
     "name": "stderr",
     "output_type": "stream",
     "text": [
      "Epoch [619/5000]: 100%|██████████████████████████████████████████████████████| 9/9 [00:00<00:00, 206.68it/s, loss=3.75]\n"
     ]
    },
    {
     "name": "stdout",
     "output_type": "stream",
     "text": [
      "Epoch [619/5000]: Train loss: 3.3209, Valid loss: 1.3888\n",
      "Epoch [619/5000]: Train r2_score: 0.9188, Valid r2_score: 0.9688\n",
      "Epoch [619/5000]: Train smape: 15.5297, Valid smape: 10.7507\n",
      "\n"
     ]
    },
    {
     "name": "stderr",
     "output_type": "stream",
     "text": [
      "Epoch [620/5000]: 100%|██████████████████████████████████████████████████████| 9/9 [00:00<00:00, 216.12it/s, loss=2.54]\n"
     ]
    },
    {
     "name": "stdout",
     "output_type": "stream",
     "text": [
      "Epoch [620/5000]: Train loss: 3.0072, Valid loss: 1.1079\n",
      "Epoch [620/5000]: Train r2_score: 0.9251, Valid r2_score: 0.9743\n",
      "Epoch [620/5000]: Train smape: 15.1458, Valid smape: 10.3272\n",
      "\n"
     ]
    },
    {
     "name": "stderr",
     "output_type": "stream",
     "text": [
      "Epoch [621/5000]: 100%|██████████████████████████████████████████████████████| 9/9 [00:00<00:00, 155.27it/s, loss=5.89]\n"
     ]
    },
    {
     "name": "stdout",
     "output_type": "stream",
     "text": [
      "Epoch [621/5000]: Train loss: 3.0741, Valid loss: 1.4176\n",
      "Epoch [621/5000]: Train r2_score: 0.9289, Valid r2_score: 0.9704\n",
      "Epoch [621/5000]: Train smape: 14.9791, Valid smape: 10.5782\n",
      "\n"
     ]
    },
    {
     "name": "stderr",
     "output_type": "stream",
     "text": [
      "Epoch [622/5000]: 100%|██████████████████████████████████████████████████████| 9/9 [00:00<00:00, 193.99it/s, loss=4.76]\n"
     ]
    },
    {
     "name": "stdout",
     "output_type": "stream",
     "text": [
      "Epoch [622/5000]: Train loss: 3.0976, Valid loss: 1.1556\n",
      "Epoch [622/5000]: Train r2_score: 0.9264, Valid r2_score: 0.9747\n",
      "Epoch [622/5000]: Train smape: 14.7426, Valid smape: 10.3788\n",
      "\n"
     ]
    },
    {
     "name": "stderr",
     "output_type": "stream",
     "text": [
      "Epoch [623/5000]: 100%|██████████████████████████████████████████████████████| 9/9 [00:00<00:00, 183.14it/s, loss=2.51]\n"
     ]
    },
    {
     "name": "stdout",
     "output_type": "stream",
     "text": [
      "Epoch [623/5000]: Train loss: 2.8991, Valid loss: 1.1939\n",
      "Epoch [623/5000]: Train r2_score: 0.9279, Valid r2_score: 0.9683\n",
      "Epoch [623/5000]: Train smape: 15.4362, Valid smape: 10.8512\n",
      "\n"
     ]
    },
    {
     "name": "stderr",
     "output_type": "stream",
     "text": [
      "Epoch [624/5000]: 100%|██████████████████████████████████████████████████████| 9/9 [00:00<00:00, 200.39it/s, loss=2.44]\n"
     ]
    },
    {
     "name": "stdout",
     "output_type": "stream",
     "text": [
      "Epoch [624/5000]: Train loss: 3.1943, Valid loss: 1.2700\n",
      "Epoch [624/5000]: Train r2_score: 0.9200, Valid r2_score: 0.9733\n",
      "Epoch [624/5000]: Train smape: 15.1185, Valid smape: 10.5325\n",
      "\n"
     ]
    },
    {
     "name": "stderr",
     "output_type": "stream",
     "text": [
      "Epoch [625/5000]: 100%|██████████████████████████████████████████████████████| 9/9 [00:00<00:00, 204.36it/s, loss=2.83]\n"
     ]
    },
    {
     "name": "stdout",
     "output_type": "stream",
     "text": [
      "Epoch [625/5000]: Train loss: 3.2598, Valid loss: 1.1310\n",
      "Epoch [625/5000]: Train r2_score: 0.9189, Valid r2_score: 0.9727\n",
      "Epoch [625/5000]: Train smape: 15.4159, Valid smape: 10.6197\n",
      "\n"
     ]
    },
    {
     "name": "stderr",
     "output_type": "stream",
     "text": [
      "Epoch [626/5000]: 100%|██████████████████████████████████████████████████████| 9/9 [00:00<00:00, 186.21it/s, loss=3.16]\n"
     ]
    },
    {
     "name": "stdout",
     "output_type": "stream",
     "text": [
      "Epoch [626/5000]: Train loss: 3.0513, Valid loss: 1.6599\n",
      "Epoch [626/5000]: Train r2_score: 0.9250, Valid r2_score: 0.9628\n",
      "Epoch [626/5000]: Train smape: 15.5068, Valid smape: 11.3241\n",
      "\n"
     ]
    },
    {
     "name": "stderr",
     "output_type": "stream",
     "text": [
      "Epoch [627/5000]: 100%|██████████████████████████████████████████████████████| 9/9 [00:00<00:00, 200.54it/s, loss=2.38]\n"
     ]
    },
    {
     "name": "stdout",
     "output_type": "stream",
     "text": [
      "Epoch [627/5000]: Train loss: 3.0444, Valid loss: 1.0733\n",
      "Epoch [627/5000]: Train r2_score: 0.9239, Valid r2_score: 0.9741\n",
      "Epoch [627/5000]: Train smape: 14.8928, Valid smape: 10.3891\n",
      "\n"
     ]
    },
    {
     "name": "stderr",
     "output_type": "stream",
     "text": [
      "Epoch [628/5000]: 100%|██████████████████████████████████████████████████████| 9/9 [00:00<00:00, 187.44it/s, loss=2.31]\n"
     ]
    },
    {
     "name": "stdout",
     "output_type": "stream",
     "text": [
      "Epoch [628/5000]: Train loss: 3.2337, Valid loss: 1.1461\n",
      "Epoch [628/5000]: Train r2_score: 0.9188, Valid r2_score: 0.9742\n",
      "Epoch [628/5000]: Train smape: 15.9558, Valid smape: 10.4289\n",
      "\n"
     ]
    },
    {
     "name": "stderr",
     "output_type": "stream",
     "text": [
      "Epoch [629/5000]: 100%|██████████████████████████████████████████████████████| 9/9 [00:00<00:00, 188.40it/s, loss=4.46]\n"
     ]
    },
    {
     "name": "stdout",
     "output_type": "stream",
     "text": [
      "Epoch [629/5000]: Train loss: 3.3524, Valid loss: 1.2863\n",
      "Epoch [629/5000]: Train r2_score: 0.9192, Valid r2_score: 0.9695\n",
      "Epoch [629/5000]: Train smape: 15.2594, Valid smape: 10.7202\n",
      "\n"
     ]
    },
    {
     "name": "stderr",
     "output_type": "stream",
     "text": [
      "Epoch [630/5000]: 100%|██████████████████████████████████████████████████████| 9/9 [00:00<00:00, 167.89it/s, loss=3.09]\n"
     ]
    },
    {
     "name": "stdout",
     "output_type": "stream",
     "text": [
      "Epoch [630/5000]: Train loss: 2.9527, Valid loss: 1.1994\n",
      "Epoch [630/5000]: Train r2_score: 0.9275, Valid r2_score: 0.9726\n",
      "Epoch [630/5000]: Train smape: 14.5476, Valid smape: 10.4300\n",
      "\n"
     ]
    },
    {
     "name": "stderr",
     "output_type": "stream",
     "text": [
      "Epoch [631/5000]: 100%|██████████████████████████████████████████████████████| 9/9 [00:00<00:00, 202.13it/s, loss=4.78]\n"
     ]
    },
    {
     "name": "stdout",
     "output_type": "stream",
     "text": [
      "Epoch [631/5000]: Train loss: 3.1330, Valid loss: 0.9782\n",
      "Epoch [631/5000]: Train r2_score: 0.9255, Valid r2_score: 0.9747\n",
      "Epoch [631/5000]: Train smape: 14.7490, Valid smape: 10.3151\n",
      "\n"
     ]
    },
    {
     "name": "stderr",
     "output_type": "stream",
     "text": [
      "Epoch [632/5000]: 100%|██████████████████████████████████████████████████████| 9/9 [00:00<00:00, 178.14it/s, loss=3.79]\n"
     ]
    },
    {
     "name": "stdout",
     "output_type": "stream",
     "text": [
      "Epoch [632/5000]: Train loss: 3.2457, Valid loss: 1.1461\n",
      "Epoch [632/5000]: Train r2_score: 0.9209, Valid r2_score: 0.9714\n",
      "Epoch [632/5000]: Train smape: 15.5165, Valid smape: 10.5921\n",
      "\n"
     ]
    },
    {
     "name": "stderr",
     "output_type": "stream",
     "text": [
      "Epoch [633/5000]: 100%|██████████████████████████████████████████████████████| 9/9 [00:00<00:00, 192.95it/s, loss=3.63]\n"
     ]
    },
    {
     "name": "stdout",
     "output_type": "stream",
     "text": [
      "Epoch [633/5000]: Train loss: 3.0221, Valid loss: 1.0406\n",
      "Epoch [633/5000]: Train r2_score: 0.9265, Valid r2_score: 0.9748\n",
      "Epoch [633/5000]: Train smape: 15.0688, Valid smape: 10.3336\n",
      "\n"
     ]
    },
    {
     "name": "stderr",
     "output_type": "stream",
     "text": [
      "Epoch [634/5000]: 100%|███████████████████████████████████████████████████████| 9/9 [00:00<00:00, 195.89it/s, loss=3.6]\n"
     ]
    },
    {
     "name": "stdout",
     "output_type": "stream",
     "text": [
      "Epoch [634/5000]: Train loss: 3.3260, Valid loss: 1.2582\n",
      "Epoch [634/5000]: Train r2_score: 0.9185, Valid r2_score: 0.9729\n",
      "Epoch [634/5000]: Train smape: 15.6726, Valid smape: 10.5141\n",
      "\n"
     ]
    },
    {
     "name": "stderr",
     "output_type": "stream",
     "text": [
      "Epoch [635/5000]: 100%|██████████████████████████████████████████████████████| 9/9 [00:00<00:00, 193.60it/s, loss=1.97]\n"
     ]
    },
    {
     "name": "stdout",
     "output_type": "stream",
     "text": [
      "Epoch [635/5000]: Train loss: 2.8857, Valid loss: 1.1673\n",
      "Epoch [635/5000]: Train r2_score: 0.9274, Valid r2_score: 0.9738\n",
      "Epoch [635/5000]: Train smape: 15.0325, Valid smape: 10.3449\n",
      "\n"
     ]
    },
    {
     "name": "stderr",
     "output_type": "stream",
     "text": [
      "Epoch [636/5000]: 100%|██████████████████████████████████████████████████████| 9/9 [00:00<00:00, 198.42it/s, loss=2.99]\n"
     ]
    },
    {
     "name": "stdout",
     "output_type": "stream",
     "text": [
      "Epoch [636/5000]: Train loss: 3.1324, Valid loss: 1.2460\n",
      "Epoch [636/5000]: Train r2_score: 0.9226, Valid r2_score: 0.9707\n",
      "Epoch [636/5000]: Train smape: 15.1848, Valid smape: 10.6853\n",
      "\n"
     ]
    },
    {
     "name": "stderr",
     "output_type": "stream",
     "text": [
      "Epoch [637/5000]: 100%|██████████████████████████████████████████████████████| 9/9 [00:00<00:00, 213.22it/s, loss=3.69]\n"
     ]
    },
    {
     "name": "stdout",
     "output_type": "stream",
     "text": [
      "Epoch [637/5000]: Train loss: 2.9736, Valid loss: 1.3067\n",
      "Epoch [637/5000]: Train r2_score: 0.9279, Valid r2_score: 0.9730\n",
      "Epoch [637/5000]: Train smape: 14.6996, Valid smape: 10.3853\n",
      "\n"
     ]
    },
    {
     "name": "stderr",
     "output_type": "stream",
     "text": [
      "Epoch [638/5000]: 100%|██████████████████████████████████████████████████████| 9/9 [00:00<00:00, 210.45it/s, loss=2.79]\n"
     ]
    },
    {
     "name": "stdout",
     "output_type": "stream",
     "text": [
      "Epoch [638/5000]: Train loss: 2.9859, Valid loss: 1.0683\n",
      "Epoch [638/5000]: Train r2_score: 0.9261, Valid r2_score: 0.9741\n",
      "Epoch [638/5000]: Train smape: 14.9748, Valid smape: 10.3372\n",
      "\n"
     ]
    },
    {
     "name": "stderr",
     "output_type": "stream",
     "text": [
      "Epoch [639/5000]: 100%|██████████████████████████████████████████████████████| 9/9 [00:00<00:00, 188.17it/s, loss=2.92]\n"
     ]
    },
    {
     "name": "stdout",
     "output_type": "stream",
     "text": [
      "Epoch [639/5000]: Train loss: 2.8541, Valid loss: 1.1622\n",
      "Epoch [639/5000]: Train r2_score: 0.9298, Valid r2_score: 0.9718\n",
      "Epoch [639/5000]: Train smape: 14.8706, Valid smape: 10.6325\n",
      "\n"
     ]
    },
    {
     "name": "stderr",
     "output_type": "stream",
     "text": [
      "Epoch [640/5000]: 100%|██████████████████████████████████████████████████████| 9/9 [00:00<00:00, 211.92it/s, loss=2.61]\n"
     ]
    },
    {
     "name": "stdout",
     "output_type": "stream",
     "text": [
      "Epoch [640/5000]: Train loss: 2.7680, Valid loss: 1.4677\n",
      "Epoch [640/5000]: Train r2_score: 0.9315, Valid r2_score: 0.9631\n",
      "Epoch [640/5000]: Train smape: 14.2117, Valid smape: 11.2143\n",
      "\n"
     ]
    },
    {
     "name": "stderr",
     "output_type": "stream",
     "text": [
      "Epoch [641/5000]: 100%|██████████████████████████████████████████████████████| 9/9 [00:00<00:00, 198.00it/s, loss=2.43]\n"
     ]
    },
    {
     "name": "stdout",
     "output_type": "stream",
     "text": [
      "Epoch [641/5000]: Train loss: 2.8493, Valid loss: 1.1203\n",
      "Epoch [641/5000]: Train r2_score: 0.9291, Valid r2_score: 0.9743\n",
      "Epoch [641/5000]: Train smape: 14.7993, Valid smape: 10.4336\n",
      "\n"
     ]
    },
    {
     "name": "stderr",
     "output_type": "stream",
     "text": [
      "Epoch [642/5000]: 100%|██████████████████████████████████████████████████████| 9/9 [00:00<00:00, 185.70it/s, loss=5.53]\n"
     ]
    },
    {
     "name": "stdout",
     "output_type": "stream",
     "text": [
      "Epoch [642/5000]: Train loss: 3.2733, Valid loss: 1.2473\n",
      "Epoch [642/5000]: Train r2_score: 0.9230, Valid r2_score: 0.9738\n",
      "Epoch [642/5000]: Train smape: 15.1551, Valid smape: 10.3765\n",
      "\n"
     ]
    },
    {
     "name": "stderr",
     "output_type": "stream",
     "text": [
      "Epoch [643/5000]: 100%|██████████████████████████████████████████████████████| 9/9 [00:00<00:00, 201.59it/s, loss=3.29]\n"
     ]
    },
    {
     "name": "stdout",
     "output_type": "stream",
     "text": [
      "Epoch [643/5000]: Train loss: 3.0906, Valid loss: 0.9857\n",
      "Epoch [643/5000]: Train r2_score: 0.9241, Valid r2_score: 0.9722\n",
      "Epoch [643/5000]: Train smape: 14.9190, Valid smape: 10.4250\n",
      "\n"
     ]
    },
    {
     "name": "stderr",
     "output_type": "stream",
     "text": [
      "Epoch [644/5000]: 100%|██████████████████████████████████████████████████████| 9/9 [00:00<00:00, 199.42it/s, loss=3.09]\n"
     ]
    },
    {
     "name": "stdout",
     "output_type": "stream",
     "text": [
      "Epoch [644/5000]: Train loss: 2.9032, Valid loss: 1.3495\n",
      "Epoch [644/5000]: Train r2_score: 0.9287, Valid r2_score: 0.9749\n",
      "Epoch [644/5000]: Train smape: 14.8624, Valid smape: 10.3139\n",
      "\n"
     ]
    },
    {
     "name": "stderr",
     "output_type": "stream",
     "text": [
      "Epoch [645/5000]: 100%|██████████████████████████████████████████████████████| 9/9 [00:00<00:00, 203.37it/s, loss=2.25]\n"
     ]
    },
    {
     "name": "stdout",
     "output_type": "stream",
     "text": [
      "Epoch [645/5000]: Train loss: 3.0552, Valid loss: 1.2895\n",
      "Epoch [645/5000]: Train r2_score: 0.9234, Valid r2_score: 0.9708\n",
      "Epoch [645/5000]: Train smape: 14.9886, Valid smape: 10.6478\n",
      "\n"
     ]
    },
    {
     "name": "stderr",
     "output_type": "stream",
     "text": [
      "Epoch [646/5000]: 100%|██████████████████████████████████████████████████████| 9/9 [00:00<00:00, 178.21it/s, loss=2.28]\n"
     ]
    },
    {
     "name": "stdout",
     "output_type": "stream",
     "text": [
      "Epoch [646/5000]: Train loss: 2.6605, Valid loss: 1.0786\n",
      "Epoch [646/5000]: Train r2_score: 0.9338, Valid r2_score: 0.9746\n",
      "Epoch [646/5000]: Train smape: 14.7791, Valid smape: 10.3818\n",
      "\n"
     ]
    },
    {
     "name": "stderr",
     "output_type": "stream",
     "text": [
      "Epoch [647/5000]: 100%|██████████████████████████████████████████████████████| 9/9 [00:00<00:00, 199.60it/s, loss=1.94]\n"
     ]
    },
    {
     "name": "stdout",
     "output_type": "stream",
     "text": [
      "Epoch [647/5000]: Train loss: 2.7978, Valid loss: 1.2614\n",
      "Epoch [647/5000]: Train r2_score: 0.9296, Valid r2_score: 0.9728\n",
      "Epoch [647/5000]: Train smape: 14.9925, Valid smape: 10.5623\n",
      "\n"
     ]
    },
    {
     "name": "stderr",
     "output_type": "stream",
     "text": [
      "Epoch [648/5000]: 100%|██████████████████████████████████████████████████████| 9/9 [00:00<00:00, 172.73it/s, loss=3.77]\n"
     ]
    },
    {
     "name": "stdout",
     "output_type": "stream",
     "text": [
      "Epoch [648/5000]: Train loss: 2.9787, Valid loss: 1.3975\n",
      "Epoch [648/5000]: Train r2_score: 0.9279, Valid r2_score: 0.9686\n",
      "Epoch [648/5000]: Train smape: 14.7021, Valid smape: 10.7915\n",
      "\n"
     ]
    },
    {
     "name": "stderr",
     "output_type": "stream",
     "text": [
      "Epoch [649/5000]: 100%|██████████████████████████████████████████████████████| 9/9 [00:00<00:00, 179.99it/s, loss=2.67]\n"
     ]
    },
    {
     "name": "stdout",
     "output_type": "stream",
     "text": [
      "Epoch [649/5000]: Train loss: 2.8470, Valid loss: 0.9418\n",
      "Epoch [649/5000]: Train r2_score: 0.9295, Valid r2_score: 0.9744\n",
      "Epoch [649/5000]: Train smape: 14.3853, Valid smape: 10.3195\n",
      "\n",
      "Saving model with loss 0.942...\n"
     ]
    },
    {
     "name": "stderr",
     "output_type": "stream",
     "text": [
      "Epoch [650/5000]: 100%|██████████████████████████████████████████████████████| 9/9 [00:00<00:00, 176.72it/s, loss=3.99]\n"
     ]
    },
    {
     "name": "stdout",
     "output_type": "stream",
     "text": [
      "Epoch [650/5000]: Train loss: 3.0843, Valid loss: 1.2619\n",
      "Epoch [650/5000]: Train r2_score: 0.9255, Valid r2_score: 0.9743\n",
      "Epoch [650/5000]: Train smape: 14.9374, Valid smape: 10.3844\n",
      "\n"
     ]
    },
    {
     "name": "stderr",
     "output_type": "stream",
     "text": [
      "Epoch [651/5000]: 100%|██████████████████████████████████████████████████████| 9/9 [00:00<00:00, 181.99it/s, loss=3.18]\n"
     ]
    },
    {
     "name": "stdout",
     "output_type": "stream",
     "text": [
      "Epoch [651/5000]: Train loss: 2.8809, Valid loss: 1.8098\n",
      "Epoch [651/5000]: Train r2_score: 0.9295, Valid r2_score: 0.9691\n",
      "Epoch [651/5000]: Train smape: 15.0657, Valid smape: 11.0289\n",
      "\n"
     ]
    },
    {
     "name": "stderr",
     "output_type": "stream",
     "text": [
      "Epoch [652/5000]: 100%|██████████████████████████████████████████████████████| 9/9 [00:00<00:00, 186.61it/s, loss=3.07]\n"
     ]
    },
    {
     "name": "stdout",
     "output_type": "stream",
     "text": [
      "Epoch [652/5000]: Train loss: 3.0491, Valid loss: 0.9258\n",
      "Epoch [652/5000]: Train r2_score: 0.9249, Valid r2_score: 0.9739\n",
      "Epoch [652/5000]: Train smape: 14.9562, Valid smape: 10.3227\n",
      "\n",
      "Saving model with loss 0.926...\n"
     ]
    },
    {
     "name": "stderr",
     "output_type": "stream",
     "text": [
      "Epoch [653/5000]: 100%|██████████████████████████████████████████████████████| 9/9 [00:00<00:00, 192.00it/s, loss=3.87]\n"
     ]
    },
    {
     "name": "stdout",
     "output_type": "stream",
     "text": [
      "Epoch [653/5000]: Train loss: 3.0219, Valid loss: 1.2739\n",
      "Epoch [653/5000]: Train r2_score: 0.9269, Valid r2_score: 0.9737\n",
      "Epoch [653/5000]: Train smape: 14.6771, Valid smape: 10.3521\n",
      "\n"
     ]
    },
    {
     "name": "stderr",
     "output_type": "stream",
     "text": [
      "Epoch [654/5000]: 100%|██████████████████████████████████████████████████████| 9/9 [00:00<00:00, 191.59it/s, loss=4.13]\n"
     ]
    },
    {
     "name": "stdout",
     "output_type": "stream",
     "text": [
      "Epoch [654/5000]: Train loss: 2.9312, Valid loss: 1.4877\n",
      "Epoch [654/5000]: Train r2_score: 0.9297, Valid r2_score: 0.9673\n",
      "Epoch [654/5000]: Train smape: 14.3955, Valid smape: 10.8168\n",
      "\n"
     ]
    },
    {
     "name": "stderr",
     "output_type": "stream",
     "text": [
      "Epoch [655/5000]: 100%|██████████████████████████████████████████████████████| 9/9 [00:00<00:00, 193.10it/s, loss=3.05]\n"
     ]
    },
    {
     "name": "stdout",
     "output_type": "stream",
     "text": [
      "Epoch [655/5000]: Train loss: 2.8701, Valid loss: 1.1470\n",
      "Epoch [655/5000]: Train r2_score: 0.9296, Valid r2_score: 0.9746\n",
      "Epoch [655/5000]: Train smape: 14.6865, Valid smape: 10.3592\n",
      "\n"
     ]
    },
    {
     "name": "stderr",
     "output_type": "stream",
     "text": [
      "Epoch [656/5000]: 100%|██████████████████████████████████████████████████████| 9/9 [00:00<00:00, 210.34it/s, loss=3.62]\n"
     ]
    },
    {
     "name": "stdout",
     "output_type": "stream",
     "text": [
      "Epoch [656/5000]: Train loss: 2.8615, Valid loss: 1.1835\n",
      "Epoch [656/5000]: Train r2_score: 0.9307, Valid r2_score: 0.9726\n",
      "Epoch [656/5000]: Train smape: 15.1573, Valid smape: 10.5284\n",
      "\n"
     ]
    },
    {
     "name": "stderr",
     "output_type": "stream",
     "text": [
      "Epoch [657/5000]: 100%|███████████████████████████████████████████████████████| 9/9 [00:00<00:00, 202.94it/s, loss=3.1]\n"
     ]
    },
    {
     "name": "stdout",
     "output_type": "stream",
     "text": [
      "Epoch [657/5000]: Train loss: 3.0050, Valid loss: 1.0645\n",
      "Epoch [657/5000]: Train r2_score: 0.9261, Valid r2_score: 0.9746\n",
      "Epoch [657/5000]: Train smape: 14.5903, Valid smape: 10.3664\n",
      "\n"
     ]
    },
    {
     "name": "stderr",
     "output_type": "stream",
     "text": [
      "Epoch [658/5000]: 100%|███████████████████████████████████████████████████████| 9/9 [00:00<00:00, 180.20it/s, loss=2.7]\n"
     ]
    },
    {
     "name": "stdout",
     "output_type": "stream",
     "text": [
      "Epoch [658/5000]: Train loss: 2.6065, Valid loss: 1.3735\n",
      "Epoch [658/5000]: Train r2_score: 0.9359, Valid r2_score: 0.9687\n",
      "Epoch [658/5000]: Train smape: 14.3526, Valid smape: 10.7698\n",
      "\n"
     ]
    },
    {
     "name": "stderr",
     "output_type": "stream",
     "text": [
      "Epoch [659/5000]: 100%|██████████████████████████████████████████████████████| 9/9 [00:00<00:00, 184.42it/s, loss=3.21]\n"
     ]
    },
    {
     "name": "stdout",
     "output_type": "stream",
     "text": [
      "Epoch [659/5000]: Train loss: 3.2381, Valid loss: 1.2864\n",
      "Epoch [659/5000]: Train r2_score: 0.9201, Valid r2_score: 0.9730\n",
      "Epoch [659/5000]: Train smape: 14.8227, Valid smape: 10.3785\n",
      "\n"
     ]
    },
    {
     "name": "stderr",
     "output_type": "stream",
     "text": [
      "Epoch [660/5000]: 100%|██████████████████████████████████████████████████████| 9/9 [00:00<00:00, 184.14it/s, loss=2.99]\n"
     ]
    },
    {
     "name": "stdout",
     "output_type": "stream",
     "text": [
      "Epoch [660/5000]: Train loss: 2.7475, Valid loss: 1.2456\n",
      "Epoch [660/5000]: Train r2_score: 0.9327, Valid r2_score: 0.9742\n",
      "Epoch [660/5000]: Train smape: 14.4389, Valid smape: 10.3067\n",
      "\n"
     ]
    },
    {
     "name": "stderr",
     "output_type": "stream",
     "text": [
      "Epoch [661/5000]: 100%|██████████████████████████████████████████████████████| 9/9 [00:00<00:00, 213.65it/s, loss=3.07]\n"
     ]
    },
    {
     "name": "stdout",
     "output_type": "stream",
     "text": [
      "Epoch [661/5000]: Train loss: 3.0590, Valid loss: 1.5511\n",
      "Epoch [661/5000]: Train r2_score: 0.9246, Valid r2_score: 0.9695\n",
      "Epoch [661/5000]: Train smape: 15.2732, Valid smape: 10.8477\n",
      "\n"
     ]
    },
    {
     "name": "stderr",
     "output_type": "stream",
     "text": [
      "Epoch [662/5000]: 100%|██████████████████████████████████████████████████████| 9/9 [00:00<00:00, 211.53it/s, loss=2.31]\n"
     ]
    },
    {
     "name": "stdout",
     "output_type": "stream",
     "text": [
      "Epoch [662/5000]: Train loss: 2.9887, Valid loss: 1.2204\n",
      "Epoch [662/5000]: Train r2_score: 0.9252, Valid r2_score: 0.9744\n",
      "Epoch [662/5000]: Train smape: 14.3010, Valid smape: 10.3472\n",
      "\n"
     ]
    },
    {
     "name": "stderr",
     "output_type": "stream",
     "text": [
      "Epoch [663/5000]: 100%|██████████████████████████████████████████████████████| 9/9 [00:00<00:00, 176.89it/s, loss=4.89]\n"
     ]
    },
    {
     "name": "stdout",
     "output_type": "stream",
     "text": [
      "Epoch [663/5000]: Train loss: 3.1464, Valid loss: 1.3866\n",
      "Epoch [663/5000]: Train r2_score: 0.9253, Valid r2_score: 0.9693\n",
      "Epoch [663/5000]: Train smape: 15.3637, Valid smape: 10.7086\n",
      "\n"
     ]
    },
    {
     "name": "stderr",
     "output_type": "stream",
     "text": [
      "Epoch [664/5000]: 100%|██████████████████████████████████████████████████████| 9/9 [00:00<00:00, 174.11it/s, loss=4.76]\n"
     ]
    },
    {
     "name": "stdout",
     "output_type": "stream",
     "text": [
      "Epoch [664/5000]: Train loss: 2.9966, Valid loss: 1.3075\n",
      "Epoch [664/5000]: Train r2_score: 0.9290, Valid r2_score: 0.9737\n",
      "Epoch [664/5000]: Train smape: 14.4294, Valid smape: 10.4156\n",
      "\n"
     ]
    },
    {
     "name": "stderr",
     "output_type": "stream",
     "text": [
      "Epoch [665/5000]: 100%|██████████████████████████████████████████████████████| 9/9 [00:00<00:00, 191.93it/s, loss=3.88]\n"
     ]
    },
    {
     "name": "stdout",
     "output_type": "stream",
     "text": [
      "Epoch [665/5000]: Train loss: 3.2029, Valid loss: 1.1137\n",
      "Epoch [665/5000]: Train r2_score: 0.9222, Valid r2_score: 0.9746\n",
      "Epoch [665/5000]: Train smape: 15.1292, Valid smape: 10.3470\n",
      "\n"
     ]
    },
    {
     "name": "stderr",
     "output_type": "stream",
     "text": [
      "Epoch [666/5000]: 100%|██████████████████████████████████████████████████████| 9/9 [00:00<00:00, 197.45it/s, loss=2.73]\n"
     ]
    },
    {
     "name": "stdout",
     "output_type": "stream",
     "text": [
      "Epoch [666/5000]: Train loss: 2.8420, Valid loss: 1.4106\n",
      "Epoch [666/5000]: Train r2_score: 0.9298, Valid r2_score: 0.9674\n",
      "Epoch [666/5000]: Train smape: 14.7429, Valid smape: 10.9778\n",
      "\n"
     ]
    },
    {
     "name": "stderr",
     "output_type": "stream",
     "text": [
      "Epoch [667/5000]: 100%|██████████████████████████████████████████████████████| 9/9 [00:00<00:00, 208.21it/s, loss=2.35]\n"
     ]
    },
    {
     "name": "stdout",
     "output_type": "stream",
     "text": [
      "Epoch [667/5000]: Train loss: 2.6524, Valid loss: 1.4108\n",
      "Epoch [667/5000]: Train r2_score: 0.9341, Valid r2_score: 0.9731\n",
      "Epoch [667/5000]: Train smape: 14.5137, Valid smape: 10.3534\n",
      "\n"
     ]
    },
    {
     "name": "stderr",
     "output_type": "stream",
     "text": [
      "Epoch [668/5000]: 100%|███████████████████████████████████████████████████████| 9/9 [00:00<00:00, 158.41it/s, loss=2.4]\n"
     ]
    },
    {
     "name": "stdout",
     "output_type": "stream",
     "text": [
      "Epoch [668/5000]: Train loss: 2.9908, Valid loss: 1.2956\n",
      "Epoch [668/5000]: Train r2_score: 0.9253, Valid r2_score: 0.9738\n",
      "Epoch [668/5000]: Train smape: 14.5279, Valid smape: 10.3005\n",
      "\n"
     ]
    },
    {
     "name": "stderr",
     "output_type": "stream",
     "text": [
      "Epoch [669/5000]: 100%|██████████████████████████████████████████████████████| 9/9 [00:00<00:00, 176.34it/s, loss=3.91]\n"
     ]
    },
    {
     "name": "stdout",
     "output_type": "stream",
     "text": [
      "Epoch [669/5000]: Train loss: 2.8143, Valid loss: 1.2864\n",
      "Epoch [669/5000]: Train r2_score: 0.9324, Valid r2_score: 0.9730\n",
      "Epoch [669/5000]: Train smape: 14.3432, Valid smape: 10.4296\n",
      "\n"
     ]
    },
    {
     "name": "stderr",
     "output_type": "stream",
     "text": [
      "Epoch [670/5000]: 100%|██████████████████████████████████████████████████████| 9/9 [00:00<00:00, 172.33it/s, loss=2.84]\n"
     ]
    },
    {
     "name": "stdout",
     "output_type": "stream",
     "text": [
      "Epoch [670/5000]: Train loss: 2.8892, Valid loss: 1.0814\n",
      "Epoch [670/5000]: Train r2_score: 0.9287, Valid r2_score: 0.9743\n",
      "Epoch [670/5000]: Train smape: 14.5704, Valid smape: 10.3239\n",
      "\n"
     ]
    },
    {
     "name": "stderr",
     "output_type": "stream",
     "text": [
      "Epoch [671/5000]: 100%|███████████████████████████████████████████████████████| 9/9 [00:00<00:00, 170.64it/s, loss=2.5]\n"
     ]
    },
    {
     "name": "stdout",
     "output_type": "stream",
     "text": [
      "Epoch [671/5000]: Train loss: 2.6895, Valid loss: 1.0585\n",
      "Epoch [671/5000]: Train r2_score: 0.9334, Valid r2_score: 0.9751\n",
      "Epoch [671/5000]: Train smape: 14.9732, Valid smape: 10.3202\n",
      "\n"
     ]
    },
    {
     "name": "stderr",
     "output_type": "stream",
     "text": [
      "Epoch [672/5000]: 100%|██████████████████████████████████████████████████████| 9/9 [00:00<00:00, 168.78it/s, loss=1.78]\n"
     ]
    },
    {
     "name": "stdout",
     "output_type": "stream",
     "text": [
      "Epoch [672/5000]: Train loss: 2.7898, Valid loss: 1.6863\n",
      "Epoch [672/5000]: Train r2_score: 0.9296, Valid r2_score: 0.9661\n",
      "Epoch [672/5000]: Train smape: 14.7464, Valid smape: 11.1565\n",
      "\n"
     ]
    },
    {
     "name": "stderr",
     "output_type": "stream",
     "text": [
      "Epoch [673/5000]: 100%|██████████████████████████████████████████████████████| 9/9 [00:00<00:00, 157.85it/s, loss=2.43]\n"
     ]
    },
    {
     "name": "stdout",
     "output_type": "stream",
     "text": [
      "Epoch [673/5000]: Train loss: 2.7001, Valid loss: 1.1017\n",
      "Epoch [673/5000]: Train r2_score: 0.9330, Valid r2_score: 0.9737\n",
      "Epoch [673/5000]: Train smape: 14.4210, Valid smape: 10.3034\n",
      "\n"
     ]
    },
    {
     "name": "stderr",
     "output_type": "stream",
     "text": [
      "Epoch [674/5000]: 100%|██████████████████████████████████████████████████████| 9/9 [00:00<00:00, 174.19it/s, loss=1.93]\n"
     ]
    },
    {
     "name": "stdout",
     "output_type": "stream",
     "text": [
      "Epoch [674/5000]: Train loss: 2.8798, Valid loss: 1.0411\n",
      "Epoch [674/5000]: Train r2_score: 0.9275, Valid r2_score: 0.9748\n",
      "Epoch [674/5000]: Train smape: 15.0928, Valid smape: 10.2952\n",
      "\n"
     ]
    },
    {
     "name": "stderr",
     "output_type": "stream",
     "text": [
      "Epoch [675/5000]: 100%|██████████████████████████████████████████████████████| 9/9 [00:00<00:00, 180.17it/s, loss=2.71]\n"
     ]
    },
    {
     "name": "stdout",
     "output_type": "stream",
     "text": [
      "Epoch [675/5000]: Train loss: 2.9130, Valid loss: 1.3995\n",
      "Epoch [675/5000]: Train r2_score: 0.9279, Valid r2_score: 0.9655\n",
      "Epoch [675/5000]: Train smape: 14.7019, Valid smape: 10.9574\n",
      "\n"
     ]
    },
    {
     "name": "stderr",
     "output_type": "stream",
     "text": [
      "Epoch [676/5000]: 100%|███████████████████████████████████████████████████████| 9/9 [00:00<00:00, 183.46it/s, loss=2.7]\n"
     ]
    },
    {
     "name": "stdout",
     "output_type": "stream",
     "text": [
      "Epoch [676/5000]: Train loss: 2.9263, Valid loss: 1.1845\n",
      "Epoch [676/5000]: Train r2_score: 0.9275, Valid r2_score: 0.9718\n",
      "Epoch [676/5000]: Train smape: 14.5946, Valid smape: 10.7680\n",
      "\n"
     ]
    },
    {
     "name": "stderr",
     "output_type": "stream",
     "text": [
      "Epoch [677/5000]: 100%|██████████████████████████████████████████████████████| 9/9 [00:00<00:00, 187.81it/s, loss=2.41]\n"
     ]
    },
    {
     "name": "stdout",
     "output_type": "stream",
     "text": [
      "Epoch [677/5000]: Train loss: 2.8916, Valid loss: 1.2070\n",
      "Epoch [677/5000]: Train r2_score: 0.9279, Valid r2_score: 0.9721\n",
      "Epoch [677/5000]: Train smape: 14.8567, Valid smape: 10.7050\n",
      "\n"
     ]
    },
    {
     "name": "stderr",
     "output_type": "stream",
     "text": [
      "Epoch [678/5000]: 100%|██████████████████████████████████████████████████████| 9/9 [00:00<00:00, 155.03it/s, loss=2.84]\n"
     ]
    },
    {
     "name": "stdout",
     "output_type": "stream",
     "text": [
      "Epoch [678/5000]: Train loss: 3.0874, Valid loss: 1.2471\n",
      "Epoch [678/5000]: Train r2_score: 0.9235, Valid r2_score: 0.9710\n",
      "Epoch [678/5000]: Train smape: 15.1611, Valid smape: 10.5942\n",
      "\n"
     ]
    },
    {
     "name": "stderr",
     "output_type": "stream",
     "text": [
      "Epoch [679/5000]: 100%|██████████████████████████████████████████████████████| 9/9 [00:00<00:00, 189.51it/s, loss=3.09]\n"
     ]
    },
    {
     "name": "stdout",
     "output_type": "stream",
     "text": [
      "Epoch [679/5000]: Train loss: 2.9301, Valid loss: 1.0769\n",
      "Epoch [679/5000]: Train r2_score: 0.9280, Valid r2_score: 0.9722\n",
      "Epoch [679/5000]: Train smape: 14.7716, Valid smape: 10.5071\n",
      "\n"
     ]
    },
    {
     "name": "stderr",
     "output_type": "stream",
     "text": [
      "Epoch [680/5000]: 100%|██████████████████████████████████████████████████████| 9/9 [00:00<00:00, 171.40it/s, loss=4.72]\n"
     ]
    },
    {
     "name": "stdout",
     "output_type": "stream",
     "text": [
      "Epoch [680/5000]: Train loss: 3.1221, Valid loss: 1.2523\n",
      "Epoch [680/5000]: Train r2_score: 0.9257, Valid r2_score: 0.9724\n",
      "Epoch [680/5000]: Train smape: 15.0028, Valid smape: 10.5012\n",
      "\n"
     ]
    },
    {
     "name": "stderr",
     "output_type": "stream",
     "text": [
      "Epoch [681/5000]: 100%|██████████████████████████████████████████████████████| 9/9 [00:00<00:00, 186.39it/s, loss=3.49]\n"
     ]
    },
    {
     "name": "stdout",
     "output_type": "stream",
     "text": [
      "Epoch [681/5000]: Train loss: 2.8446, Valid loss: 0.9556\n",
      "Epoch [681/5000]: Train r2_score: 0.9310, Valid r2_score: 0.9744\n",
      "Epoch [681/5000]: Train smape: 14.4340, Valid smape: 10.3732\n",
      "\n"
     ]
    },
    {
     "name": "stderr",
     "output_type": "stream",
     "text": [
      "Epoch [682/5000]: 100%|█████████████████████████████████████████████████████████| 9/9 [00:00<00:00, 180.15it/s, loss=2]\n"
     ]
    },
    {
     "name": "stdout",
     "output_type": "stream",
     "text": [
      "Epoch [682/5000]: Train loss: 2.7510, Valid loss: 1.2575\n",
      "Epoch [682/5000]: Train r2_score: 0.9310, Valid r2_score: 0.9713\n",
      "Epoch [682/5000]: Train smape: 14.5615, Valid smape: 10.7037\n",
      "\n"
     ]
    },
    {
     "name": "stderr",
     "output_type": "stream",
     "text": [
      "Epoch [683/5000]: 100%|██████████████████████████████████████████████████████| 9/9 [00:00<00:00, 171.84it/s, loss=2.33]\n"
     ]
    },
    {
     "name": "stdout",
     "output_type": "stream",
     "text": [
      "Epoch [683/5000]: Train loss: 2.9665, Valid loss: 1.2193\n",
      "Epoch [683/5000]: Train r2_score: 0.9258, Valid r2_score: 0.9714\n",
      "Epoch [683/5000]: Train smape: 14.5755, Valid smape: 10.5114\n",
      "\n"
     ]
    },
    {
     "name": "stderr",
     "output_type": "stream",
     "text": [
      "Epoch [684/5000]: 100%|██████████████████████████████████████████████████████| 9/9 [00:00<00:00, 169.36it/s, loss=3.27]\n"
     ]
    },
    {
     "name": "stdout",
     "output_type": "stream",
     "text": [
      "Epoch [684/5000]: Train loss: 2.7276, Valid loss: 1.2036\n",
      "Epoch [684/5000]: Train r2_score: 0.9337, Valid r2_score: 0.9741\n",
      "Epoch [684/5000]: Train smape: 14.1835, Valid smape: 10.4361\n",
      "\n"
     ]
    },
    {
     "name": "stderr",
     "output_type": "stream",
     "text": [
      "Epoch [685/5000]: 100%|██████████████████████████████████████████████████████| 9/9 [00:00<00:00, 187.90it/s, loss=2.78]\n"
     ]
    },
    {
     "name": "stdout",
     "output_type": "stream",
     "text": [
      "Epoch [685/5000]: Train loss: 2.8642, Valid loss: 1.3239\n",
      "Epoch [685/5000]: Train r2_score: 0.9293, Valid r2_score: 0.9682\n",
      "Epoch [685/5000]: Train smape: 14.5104, Valid smape: 10.9287\n",
      "\n"
     ]
    },
    {
     "name": "stderr",
     "output_type": "stream",
     "text": [
      "Epoch [686/5000]: 100%|██████████████████████████████████████████████████████| 9/9 [00:00<00:00, 179.98it/s, loss=3.45]\n"
     ]
    },
    {
     "name": "stdout",
     "output_type": "stream",
     "text": [
      "Epoch [686/5000]: Train loss: 2.9458, Valid loss: 1.1794\n",
      "Epoch [686/5000]: Train r2_score: 0.9282, Valid r2_score: 0.9693\n",
      "Epoch [686/5000]: Train smape: 14.5975, Valid smape: 10.6302\n",
      "\n"
     ]
    },
    {
     "name": "stderr",
     "output_type": "stream",
     "text": [
      "Epoch [687/5000]: 100%|███████████████████████████████████████████████████████| 9/9 [00:00<00:00, 180.95it/s, loss=3.5]\n"
     ]
    },
    {
     "name": "stdout",
     "output_type": "stream",
     "text": [
      "Epoch [687/5000]: Train loss: 3.1590, Valid loss: 1.0663\n",
      "Epoch [687/5000]: Train r2_score: 0.9227, Valid r2_score: 0.9747\n",
      "Epoch [687/5000]: Train smape: 14.7578, Valid smape: 10.3049\n",
      "\n"
     ]
    },
    {
     "name": "stderr",
     "output_type": "stream",
     "text": [
      "Epoch [688/5000]: 100%|██████████████████████████████████████████████████████| 9/9 [00:00<00:00, 197.78it/s, loss=5.68]\n"
     ]
    },
    {
     "name": "stdout",
     "output_type": "stream",
     "text": [
      "Epoch [688/5000]: Train loss: 3.0252, Valid loss: 1.1455\n",
      "Epoch [688/5000]: Train r2_score: 0.9298, Valid r2_score: 0.9714\n",
      "Epoch [688/5000]: Train smape: 14.4481, Valid smape: 10.6193\n",
      "\n"
     ]
    },
    {
     "name": "stderr",
     "output_type": "stream",
     "text": [
      "Epoch [689/5000]: 100%|██████████████████████████████████████████████████████| 9/9 [00:00<00:00, 192.08it/s, loss=2.74]\n"
     ]
    },
    {
     "name": "stdout",
     "output_type": "stream",
     "text": [
      "Epoch [689/5000]: Train loss: 2.8591, Valid loss: 1.1323\n",
      "Epoch [689/5000]: Train r2_score: 0.9293, Valid r2_score: 0.9741\n",
      "Epoch [689/5000]: Train smape: 14.0554, Valid smape: 10.3604\n",
      "\n"
     ]
    },
    {
     "name": "stderr",
     "output_type": "stream",
     "text": [
      "Epoch [690/5000]: 100%|██████████████████████████████████████████████████████| 9/9 [00:00<00:00, 151.95it/s, loss=2.84]\n"
     ]
    },
    {
     "name": "stdout",
     "output_type": "stream",
     "text": [
      "Epoch [690/5000]: Train loss: 2.7106, Valid loss: 1.2012\n",
      "Epoch [690/5000]: Train r2_score: 0.9334, Valid r2_score: 0.9684\n",
      "Epoch [690/5000]: Train smape: 14.3538, Valid smape: 10.8385\n",
      "\n"
     ]
    },
    {
     "name": "stderr",
     "output_type": "stream",
     "text": [
      "Epoch [691/5000]: 100%|██████████████████████████████████████████████████████| 9/9 [00:00<00:00, 158.64it/s, loss=3.77]\n"
     ]
    },
    {
     "name": "stdout",
     "output_type": "stream",
     "text": [
      "Epoch [691/5000]: Train loss: 2.8817, Valid loss: 1.2614\n",
      "Epoch [691/5000]: Train r2_score: 0.9304, Valid r2_score: 0.9738\n",
      "Epoch [691/5000]: Train smape: 14.3805, Valid smape: 10.3834\n",
      "\n"
     ]
    },
    {
     "name": "stderr",
     "output_type": "stream",
     "text": [
      "Epoch [692/5000]: 100%|██████████████████████████████████████████████████████| 9/9 [00:00<00:00, 161.13it/s, loss=3.01]\n"
     ]
    },
    {
     "name": "stdout",
     "output_type": "stream",
     "text": [
      "Epoch [692/5000]: Train loss: 3.1027, Valid loss: 1.3274\n",
      "Epoch [692/5000]: Train r2_score: 0.9234, Valid r2_score: 0.9742\n",
      "Epoch [692/5000]: Train smape: 15.0461, Valid smape: 10.3248\n",
      "\n"
     ]
    },
    {
     "name": "stderr",
     "output_type": "stream",
     "text": [
      "Epoch [693/5000]: 100%|██████████████████████████████████████████████████████| 9/9 [00:00<00:00, 163.70it/s, loss=5.61]\n"
     ]
    },
    {
     "name": "stdout",
     "output_type": "stream",
     "text": [
      "Epoch [693/5000]: Train loss: 3.2503, Valid loss: 1.0333\n",
      "Epoch [693/5000]: Train r2_score: 0.9238, Valid r2_score: 0.9731\n",
      "Epoch [693/5000]: Train smape: 14.9356, Valid smape: 10.3543\n",
      "\n"
     ]
    },
    {
     "name": "stderr",
     "output_type": "stream",
     "text": [
      "Epoch [694/5000]: 100%|██████████████████████████████████████████████████████| 9/9 [00:00<00:00, 155.70it/s, loss=3.04]\n"
     ]
    },
    {
     "name": "stdout",
     "output_type": "stream",
     "text": [
      "Epoch [694/5000]: Train loss: 3.1429, Valid loss: 1.0063\n",
      "Epoch [694/5000]: Train r2_score: 0.9224, Valid r2_score: 0.9739\n",
      "Epoch [694/5000]: Train smape: 14.9701, Valid smape: 10.3869\n",
      "\n"
     ]
    },
    {
     "name": "stderr",
     "output_type": "stream",
     "text": [
      "Epoch [695/5000]: 100%|██████████████████████████████████████████████████████| 9/9 [00:00<00:00, 170.68it/s, loss=3.63]\n"
     ]
    },
    {
     "name": "stdout",
     "output_type": "stream",
     "text": [
      "Epoch [695/5000]: Train loss: 2.9047, Valid loss: 1.4886\n",
      "Epoch [695/5000]: Train r2_score: 0.9296, Valid r2_score: 0.9707\n",
      "Epoch [695/5000]: Train smape: 14.6904, Valid smape: 10.5260\n",
      "\n"
     ]
    },
    {
     "name": "stderr",
     "output_type": "stream",
     "text": [
      "Epoch [696/5000]: 100%|██████████████████████████████████████████████████████| 9/9 [00:00<00:00, 166.80it/s, loss=3.48]\n"
     ]
    },
    {
     "name": "stdout",
     "output_type": "stream",
     "text": [
      "Epoch [696/5000]: Train loss: 2.9022, Valid loss: 1.4040\n",
      "Epoch [696/5000]: Train r2_score: 0.9294, Valid r2_score: 0.9746\n",
      "Epoch [696/5000]: Train smape: 14.4297, Valid smape: 10.3000\n",
      "\n"
     ]
    },
    {
     "name": "stderr",
     "output_type": "stream",
     "text": [
      "Epoch [697/5000]: 100%|██████████████████████████████████████████████████████| 9/9 [00:00<00:00, 163.82it/s, loss=4.27]\n"
     ]
    },
    {
     "name": "stdout",
     "output_type": "stream",
     "text": [
      "Epoch [697/5000]: Train loss: 3.0013, Valid loss: 1.2833\n",
      "Epoch [697/5000]: Train r2_score: 0.9281, Valid r2_score: 0.9704\n",
      "Epoch [697/5000]: Train smape: 15.0717, Valid smape: 10.6669\n",
      "\n"
     ]
    },
    {
     "name": "stderr",
     "output_type": "stream",
     "text": [
      "Epoch [698/5000]: 100%|██████████████████████████████████████████████████████| 9/9 [00:00<00:00, 171.02it/s, loss=2.34]\n"
     ]
    },
    {
     "name": "stdout",
     "output_type": "stream",
     "text": [
      "Epoch [698/5000]: Train loss: 2.6238, Valid loss: 1.2413\n",
      "Epoch [698/5000]: Train r2_score: 0.9349, Valid r2_score: 0.9703\n",
      "Epoch [698/5000]: Train smape: 14.2103, Valid smape: 10.5743\n",
      "\n"
     ]
    },
    {
     "name": "stderr",
     "output_type": "stream",
     "text": [
      "Epoch [699/5000]: 100%|██████████████████████████████████████████████████████| 9/9 [00:00<00:00, 167.07it/s, loss=2.87]\n"
     ]
    },
    {
     "name": "stdout",
     "output_type": "stream",
     "text": [
      "Epoch [699/5000]: Train loss: 2.9636, Valid loss: 0.9900\n",
      "Epoch [699/5000]: Train r2_score: 0.9268, Valid r2_score: 0.9744\n",
      "Epoch [699/5000]: Train smape: 14.4900, Valid smape: 10.4786\n",
      "\n"
     ]
    },
    {
     "name": "stderr",
     "output_type": "stream",
     "text": [
      "Epoch [700/5000]: 100%|██████████████████████████████████████████████████████| 9/9 [00:00<00:00, 163.51it/s, loss=2.27]\n"
     ]
    },
    {
     "name": "stdout",
     "output_type": "stream",
     "text": [
      "Epoch [700/5000]: Train loss: 2.8010, Valid loss: 1.2437\n",
      "Epoch [700/5000]: Train r2_score: 0.9301, Valid r2_score: 0.9743\n",
      "Epoch [700/5000]: Train smape: 14.5124, Valid smape: 10.3190\n",
      "\n"
     ]
    },
    {
     "name": "stderr",
     "output_type": "stream",
     "text": [
      "Epoch [701/5000]: 100%|██████████████████████████████████████████████████████| 9/9 [00:00<00:00, 166.21it/s, loss=2.65]\n"
     ]
    },
    {
     "name": "stdout",
     "output_type": "stream",
     "text": [
      "Epoch [701/5000]: Train loss: 2.8939, Valid loss: 1.3387\n",
      "Epoch [701/5000]: Train r2_score: 0.9283, Valid r2_score: 0.9730\n",
      "Epoch [701/5000]: Train smape: 14.5964, Valid smape: 10.3992\n",
      "\n"
     ]
    },
    {
     "name": "stderr",
     "output_type": "stream",
     "text": [
      "Epoch [702/5000]: 100%|██████████████████████████████████████████████████████| 9/9 [00:00<00:00, 160.10it/s, loss=3.04]\n"
     ]
    },
    {
     "name": "stdout",
     "output_type": "stream",
     "text": [
      "Epoch [702/5000]: Train loss: 2.7898, Valid loss: 1.0111\n",
      "Epoch [702/5000]: Train r2_score: 0.9317, Valid r2_score: 0.9745\n",
      "Epoch [702/5000]: Train smape: 14.4928, Valid smape: 10.3875\n",
      "\n"
     ]
    },
    {
     "name": "stderr",
     "output_type": "stream",
     "text": [
      "Epoch [703/5000]: 100%|██████████████████████████████████████████████████████| 9/9 [00:00<00:00, 166.06it/s, loss=2.54]\n"
     ]
    },
    {
     "name": "stdout",
     "output_type": "stream",
     "text": [
      "Epoch [703/5000]: Train loss: 2.8648, Valid loss: 1.8450\n",
      "Epoch [703/5000]: Train r2_score: 0.9289, Valid r2_score: 0.9650\n",
      "Epoch [703/5000]: Train smape: 14.9265, Valid smape: 11.1872\n",
      "\n"
     ]
    },
    {
     "name": "stderr",
     "output_type": "stream",
     "text": [
      "Epoch [704/5000]: 100%|██████████████████████████████████████████████████████| 9/9 [00:00<00:00, 154.37it/s, loss=3.82]\n"
     ]
    },
    {
     "name": "stdout",
     "output_type": "stream",
     "text": [
      "Epoch [704/5000]: Train loss: 3.0636, Valid loss: 0.9292\n",
      "Epoch [704/5000]: Train r2_score: 0.9257, Valid r2_score: 0.9742\n",
      "Epoch [704/5000]: Train smape: 14.3146, Valid smape: 10.4200\n",
      "\n"
     ]
    },
    {
     "name": "stderr",
     "output_type": "stream",
     "text": [
      "Epoch [705/5000]: 100%|██████████████████████████████████████████████████████| 9/9 [00:00<00:00, 160.99it/s, loss=3.79]\n"
     ]
    },
    {
     "name": "stdout",
     "output_type": "stream",
     "text": [
      "Epoch [705/5000]: Train loss: 2.8579, Valid loss: 1.0306\n",
      "Epoch [705/5000]: Train r2_score: 0.9311, Valid r2_score: 0.9742\n",
      "Epoch [705/5000]: Train smape: 14.4218, Valid smape: 10.3461\n",
      "\n"
     ]
    },
    {
     "name": "stderr",
     "output_type": "stream",
     "text": [
      "Epoch [706/5000]: 100%|███████████████████████████████████████████████████████| 9/9 [00:00<00:00, 168.88it/s, loss=2.6]\n"
     ]
    },
    {
     "name": "stdout",
     "output_type": "stream",
     "text": [
      "Epoch [706/5000]: Train loss: 2.6856, Valid loss: 1.5907\n",
      "Epoch [706/5000]: Train r2_score: 0.9337, Valid r2_score: 0.9666\n",
      "Epoch [706/5000]: Train smape: 14.0166, Valid smape: 10.9722\n",
      "\n"
     ]
    },
    {
     "name": "stderr",
     "output_type": "stream",
     "text": [
      "Epoch [707/5000]: 100%|██████████████████████████████████████████████████████| 9/9 [00:00<00:00, 159.74it/s, loss=3.18]\n"
     ]
    },
    {
     "name": "stdout",
     "output_type": "stream",
     "text": [
      "Epoch [707/5000]: Train loss: 2.6963, Valid loss: 1.0123\n",
      "Epoch [707/5000]: Train r2_score: 0.9343, Valid r2_score: 0.9735\n",
      "Epoch [707/5000]: Train smape: 13.9339, Valid smape: 10.3737\n",
      "\n"
     ]
    },
    {
     "name": "stderr",
     "output_type": "stream",
     "text": [
      "Epoch [708/5000]: 100%|██████████████████████████████████████████████████████| 9/9 [00:00<00:00, 167.65it/s, loss=4.08]\n"
     ]
    },
    {
     "name": "stdout",
     "output_type": "stream",
     "text": [
      "Epoch [708/5000]: Train loss: 2.8008, Valid loss: 1.2680\n",
      "Epoch [708/5000]: Train r2_score: 0.9331, Valid r2_score: 0.9727\n",
      "Epoch [708/5000]: Train smape: 13.6512, Valid smape: 10.6007\n",
      "\n"
     ]
    },
    {
     "name": "stderr",
     "output_type": "stream",
     "text": [
      "Epoch [709/5000]: 100%|██████████████████████████████████████████████████████| 9/9 [00:00<00:00, 169.37it/s, loss=5.62]\n"
     ]
    },
    {
     "name": "stdout",
     "output_type": "stream",
     "text": [
      "Epoch [709/5000]: Train loss: 3.3313, Valid loss: 1.2210\n",
      "Epoch [709/5000]: Train r2_score: 0.9216, Valid r2_score: 0.9664\n",
      "Epoch [709/5000]: Train smape: 14.9905, Valid smape: 11.0478\n",
      "\n"
     ]
    },
    {
     "name": "stderr",
     "output_type": "stream",
     "text": [
      "Epoch [710/5000]: 100%|██████████████████████████████████████████████████████| 9/9 [00:00<00:00, 172.55it/s, loss=2.07]\n"
     ]
    },
    {
     "name": "stdout",
     "output_type": "stream",
     "text": [
      "Epoch [710/5000]: Train loss: 2.6986, Valid loss: 1.2812\n",
      "Epoch [710/5000]: Train r2_score: 0.9325, Valid r2_score: 0.9735\n",
      "Epoch [710/5000]: Train smape: 13.8044, Valid smape: 10.3947\n",
      "\n"
     ]
    },
    {
     "name": "stderr",
     "output_type": "stream",
     "text": [
      "Epoch [711/5000]: 100%|██████████████████████████████████████████████████████| 9/9 [00:00<00:00, 173.92it/s, loss=3.27]\n"
     ]
    },
    {
     "name": "stdout",
     "output_type": "stream",
     "text": [
      "Epoch [711/5000]: Train loss: 2.9510, Valid loss: 1.0380\n",
      "Epoch [711/5000]: Train r2_score: 0.9278, Valid r2_score: 0.9741\n",
      "Epoch [711/5000]: Train smape: 14.2609, Valid smape: 10.3731\n",
      "\n"
     ]
    },
    {
     "name": "stderr",
     "output_type": "stream",
     "text": [
      "Epoch [712/5000]: 100%|██████████████████████████████████████████████████████| 9/9 [00:00<00:00, 180.20it/s, loss=2.97]\n"
     ]
    },
    {
     "name": "stdout",
     "output_type": "stream",
     "text": [
      "Epoch [712/5000]: Train loss: 2.8094, Valid loss: 1.2151\n",
      "Epoch [712/5000]: Train r2_score: 0.9310, Valid r2_score: 0.9731\n",
      "Epoch [712/5000]: Train smape: 14.9277, Valid smape: 10.5088\n",
      "\n"
     ]
    },
    {
     "name": "stderr",
     "output_type": "stream",
     "text": [
      "Epoch [713/5000]: 100%|██████████████████████████████████████████████████████| 9/9 [00:00<00:00, 161.73it/s, loss=2.31]\n"
     ]
    },
    {
     "name": "stdout",
     "output_type": "stream",
     "text": [
      "Epoch [713/5000]: Train loss: 2.6270, Valid loss: 1.2002\n",
      "Epoch [713/5000]: Train r2_score: 0.9347, Valid r2_score: 0.9718\n",
      "Epoch [713/5000]: Train smape: 14.0464, Valid smape: 10.5247\n",
      "\n"
     ]
    },
    {
     "name": "stderr",
     "output_type": "stream",
     "text": [
      "Epoch [714/5000]: 100%|██████████████████████████████████████████████████████| 9/9 [00:00<00:00, 166.22it/s, loss=2.69]\n"
     ]
    },
    {
     "name": "stdout",
     "output_type": "stream",
     "text": [
      "Epoch [714/5000]: Train loss: 2.9140, Valid loss: 1.0922\n",
      "Epoch [714/5000]: Train r2_score: 0.9278, Valid r2_score: 0.9743\n",
      "Epoch [714/5000]: Train smape: 14.3737, Valid smape: 10.3403\n",
      "\n"
     ]
    },
    {
     "name": "stderr",
     "output_type": "stream",
     "text": [
      "Epoch [715/5000]: 100%|██████████████████████████████████████████████████████| 9/9 [00:00<00:00, 161.13it/s, loss=3.73]\n"
     ]
    },
    {
     "name": "stdout",
     "output_type": "stream",
     "text": [
      "Epoch [715/5000]: Train loss: 3.0302, Valid loss: 1.1344\n",
      "Epoch [715/5000]: Train r2_score: 0.9265, Valid r2_score: 0.9742\n",
      "Epoch [715/5000]: Train smape: 14.2201, Valid smape: 10.3902\n",
      "\n"
     ]
    },
    {
     "name": "stderr",
     "output_type": "stream",
     "text": [
      "Epoch [716/5000]: 100%|██████████████████████████████████████████████████████| 9/9 [00:00<00:00, 167.31it/s, loss=2.52]\n"
     ]
    },
    {
     "name": "stdout",
     "output_type": "stream",
     "text": [
      "Epoch [716/5000]: Train loss: 2.7223, Valid loss: 1.2396\n",
      "Epoch [716/5000]: Train r2_score: 0.9326, Valid r2_score: 0.9732\n",
      "Epoch [716/5000]: Train smape: 14.3760, Valid smape: 10.6517\n",
      "\n"
     ]
    },
    {
     "name": "stderr",
     "output_type": "stream",
     "text": [
      "Epoch [717/5000]: 100%|██████████████████████████████████████████████████████| 9/9 [00:00<00:00, 179.09it/s, loss=3.15]\n"
     ]
    },
    {
     "name": "stdout",
     "output_type": "stream",
     "text": [
      "Epoch [717/5000]: Train loss: 3.0463, Valid loss: 1.4905\n",
      "Epoch [717/5000]: Train r2_score: 0.9251, Valid r2_score: 0.9694\n",
      "Epoch [717/5000]: Train smape: 15.1260, Valid smape: 10.7207\n",
      "\n"
     ]
    },
    {
     "name": "stderr",
     "output_type": "stream",
     "text": [
      "Epoch [718/5000]: 100%|██████████████████████████████████████████████████████| 9/9 [00:00<00:00, 176.45it/s, loss=2.53]\n"
     ]
    },
    {
     "name": "stdout",
     "output_type": "stream",
     "text": [
      "Epoch [718/5000]: Train loss: 2.5664, Valid loss: 0.9584\n",
      "Epoch [718/5000]: Train r2_score: 0.9367, Valid r2_score: 0.9745\n",
      "Epoch [718/5000]: Train smape: 13.6995, Valid smape: 10.3914\n",
      "\n"
     ]
    },
    {
     "name": "stderr",
     "output_type": "stream",
     "text": [
      "Epoch [719/5000]: 100%|██████████████████████████████████████████████████████| 9/9 [00:00<00:00, 166.83it/s, loss=2.99]\n"
     ]
    },
    {
     "name": "stdout",
     "output_type": "stream",
     "text": [
      "Epoch [719/5000]: Train loss: 2.8153, Valid loss: 1.1588\n",
      "Epoch [719/5000]: Train r2_score: 0.9309, Valid r2_score: 0.9717\n",
      "Epoch [719/5000]: Train smape: 14.2545, Valid smape: 10.5147\n",
      "\n"
     ]
    },
    {
     "name": "stderr",
     "output_type": "stream",
     "text": [
      "Epoch [720/5000]: 100%|██████████████████████████████████████████████████████| 9/9 [00:00<00:00, 163.61it/s, loss=2.92]\n"
     ]
    },
    {
     "name": "stdout",
     "output_type": "stream",
     "text": [
      "Epoch [720/5000]: Train loss: 2.7776, Valid loss: 1.2390\n",
      "Epoch [720/5000]: Train r2_score: 0.9318, Valid r2_score: 0.9731\n",
      "Epoch [720/5000]: Train smape: 13.9206, Valid smape: 10.3743\n",
      "\n"
     ]
    },
    {
     "name": "stderr",
     "output_type": "stream",
     "text": [
      "Epoch [721/5000]: 100%|██████████████████████████████████████████████████████| 9/9 [00:00<00:00, 159.81it/s, loss=3.02]\n"
     ]
    },
    {
     "name": "stdout",
     "output_type": "stream",
     "text": [
      "Epoch [721/5000]: Train loss: 2.8151, Valid loss: 1.0751\n",
      "Epoch [721/5000]: Train r2_score: 0.9310, Valid r2_score: 0.9748\n",
      "Epoch [721/5000]: Train smape: 14.2441, Valid smape: 10.2966\n",
      "\n"
     ]
    },
    {
     "name": "stderr",
     "output_type": "stream",
     "text": [
      "Epoch [722/5000]: 100%|██████████████████████████████████████████████████████| 9/9 [00:00<00:00, 164.92it/s, loss=5.04]\n"
     ]
    },
    {
     "name": "stdout",
     "output_type": "stream",
     "text": [
      "Epoch [722/5000]: Train loss: 3.0091, Valid loss: 1.0126\n",
      "Epoch [722/5000]: Train r2_score: 0.9292, Valid r2_score: 0.9741\n",
      "Epoch [722/5000]: Train smape: 14.1590, Valid smape: 10.3056\n",
      "\n"
     ]
    },
    {
     "name": "stderr",
     "output_type": "stream",
     "text": [
      "Epoch [723/5000]: 100%|███████████████████████████████████████████████████████| 9/9 [00:00<00:00, 167.87it/s, loss=4.7]\n"
     ]
    },
    {
     "name": "stdout",
     "output_type": "stream",
     "text": [
      "Epoch [723/5000]: Train loss: 2.8615, Valid loss: 1.6348\n",
      "Epoch [723/5000]: Train r2_score: 0.9325, Valid r2_score: 0.9703\n",
      "Epoch [723/5000]: Train smape: 13.9983, Valid smape: 10.5961\n",
      "\n"
     ]
    },
    {
     "name": "stderr",
     "output_type": "stream",
     "text": [
      "Epoch [724/5000]: 100%|██████████████████████████████████████████████████████| 9/9 [00:00<00:00, 165.79it/s, loss=5.57]\n"
     ]
    },
    {
     "name": "stdout",
     "output_type": "stream",
     "text": [
      "Epoch [724/5000]: Train loss: 3.1988, Valid loss: 1.3852\n",
      "Epoch [724/5000]: Train r2_score: 0.9250, Valid r2_score: 0.9738\n",
      "Epoch [724/5000]: Train smape: 14.4893, Valid smape: 10.3910\n",
      "\n"
     ]
    },
    {
     "name": "stderr",
     "output_type": "stream",
     "text": [
      "Epoch [725/5000]: 100%|██████████████████████████████████████████████████████| 9/9 [00:00<00:00, 174.40it/s, loss=2.75]\n"
     ]
    },
    {
     "name": "stdout",
     "output_type": "stream",
     "text": [
      "Epoch [725/5000]: Train loss: 2.7225, Valid loss: 1.5320\n",
      "Epoch [725/5000]: Train r2_score: 0.9329, Valid r2_score: 0.9701\n",
      "Epoch [725/5000]: Train smape: 14.4997, Valid smape: 10.6577\n",
      "\n"
     ]
    },
    {
     "name": "stderr",
     "output_type": "stream",
     "text": [
      "Epoch [726/5000]: 100%|██████████████████████████████████████████████████████| 9/9 [00:00<00:00, 165.75it/s, loss=2.07]\n"
     ]
    },
    {
     "name": "stdout",
     "output_type": "stream",
     "text": [
      "Epoch [726/5000]: Train loss: 2.7343, Valid loss: 1.1861\n",
      "Epoch [726/5000]: Train r2_score: 0.9315, Valid r2_score: 0.9741\n",
      "Epoch [726/5000]: Train smape: 14.4422, Valid smape: 10.3331\n",
      "\n"
     ]
    },
    {
     "name": "stderr",
     "output_type": "stream",
     "text": [
      "Epoch [727/5000]: 100%|██████████████████████████████████████████████████████| 9/9 [00:00<00:00, 173.07it/s, loss=3.48]\n"
     ]
    },
    {
     "name": "stdout",
     "output_type": "stream",
     "text": [
      "Epoch [727/5000]: Train loss: 3.0175, Valid loss: 1.1579\n",
      "Epoch [727/5000]: Train r2_score: 0.9264, Valid r2_score: 0.9721\n",
      "Epoch [727/5000]: Train smape: 14.4538, Valid smape: 10.3866\n",
      "\n"
     ]
    },
    {
     "name": "stderr",
     "output_type": "stream",
     "text": [
      "Epoch [728/5000]: 100%|███████████████████████████████████████████████████████| 9/9 [00:00<00:00, 161.18it/s, loss=2.2]\n"
     ]
    },
    {
     "name": "stdout",
     "output_type": "stream",
     "text": [
      "Epoch [728/5000]: Train loss: 2.8502, Valid loss: 1.1000\n",
      "Epoch [728/5000]: Train r2_score: 0.9287, Valid r2_score: 0.9742\n",
      "Epoch [728/5000]: Train smape: 14.3797, Valid smape: 10.2849\n",
      "\n"
     ]
    },
    {
     "name": "stderr",
     "output_type": "stream",
     "text": [
      "Epoch [729/5000]: 100%|███████████████████████████████████████████████████████| 9/9 [00:00<00:00, 163.28it/s, loss=2.5]\n"
     ]
    },
    {
     "name": "stdout",
     "output_type": "stream",
     "text": [
      "Epoch [729/5000]: Train loss: 2.7216, Valid loss: 1.1492\n",
      "Epoch [729/5000]: Train r2_score: 0.9326, Valid r2_score: 0.9735\n",
      "Epoch [729/5000]: Train smape: 14.1280, Valid smape: 10.3516\n",
      "\n"
     ]
    },
    {
     "name": "stderr",
     "output_type": "stream",
     "text": [
      "Epoch [730/5000]: 100%|██████████████████████████████████████████████████████| 9/9 [00:00<00:00, 176.66it/s, loss=3.11]\n"
     ]
    },
    {
     "name": "stdout",
     "output_type": "stream",
     "text": [
      "Epoch [730/5000]: Train loss: 3.0383, Valid loss: 1.1475\n",
      "Epoch [730/5000]: Train r2_score: 0.9252, Valid r2_score: 0.9729\n",
      "Epoch [730/5000]: Train smape: 14.8803, Valid smape: 10.3811\n",
      "\n"
     ]
    },
    {
     "name": "stderr",
     "output_type": "stream",
     "text": [
      "Epoch [731/5000]: 100%|██████████████████████████████████████████████████████| 9/9 [00:00<00:00, 170.07it/s, loss=2.51]\n"
     ]
    },
    {
     "name": "stdout",
     "output_type": "stream",
     "text": [
      "Epoch [731/5000]: Train loss: 2.8314, Valid loss: 0.9941\n",
      "Epoch [731/5000]: Train r2_score: 0.9297, Valid r2_score: 0.9741\n",
      "Epoch [731/5000]: Train smape: 14.9046, Valid smape: 10.4144\n",
      "\n"
     ]
    },
    {
     "name": "stderr",
     "output_type": "stream",
     "text": [
      "Epoch [732/5000]: 100%|██████████████████████████████████████████████████████| 9/9 [00:00<00:00, 160.35it/s, loss=4.26]"
     ]
    },
    {
     "name": "stdout",
     "output_type": "stream",
     "text": [
      "Epoch [732/5000]: Train loss: 2.7621, Valid loss: 1.2139\n",
      "Epoch [732/5000]: Train r2_score: 0.9344, Valid r2_score: 0.9709\n",
      "Epoch [732/5000]: Train smape: 14.1035, Valid smape: 10.6625\n",
      "\n"
     ]
    },
    {
     "name": "stderr",
     "output_type": "stream",
     "text": [
      "\n",
      "Epoch [733/5000]: 100%|██████████████████████████████████████████████████████| 9/9 [00:00<00:00, 158.31it/s, loss=2.74]\n"
     ]
    },
    {
     "name": "stdout",
     "output_type": "stream",
     "text": [
      "Epoch [733/5000]: Train loss: 2.8495, Valid loss: 1.0622\n",
      "Epoch [733/5000]: Train r2_score: 0.9296, Valid r2_score: 0.9740\n",
      "Epoch [733/5000]: Train smape: 14.2135, Valid smape: 10.3409\n",
      "\n"
     ]
    },
    {
     "name": "stderr",
     "output_type": "stream",
     "text": [
      "Epoch [734/5000]: 100%|██████████████████████████████████████████████████████| 9/9 [00:00<00:00, 157.62it/s, loss=3.03]\n"
     ]
    },
    {
     "name": "stdout",
     "output_type": "stream",
     "text": [
      "Epoch [734/5000]: Train loss: 2.7665, Valid loss: 0.9949\n",
      "Epoch [734/5000]: Train r2_score: 0.9323, Valid r2_score: 0.9741\n",
      "Epoch [734/5000]: Train smape: 14.0326, Valid smape: 10.3518\n",
      "\n"
     ]
    },
    {
     "name": "stderr",
     "output_type": "stream",
     "text": [
      "Epoch [735/5000]: 100%|██████████████████████████████████████████████████████| 9/9 [00:00<00:00, 159.80it/s, loss=2.66]\n"
     ]
    },
    {
     "name": "stdout",
     "output_type": "stream",
     "text": [
      "Epoch [735/5000]: Train loss: 2.8233, Valid loss: 1.3418\n",
      "Epoch [735/5000]: Train r2_score: 0.9301, Valid r2_score: 0.9690\n",
      "Epoch [735/5000]: Train smape: 14.4092, Valid smape: 10.6294\n",
      "\n"
     ]
    },
    {
     "name": "stderr",
     "output_type": "stream",
     "text": [
      "Epoch [736/5000]: 100%|██████████████████████████████████████████████████████| 9/9 [00:00<00:00, 149.93it/s, loss=2.02]\n"
     ]
    },
    {
     "name": "stdout",
     "output_type": "stream",
     "text": [
      "Epoch [736/5000]: Train loss: 2.7691, Valid loss: 1.2933\n",
      "Epoch [736/5000]: Train r2_score: 0.9305, Valid r2_score: 0.9739\n",
      "Epoch [736/5000]: Train smape: 14.5124, Valid smape: 10.4993\n",
      "\n"
     ]
    },
    {
     "name": "stderr",
     "output_type": "stream",
     "text": [
      "Epoch [737/5000]: 100%|██████████████████████████████████████████████████████| 9/9 [00:00<00:00, 162.83it/s, loss=2.12]\n"
     ]
    },
    {
     "name": "stdout",
     "output_type": "stream",
     "text": [
      "Epoch [737/5000]: Train loss: 2.5569, Valid loss: 1.5094\n",
      "Epoch [737/5000]: Train r2_score: 0.9363, Valid r2_score: 0.9743\n",
      "Epoch [737/5000]: Train smape: 13.9314, Valid smape: 10.3128\n",
      "\n"
     ]
    },
    {
     "name": "stderr",
     "output_type": "stream",
     "text": [
      "Epoch [738/5000]: 100%|██████████████████████████████████████████████████████| 9/9 [00:00<00:00, 155.19it/s, loss=3.48]\n"
     ]
    },
    {
     "name": "stdout",
     "output_type": "stream",
     "text": [
      "Epoch [738/5000]: Train loss: 2.8110, Valid loss: 1.1919\n",
      "Epoch [738/5000]: Train r2_score: 0.9318, Valid r2_score: 0.9734\n",
      "Epoch [738/5000]: Train smape: 14.3998, Valid smape: 10.4117\n",
      "\n"
     ]
    },
    {
     "name": "stderr",
     "output_type": "stream",
     "text": [
      "Epoch [739/5000]: 100%|██████████████████████████████████████████████████████| 9/9 [00:00<00:00, 164.51it/s, loss=2.57]\n"
     ]
    },
    {
     "name": "stdout",
     "output_type": "stream",
     "text": [
      "Epoch [739/5000]: Train loss: 2.7691, Valid loss: 1.4829\n",
      "Epoch [739/5000]: Train r2_score: 0.9314, Valid r2_score: 0.9716\n",
      "Epoch [739/5000]: Train smape: 14.2357, Valid smape: 10.4651\n",
      "\n"
     ]
    },
    {
     "name": "stderr",
     "output_type": "stream",
     "text": [
      "Epoch [740/5000]: 100%|██████████████████████████████████████████████████████| 9/9 [00:00<00:00, 169.33it/s, loss=2.81]\n"
     ]
    },
    {
     "name": "stdout",
     "output_type": "stream",
     "text": [
      "Epoch [740/5000]: Train loss: 2.9807, Valid loss: 1.3355\n",
      "Epoch [740/5000]: Train r2_score: 0.9262, Valid r2_score: 0.9729\n",
      "Epoch [740/5000]: Train smape: 15.3929, Valid smape: 10.4163\n",
      "\n"
     ]
    },
    {
     "name": "stderr",
     "output_type": "stream",
     "text": [
      "Epoch [741/5000]: 100%|██████████████████████████████████████████████████████| 9/9 [00:00<00:00, 162.70it/s, loss=3.82]\n"
     ]
    },
    {
     "name": "stdout",
     "output_type": "stream",
     "text": [
      "Epoch [741/5000]: Train loss: 2.8196, Valid loss: 1.1435\n",
      "Epoch [741/5000]: Train r2_score: 0.9321, Valid r2_score: 0.9743\n",
      "Epoch [741/5000]: Train smape: 14.0015, Valid smape: 10.3048\n",
      "\n"
     ]
    },
    {
     "name": "stderr",
     "output_type": "stream",
     "text": [
      "Epoch [742/5000]: 100%|██████████████████████████████████████████████████████| 9/9 [00:00<00:00, 163.25it/s, loss=3.63]\n"
     ]
    },
    {
     "name": "stdout",
     "output_type": "stream",
     "text": [
      "Epoch [742/5000]: Train loss: 3.1177, Valid loss: 1.1168\n",
      "Epoch [742/5000]: Train r2_score: 0.9240, Valid r2_score: 0.9741\n",
      "Epoch [742/5000]: Train smape: 14.9775, Valid smape: 10.3140\n",
      "\n"
     ]
    },
    {
     "name": "stderr",
     "output_type": "stream",
     "text": [
      "Epoch [743/5000]: 100%|██████████████████████████████████████████████████████| 9/9 [00:00<00:00, 169.42it/s, loss=2.48]\n"
     ]
    },
    {
     "name": "stdout",
     "output_type": "stream",
     "text": [
      "Epoch [743/5000]: Train loss: 2.6502, Valid loss: 1.2346\n",
      "Epoch [743/5000]: Train r2_score: 0.9344, Valid r2_score: 0.9714\n",
      "Epoch [743/5000]: Train smape: 14.0409, Valid smape: 10.4996\n",
      "\n"
     ]
    },
    {
     "name": "stderr",
     "output_type": "stream",
     "text": [
      "Epoch [744/5000]: 100%|██████████████████████████████████████████████████████| 9/9 [00:00<00:00, 166.67it/s, loss=2.77]\n"
     ]
    },
    {
     "name": "stdout",
     "output_type": "stream",
     "text": [
      "Epoch [744/5000]: Train loss: 2.6959, Valid loss: 1.1310\n",
      "Epoch [744/5000]: Train r2_score: 0.9337, Valid r2_score: 0.9739\n",
      "Epoch [744/5000]: Train smape: 13.9632, Valid smape: 10.4203\n",
      "\n"
     ]
    },
    {
     "name": "stderr",
     "output_type": "stream",
     "text": [
      "Epoch [745/5000]: 100%|██████████████████████████████████████████████████████| 9/9 [00:00<00:00, 172.25it/s, loss=2.62]\n"
     ]
    },
    {
     "name": "stdout",
     "output_type": "stream",
     "text": [
      "Epoch [745/5000]: Train loss: 2.8465, Valid loss: 1.4521\n",
      "Epoch [745/5000]: Train r2_score: 0.9295, Valid r2_score: 0.9708\n",
      "Epoch [745/5000]: Train smape: 14.4455, Valid smape: 10.6337\n",
      "\n"
     ]
    },
    {
     "name": "stderr",
     "output_type": "stream",
     "text": [
      "Epoch [746/5000]: 100%|██████████████████████████████████████████████████████| 9/9 [00:00<00:00, 172.32it/s, loss=2.46]\n"
     ]
    },
    {
     "name": "stdout",
     "output_type": "stream",
     "text": [
      "Epoch [746/5000]: Train loss: 2.7279, Valid loss: 1.2470\n",
      "Epoch [746/5000]: Train r2_score: 0.9323, Valid r2_score: 0.9726\n",
      "Epoch [746/5000]: Train smape: 14.2427, Valid smape: 10.4211\n",
      "\n"
     ]
    },
    {
     "name": "stderr",
     "output_type": "stream",
     "text": [
      "Epoch [747/5000]: 100%|██████████████████████████████████████████████████████| 9/9 [00:00<00:00, 170.19it/s, loss=3.17]\n"
     ]
    },
    {
     "name": "stdout",
     "output_type": "stream",
     "text": [
      "Epoch [747/5000]: Train loss: 2.7167, Valid loss: 1.0954\n",
      "Epoch [747/5000]: Train r2_score: 0.9338, Valid r2_score: 0.9742\n",
      "Epoch [747/5000]: Train smape: 13.6819, Valid smape: 10.3327\n",
      "\n"
     ]
    },
    {
     "name": "stderr",
     "output_type": "stream",
     "text": [
      "Epoch [748/5000]: 100%|██████████████████████████████████████████████████████| 9/9 [00:00<00:00, 179.06it/s, loss=1.72]\n"
     ]
    },
    {
     "name": "stdout",
     "output_type": "stream",
     "text": [
      "Epoch [748/5000]: Train loss: 2.6578, Valid loss: 1.4423\n",
      "Epoch [748/5000]: Train r2_score: 0.9330, Valid r2_score: 0.9745\n",
      "Epoch [748/5000]: Train smape: 14.3281, Valid smape: 10.2864\n",
      "\n"
     ]
    },
    {
     "name": "stderr",
     "output_type": "stream",
     "text": [
      "Epoch [749/5000]: 100%|██████████████████████████████████████████████████████| 9/9 [00:00<00:00, 170.84it/s, loss=3.47]\n"
     ]
    },
    {
     "name": "stdout",
     "output_type": "stream",
     "text": [
      "Epoch [749/5000]: Train loss: 2.9294, Valid loss: 1.2440\n",
      "Epoch [749/5000]: Train r2_score: 0.9287, Valid r2_score: 0.9676\n",
      "Epoch [749/5000]: Train smape: 14.7821, Valid smape: 10.8197\n",
      "\n"
     ]
    },
    {
     "name": "stderr",
     "output_type": "stream",
     "text": [
      "Epoch [750/5000]: 100%|██████████████████████████████████████████████████████| 9/9 [00:00<00:00, 174.01it/s, loss=3.36]\n"
     ]
    },
    {
     "name": "stdout",
     "output_type": "stream",
     "text": [
      "Epoch [750/5000]: Train loss: 2.9564, Valid loss: 1.3259\n",
      "Epoch [750/5000]: Train r2_score: 0.9278, Valid r2_score: 0.9737\n",
      "Epoch [750/5000]: Train smape: 14.2659, Valid smape: 10.3518\n",
      "\n"
     ]
    },
    {
     "name": "stderr",
     "output_type": "stream",
     "text": [
      "Epoch [751/5000]: 100%|██████████████████████████████████████████████████████| 9/9 [00:00<00:00, 179.91it/s, loss=3.32]\n"
     ]
    },
    {
     "name": "stdout",
     "output_type": "stream",
     "text": [
      "Epoch [751/5000]: Train loss: 2.7720, Valid loss: 1.0132\n",
      "Epoch [751/5000]: Train r2_score: 0.9326, Valid r2_score: 0.9744\n",
      "Epoch [751/5000]: Train smape: 14.2662, Valid smape: 10.3226\n",
      "\n"
     ]
    },
    {
     "name": "stderr",
     "output_type": "stream",
     "text": [
      "Epoch [752/5000]: 100%|██████████████████████████████████████████████████████| 9/9 [00:00<00:00, 174.46it/s, loss=2.66]\n"
     ]
    },
    {
     "name": "stdout",
     "output_type": "stream",
     "text": [
      "Epoch [752/5000]: Train loss: 2.8560, Valid loss: 1.2085\n",
      "Epoch [752/5000]: Train r2_score: 0.9293, Valid r2_score: 0.9721\n",
      "Epoch [752/5000]: Train smape: 14.0071, Valid smape: 10.4967\n",
      "\n"
     ]
    },
    {
     "name": "stderr",
     "output_type": "stream",
     "text": [
      "Epoch [753/5000]: 100%|██████████████████████████████████████████████████████| 9/9 [00:00<00:00, 180.54it/s, loss=3.87]\n"
     ]
    },
    {
     "name": "stdout",
     "output_type": "stream",
     "text": [
      "Epoch [753/5000]: Train loss: 2.8027, Valid loss: 1.1584\n",
      "Epoch [753/5000]: Train r2_score: 0.9327, Valid r2_score: 0.9748\n",
      "Epoch [753/5000]: Train smape: 14.1576, Valid smape: 10.2819\n",
      "\n"
     ]
    },
    {
     "name": "stderr",
     "output_type": "stream",
     "text": [
      "Epoch [754/5000]: 100%|██████████████████████████████████████████████████████| 9/9 [00:00<00:00, 168.03it/s, loss=2.03]\n"
     ]
    },
    {
     "name": "stdout",
     "output_type": "stream",
     "text": [
      "Epoch [754/5000]: Train loss: 3.0132, Valid loss: 1.2624\n",
      "Epoch [754/5000]: Train r2_score: 0.9241, Valid r2_score: 0.9722\n",
      "Epoch [754/5000]: Train smape: 14.8200, Valid smape: 10.5013\n",
      "\n"
     ]
    },
    {
     "name": "stderr",
     "output_type": "stream",
     "text": [
      "Epoch [755/5000]: 100%|██████████████████████████████████████████████████████| 9/9 [00:00<00:00, 171.35it/s, loss=2.81]\n"
     ]
    },
    {
     "name": "stdout",
     "output_type": "stream",
     "text": [
      "Epoch [755/5000]: Train loss: 2.8703, Valid loss: 1.2191\n",
      "Epoch [755/5000]: Train r2_score: 0.9292, Valid r2_score: 0.9721\n",
      "Epoch [755/5000]: Train smape: 13.8389, Valid smape: 10.4508\n",
      "\n"
     ]
    },
    {
     "name": "stderr",
     "output_type": "stream",
     "text": [
      "Epoch [756/5000]: 100%|██████████████████████████████████████████████████████| 9/9 [00:00<00:00, 166.91it/s, loss=3.27]"
     ]
    },
    {
     "name": "stdout",
     "output_type": "stream",
     "text": [
      "Epoch [756/5000]: Train loss: 2.8891, Valid loss: 1.0667\n",
      "Epoch [756/5000]: Train r2_score: 0.9294, Valid r2_score: 0.9738\n",
      "Epoch [756/5000]: Train smape: 14.0805, Valid smape: 10.3207\n",
      "\n"
     ]
    },
    {
     "name": "stderr",
     "output_type": "stream",
     "text": [
      "\n",
      "Epoch [757/5000]: 100%|██████████████████████████████████████████████████████| 9/9 [00:00<00:00, 163.82it/s, loss=2.24]\n"
     ]
    },
    {
     "name": "stdout",
     "output_type": "stream",
     "text": [
      "Epoch [757/5000]: Train loss: 2.8185, Valid loss: 0.9598\n",
      "Epoch [757/5000]: Train r2_score: 0.9296, Valid r2_score: 0.9743\n",
      "Epoch [757/5000]: Train smape: 14.4809, Valid smape: 10.2926\n",
      "\n"
     ]
    },
    {
     "name": "stderr",
     "output_type": "stream",
     "text": [
      "Epoch [758/5000]: 100%|██████████████████████████████████████████████████████| 9/9 [00:00<00:00, 171.39it/s, loss=2.25]\n"
     ]
    },
    {
     "name": "stdout",
     "output_type": "stream",
     "text": [
      "Epoch [758/5000]: Train loss: 2.4666, Valid loss: 1.0520\n",
      "Epoch [758/5000]: Train r2_score: 0.9389, Valid r2_score: 0.9746\n",
      "Epoch [758/5000]: Train smape: 13.6258, Valid smape: 10.2884\n",
      "\n"
     ]
    },
    {
     "name": "stderr",
     "output_type": "stream",
     "text": [
      "Epoch [759/5000]: 100%|██████████████████████████████████████████████████████| 9/9 [00:00<00:00, 177.99it/s, loss=2.88]\n"
     ]
    },
    {
     "name": "stdout",
     "output_type": "stream",
     "text": [
      "Epoch [759/5000]: Train loss: 2.7223, Valid loss: 1.1565\n",
      "Epoch [759/5000]: Train r2_score: 0.9332, Valid r2_score: 0.9735\n",
      "Epoch [759/5000]: Train smape: 14.0486, Valid smape: 10.4286\n",
      "\n"
     ]
    },
    {
     "name": "stderr",
     "output_type": "stream",
     "text": [
      "Epoch [760/5000]: 100%|██████████████████████████████████████████████████████| 9/9 [00:00<00:00, 167.76it/s, loss=3.52]\n"
     ]
    },
    {
     "name": "stdout",
     "output_type": "stream",
     "text": [
      "Epoch [760/5000]: Train loss: 2.5698, Valid loss: 1.1233\n",
      "Epoch [760/5000]: Train r2_score: 0.9382, Valid r2_score: 0.9726\n",
      "Epoch [760/5000]: Train smape: 13.6380, Valid smape: 10.4319\n",
      "\n"
     ]
    },
    {
     "name": "stderr",
     "output_type": "stream",
     "text": [
      "Epoch [761/5000]: 100%|██████████████████████████████████████████████████████| 9/9 [00:00<00:00, 161.28it/s, loss=2.81]\n"
     ]
    },
    {
     "name": "stdout",
     "output_type": "stream",
     "text": [
      "Epoch [761/5000]: Train loss: 2.8691, Valid loss: 1.0488\n",
      "Epoch [761/5000]: Train r2_score: 0.9292, Valid r2_score: 0.9744\n",
      "Epoch [761/5000]: Train smape: 14.2869, Valid smape: 10.3035\n",
      "\n"
     ]
    },
    {
     "name": "stderr",
     "output_type": "stream",
     "text": [
      "Epoch [762/5000]: 100%|██████████████████████████████████████████████████████| 9/9 [00:00<00:00, 173.37it/s, loss=3.63]\n"
     ]
    },
    {
     "name": "stdout",
     "output_type": "stream",
     "text": [
      "Epoch [762/5000]: Train loss: 2.8977, Valid loss: 1.1956\n",
      "Epoch [762/5000]: Train r2_score: 0.9298, Valid r2_score: 0.9745\n",
      "Epoch [762/5000]: Train smape: 14.2292, Valid smape: 10.3300\n",
      "\n"
     ]
    },
    {
     "name": "stderr",
     "output_type": "stream",
     "text": [
      "Epoch [763/5000]: 100%|██████████████████████████████████████████████████████| 9/9 [00:00<00:00, 179.40it/s, loss=3.26]\n"
     ]
    },
    {
     "name": "stdout",
     "output_type": "stream",
     "text": [
      "Epoch [763/5000]: Train loss: 2.9210, Valid loss: 1.6208\n",
      "Epoch [763/5000]: Train r2_score: 0.9286, Valid r2_score: 0.9649\n",
      "Epoch [763/5000]: Train smape: 14.6274, Valid smape: 11.0459\n",
      "\n"
     ]
    },
    {
     "name": "stderr",
     "output_type": "stream",
     "text": [
      "Epoch [764/5000]: 100%|██████████████████████████████████████████████████████| 9/9 [00:00<00:00, 160.58it/s, loss=4.01]\n"
     ]
    },
    {
     "name": "stdout",
     "output_type": "stream",
     "text": [
      "Epoch [764/5000]: Train loss: 3.0691, Valid loss: 1.1841\n",
      "Epoch [764/5000]: Train r2_score: 0.9259, Valid r2_score: 0.9747\n",
      "Epoch [764/5000]: Train smape: 14.0052, Valid smape: 10.3292\n",
      "\n"
     ]
    },
    {
     "name": "stderr",
     "output_type": "stream",
     "text": [
      "Epoch [765/5000]: 100%|██████████████████████████████████████████████████████| 9/9 [00:00<00:00, 159.64it/s, loss=2.39]\n"
     ]
    },
    {
     "name": "stdout",
     "output_type": "stream",
     "text": [
      "Epoch [765/5000]: Train loss: 2.7125, Valid loss: 1.0739\n",
      "Epoch [765/5000]: Train r2_score: 0.9326, Valid r2_score: 0.9727\n",
      "Epoch [765/5000]: Train smape: 14.2015, Valid smape: 10.4289\n",
      "\n"
     ]
    },
    {
     "name": "stderr",
     "output_type": "stream",
     "text": [
      "Epoch [766/5000]: 100%|██████████████████████████████████████████████████████| 9/9 [00:00<00:00, 161.79it/s, loss=2.13]\n"
     ]
    },
    {
     "name": "stdout",
     "output_type": "stream",
     "text": [
      "Epoch [766/5000]: Train loss: 2.9014, Valid loss: 1.4272\n",
      "Epoch [766/5000]: Train r2_score: 0.9272, Valid r2_score: 0.9738\n",
      "Epoch [766/5000]: Train smape: 14.8391, Valid smape: 10.3136\n",
      "\n"
     ]
    },
    {
     "name": "stderr",
     "output_type": "stream",
     "text": [
      "Epoch [767/5000]: 100%|██████████████████████████████████████████████████████| 9/9 [00:00<00:00, 153.62it/s, loss=1.83]\n"
     ]
    },
    {
     "name": "stdout",
     "output_type": "stream",
     "text": [
      "Epoch [767/5000]: Train loss: 2.7066, Valid loss: 1.2992\n",
      "Epoch [767/5000]: Train r2_score: 0.9319, Valid r2_score: 0.9736\n",
      "Epoch [767/5000]: Train smape: 14.2538, Valid smape: 10.3464\n",
      "\n"
     ]
    },
    {
     "name": "stderr",
     "output_type": "stream",
     "text": [
      "Epoch [768/5000]: 100%|██████████████████████████████████████████████████████| 9/9 [00:00<00:00, 163.26it/s, loss=3.06]\n"
     ]
    },
    {
     "name": "stdout",
     "output_type": "stream",
     "text": [
      "Epoch [768/5000]: Train loss: 2.7749, Valid loss: 1.3636\n",
      "Epoch [768/5000]: Train r2_score: 0.9321, Valid r2_score: 0.9690\n",
      "Epoch [768/5000]: Train smape: 14.0888, Valid smape: 10.6831\n",
      "\n"
     ]
    },
    {
     "name": "stderr",
     "output_type": "stream",
     "text": [
      "Epoch [769/5000]: 100%|██████████████████████████████████████████████████████| 9/9 [00:00<00:00, 154.22it/s, loss=2.78]\n"
     ]
    },
    {
     "name": "stdout",
     "output_type": "stream",
     "text": [
      "Epoch [769/5000]: Train loss: 2.7791, Valid loss: 1.1442\n",
      "Epoch [769/5000]: Train r2_score: 0.9315, Valid r2_score: 0.9744\n",
      "Epoch [769/5000]: Train smape: 14.5084, Valid smape: 10.3582\n",
      "\n"
     ]
    },
    {
     "name": "stderr",
     "output_type": "stream",
     "text": [
      "Epoch [770/5000]: 100%|██████████████████████████████████████████████████████| 9/9 [00:00<00:00, 166.01it/s, loss=4.26]\n"
     ]
    },
    {
     "name": "stdout",
     "output_type": "stream",
     "text": [
      "Epoch [770/5000]: Train loss: 2.8672, Valid loss: 1.1281\n",
      "Epoch [770/5000]: Train r2_score: 0.9316, Valid r2_score: 0.9730\n",
      "Epoch [770/5000]: Train smape: 14.0286, Valid smape: 10.4362\n",
      "\n"
     ]
    },
    {
     "name": "stderr",
     "output_type": "stream",
     "text": [
      "Epoch [771/5000]: 100%|██████████████████████████████████████████████████████| 9/9 [00:00<00:00, 166.13it/s, loss=3.26]\n"
     ]
    },
    {
     "name": "stdout",
     "output_type": "stream",
     "text": [
      "Epoch [771/5000]: Train loss: 2.6501, Valid loss: 1.1450\n",
      "Epoch [771/5000]: Train r2_score: 0.9357, Valid r2_score: 0.9730\n",
      "Epoch [771/5000]: Train smape: 14.0771, Valid smape: 10.4308\n",
      "\n"
     ]
    },
    {
     "name": "stderr",
     "output_type": "stream",
     "text": [
      "Epoch [772/5000]: 100%|██████████████████████████████████████████████████████| 9/9 [00:00<00:00, 163.98it/s, loss=2.96]\n"
     ]
    },
    {
     "name": "stdout",
     "output_type": "stream",
     "text": [
      "Epoch [772/5000]: Train loss: 2.7696, Valid loss: 1.2944\n",
      "Epoch [772/5000]: Train r2_score: 0.9321, Valid r2_score: 0.9727\n",
      "Epoch [772/5000]: Train smape: 14.2442, Valid smape: 10.4565\n",
      "\n"
     ]
    },
    {
     "name": "stderr",
     "output_type": "stream",
     "text": [
      "Epoch [773/5000]: 100%|██████████████████████████████████████████████████████| 9/9 [00:00<00:00, 166.37it/s, loss=2.61]\n"
     ]
    },
    {
     "name": "stdout",
     "output_type": "stream",
     "text": [
      "Epoch [773/5000]: Train loss: 2.5610, Valid loss: 1.1908\n",
      "Epoch [773/5000]: Train r2_score: 0.9370, Valid r2_score: 0.9718\n",
      "Epoch [773/5000]: Train smape: 13.7190, Valid smape: 10.5122\n",
      "\n"
     ]
    },
    {
     "name": "stderr",
     "output_type": "stream",
     "text": [
      "Epoch [774/5000]: 100%|██████████████████████████████████████████████████████| 9/9 [00:00<00:00, 160.80it/s, loss=3.65]\n"
     ]
    },
    {
     "name": "stdout",
     "output_type": "stream",
     "text": [
      "Epoch [774/5000]: Train loss: 2.9564, Valid loss: 1.2142\n",
      "Epoch [774/5000]: Train r2_score: 0.9283, Valid r2_score: 0.9743\n",
      "Epoch [774/5000]: Train smape: 14.3914, Valid smape: 10.3809\n",
      "\n"
     ]
    },
    {
     "name": "stderr",
     "output_type": "stream",
     "text": [
      "Epoch [775/5000]: 100%|██████████████████████████████████████████████████████| 9/9 [00:00<00:00, 167.18it/s, loss=2.84]\n"
     ]
    },
    {
     "name": "stdout",
     "output_type": "stream",
     "text": [
      "Epoch [775/5000]: Train loss: 2.7720, Valid loss: 1.4686\n",
      "Epoch [775/5000]: Train r2_score: 0.9318, Valid r2_score: 0.9708\n",
      "Epoch [775/5000]: Train smape: 13.8827, Valid smape: 10.5861\n",
      "\n"
     ]
    },
    {
     "name": "stderr",
     "output_type": "stream",
     "text": [
      "Epoch [776/5000]: 100%|██████████████████████████████████████████████████████| 9/9 [00:00<00:00, 163.70it/s, loss=2.49]\n"
     ]
    },
    {
     "name": "stdout",
     "output_type": "stream",
     "text": [
      "Epoch [776/5000]: Train loss: 2.8839, Valid loss: 1.2738\n",
      "Epoch [776/5000]: Train r2_score: 0.9283, Valid r2_score: 0.9728\n",
      "Epoch [776/5000]: Train smape: 13.9540, Valid smape: 10.4062\n",
      "\n"
     ]
    },
    {
     "name": "stderr",
     "output_type": "stream",
     "text": [
      "Epoch [777/5000]: 100%|█████████████████████████████████████████████████████████| 9/9 [00:00<00:00, 168.21it/s, loss=3]\n"
     ]
    },
    {
     "name": "stdout",
     "output_type": "stream",
     "text": [
      "Epoch [777/5000]: Train loss: 2.7822, Valid loss: 1.3711\n",
      "Epoch [777/5000]: Train r2_score: 0.9318, Valid r2_score: 0.9712\n",
      "Epoch [777/5000]: Train smape: 14.1556, Valid smape: 10.5123\n",
      "\n"
     ]
    },
    {
     "name": "stderr",
     "output_type": "stream",
     "text": [
      "Epoch [778/5000]: 100%|███████████████████████████████████████████████████████| 9/9 [00:00<00:00, 175.67it/s, loss=3.2]\n"
     ]
    },
    {
     "name": "stdout",
     "output_type": "stream",
     "text": [
      "Epoch [778/5000]: Train loss: 2.6125, Valid loss: 0.9983\n",
      "Epoch [778/5000]: Train r2_score: 0.9366, Valid r2_score: 0.9743\n",
      "Epoch [778/5000]: Train smape: 13.6821, Valid smape: 10.3158\n",
      "\n"
     ]
    },
    {
     "name": "stderr",
     "output_type": "stream",
     "text": [
      "Epoch [779/5000]: 100%|██████████████████████████████████████████████████████| 9/9 [00:00<00:00, 160.94it/s, loss=2.82]\n"
     ]
    },
    {
     "name": "stdout",
     "output_type": "stream",
     "text": [
      "Epoch [779/5000]: Train loss: 3.0230, Valid loss: 1.0771\n",
      "Epoch [779/5000]: Train r2_score: 0.9252, Valid r2_score: 0.9737\n",
      "Epoch [779/5000]: Train smape: 14.6881, Valid smape: 10.3488\n",
      "\n"
     ]
    },
    {
     "name": "stderr",
     "output_type": "stream",
     "text": [
      "Epoch [780/5000]: 100%|█████████████████████████████████████████████████████████| 9/9 [00:00<00:00, 156.61it/s, loss=4]\n"
     ]
    },
    {
     "name": "stdout",
     "output_type": "stream",
     "text": [
      "Epoch [780/5000]: Train loss: 2.7620, Valid loss: 1.5435\n",
      "Epoch [780/5000]: Train r2_score: 0.9340, Valid r2_score: 0.9694\n",
      "Epoch [780/5000]: Train smape: 13.8968, Valid smape: 10.6934\n",
      "\n"
     ]
    },
    {
     "name": "stderr",
     "output_type": "stream",
     "text": [
      "Epoch [781/5000]: 100%|██████████████████████████████████████████████████████| 9/9 [00:00<00:00, 172.91it/s, loss=3.12]\n"
     ]
    },
    {
     "name": "stdout",
     "output_type": "stream",
     "text": [
      "Epoch [781/5000]: Train loss: 2.4255, Valid loss: 1.0588\n",
      "Epoch [781/5000]: Train r2_score: 0.9414, Valid r2_score: 0.9733\n",
      "Epoch [781/5000]: Train smape: 13.4736, Valid smape: 10.3660\n",
      "\n"
     ]
    },
    {
     "name": "stderr",
     "output_type": "stream",
     "text": [
      "Epoch [782/5000]: 100%|██████████████████████████████████████████████████████| 9/9 [00:00<00:00, 152.37it/s, loss=2.24]\n"
     ]
    },
    {
     "name": "stdout",
     "output_type": "stream",
     "text": [
      "Epoch [782/5000]: Train loss: 2.4410, Valid loss: 1.0339\n",
      "Epoch [782/5000]: Train r2_score: 0.9395, Valid r2_score: 0.9723\n",
      "Epoch [782/5000]: Train smape: 13.6711, Valid smape: 10.4594\n",
      "\n"
     ]
    },
    {
     "name": "stderr",
     "output_type": "stream",
     "text": [
      "Epoch [783/5000]: 100%|██████████████████████████████████████████████████████| 9/9 [00:00<00:00, 200.53it/s, loss=2.92]\n"
     ]
    },
    {
     "name": "stdout",
     "output_type": "stream",
     "text": [
      "Epoch [783/5000]: Train loss: 2.6265, Valid loss: 1.3761\n",
      "Epoch [783/5000]: Train r2_score: 0.9357, Valid r2_score: 0.9735\n",
      "Epoch [783/5000]: Train smape: 14.0091, Valid smape: 10.3704\n",
      "\n"
     ]
    },
    {
     "name": "stderr",
     "output_type": "stream",
     "text": [
      "Epoch [784/5000]: 100%|██████████████████████████████████████████████████████| 9/9 [00:00<00:00, 181.90it/s, loss=2.39]\n"
     ]
    },
    {
     "name": "stdout",
     "output_type": "stream",
     "text": [
      "Epoch [784/5000]: Train loss: 2.5162, Valid loss: 1.1720\n",
      "Epoch [784/5000]: Train r2_score: 0.9378, Valid r2_score: 0.9741\n",
      "Epoch [784/5000]: Train smape: 13.6365, Valid smape: 10.3421\n",
      "\n"
     ]
    },
    {
     "name": "stderr",
     "output_type": "stream",
     "text": [
      "Epoch [785/5000]: 100%|██████████████████████████████████████████████████████| 9/9 [00:00<00:00, 184.25it/s, loss=3.62]\n"
     ]
    },
    {
     "name": "stdout",
     "output_type": "stream",
     "text": [
      "Epoch [785/5000]: Train loss: 2.9252, Valid loss: 1.1339\n",
      "Epoch [785/5000]: Train r2_score: 0.9290, Valid r2_score: 0.9740\n",
      "Epoch [785/5000]: Train smape: 14.2369, Valid smape: 10.3482\n",
      "\n"
     ]
    },
    {
     "name": "stderr",
     "output_type": "stream",
     "text": [
      "Epoch [786/5000]: 100%|██████████████████████████████████████████████████████| 9/9 [00:00<00:00, 189.86it/s, loss=2.93]\n"
     ]
    },
    {
     "name": "stdout",
     "output_type": "stream",
     "text": [
      "Epoch [786/5000]: Train loss: 2.6845, Valid loss: 1.2169\n",
      "Epoch [786/5000]: Train r2_score: 0.9342, Valid r2_score: 0.9707\n",
      "Epoch [786/5000]: Train smape: 14.5560, Valid smape: 10.5506\n",
      "\n"
     ]
    },
    {
     "name": "stderr",
     "output_type": "stream",
     "text": [
      "Epoch [787/5000]: 100%|██████████████████████████████████████████████████████| 9/9 [00:00<00:00, 200.64it/s, loss=2.54]\n"
     ]
    },
    {
     "name": "stdout",
     "output_type": "stream",
     "text": [
      "Epoch [787/5000]: Train loss: 2.5777, Valid loss: 1.1380\n",
      "Epoch [787/5000]: Train r2_score: 0.9364, Valid r2_score: 0.9743\n",
      "Epoch [787/5000]: Train smape: 13.6573, Valid smape: 10.3247\n",
      "\n"
     ]
    },
    {
     "name": "stderr",
     "output_type": "stream",
     "text": [
      "Epoch [788/5000]: 100%|██████████████████████████████████████████████████████| 9/9 [00:00<00:00, 194.54it/s, loss=3.76]\n"
     ]
    },
    {
     "name": "stdout",
     "output_type": "stream",
     "text": [
      "Epoch [788/5000]: Train loss: 2.9643, Valid loss: 1.2580\n",
      "Epoch [788/5000]: Train r2_score: 0.9283, Valid r2_score: 0.9709\n",
      "Epoch [788/5000]: Train smape: 14.4813, Valid smape: 10.6216\n",
      "\n"
     ]
    },
    {
     "name": "stderr",
     "output_type": "stream",
     "text": [
      "Epoch [789/5000]: 100%|██████████████████████████████████████████████████████| 9/9 [00:00<00:00, 193.74it/s, loss=2.71]\n"
     ]
    },
    {
     "name": "stdout",
     "output_type": "stream",
     "text": [
      "Epoch [789/5000]: Train loss: 2.8186, Valid loss: 1.3343\n",
      "Epoch [789/5000]: Train r2_score: 0.9303, Valid r2_score: 0.9721\n",
      "Epoch [789/5000]: Train smape: 14.0054, Valid smape: 10.4670\n",
      "\n"
     ]
    },
    {
     "name": "stderr",
     "output_type": "stream",
     "text": [
      "Epoch [790/5000]: 100%|██████████████████████████████████████████████████████| 9/9 [00:00<00:00, 189.23it/s, loss=3.29]\n"
     ]
    },
    {
     "name": "stdout",
     "output_type": "stream",
     "text": [
      "Epoch [790/5000]: Train loss: 2.6802, Valid loss: 1.1013\n",
      "Epoch [790/5000]: Train r2_score: 0.9349, Valid r2_score: 0.9745\n",
      "Epoch [790/5000]: Train smape: 14.1182, Valid smape: 10.3370\n",
      "\n"
     ]
    },
    {
     "name": "stderr",
     "output_type": "stream",
     "text": [
      "Epoch [791/5000]: 100%|██████████████████████████████████████████████████████| 9/9 [00:00<00:00, 185.29it/s, loss=2.72]\n"
     ]
    },
    {
     "name": "stdout",
     "output_type": "stream",
     "text": [
      "Epoch [791/5000]: Train loss: 2.8623, Valid loss: 1.0475\n",
      "Epoch [791/5000]: Train r2_score: 0.9292, Valid r2_score: 0.9735\n",
      "Epoch [791/5000]: Train smape: 14.2288, Valid smape: 10.3845\n",
      "\n"
     ]
    },
    {
     "name": "stderr",
     "output_type": "stream",
     "text": [
      "Epoch [792/5000]: 100%|██████████████████████████████████████████████████████| 9/9 [00:00<00:00, 202.41it/s, loss=2.44]\n"
     ]
    },
    {
     "name": "stdout",
     "output_type": "stream",
     "text": [
      "Epoch [792/5000]: Train loss: 2.4688, Valid loss: 1.2641\n",
      "Epoch [792/5000]: Train r2_score: 0.9391, Valid r2_score: 0.9721\n",
      "Epoch [792/5000]: Train smape: 13.5442, Valid smape: 10.4730\n",
      "\n"
     ]
    },
    {
     "name": "stderr",
     "output_type": "stream",
     "text": [
      "Epoch [793/5000]: 100%|███████████████████████████████████████████████████████| 9/9 [00:00<00:00, 185.02it/s, loss=2.3]\n"
     ]
    },
    {
     "name": "stdout",
     "output_type": "stream",
     "text": [
      "Epoch [793/5000]: Train loss: 2.5533, Valid loss: 1.2045\n",
      "Epoch [793/5000]: Train r2_score: 0.9367, Valid r2_score: 0.9737\n",
      "Epoch [793/5000]: Train smape: 13.5729, Valid smape: 10.3654\n",
      "\n"
     ]
    },
    {
     "name": "stderr",
     "output_type": "stream",
     "text": [
      "Epoch [794/5000]: 100%|██████████████████████████████████████████████████████| 9/9 [00:00<00:00, 193.81it/s, loss=2.43]\n"
     ]
    },
    {
     "name": "stdout",
     "output_type": "stream",
     "text": [
      "Epoch [794/5000]: Train loss: 2.7692, Valid loss: 0.9796\n",
      "Epoch [794/5000]: Train r2_score: 0.9312, Valid r2_score: 0.9743\n",
      "Epoch [794/5000]: Train smape: 13.6833, Valid smape: 10.3810\n",
      "\n"
     ]
    },
    {
     "name": "stderr",
     "output_type": "stream",
     "text": [
      "Epoch [795/5000]: 100%|██████████████████████████████████████████████████████| 9/9 [00:00<00:00, 201.22it/s, loss=3.26]\n"
     ]
    },
    {
     "name": "stdout",
     "output_type": "stream",
     "text": [
      "Epoch [795/5000]: Train loss: 2.8117, Valid loss: 1.1905\n",
      "Epoch [795/5000]: Train r2_score: 0.9314, Valid r2_score: 0.9731\n",
      "Epoch [795/5000]: Train smape: 14.0258, Valid smape: 10.4051\n",
      "\n"
     ]
    },
    {
     "name": "stderr",
     "output_type": "stream",
     "text": [
      "Epoch [796/5000]: 100%|██████████████████████████████████████████████████████| 9/9 [00:00<00:00, 198.49it/s, loss=3.29]\n"
     ]
    },
    {
     "name": "stdout",
     "output_type": "stream",
     "text": [
      "Epoch [796/5000]: Train loss: 2.9257, Valid loss: 1.0817\n",
      "Epoch [796/5000]: Train r2_score: 0.9285, Valid r2_score: 0.9726\n",
      "Epoch [796/5000]: Train smape: 13.9236, Valid smape: 10.4185\n",
      "\n"
     ]
    },
    {
     "name": "stderr",
     "output_type": "stream",
     "text": [
      "Epoch [797/5000]: 100%|███████████████████████████████████████████████████████| 9/9 [00:00<00:00, 182.91it/s, loss=3.5]\n"
     ]
    },
    {
     "name": "stdout",
     "output_type": "stream",
     "text": [
      "Epoch [797/5000]: Train loss: 2.7071, Valid loss: 1.1705\n",
      "Epoch [797/5000]: Train r2_score: 0.9346, Valid r2_score: 0.9731\n",
      "Epoch [797/5000]: Train smape: 13.8621, Valid smape: 10.3934\n",
      "\n"
     ]
    },
    {
     "name": "stderr",
     "output_type": "stream",
     "text": [
      "Epoch [798/5000]: 100%|██████████████████████████████████████████████████████| 9/9 [00:00<00:00, 191.96it/s, loss=5.21]\n"
     ]
    },
    {
     "name": "stdout",
     "output_type": "stream",
     "text": [
      "Epoch [798/5000]: Train loss: 3.0055, Valid loss: 0.9770\n",
      "Epoch [798/5000]: Train r2_score: 0.9295, Valid r2_score: 0.9747\n",
      "Epoch [798/5000]: Train smape: 15.0534, Valid smape: 10.2955\n",
      "\n"
     ]
    },
    {
     "name": "stderr",
     "output_type": "stream",
     "text": [
      "Epoch [799/5000]: 100%|██████████████████████████████████████████████████████| 9/9 [00:00<00:00, 201.35it/s, loss=3.33]\n"
     ]
    },
    {
     "name": "stdout",
     "output_type": "stream",
     "text": [
      "Epoch [799/5000]: Train loss: 2.9129, Valid loss: 1.2819\n",
      "Epoch [799/5000]: Train r2_score: 0.9289, Valid r2_score: 0.9742\n",
      "Epoch [799/5000]: Train smape: 14.2775, Valid smape: 10.3128\n",
      "\n"
     ]
    },
    {
     "name": "stderr",
     "output_type": "stream",
     "text": [
      "Epoch [800/5000]: 100%|██████████████████████████████████████████████████████| 9/9 [00:00<00:00, 184.29it/s, loss=2.97]\n"
     ]
    },
    {
     "name": "stdout",
     "output_type": "stream",
     "text": [
      "Epoch [800/5000]: Train loss: 2.6421, Valid loss: 1.0982\n",
      "Epoch [800/5000]: Train r2_score: 0.9354, Valid r2_score: 0.9728\n",
      "Epoch [800/5000]: Train smape: 14.1397, Valid smape: 10.4517\n",
      "\n"
     ]
    },
    {
     "name": "stderr",
     "output_type": "stream",
     "text": [
      "Epoch [801/5000]: 100%|███████████████████████████████████████████████████████| 9/9 [00:00<00:00, 184.23it/s, loss=2.4]\n"
     ]
    },
    {
     "name": "stdout",
     "output_type": "stream",
     "text": [
      "Epoch [801/5000]: Train loss: 2.7655, Valid loss: 1.0291\n",
      "Epoch [801/5000]: Train r2_score: 0.9312, Valid r2_score: 0.9742\n",
      "Epoch [801/5000]: Train smape: 13.7915, Valid smape: 10.3196\n",
      "\n"
     ]
    },
    {
     "name": "stderr",
     "output_type": "stream",
     "text": [
      "Epoch [802/5000]: 100%|██████████████████████████████████████████████████████| 9/9 [00:00<00:00, 192.05it/s, loss=2.12]\n"
     ]
    },
    {
     "name": "stdout",
     "output_type": "stream",
     "text": [
      "Epoch [802/5000]: Train loss: 2.5719, Valid loss: 1.2293\n",
      "Epoch [802/5000]: Train r2_score: 0.9359, Valid r2_score: 0.9730\n",
      "Epoch [802/5000]: Train smape: 14.0845, Valid smape: 10.4144\n",
      "\n"
     ]
    },
    {
     "name": "stderr",
     "output_type": "stream",
     "text": [
      "Epoch [803/5000]: 100%|██████████████████████████████████████████████████████| 9/9 [00:00<00:00, 177.35it/s, loss=3.82]\n"
     ]
    },
    {
     "name": "stdout",
     "output_type": "stream",
     "text": [
      "Epoch [803/5000]: Train loss: 3.0008, Valid loss: 1.1343\n",
      "Epoch [803/5000]: Train r2_score: 0.9274, Valid r2_score: 0.9739\n",
      "Epoch [803/5000]: Train smape: 14.1262, Valid smape: 10.3328\n",
      "\n"
     ]
    },
    {
     "name": "stderr",
     "output_type": "stream",
     "text": [
      "Epoch [804/5000]: 100%|██████████████████████████████████████████████████████| 9/9 [00:00<00:00, 184.22it/s, loss=4.13]\n"
     ]
    },
    {
     "name": "stdout",
     "output_type": "stream",
     "text": [
      "Epoch [804/5000]: Train loss: 3.0345, Valid loss: 1.0635\n",
      "Epoch [804/5000]: Train r2_score: 0.9270, Valid r2_score: 0.9738\n",
      "Epoch [804/5000]: Train smape: 14.2891, Valid smape: 10.3453\n",
      "\n"
     ]
    },
    {
     "name": "stderr",
     "output_type": "stream",
     "text": [
      "Epoch [805/5000]: 100%|██████████████████████████████████████████████████████| 9/9 [00:00<00:00, 205.83it/s, loss=2.02]\n"
     ]
    },
    {
     "name": "stdout",
     "output_type": "stream",
     "text": [
      "Epoch [805/5000]: Train loss: 2.6851, Valid loss: 1.2622\n",
      "Epoch [805/5000]: Train r2_score: 0.9327, Valid r2_score: 0.9727\n",
      "Epoch [805/5000]: Train smape: 13.8882, Valid smape: 10.4121\n",
      "\n"
     ]
    },
    {
     "name": "stderr",
     "output_type": "stream",
     "text": [
      "Epoch [806/5000]: 100%|██████████████████████████████████████████████████████| 9/9 [00:00<00:00, 201.84it/s, loss=2.16]\n"
     ]
    },
    {
     "name": "stdout",
     "output_type": "stream",
     "text": [
      "Epoch [806/5000]: Train loss: 2.6283, Valid loss: 1.0166\n",
      "Epoch [806/5000]: Train r2_score: 0.9345, Valid r2_score: 0.9730\n",
      "Epoch [806/5000]: Train smape: 13.5571, Valid smape: 10.3829\n",
      "\n"
     ]
    },
    {
     "name": "stderr",
     "output_type": "stream",
     "text": [
      "Epoch [807/5000]: 100%|██████████████████████████████████████████████████████| 9/9 [00:00<00:00, 212.79it/s, loss=2.01]\n"
     ]
    },
    {
     "name": "stdout",
     "output_type": "stream",
     "text": [
      "Epoch [807/5000]: Train loss: 2.7564, Valid loss: 1.1661\n",
      "Epoch [807/5000]: Train r2_score: 0.9308, Valid r2_score: 0.9730\n",
      "Epoch [807/5000]: Train smape: 14.0697, Valid smape: 10.3856\n",
      "\n"
     ]
    },
    {
     "name": "stderr",
     "output_type": "stream",
     "text": [
      "Epoch [808/5000]: 100%|██████████████████████████████████████████████████████| 9/9 [00:00<00:00, 214.75it/s, loss=3.17]\n"
     ]
    },
    {
     "name": "stdout",
     "output_type": "stream",
     "text": [
      "Epoch [808/5000]: Train loss: 2.7431, Valid loss: 1.3381\n",
      "Epoch [808/5000]: Train r2_score: 0.9331, Valid r2_score: 0.9719\n",
      "Epoch [808/5000]: Train smape: 13.7927, Valid smape: 10.4647\n",
      "\n"
     ]
    },
    {
     "name": "stderr",
     "output_type": "stream",
     "text": [
      "Epoch [809/5000]: 100%|██████████████████████████████████████████████████████| 9/9 [00:00<00:00, 214.42it/s, loss=5.23]\n"
     ]
    },
    {
     "name": "stdout",
     "output_type": "stream",
     "text": [
      "Epoch [809/5000]: Train loss: 2.9523, Valid loss: 1.0029\n",
      "Epoch [809/5000]: Train r2_score: 0.9310, Valid r2_score: 0.9734\n",
      "Epoch [809/5000]: Train smape: 13.9610, Valid smape: 10.3564\n",
      "\n"
     ]
    },
    {
     "name": "stderr",
     "output_type": "stream",
     "text": [
      "Epoch [810/5000]: 100%|██████████████████████████████████████████████████████| 9/9 [00:00<00:00, 199.39it/s, loss=2.92]\n"
     ]
    },
    {
     "name": "stdout",
     "output_type": "stream",
     "text": [
      "Epoch [810/5000]: Train loss: 2.7493, Valid loss: 1.2285\n",
      "Epoch [810/5000]: Train r2_score: 0.9325, Valid r2_score: 0.9740\n",
      "Epoch [810/5000]: Train smape: 14.1455, Valid smape: 10.3612\n",
      "\n"
     ]
    },
    {
     "name": "stderr",
     "output_type": "stream",
     "text": [
      "Epoch [811/5000]: 100%|██████████████████████████████████████████████████████| 9/9 [00:00<00:00, 197.01it/s, loss=2.73]\n"
     ]
    },
    {
     "name": "stdout",
     "output_type": "stream",
     "text": [
      "Epoch [811/5000]: Train loss: 2.6208, Valid loss: 1.1502\n",
      "Epoch [811/5000]: Train r2_score: 0.9356, Valid r2_score: 0.9737\n",
      "Epoch [811/5000]: Train smape: 13.9346, Valid smape: 10.3832\n",
      "\n"
     ]
    },
    {
     "name": "stderr",
     "output_type": "stream",
     "text": [
      "Epoch [812/5000]: 100%|██████████████████████████████████████████████████████| 9/9 [00:00<00:00, 202.00it/s, loss=2.72]\n"
     ]
    },
    {
     "name": "stdout",
     "output_type": "stream",
     "text": [
      "Epoch [812/5000]: Train loss: 2.6312, Valid loss: 1.0877\n",
      "Epoch [812/5000]: Train r2_score: 0.9353, Valid r2_score: 0.9706\n",
      "Epoch [812/5000]: Train smape: 13.4802, Valid smape: 10.5572\n",
      "\n"
     ]
    },
    {
     "name": "stderr",
     "output_type": "stream",
     "text": [
      "Epoch [813/5000]: 100%|██████████████████████████████████████████████████████| 9/9 [00:00<00:00, 183.13it/s, loss=2.94]\n"
     ]
    },
    {
     "name": "stdout",
     "output_type": "stream",
     "text": [
      "Epoch [813/5000]: Train loss: 2.7799, Valid loss: 1.3951\n",
      "Epoch [813/5000]: Train r2_score: 0.9317, Valid r2_score: 0.9732\n",
      "Epoch [813/5000]: Train smape: 13.9641, Valid smape: 10.3544\n",
      "\n"
     ]
    },
    {
     "name": "stderr",
     "output_type": "stream",
     "text": [
      "Epoch [814/5000]: 100%|██████████████████████████████████████████████████████| 9/9 [00:00<00:00, 174.02it/s, loss=2.84]\n"
     ]
    },
    {
     "name": "stdout",
     "output_type": "stream",
     "text": [
      "Epoch [814/5000]: Train loss: 2.5986, Valid loss: 0.9617\n",
      "Epoch [814/5000]: Train r2_score: 0.9363, Valid r2_score: 0.9722\n",
      "Epoch [814/5000]: Train smape: 13.2999, Valid smape: 10.4360\n",
      "\n"
     ]
    },
    {
     "name": "stderr",
     "output_type": "stream",
     "text": [
      "Epoch [815/5000]: 100%|██████████████████████████████████████████████████████| 9/9 [00:00<00:00, 183.66it/s, loss=3.11]\n"
     ]
    },
    {
     "name": "stdout",
     "output_type": "stream",
     "text": [
      "Epoch [815/5000]: Train loss: 2.5828, Valid loss: 1.1747\n",
      "Epoch [815/5000]: Train r2_score: 0.9372, Valid r2_score: 0.9738\n",
      "Epoch [815/5000]: Train smape: 13.6804, Valid smape: 10.3620\n",
      "\n"
     ]
    },
    {
     "name": "stderr",
     "output_type": "stream",
     "text": [
      "Epoch [816/5000]: 100%|███████████████████████████████████████████████████████| 9/9 [00:00<00:00, 187.66it/s, loss=2.7]\n"
     ]
    },
    {
     "name": "stdout",
     "output_type": "stream",
     "text": [
      "Epoch [816/5000]: Train loss: 2.7870, Valid loss: 1.1172\n",
      "Epoch [816/5000]: Train r2_score: 0.9312, Valid r2_score: 0.9746\n",
      "Epoch [816/5000]: Train smape: 13.7603, Valid smape: 10.3058\n",
      "\n"
     ]
    },
    {
     "name": "stderr",
     "output_type": "stream",
     "text": [
      "Epoch [817/5000]: 100%|██████████████████████████████████████████████████████| 9/9 [00:00<00:00, 180.98it/s, loss=3.16]\n"
     ]
    },
    {
     "name": "stdout",
     "output_type": "stream",
     "text": [
      "Epoch [817/5000]: Train loss: 2.5753, Valid loss: 1.2057\n",
      "Epoch [817/5000]: Train r2_score: 0.9375, Valid r2_score: 0.9676\n",
      "Epoch [817/5000]: Train smape: 13.3415, Valid smape: 10.8121\n",
      "\n"
     ]
    },
    {
     "name": "stderr",
     "output_type": "stream",
     "text": [
      "Epoch [818/5000]: 100%|██████████████████████████████████████████████████████| 9/9 [00:00<00:00, 173.25it/s, loss=3.11]\n"
     ]
    },
    {
     "name": "stdout",
     "output_type": "stream",
     "text": [
      "Epoch [818/5000]: Train loss: 2.8012, Valid loss: 1.0853\n",
      "Epoch [818/5000]: Train r2_score: 0.9315, Valid r2_score: 0.9725\n",
      "Epoch [818/5000]: Train smape: 13.8209, Valid smape: 10.4396\n",
      "\n"
     ]
    },
    {
     "name": "stderr",
     "output_type": "stream",
     "text": [
      "Epoch [819/5000]: 100%|██████████████████████████████████████████████████████| 9/9 [00:00<00:00, 175.66it/s, loss=3.37]\n"
     ]
    },
    {
     "name": "stdout",
     "output_type": "stream",
     "text": [
      "Epoch [819/5000]: Train loss: 2.5679, Valid loss: 1.1091\n",
      "Epoch [819/5000]: Train r2_score: 0.9380, Valid r2_score: 0.9744\n",
      "Epoch [819/5000]: Train smape: 13.6326, Valid smape: 10.3220\n",
      "\n"
     ]
    },
    {
     "name": "stderr",
     "output_type": "stream",
     "text": [
      "Epoch [820/5000]: 100%|███████████████████████████████████████████████████████| 9/9 [00:00<00:00, 184.58it/s, loss=3.5]\n"
     ]
    },
    {
     "name": "stdout",
     "output_type": "stream",
     "text": [
      "Epoch [820/5000]: Train loss: 2.9115, Valid loss: 1.2750\n",
      "Epoch [820/5000]: Train r2_score: 0.9292, Valid r2_score: 0.9707\n",
      "Epoch [820/5000]: Train smape: 14.3103, Valid smape: 10.5713\n",
      "\n"
     ]
    },
    {
     "name": "stderr",
     "output_type": "stream",
     "text": [
      "Epoch [821/5000]: 100%|███████████████████████████████████████████████████████| 9/9 [00:00<00:00, 194.98it/s, loss=2.4]\n"
     ]
    },
    {
     "name": "stdout",
     "output_type": "stream",
     "text": [
      "Epoch [821/5000]: Train loss: 2.5723, Valid loss: 1.3189\n",
      "Epoch [821/5000]: Train r2_score: 0.9363, Valid r2_score: 0.9731\n",
      "Epoch [821/5000]: Train smape: 13.9358, Valid smape: 10.3687\n",
      "\n"
     ]
    },
    {
     "name": "stderr",
     "output_type": "stream",
     "text": [
      "Epoch [822/5000]: 100%|██████████████████████████████████████████████████████| 9/9 [00:00<00:00, 200.30it/s, loss=2.74]\n"
     ]
    },
    {
     "name": "stdout",
     "output_type": "stream",
     "text": [
      "Epoch [822/5000]: Train loss: 2.7168, Valid loss: 1.1989\n",
      "Epoch [822/5000]: Train r2_score: 0.9331, Valid r2_score: 0.9737\n",
      "Epoch [822/5000]: Train smape: 13.8155, Valid smape: 10.3466\n",
      "\n"
     ]
    },
    {
     "name": "stderr",
     "output_type": "stream",
     "text": [
      "Epoch [823/5000]: 100%|██████████████████████████████████████████████████████| 9/9 [00:00<00:00, 174.19it/s, loss=2.79]\n"
     ]
    },
    {
     "name": "stdout",
     "output_type": "stream",
     "text": [
      "Epoch [823/5000]: Train loss: 2.9464, Valid loss: 1.2487\n",
      "Epoch [823/5000]: Train r2_score: 0.9271, Valid r2_score: 0.9713\n",
      "Epoch [823/5000]: Train smape: 13.9491, Valid smape: 10.5631\n",
      "\n"
     ]
    },
    {
     "name": "stderr",
     "output_type": "stream",
     "text": [
      "Epoch [824/5000]: 100%|███████████████████████████████████████████████████████| 9/9 [00:00<00:00, 200.28it/s, loss=2.1]\n"
     ]
    },
    {
     "name": "stdout",
     "output_type": "stream",
     "text": [
      "Epoch [824/5000]: Train loss: 2.7501, Valid loss: 1.0887\n",
      "Epoch [824/5000]: Train r2_score: 0.9312, Valid r2_score: 0.9730\n",
      "Epoch [824/5000]: Train smape: 13.9475, Valid smape: 10.3835\n",
      "\n"
     ]
    },
    {
     "name": "stderr",
     "output_type": "stream",
     "text": [
      "Epoch [825/5000]: 100%|██████████████████████████████████████████████████████| 9/9 [00:00<00:00, 167.20it/s, loss=2.89]\n"
     ]
    },
    {
     "name": "stdout",
     "output_type": "stream",
     "text": [
      "Epoch [825/5000]: Train loss: 2.6422, Valid loss: 1.1819\n",
      "Epoch [825/5000]: Train r2_score: 0.9353, Valid r2_score: 0.9742\n",
      "Epoch [825/5000]: Train smape: 13.7996, Valid smape: 10.3587\n",
      "\n"
     ]
    },
    {
     "name": "stderr",
     "output_type": "stream",
     "text": [
      "Epoch [826/5000]: 100%|██████████████████████████████████████████████████████| 9/9 [00:00<00:00, 199.06it/s, loss=2.96]\n"
     ]
    },
    {
     "name": "stdout",
     "output_type": "stream",
     "text": [
      "Epoch [826/5000]: Train loss: 2.4845, Valid loss: 1.2442\n",
      "Epoch [826/5000]: Train r2_score: 0.9396, Valid r2_score: 0.9725\n",
      "Epoch [826/5000]: Train smape: 13.4784, Valid smape: 10.4336\n",
      "\n"
     ]
    },
    {
     "name": "stderr",
     "output_type": "stream",
     "text": [
      "Epoch [827/5000]: 100%|██████████████████████████████████████████████████████| 9/9 [00:00<00:00, 175.38it/s, loss=2.73]\n"
     ]
    },
    {
     "name": "stdout",
     "output_type": "stream",
     "text": [
      "Epoch [827/5000]: Train loss: 2.6448, Valid loss: 1.2651\n",
      "Epoch [827/5000]: Train r2_score: 0.9350, Valid r2_score: 0.9734\n",
      "Epoch [827/5000]: Train smape: 14.1851, Valid smape: 10.3567\n",
      "\n"
     ]
    },
    {
     "name": "stderr",
     "output_type": "stream",
     "text": [
      "Epoch [828/5000]: 100%|██████████████████████████████████████████████████████| 9/9 [00:00<00:00, 208.91it/s, loss=2.42]\n"
     ]
    },
    {
     "name": "stdout",
     "output_type": "stream",
     "text": [
      "Epoch [828/5000]: Train loss: 2.4960, Valid loss: 1.5951\n",
      "Epoch [828/5000]: Train r2_score: 0.9384, Valid r2_score: 0.9700\n",
      "Epoch [828/5000]: Train smape: 13.8757, Valid smape: 10.6158\n",
      "\n"
     ]
    },
    {
     "name": "stderr",
     "output_type": "stream",
     "text": [
      "Epoch [829/5000]: 100%|██████████████████████████████████████████████████████| 9/9 [00:00<00:00, 214.64it/s, loss=2.88]\n"
     ]
    },
    {
     "name": "stdout",
     "output_type": "stream",
     "text": [
      "Epoch [829/5000]: Train loss: 2.4528, Valid loss: 1.2446\n",
      "Epoch [829/5000]: Train r2_score: 0.9402, Valid r2_score: 0.9724\n",
      "Epoch [829/5000]: Train smape: 13.4453, Valid smape: 10.4410\n",
      "\n"
     ]
    },
    {
     "name": "stderr",
     "output_type": "stream",
     "text": [
      "Epoch [830/5000]: 100%|██████████████████████████████████████████████████████| 9/9 [00:00<00:00, 205.89it/s, loss=2.89]\n"
     ]
    },
    {
     "name": "stdout",
     "output_type": "stream",
     "text": [
      "Epoch [830/5000]: Train loss: 2.7281, Valid loss: 1.0719\n",
      "Epoch [830/5000]: Train r2_score: 0.9330, Valid r2_score: 0.9738\n",
      "Epoch [830/5000]: Train smape: 13.6850, Valid smape: 10.4248\n",
      "\n"
     ]
    },
    {
     "name": "stderr",
     "output_type": "stream",
     "text": [
      "Epoch [831/5000]: 100%|██████████████████████████████████████████████████████| 9/9 [00:00<00:00, 200.29it/s, loss=2.77]\n"
     ]
    },
    {
     "name": "stdout",
     "output_type": "stream",
     "text": [
      "Epoch [831/5000]: Train loss: 2.6614, Valid loss: 1.3140\n",
      "Epoch [831/5000]: Train r2_score: 0.9346, Valid r2_score: 0.9737\n",
      "Epoch [831/5000]: Train smape: 13.7070, Valid smape: 10.3654\n",
      "\n"
     ]
    },
    {
     "name": "stderr",
     "output_type": "stream",
     "text": [
      "Epoch [832/5000]: 100%|██████████████████████████████████████████████████████| 9/9 [00:00<00:00, 197.52it/s, loss=2.98]\n"
     ]
    },
    {
     "name": "stdout",
     "output_type": "stream",
     "text": [
      "Epoch [832/5000]: Train loss: 2.5652, Valid loss: 1.0693\n",
      "Epoch [832/5000]: Train r2_score: 0.9375, Valid r2_score: 0.9727\n",
      "Epoch [832/5000]: Train smape: 13.9033, Valid smape: 10.4133\n",
      "\n"
     ]
    },
    {
     "name": "stderr",
     "output_type": "stream",
     "text": [
      "Epoch [833/5000]: 100%|██████████████████████████████████████████████████████| 9/9 [00:00<00:00, 188.21it/s, loss=3.38]\n"
     ]
    },
    {
     "name": "stdout",
     "output_type": "stream",
     "text": [
      "Epoch [833/5000]: Train loss: 2.8284, Valid loss: 1.1908\n",
      "Epoch [833/5000]: Train r2_score: 0.9312, Valid r2_score: 0.9728\n",
      "Epoch [833/5000]: Train smape: 14.3830, Valid smape: 10.4110\n",
      "\n"
     ]
    },
    {
     "name": "stderr",
     "output_type": "stream",
     "text": [
      "Epoch [834/5000]: 100%|██████████████████████████████████████████████████████| 9/9 [00:00<00:00, 180.71it/s, loss=3.65]\n"
     ]
    },
    {
     "name": "stdout",
     "output_type": "stream",
     "text": [
      "Epoch [834/5000]: Train loss: 3.0420, Valid loss: 1.2691\n",
      "Epoch [834/5000]: Train r2_score: 0.9260, Valid r2_score: 0.9708\n",
      "Epoch [834/5000]: Train smape: 14.4140, Valid smape: 10.5403\n",
      "\n"
     ]
    },
    {
     "name": "stderr",
     "output_type": "stream",
     "text": [
      "Epoch [835/5000]: 100%|██████████████████████████████████████████████████████| 9/9 [00:00<00:00, 186.46it/s, loss=4.23]\n"
     ]
    },
    {
     "name": "stdout",
     "output_type": "stream",
     "text": [
      "Epoch [835/5000]: Train loss: 2.7713, Valid loss: 1.2323\n",
      "Epoch [835/5000]: Train r2_score: 0.9341, Valid r2_score: 0.9742\n",
      "Epoch [835/5000]: Train smape: 13.9042, Valid smape: 10.3449\n",
      "\n"
     ]
    },
    {
     "name": "stderr",
     "output_type": "stream",
     "text": [
      "Epoch [836/5000]: 100%|██████████████████████████████████████████████████████| 9/9 [00:00<00:00, 186.33it/s, loss=3.97]\n"
     ]
    },
    {
     "name": "stdout",
     "output_type": "stream",
     "text": [
      "Epoch [836/5000]: Train loss: 2.8449, Valid loss: 1.0258\n",
      "Epoch [836/5000]: Train r2_score: 0.9317, Valid r2_score: 0.9741\n",
      "Epoch [836/5000]: Train smape: 13.9456, Valid smape: 10.3158\n",
      "\n"
     ]
    },
    {
     "name": "stderr",
     "output_type": "stream",
     "text": [
      "Epoch [837/5000]: 100%|███████████████████████████████████████████████████████| 9/9 [00:00<00:00, 203.91it/s, loss=3.5]\n"
     ]
    },
    {
     "name": "stdout",
     "output_type": "stream",
     "text": [
      "Epoch [837/5000]: Train loss: 2.5135, Valid loss: 1.3597\n",
      "Epoch [837/5000]: Train r2_score: 0.9397, Valid r2_score: 0.9728\n",
      "Epoch [837/5000]: Train smape: 13.4040, Valid smape: 10.4057\n",
      "\n"
     ]
    },
    {
     "name": "stderr",
     "output_type": "stream",
     "text": [
      "Epoch [838/5000]: 100%|██████████████████████████████████████████████████████| 9/9 [00:00<00:00, 196.40it/s, loss=2.94]\n"
     ]
    },
    {
     "name": "stdout",
     "output_type": "stream",
     "text": [
      "Epoch [838/5000]: Train loss: 2.8151, Valid loss: 1.3854\n",
      "Epoch [838/5000]: Train r2_score: 0.9308, Valid r2_score: 0.9724\n",
      "Epoch [838/5000]: Train smape: 14.0465, Valid smape: 10.4300\n",
      "\n"
     ]
    },
    {
     "name": "stderr",
     "output_type": "stream",
     "text": [
      "Epoch [839/5000]: 100%|██████████████████████████████████████████████████████| 9/9 [00:00<00:00, 189.00it/s, loss=1.99]\n"
     ]
    },
    {
     "name": "stdout",
     "output_type": "stream",
     "text": [
      "Epoch [839/5000]: Train loss: 2.5857, Valid loss: 1.0948\n",
      "Epoch [839/5000]: Train r2_score: 0.9353, Valid r2_score: 0.9734\n",
      "Epoch [839/5000]: Train smape: 13.6922, Valid smape: 10.3709\n",
      "\n"
     ]
    },
    {
     "name": "stderr",
     "output_type": "stream",
     "text": [
      "Epoch [840/5000]: 100%|██████████████████████████████████████████████████████| 9/9 [00:00<00:00, 196.51it/s, loss=3.46]\n"
     ]
    },
    {
     "name": "stdout",
     "output_type": "stream",
     "text": [
      "Epoch [840/5000]: Train loss: 2.9172, Valid loss: 1.1355\n",
      "Epoch [840/5000]: Train r2_score: 0.9290, Valid r2_score: 0.9739\n",
      "Epoch [840/5000]: Train smape: 13.8156, Valid smape: 10.3439\n",
      "\n"
     ]
    },
    {
     "name": "stderr",
     "output_type": "stream",
     "text": [
      "Epoch [841/5000]: 100%|██████████████████████████████████████████████████████| 9/9 [00:00<00:00, 194.20it/s, loss=3.18]\n"
     ]
    },
    {
     "name": "stdout",
     "output_type": "stream",
     "text": [
      "Epoch [841/5000]: Train loss: 2.7825, Valid loss: 1.0022\n",
      "Epoch [841/5000]: Train r2_score: 0.9321, Valid r2_score: 0.9739\n",
      "Epoch [841/5000]: Train smape: 14.0723, Valid smape: 10.3490\n",
      "\n"
     ]
    },
    {
     "name": "stderr",
     "output_type": "stream",
     "text": [
      "Epoch [842/5000]: 100%|██████████████████████████████████████████████████████| 9/9 [00:00<00:00, 201.06it/s, loss=7.93]\n"
     ]
    },
    {
     "name": "stdout",
     "output_type": "stream",
     "text": [
      "Epoch [842/5000]: Train loss: 3.2698, Valid loss: 1.1491\n",
      "Epoch [842/5000]: Train r2_score: 0.9271, Valid r2_score: 0.9733\n",
      "Epoch [842/5000]: Train smape: 13.9397, Valid smape: 10.3771\n",
      "\n"
     ]
    },
    {
     "name": "stderr",
     "output_type": "stream",
     "text": [
      "Epoch [843/5000]: 100%|██████████████████████████████████████████████████████| 9/9 [00:00<00:00, 172.83it/s, loss=2.27]\n"
     ]
    },
    {
     "name": "stdout",
     "output_type": "stream",
     "text": [
      "Epoch [843/5000]: Train loss: 2.6237, Valid loss: 1.1612\n",
      "Epoch [843/5000]: Train r2_score: 0.9347, Valid r2_score: 0.9745\n",
      "Epoch [843/5000]: Train smape: 13.8384, Valid smape: 10.3107\n",
      "\n"
     ]
    },
    {
     "name": "stderr",
     "output_type": "stream",
     "text": [
      "Epoch [844/5000]: 100%|██████████████████████████████████████████████████████| 9/9 [00:00<00:00, 175.05it/s, loss=2.24]\n"
     ]
    },
    {
     "name": "stdout",
     "output_type": "stream",
     "text": [
      "Epoch [844/5000]: Train loss: 2.7641, Valid loss: 1.1041\n",
      "Epoch [844/5000]: Train r2_score: 0.9310, Valid r2_score: 0.9719\n",
      "Epoch [844/5000]: Train smape: 13.7842, Valid smape: 10.4766\n",
      "\n"
     ]
    },
    {
     "name": "stderr",
     "output_type": "stream",
     "text": [
      "Epoch [845/5000]: 100%|██████████████████████████████████████████████████████| 9/9 [00:00<00:00, 216.53it/s, loss=1.86]\n"
     ]
    },
    {
     "name": "stdout",
     "output_type": "stream",
     "text": [
      "Epoch [845/5000]: Train loss: 2.5147, Valid loss: 1.3536\n",
      "Epoch [845/5000]: Train r2_score: 0.9369, Valid r2_score: 0.9735\n",
      "Epoch [845/5000]: Train smape: 13.2971, Valid smape: 10.3717\n",
      "\n"
     ]
    },
    {
     "name": "stderr",
     "output_type": "stream",
     "text": [
      "Epoch [846/5000]: 100%|██████████████████████████████████████████████████████| 9/9 [00:00<00:00, 230.64it/s, loss=2.57]\n"
     ]
    },
    {
     "name": "stdout",
     "output_type": "stream",
     "text": [
      "Epoch [846/5000]: Train loss: 2.5484, Valid loss: 1.0959\n",
      "Epoch [846/5000]: Train r2_score: 0.9372, Valid r2_score: 0.9737\n",
      "Epoch [846/5000]: Train smape: 13.4196, Valid smape: 10.3501\n",
      "\n"
     ]
    },
    {
     "name": "stderr",
     "output_type": "stream",
     "text": [
      "Epoch [847/5000]: 100%|███████████████████████████████████████████████████████| 9/9 [00:00<00:00, 235.49it/s, loss=3.7]\n"
     ]
    },
    {
     "name": "stdout",
     "output_type": "stream",
     "text": [
      "Epoch [847/5000]: Train loss: 2.8387, Valid loss: 1.0938\n",
      "Epoch [847/5000]: Train r2_score: 0.9314, Valid r2_score: 0.9730\n",
      "Epoch [847/5000]: Train smape: 13.9104, Valid smape: 10.3933\n",
      "\n"
     ]
    },
    {
     "name": "stderr",
     "output_type": "stream",
     "text": [
      "Epoch [848/5000]: 100%|██████████████████████████████████████████████████████| 9/9 [00:00<00:00, 198.81it/s, loss=3.89]\n"
     ]
    },
    {
     "name": "stdout",
     "output_type": "stream",
     "text": [
      "Epoch [848/5000]: Train loss: 2.9105, Valid loss: 1.0585\n",
      "Epoch [848/5000]: Train r2_score: 0.9299, Valid r2_score: 0.9714\n",
      "Epoch [848/5000]: Train smape: 13.9334, Valid smape: 10.5324\n",
      "\n"
     ]
    },
    {
     "name": "stderr",
     "output_type": "stream",
     "text": [
      "Epoch [849/5000]: 100%|██████████████████████████████████████████████████████| 9/9 [00:00<00:00, 220.26it/s, loss=2.43]\n"
     ]
    },
    {
     "name": "stdout",
     "output_type": "stream",
     "text": [
      "Epoch [849/5000]: Train loss: 2.6198, Valid loss: 1.1176\n",
      "Epoch [849/5000]: Train r2_score: 0.9351, Valid r2_score: 0.9742\n",
      "Epoch [849/5000]: Train smape: 13.8957, Valid smape: 10.2970\n",
      "\n"
     ]
    },
    {
     "name": "stderr",
     "output_type": "stream",
     "text": [
      "Epoch [850/5000]: 100%|██████████████████████████████████████████████████████| 9/9 [00:00<00:00, 230.69it/s, loss=2.54]\n"
     ]
    },
    {
     "name": "stdout",
     "output_type": "stream",
     "text": [
      "Epoch [850/5000]: Train loss: 2.5784, Valid loss: 1.0113\n",
      "Epoch [850/5000]: Train r2_score: 0.9364, Valid r2_score: 0.9747\n",
      "Epoch [850/5000]: Train smape: 13.7861, Valid smape: 10.2897\n",
      "\n"
     ]
    },
    {
     "name": "stderr",
     "output_type": "stream",
     "text": [
      "Epoch [851/5000]: 100%|██████████████████████████████████████████████████████| 9/9 [00:00<00:00, 240.67it/s, loss=3.34]\n"
     ]
    },
    {
     "name": "stdout",
     "output_type": "stream",
     "text": [
      "Epoch [851/5000]: Train loss: 2.7499, Valid loss: 1.1793\n",
      "Epoch [851/5000]: Train r2_score: 0.9332, Valid r2_score: 0.9720\n",
      "Epoch [851/5000]: Train smape: 13.9631, Valid smape: 10.4770\n",
      "\n"
     ]
    },
    {
     "name": "stderr",
     "output_type": "stream",
     "text": [
      "Epoch [852/5000]: 100%|██████████████████████████████████████████████████████| 9/9 [00:00<00:00, 236.46it/s, loss=2.06]\n"
     ]
    },
    {
     "name": "stdout",
     "output_type": "stream",
     "text": [
      "Epoch [852/5000]: Train loss: 2.7263, Valid loss: 1.3209\n",
      "Epoch [852/5000]: Train r2_score: 0.9317, Valid r2_score: 0.9733\n",
      "Epoch [852/5000]: Train smape: 14.0691, Valid smape: 10.3831\n",
      "\n"
     ]
    },
    {
     "name": "stderr",
     "output_type": "stream",
     "text": [
      "Epoch [853/5000]: 100%|██████████████████████████████████████████████████████| 9/9 [00:00<00:00, 220.39it/s, loss=3.33]\n"
     ]
    },
    {
     "name": "stdout",
     "output_type": "stream",
     "text": [
      "Epoch [853/5000]: Train loss: 2.8134, Valid loss: 1.1286\n",
      "Epoch [853/5000]: Train r2_score: 0.9315, Valid r2_score: 0.9742\n",
      "Epoch [853/5000]: Train smape: 14.2226, Valid smape: 10.3389\n",
      "\n"
     ]
    },
    {
     "name": "stderr",
     "output_type": "stream",
     "text": [
      "Epoch [854/5000]: 100%|██████████████████████████████████████████████████████| 9/9 [00:00<00:00, 198.35it/s, loss=3.16]\n"
     ]
    },
    {
     "name": "stdout",
     "output_type": "stream",
     "text": [
      "Epoch [854/5000]: Train loss: 2.6017, Valid loss: 1.6383\n",
      "Epoch [854/5000]: Train r2_score: 0.9368, Valid r2_score: 0.9712\n",
      "Epoch [854/5000]: Train smape: 14.0662, Valid smape: 10.5379\n",
      "\n"
     ]
    },
    {
     "name": "stderr",
     "output_type": "stream",
     "text": [
      "Epoch [855/5000]: 100%|██████████████████████████████████████████████████████| 9/9 [00:00<00:00, 201.26it/s, loss=2.21]\n"
     ]
    },
    {
     "name": "stdout",
     "output_type": "stream",
     "text": [
      "Epoch [855/5000]: Train loss: 2.7047, Valid loss: 1.1771\n",
      "Epoch [855/5000]: Train r2_score: 0.9325, Valid r2_score: 0.9718\n",
      "Epoch [855/5000]: Train smape: 13.9175, Valid smape: 10.4910\n",
      "\n"
     ]
    },
    {
     "name": "stderr",
     "output_type": "stream",
     "text": [
      "Epoch [856/5000]: 100%|██████████████████████████████████████████████████████| 9/9 [00:00<00:00, 199.54it/s, loss=2.69]\n"
     ]
    },
    {
     "name": "stdout",
     "output_type": "stream",
     "text": [
      "Epoch [856/5000]: Train loss: 2.6205, Valid loss: 1.3293\n",
      "Epoch [856/5000]: Train r2_score: 0.9355, Valid r2_score: 0.9745\n",
      "Epoch [856/5000]: Train smape: 14.1068, Valid smape: 10.3021\n",
      "\n"
     ]
    },
    {
     "name": "stderr",
     "output_type": "stream",
     "text": [
      "Epoch [857/5000]: 100%|██████████████████████████████████████████████████████| 9/9 [00:00<00:00, 225.18it/s, loss=3.17]\n"
     ]
    },
    {
     "name": "stdout",
     "output_type": "stream",
     "text": [
      "Epoch [857/5000]: Train loss: 2.6083, Valid loss: 1.2635\n",
      "Epoch [857/5000]: Train r2_score: 0.9366, Valid r2_score: 0.9747\n",
      "Epoch [857/5000]: Train smape: 13.7239, Valid smape: 10.3097\n",
      "\n"
     ]
    },
    {
     "name": "stderr",
     "output_type": "stream",
     "text": [
      "Epoch [858/5000]: 100%|██████████████████████████████████████████████████████| 9/9 [00:00<00:00, 224.29it/s, loss=2.65]\n"
     ]
    },
    {
     "name": "stdout",
     "output_type": "stream",
     "text": [
      "Epoch [858/5000]: Train loss: 2.8459, Valid loss: 1.2238\n",
      "Epoch [858/5000]: Train r2_score: 0.9295, Valid r2_score: 0.9728\n",
      "Epoch [858/5000]: Train smape: 14.6800, Valid smape: 10.4586\n",
      "\n"
     ]
    },
    {
     "name": "stderr",
     "output_type": "stream",
     "text": [
      "Epoch [859/5000]: 100%|██████████████████████████████████████████████████████| 9/9 [00:00<00:00, 217.19it/s, loss=3.03]\n"
     ]
    },
    {
     "name": "stdout",
     "output_type": "stream",
     "text": [
      "Epoch [859/5000]: Train loss: 2.8139, Valid loss: 1.1899\n",
      "Epoch [859/5000]: Train r2_score: 0.9310, Valid r2_score: 0.9728\n",
      "Epoch [859/5000]: Train smape: 13.9030, Valid smape: 10.4670\n",
      "\n"
     ]
    },
    {
     "name": "stderr",
     "output_type": "stream",
     "text": [
      "Epoch [860/5000]: 100%|██████████████████████████████████████████████████████| 9/9 [00:00<00:00, 219.34it/s, loss=2.35]\n"
     ]
    },
    {
     "name": "stdout",
     "output_type": "stream",
     "text": [
      "Epoch [860/5000]: Train loss: 2.6042, Valid loss: 1.3613\n",
      "Epoch [860/5000]: Train r2_score: 0.9354, Valid r2_score: 0.9705\n",
      "Epoch [860/5000]: Train smape: 13.4550, Valid smape: 10.5900\n",
      "\n"
     ]
    },
    {
     "name": "stderr",
     "output_type": "stream",
     "text": [
      "Epoch [861/5000]: 100%|██████████████████████████████████████████████████████| 9/9 [00:00<00:00, 220.52it/s, loss=2.67]\n"
     ]
    },
    {
     "name": "stdout",
     "output_type": "stream",
     "text": [
      "Epoch [861/5000]: Train loss: 2.7452, Valid loss: 1.1973\n",
      "Epoch [861/5000]: Train r2_score: 0.9322, Valid r2_score: 0.9723\n",
      "Epoch [861/5000]: Train smape: 14.0726, Valid smape: 10.4522\n",
      "\n"
     ]
    },
    {
     "name": "stderr",
     "output_type": "stream",
     "text": [
      "Epoch [862/5000]: 100%|██████████████████████████████████████████████████████| 9/9 [00:00<00:00, 200.55it/s, loss=4.56]\n"
     ]
    },
    {
     "name": "stdout",
     "output_type": "stream",
     "text": [
      "Epoch [862/5000]: Train loss: 2.7812, Valid loss: 1.1081\n",
      "Epoch [862/5000]: Train r2_score: 0.9344, Valid r2_score: 0.9738\n",
      "Epoch [862/5000]: Train smape: 13.6343, Valid smape: 10.3351\n",
      "\n"
     ]
    },
    {
     "name": "stderr",
     "output_type": "stream",
     "text": [
      "Epoch [863/5000]: 100%|███████████████████████████████████████████████████████| 9/9 [00:00<00:00, 196.56it/s, loss=2.5]\n"
     ]
    },
    {
     "name": "stdout",
     "output_type": "stream",
     "text": [
      "Epoch [863/5000]: Train loss: 2.6239, Valid loss: 1.2409\n",
      "Epoch [863/5000]: Train r2_score: 0.9351, Valid r2_score: 0.9739\n",
      "Epoch [863/5000]: Train smape: 13.6531, Valid smape: 10.3545\n",
      "\n"
     ]
    },
    {
     "name": "stderr",
     "output_type": "stream",
     "text": [
      "Epoch [864/5000]: 100%|██████████████████████████████████████████████████████| 9/9 [00:00<00:00, 193.59it/s, loss=2.27]\n"
     ]
    },
    {
     "name": "stdout",
     "output_type": "stream",
     "text": [
      "Epoch [864/5000]: Train loss: 2.4207, Valid loss: 1.1443\n",
      "Epoch [864/5000]: Train r2_score: 0.9401, Valid r2_score: 0.9731\n",
      "Epoch [864/5000]: Train smape: 13.3423, Valid smape: 10.4150\n",
      "\n"
     ]
    },
    {
     "name": "stderr",
     "output_type": "stream",
     "text": [
      "Epoch [865/5000]: 100%|██████████████████████████████████████████████████████| 9/9 [00:00<00:00, 187.11it/s, loss=2.76]\n"
     ]
    },
    {
     "name": "stdout",
     "output_type": "stream",
     "text": [
      "Epoch [865/5000]: Train loss: 2.5298, Valid loss: 1.2765\n",
      "Epoch [865/5000]: Train r2_score: 0.9380, Valid r2_score: 0.9721\n",
      "Epoch [865/5000]: Train smape: 13.5030, Valid smape: 10.4947\n",
      "\n"
     ]
    },
    {
     "name": "stderr",
     "output_type": "stream",
     "text": [
      "Epoch [866/5000]: 100%|██████████████████████████████████████████████████████| 9/9 [00:00<00:00, 229.00it/s, loss=2.62]\n"
     ]
    },
    {
     "name": "stdout",
     "output_type": "stream",
     "text": [
      "Epoch [866/5000]: Train loss: 2.6336, Valid loss: 1.3898\n",
      "Epoch [866/5000]: Train r2_score: 0.9351, Valid r2_score: 0.9734\n",
      "Epoch [866/5000]: Train smape: 13.9573, Valid smape: 10.3749\n",
      "\n"
     ]
    },
    {
     "name": "stderr",
     "output_type": "stream",
     "text": [
      "Epoch [867/5000]: 100%|██████████████████████████████████████████████████████| 9/9 [00:00<00:00, 219.22it/s, loss=1.95]\n"
     ]
    },
    {
     "name": "stdout",
     "output_type": "stream",
     "text": [
      "Epoch [867/5000]: Train loss: 2.4184, Valid loss: 0.9805\n",
      "Epoch [867/5000]: Train r2_score: 0.9396, Valid r2_score: 0.9741\n",
      "Epoch [867/5000]: Train smape: 13.3030, Valid smape: 10.3066\n",
      "\n"
     ]
    },
    {
     "name": "stderr",
     "output_type": "stream",
     "text": [
      "Epoch [868/5000]: 100%|██████████████████████████████████████████████████████| 9/9 [00:00<00:00, 233.61it/s, loss=4.52]\n"
     ]
    },
    {
     "name": "stdout",
     "output_type": "stream",
     "text": [
      "Epoch [868/5000]: Train loss: 2.9057, Valid loss: 1.0662\n",
      "Epoch [868/5000]: Train r2_score: 0.9310, Valid r2_score: 0.9736\n",
      "Epoch [868/5000]: Train smape: 13.8084, Valid smape: 10.3535\n",
      "\n"
     ]
    },
    {
     "name": "stderr",
     "output_type": "stream",
     "text": [
      "Epoch [869/5000]: 100%|██████████████████████████████████████████████████████| 9/9 [00:00<00:00, 212.81it/s, loss=2.63]\n"
     ]
    },
    {
     "name": "stdout",
     "output_type": "stream",
     "text": [
      "Epoch [869/5000]: Train loss: 2.7157, Valid loss: 1.0745\n",
      "Epoch [869/5000]: Train r2_score: 0.9329, Valid r2_score: 0.9744\n",
      "Epoch [869/5000]: Train smape: 13.8219, Valid smape: 10.2812\n",
      "\n"
     ]
    },
    {
     "name": "stderr",
     "output_type": "stream",
     "text": [
      "Epoch [870/5000]: 100%|██████████████████████████████████████████████████████| 9/9 [00:00<00:00, 220.38it/s, loss=6.23]\n"
     ]
    },
    {
     "name": "stdout",
     "output_type": "stream",
     "text": [
      "Epoch [870/5000]: Train loss: 3.0799, Valid loss: 1.2878\n",
      "Epoch [870/5000]: Train r2_score: 0.9293, Valid r2_score: 0.9728\n",
      "Epoch [870/5000]: Train smape: 13.8577, Valid smape: 10.3866\n",
      "\n"
     ]
    },
    {
     "name": "stderr",
     "output_type": "stream",
     "text": [
      "Epoch [871/5000]: 100%|██████████████████████████████████████████████████████| 9/9 [00:00<00:00, 242.06it/s, loss=4.67]\n"
     ]
    },
    {
     "name": "stdout",
     "output_type": "stream",
     "text": [
      "Epoch [871/5000]: Train loss: 2.7313, Valid loss: 1.1541\n",
      "Epoch [871/5000]: Train r2_score: 0.9359, Valid r2_score: 0.9726\n",
      "Epoch [871/5000]: Train smape: 13.7682, Valid smape: 10.3838\n",
      "\n"
     ]
    },
    {
     "name": "stderr",
     "output_type": "stream",
     "text": [
      "Epoch [872/5000]: 100%|███████████████████████████████████████████████████████| 9/9 [00:00<00:00, 229.89it/s, loss=1.6]\n"
     ]
    },
    {
     "name": "stdout",
     "output_type": "stream",
     "text": [
      "Epoch [872/5000]: Train loss: 2.3669, Valid loss: 1.1675\n",
      "Epoch [872/5000]: Train r2_score: 0.9404, Valid r2_score: 0.9737\n",
      "Epoch [872/5000]: Train smape: 13.3212, Valid smape: 10.3176\n",
      "\n"
     ]
    },
    {
     "name": "stderr",
     "output_type": "stream",
     "text": [
      "Epoch [873/5000]: 100%|██████████████████████████████████████████████████████| 9/9 [00:00<00:00, 230.73it/s, loss=2.51]\n"
     ]
    },
    {
     "name": "stdout",
     "output_type": "stream",
     "text": [
      "Epoch [873/5000]: Train loss: 2.5893, Valid loss: 1.1590\n",
      "Epoch [873/5000]: Train r2_score: 0.9360, Valid r2_score: 0.9739\n",
      "Epoch [873/5000]: Train smape: 13.5148, Valid smape: 10.3069\n",
      "\n"
     ]
    },
    {
     "name": "stderr",
     "output_type": "stream",
     "text": [
      "Epoch [874/5000]: 100%|██████████████████████████████████████████████████████| 9/9 [00:00<00:00, 214.65it/s, loss=2.13]\n"
     ]
    },
    {
     "name": "stdout",
     "output_type": "stream",
     "text": [
      "Epoch [874/5000]: Train loss: 2.8886, Valid loss: 1.2234\n",
      "Epoch [874/5000]: Train r2_score: 0.9276, Valid r2_score: 0.9731\n",
      "Epoch [874/5000]: Train smape: 14.1420, Valid smape: 10.3852\n",
      "\n"
     ]
    },
    {
     "name": "stderr",
     "output_type": "stream",
     "text": [
      "Epoch [875/5000]: 100%|███████████████████████████████████████████████████████| 9/9 [00:00<00:00, 186.38it/s, loss=2.7]\n"
     ]
    },
    {
     "name": "stdout",
     "output_type": "stream",
     "text": [
      "Epoch [875/5000]: Train loss: 2.5304, Valid loss: 1.4574\n",
      "Epoch [875/5000]: Train r2_score: 0.9379, Valid r2_score: 0.9720\n",
      "Epoch [875/5000]: Train smape: 13.6025, Valid smape: 10.4782\n",
      "\n"
     ]
    },
    {
     "name": "stderr",
     "output_type": "stream",
     "text": [
      "Epoch [876/5000]: 100%|██████████████████████████████████████████████████████| 9/9 [00:00<00:00, 191.87it/s, loss=2.85]\n"
     ]
    },
    {
     "name": "stdout",
     "output_type": "stream",
     "text": [
      "Epoch [876/5000]: Train loss: 2.7853, Valid loss: 0.9580\n",
      "Epoch [876/5000]: Train r2_score: 0.9315, Valid r2_score: 0.9740\n",
      "Epoch [876/5000]: Train smape: 13.9364, Valid smape: 10.3149\n",
      "\n"
     ]
    },
    {
     "name": "stderr",
     "output_type": "stream",
     "text": [
      "Epoch [877/5000]: 100%|██████████████████████████████████████████████████████| 9/9 [00:00<00:00, 220.89it/s, loss=3.76]\n"
     ]
    },
    {
     "name": "stdout",
     "output_type": "stream",
     "text": [
      "Epoch [877/5000]: Train loss: 3.0429, Valid loss: 1.1651\n",
      "Epoch [877/5000]: Train r2_score: 0.9262, Valid r2_score: 0.9742\n",
      "Epoch [877/5000]: Train smape: 14.0884, Valid smape: 10.3081\n",
      "\n"
     ]
    },
    {
     "name": "stderr",
     "output_type": "stream",
     "text": [
      "Epoch [878/5000]: 100%|██████████████████████████████████████████████████████| 9/9 [00:00<00:00, 215.99it/s, loss=2.19]\n"
     ]
    },
    {
     "name": "stdout",
     "output_type": "stream",
     "text": [
      "Epoch [878/5000]: Train loss: 2.7128, Valid loss: 1.3065\n",
      "Epoch [878/5000]: Train r2_score: 0.9323, Valid r2_score: 0.9730\n",
      "Epoch [878/5000]: Train smape: 13.9093, Valid smape: 10.3664\n",
      "\n"
     ]
    },
    {
     "name": "stderr",
     "output_type": "stream",
     "text": [
      "Epoch [879/5000]: 100%|██████████████████████████████████████████████████████| 9/9 [00:00<00:00, 201.48it/s, loss=3.31]\n"
     ]
    },
    {
     "name": "stdout",
     "output_type": "stream",
     "text": [
      "Epoch [879/5000]: Train loss: 2.6787, Valid loss: 1.1486\n",
      "Epoch [879/5000]: Train r2_score: 0.9350, Valid r2_score: 0.9743\n",
      "Epoch [879/5000]: Train smape: 13.7152, Valid smape: 10.3029\n",
      "\n"
     ]
    },
    {
     "name": "stderr",
     "output_type": "stream",
     "text": [
      "Epoch [880/5000]: 100%|██████████████████████████████████████████████████████| 9/9 [00:00<00:00, 221.13it/s, loss=3.17]\n"
     ]
    },
    {
     "name": "stdout",
     "output_type": "stream",
     "text": [
      "Epoch [880/5000]: Train loss: 2.6489, Valid loss: 1.0749\n",
      "Epoch [880/5000]: Train r2_score: 0.9356, Valid r2_score: 0.9741\n",
      "Epoch [880/5000]: Train smape: 13.9611, Valid smape: 10.2920\n",
      "\n"
     ]
    },
    {
     "name": "stderr",
     "output_type": "stream",
     "text": [
      "Epoch [881/5000]: 100%|██████████████████████████████████████████████████████| 9/9 [00:00<00:00, 212.00it/s, loss=3.06]\n"
     ]
    },
    {
     "name": "stdout",
     "output_type": "stream",
     "text": [
      "Epoch [881/5000]: Train loss: 2.8633, Valid loss: 1.0616\n",
      "Epoch [881/5000]: Train r2_score: 0.9297, Valid r2_score: 0.9734\n",
      "Epoch [881/5000]: Train smape: 13.9373, Valid smape: 10.3293\n",
      "\n"
     ]
    },
    {
     "name": "stderr",
     "output_type": "stream",
     "text": [
      "Epoch [882/5000]: 100%|██████████████████████████████████████████████████████| 9/9 [00:00<00:00, 206.58it/s, loss=2.47]\n"
     ]
    },
    {
     "name": "stdout",
     "output_type": "stream",
     "text": [
      "Epoch [882/5000]: Train loss: 2.5610, Valid loss: 1.1440\n",
      "Epoch [882/5000]: Train r2_score: 0.9367, Valid r2_score: 0.9722\n",
      "Epoch [882/5000]: Train smape: 13.5593, Valid smape: 10.4251\n",
      "\n"
     ]
    },
    {
     "name": "stderr",
     "output_type": "stream",
     "text": [
      "Epoch [883/5000]: 100%|██████████████████████████████████████████████████████| 9/9 [00:00<00:00, 209.57it/s, loss=3.33]\n"
     ]
    },
    {
     "name": "stdout",
     "output_type": "stream",
     "text": [
      "Epoch [883/5000]: Train loss: 2.6157, Valid loss: 1.3301\n",
      "Epoch [883/5000]: Train r2_score: 0.9367, Valid r2_score: 0.9726\n",
      "Epoch [883/5000]: Train smape: 13.8787, Valid smape: 10.4039\n",
      "\n"
     ]
    },
    {
     "name": "stderr",
     "output_type": "stream",
     "text": [
      "Epoch [884/5000]: 100%|██████████████████████████████████████████████████████| 9/9 [00:00<00:00, 224.97it/s, loss=2.84]\n"
     ]
    },
    {
     "name": "stdout",
     "output_type": "stream",
     "text": [
      "Epoch [884/5000]: Train loss: 2.7001, Valid loss: 1.2944\n",
      "Epoch [884/5000]: Train r2_score: 0.9337, Valid r2_score: 0.9746\n",
      "Epoch [884/5000]: Train smape: 13.6202, Valid smape: 10.2742\n",
      "\n"
     ]
    },
    {
     "name": "stderr",
     "output_type": "stream",
     "text": [
      "Epoch [885/5000]: 100%|██████████████████████████████████████████████████████| 9/9 [00:00<00:00, 220.58it/s, loss=1.69]\n"
     ]
    },
    {
     "name": "stdout",
     "output_type": "stream",
     "text": [
      "Epoch [885/5000]: Train loss: 2.5930, Valid loss: 1.1434\n",
      "Epoch [885/5000]: Train r2_score: 0.9346, Valid r2_score: 0.9747\n",
      "Epoch [885/5000]: Train smape: 13.9527, Valid smape: 10.2877\n",
      "\n"
     ]
    },
    {
     "name": "stderr",
     "output_type": "stream",
     "text": [
      "Epoch [886/5000]: 100%|██████████████████████████████████████████████████████| 9/9 [00:00<00:00, 218.10it/s, loss=3.33]\n"
     ]
    },
    {
     "name": "stdout",
     "output_type": "stream",
     "text": [
      "Epoch [886/5000]: Train loss: 2.8491, Valid loss: 1.2692\n",
      "Epoch [886/5000]: Train r2_score: 0.9306, Valid r2_score: 0.9732\n",
      "Epoch [886/5000]: Train smape: 13.8582, Valid smape: 10.4013\n",
      "\n"
     ]
    },
    {
     "name": "stderr",
     "output_type": "stream",
     "text": [
      "Epoch [887/5000]: 100%|██████████████████████████████████████████████████████| 9/9 [00:00<00:00, 215.95it/s, loss=2.81]\n"
     ]
    },
    {
     "name": "stdout",
     "output_type": "stream",
     "text": [
      "Epoch [887/5000]: Train loss: 2.5575, Valid loss: 1.3587\n",
      "Epoch [887/5000]: Train r2_score: 0.9374, Valid r2_score: 0.9733\n",
      "Epoch [887/5000]: Train smape: 13.7710, Valid smape: 10.3860\n",
      "\n"
     ]
    },
    {
     "name": "stderr",
     "output_type": "stream",
     "text": [
      "Epoch [888/5000]: 100%|██████████████████████████████████████████████████████| 9/9 [00:00<00:00, 217.46it/s, loss=3.28]\n"
     ]
    },
    {
     "name": "stdout",
     "output_type": "stream",
     "text": [
      "Epoch [888/5000]: Train loss: 2.8454, Valid loss: 1.0467\n",
      "Epoch [888/5000]: Train r2_score: 0.9306, Valid r2_score: 0.9732\n",
      "Epoch [888/5000]: Train smape: 14.1391, Valid smape: 10.4091\n",
      "\n"
     ]
    },
    {
     "name": "stderr",
     "output_type": "stream",
     "text": [
      "Epoch [889/5000]: 100%|██████████████████████████████████████████████████████| 9/9 [00:00<00:00, 217.59it/s, loss=3.75]\n"
     ]
    },
    {
     "name": "stdout",
     "output_type": "stream",
     "text": [
      "Epoch [889/5000]: Train loss: 2.4996, Valid loss: 1.1751\n",
      "Epoch [889/5000]: Train r2_score: 0.9405, Valid r2_score: 0.9740\n",
      "Epoch [889/5000]: Train smape: 13.4178, Valid smape: 10.3194\n",
      "\n"
     ]
    },
    {
     "name": "stderr",
     "output_type": "stream",
     "text": [
      "Epoch [890/5000]: 100%|███████████████████████████████████████████████████████| 9/9 [00:00<00:00, 196.39it/s, loss=2.7]\n"
     ]
    },
    {
     "name": "stdout",
     "output_type": "stream",
     "text": [
      "Epoch [890/5000]: Train loss: 2.6557, Valid loss: 1.0268\n",
      "Epoch [890/5000]: Train r2_score: 0.9346, Valid r2_score: 0.9728\n",
      "Epoch [890/5000]: Train smape: 13.6153, Valid smape: 10.3978\n",
      "\n"
     ]
    },
    {
     "name": "stderr",
     "output_type": "stream",
     "text": [
      "Epoch [891/5000]: 100%|██████████████████████████████████████████████████████| 9/9 [00:00<00:00, 231.02it/s, loss=5.84]\n"
     ]
    },
    {
     "name": "stdout",
     "output_type": "stream",
     "text": [
      "Epoch [891/5000]: Train loss: 3.0013, Valid loss: 0.9977\n",
      "Epoch [891/5000]: Train r2_score: 0.9307, Valid r2_score: 0.9730\n",
      "Epoch [891/5000]: Train smape: 14.1220, Valid smape: 10.3800\n",
      "\n"
     ]
    },
    {
     "name": "stderr",
     "output_type": "stream",
     "text": [
      "Epoch [892/5000]: 100%|██████████████████████████████████████████████████████| 9/9 [00:00<00:00, 210.12it/s, loss=2.47]\n"
     ]
    },
    {
     "name": "stdout",
     "output_type": "stream",
     "text": [
      "Epoch [892/5000]: Train loss: 2.7432, Valid loss: 1.0991\n",
      "Epoch [892/5000]: Train r2_score: 0.9319, Valid r2_score: 0.9748\n",
      "Epoch [892/5000]: Train smape: 14.2125, Valid smape: 10.2921\n",
      "\n"
     ]
    },
    {
     "name": "stderr",
     "output_type": "stream",
     "text": [
      "Epoch [893/5000]: 100%|██████████████████████████████████████████████████████| 9/9 [00:00<00:00, 217.13it/s, loss=3.22]\n"
     ]
    },
    {
     "name": "stdout",
     "output_type": "stream",
     "text": [
      "Epoch [893/5000]: Train loss: 2.7453, Valid loss: 1.3197\n",
      "Epoch [893/5000]: Train r2_score: 0.9331, Valid r2_score: 0.9742\n",
      "Epoch [893/5000]: Train smape: 13.6041, Valid smape: 10.3304\n",
      "\n"
     ]
    },
    {
     "name": "stderr",
     "output_type": "stream",
     "text": [
      "Epoch [894/5000]: 100%|██████████████████████████████████████████████████████| 9/9 [00:00<00:00, 214.94it/s, loss=2.24]\n"
     ]
    },
    {
     "name": "stdout",
     "output_type": "stream",
     "text": [
      "Epoch [894/5000]: Train loss: 2.5656, Valid loss: 1.1344\n",
      "Epoch [894/5000]: Train r2_score: 0.9362, Valid r2_score: 0.9730\n",
      "Epoch [894/5000]: Train smape: 13.7916, Valid smape: 10.4387\n",
      "\n"
     ]
    },
    {
     "name": "stderr",
     "output_type": "stream",
     "text": [
      "Epoch [895/5000]: 100%|██████████████████████████████████████████████████████| 9/9 [00:00<00:00, 222.13it/s, loss=2.71]\n"
     ]
    },
    {
     "name": "stdout",
     "output_type": "stream",
     "text": [
      "Epoch [895/5000]: Train loss: 2.6815, Valid loss: 1.3678\n",
      "Epoch [895/5000]: Train r2_score: 0.9340, Valid r2_score: 0.9721\n",
      "Epoch [895/5000]: Train smape: 13.3866, Valid smape: 10.4365\n",
      "\n"
     ]
    },
    {
     "name": "stderr",
     "output_type": "stream",
     "text": [
      "Epoch [896/5000]: 100%|██████████████████████████████████████████████████████| 9/9 [00:00<00:00, 219.27it/s, loss=3.43]\n"
     ]
    },
    {
     "name": "stdout",
     "output_type": "stream",
     "text": [
      "Epoch [896/5000]: Train loss: 2.7579, Valid loss: 0.9631\n",
      "Epoch [896/5000]: Train r2_score: 0.9331, Valid r2_score: 0.9735\n",
      "Epoch [896/5000]: Train smape: 13.7003, Valid smape: 10.3351\n",
      "\n"
     ]
    },
    {
     "name": "stderr",
     "output_type": "stream",
     "text": [
      "Epoch [897/5000]: 100%|██████████████████████████████████████████████████████| 9/9 [00:00<00:00, 205.80it/s, loss=2.13]\n"
     ]
    },
    {
     "name": "stdout",
     "output_type": "stream",
     "text": [
      "Epoch [897/5000]: Train loss: 2.8706, Valid loss: 0.9796\n",
      "Epoch [897/5000]: Train r2_score: 0.9280, Valid r2_score: 0.9743\n",
      "Epoch [897/5000]: Train smape: 13.6568, Valid smape: 10.2873\n",
      "\n"
     ]
    },
    {
     "name": "stderr",
     "output_type": "stream",
     "text": [
      "Epoch [898/5000]: 100%|██████████████████████████████████████████████████████| 9/9 [00:00<00:00, 177.72it/s, loss=3.26]\n"
     ]
    },
    {
     "name": "stdout",
     "output_type": "stream",
     "text": [
      "Epoch [898/5000]: Train loss: 2.7199, Valid loss: 1.2040\n",
      "Epoch [898/5000]: Train r2_score: 0.9338, Valid r2_score: 0.9728\n",
      "Epoch [898/5000]: Train smape: 13.6814, Valid smape: 10.3873\n",
      "\n"
     ]
    },
    {
     "name": "stderr",
     "output_type": "stream",
     "text": [
      "Epoch [899/5000]: 100%|██████████████████████████████████████████████████████| 9/9 [00:00<00:00, 196.14it/s, loss=2.62]\n"
     ]
    },
    {
     "name": "stdout",
     "output_type": "stream",
     "text": [
      "Epoch [899/5000]: Train loss: 2.7617, Valid loss: 1.0630\n",
      "Epoch [899/5000]: Train r2_score: 0.9317, Valid r2_score: 0.9732\n",
      "Epoch [899/5000]: Train smape: 13.8391, Valid smape: 10.3568\n",
      "\n"
     ]
    },
    {
     "name": "stderr",
     "output_type": "stream",
     "text": [
      "Epoch [900/5000]: 100%|██████████████████████████████████████████████████████| 9/9 [00:00<00:00, 183.82it/s, loss=6.95]\n"
     ]
    },
    {
     "name": "stdout",
     "output_type": "stream",
     "text": [
      "Epoch [900/5000]: Train loss: 3.1930, Valid loss: 1.1313\n",
      "Epoch [900/5000]: Train r2_score: 0.9275, Valid r2_score: 0.9728\n",
      "Epoch [900/5000]: Train smape: 14.1548, Valid smape: 10.3810\n",
      "\n"
     ]
    },
    {
     "name": "stderr",
     "output_type": "stream",
     "text": [
      "Epoch [901/5000]: 100%|██████████████████████████████████████████████████████| 9/9 [00:00<00:00, 219.51it/s, loss=2.45]\n"
     ]
    },
    {
     "name": "stdout",
     "output_type": "stream",
     "text": [
      "Epoch [901/5000]: Train loss: 2.5076, Valid loss: 1.0365\n",
      "Epoch [901/5000]: Train r2_score: 0.9381, Valid r2_score: 0.9743\n",
      "Epoch [901/5000]: Train smape: 13.3176, Valid smape: 10.2911\n",
      "\n"
     ]
    },
    {
     "name": "stderr",
     "output_type": "stream",
     "text": [
      "Epoch [902/5000]: 100%|██████████████████████████████████████████████████████| 9/9 [00:00<00:00, 242.18it/s, loss=3.53]\n"
     ]
    },
    {
     "name": "stdout",
     "output_type": "stream",
     "text": [
      "Epoch [902/5000]: Train loss: 2.8042, Valid loss: 1.1687\n",
      "Epoch [902/5000]: Train r2_score: 0.9321, Valid r2_score: 0.9740\n",
      "Epoch [902/5000]: Train smape: 14.0395, Valid smape: 10.3149\n",
      "\n"
     ]
    },
    {
     "name": "stderr",
     "output_type": "stream",
     "text": [
      "Epoch [903/5000]: 100%|██████████████████████████████████████████████████████| 9/9 [00:00<00:00, 224.84it/s, loss=2.22]\n"
     ]
    },
    {
     "name": "stdout",
     "output_type": "stream",
     "text": [
      "Epoch [903/5000]: Train loss: 2.5478, Valid loss: 1.0086\n",
      "Epoch [903/5000]: Train r2_score: 0.9367, Valid r2_score: 0.9735\n",
      "Epoch [903/5000]: Train smape: 13.6235, Valid smape: 10.3458\n",
      "\n"
     ]
    },
    {
     "name": "stderr",
     "output_type": "stream",
     "text": [
      "Epoch [904/5000]: 100%|███████████████████████████████████████████████████████| 9/9 [00:00<00:00, 238.04it/s, loss=2.2]\n"
     ]
    },
    {
     "name": "stdout",
     "output_type": "stream",
     "text": [
      "Epoch [904/5000]: Train loss: 2.9735, Valid loss: 1.0997\n",
      "Epoch [904/5000]: Train r2_score: 0.9254, Valid r2_score: 0.9723\n",
      "Epoch [904/5000]: Train smape: 14.1243, Valid smape: 10.4217\n",
      "\n"
     ]
    },
    {
     "name": "stderr",
     "output_type": "stream",
     "text": [
      "Epoch [905/5000]: 100%|██████████████████████████████████████████████████████| 9/9 [00:00<00:00, 236.38it/s, loss=2.93]\n"
     ]
    },
    {
     "name": "stdout",
     "output_type": "stream",
     "text": [
      "Epoch [905/5000]: Train loss: 2.7606, Valid loss: 1.2714\n",
      "Epoch [905/5000]: Train r2_score: 0.9322, Valid r2_score: 0.9734\n",
      "Epoch [905/5000]: Train smape: 13.9468, Valid smape: 10.3420\n",
      "\n"
     ]
    },
    {
     "name": "stderr",
     "output_type": "stream",
     "text": [
      "Epoch [906/5000]: 100%|██████████████████████████████████████████████████████| 9/9 [00:00<00:00, 238.35it/s, loss=3.21]\n"
     ]
    },
    {
     "name": "stdout",
     "output_type": "stream",
     "text": [
      "Epoch [906/5000]: Train loss: 2.6579, Valid loss: 1.1014\n",
      "Epoch [906/5000]: Train r2_score: 0.9354, Valid r2_score: 0.9740\n",
      "Epoch [906/5000]: Train smape: 13.4065, Valid smape: 10.3011\n",
      "\n"
     ]
    },
    {
     "name": "stderr",
     "output_type": "stream",
     "text": [
      "Epoch [907/5000]: 100%|██████████████████████████████████████████████████████| 9/9 [00:00<00:00, 209.23it/s, loss=2.34]\n"
     ]
    },
    {
     "name": "stdout",
     "output_type": "stream",
     "text": [
      "Epoch [907/5000]: Train loss: 2.5092, Valid loss: 1.1149\n",
      "Epoch [907/5000]: Train r2_score: 0.9379, Valid r2_score: 0.9745\n",
      "Epoch [907/5000]: Train smape: 13.3933, Valid smape: 10.2765\n",
      "\n"
     ]
    },
    {
     "name": "stderr",
     "output_type": "stream",
     "text": [
      "Epoch [908/5000]: 100%|██████████████████████████████████████████████████████| 9/9 [00:00<00:00, 183.50it/s, loss=3.68]\n"
     ]
    },
    {
     "name": "stdout",
     "output_type": "stream",
     "text": [
      "Epoch [908/5000]: Train loss: 2.7554, Valid loss: 1.2514\n",
      "Epoch [908/5000]: Train r2_score: 0.9336, Valid r2_score: 0.9730\n",
      "Epoch [908/5000]: Train smape: 13.9169, Valid smape: 10.3773\n",
      "\n"
     ]
    },
    {
     "name": "stderr",
     "output_type": "stream",
     "text": [
      "Epoch [909/5000]: 100%|██████████████████████████████████████████████████████| 9/9 [00:00<00:00, 204.57it/s, loss=3.11]\n"
     ]
    },
    {
     "name": "stdout",
     "output_type": "stream",
     "text": [
      "Epoch [909/5000]: Train loss: 2.8416, Valid loss: 0.9933\n",
      "Epoch [909/5000]: Train r2_score: 0.9304, Valid r2_score: 0.9744\n",
      "Epoch [909/5000]: Train smape: 13.7243, Valid smape: 10.2814\n",
      "\n"
     ]
    },
    {
     "name": "stderr",
     "output_type": "stream",
     "text": [
      "Epoch [910/5000]: 100%|██████████████████████████████████████████████████████| 9/9 [00:00<00:00, 200.25it/s, loss=2.04]\n"
     ]
    },
    {
     "name": "stdout",
     "output_type": "stream",
     "text": [
      "Epoch [910/5000]: Train loss: 2.6000, Valid loss: 1.1003\n",
      "Epoch [910/5000]: Train r2_score: 0.9350, Valid r2_score: 0.9736\n",
      "Epoch [910/5000]: Train smape: 13.8631, Valid smape: 10.3379\n",
      "\n"
     ]
    },
    {
     "name": "stderr",
     "output_type": "stream",
     "text": [
      "Epoch [911/5000]: 100%|██████████████████████████████████████████████████████| 9/9 [00:00<00:00, 200.02it/s, loss=2.76]\n"
     ]
    },
    {
     "name": "stdout",
     "output_type": "stream",
     "text": [
      "Epoch [911/5000]: Train loss: 2.6473, Valid loss: 1.0819\n",
      "Epoch [911/5000]: Train r2_score: 0.9349, Valid r2_score: 0.9741\n",
      "Epoch [911/5000]: Train smape: 13.7933, Valid smape: 10.3005\n",
      "\n"
     ]
    },
    {
     "name": "stderr",
     "output_type": "stream",
     "text": [
      "Epoch [912/5000]: 100%|██████████████████████████████████████████████████████| 9/9 [00:00<00:00, 204.97it/s, loss=2.39]\n"
     ]
    },
    {
     "name": "stdout",
     "output_type": "stream",
     "text": [
      "Epoch [912/5000]: Train loss: 2.6526, Valid loss: 1.2099\n",
      "Epoch [912/5000]: Train r2_score: 0.9342, Valid r2_score: 0.9735\n",
      "Epoch [912/5000]: Train smape: 13.9837, Valid smape: 10.3485\n",
      "\n"
     ]
    },
    {
     "name": "stderr",
     "output_type": "stream",
     "text": [
      "Epoch [913/5000]: 100%|██████████████████████████████████████████████████████| 9/9 [00:00<00:00, 218.18it/s, loss=2.12]\n"
     ]
    },
    {
     "name": "stdout",
     "output_type": "stream",
     "text": [
      "Epoch [913/5000]: Train loss: 2.4358, Valid loss: 1.0324\n",
      "Epoch [913/5000]: Train r2_score: 0.9395, Valid r2_score: 0.9728\n",
      "Epoch [913/5000]: Train smape: 13.5259, Valid smape: 10.3984\n",
      "\n"
     ]
    },
    {
     "name": "stderr",
     "output_type": "stream",
     "text": [
      "Epoch [914/5000]: 100%|██████████████████████████████████████████████████████| 9/9 [00:00<00:00, 195.59it/s, loss=2.66]\n"
     ]
    },
    {
     "name": "stdout",
     "output_type": "stream",
     "text": [
      "Epoch [914/5000]: Train loss: 2.6206, Valid loss: 1.2060\n",
      "Epoch [914/5000]: Train r2_score: 0.9355, Valid r2_score: 0.9727\n",
      "Epoch [914/5000]: Train smape: 13.6475, Valid smape: 10.4087\n",
      "\n"
     ]
    },
    {
     "name": "stderr",
     "output_type": "stream",
     "text": [
      "Epoch [915/5000]: 100%|██████████████████████████████████████████████████████| 9/9 [00:00<00:00, 230.51it/s, loss=2.03]\n"
     ]
    },
    {
     "name": "stdout",
     "output_type": "stream",
     "text": [
      "Epoch [915/5000]: Train loss: 2.6645, Valid loss: 1.2915\n",
      "Epoch [915/5000]: Train r2_score: 0.9333, Valid r2_score: 0.9726\n",
      "Epoch [915/5000]: Train smape: 13.5266, Valid smape: 10.4212\n",
      "\n"
     ]
    },
    {
     "name": "stderr",
     "output_type": "stream",
     "text": [
      "Epoch [916/5000]: 100%|██████████████████████████████████████████████████████| 9/9 [00:00<00:00, 237.43it/s, loss=5.94]\n"
     ]
    },
    {
     "name": "stdout",
     "output_type": "stream",
     "text": [
      "Epoch [916/5000]: Train loss: 3.0437, Valid loss: 1.1817\n",
      "Epoch [916/5000]: Train r2_score: 0.9297, Valid r2_score: 0.9729\n",
      "Epoch [916/5000]: Train smape: 13.6456, Valid smape: 10.3904\n",
      "\n"
     ]
    },
    {
     "name": "stderr",
     "output_type": "stream",
     "text": [
      "Epoch [917/5000]: 100%|██████████████████████████████████████████████████████| 9/9 [00:00<00:00, 237.22it/s, loss=3.17]\n"
     ]
    },
    {
     "name": "stdout",
     "output_type": "stream",
     "text": [
      "Epoch [917/5000]: Train loss: 2.6378, Valid loss: 1.0280\n",
      "Epoch [917/5000]: Train r2_score: 0.9359, Valid r2_score: 0.9740\n",
      "Epoch [917/5000]: Train smape: 14.2482, Valid smape: 10.3526\n",
      "\n"
     ]
    },
    {
     "name": "stderr",
     "output_type": "stream",
     "text": [
      "Epoch [918/5000]: 100%|██████████████████████████████████████████████████████| 9/9 [00:00<00:00, 225.74it/s, loss=2.37]\n"
     ]
    },
    {
     "name": "stdout",
     "output_type": "stream",
     "text": [
      "Epoch [918/5000]: Train loss: 2.5316, Valid loss: 1.2626\n",
      "Epoch [918/5000]: Train r2_score: 0.9373, Valid r2_score: 0.9743\n",
      "Epoch [918/5000]: Train smape: 13.6786, Valid smape: 10.3178\n",
      "\n"
     ]
    },
    {
     "name": "stderr",
     "output_type": "stream",
     "text": [
      "Epoch [919/5000]: 100%|██████████████████████████████████████████████████████| 9/9 [00:00<00:00, 223.78it/s, loss=3.28]\n"
     ]
    },
    {
     "name": "stdout",
     "output_type": "stream",
     "text": [
      "Epoch [919/5000]: Train loss: 2.6075, Valid loss: 1.1444\n",
      "Epoch [919/5000]: Train r2_score: 0.9368, Valid r2_score: 0.9741\n",
      "Epoch [919/5000]: Train smape: 13.7354, Valid smape: 10.3353\n",
      "\n"
     ]
    },
    {
     "name": "stderr",
     "output_type": "stream",
     "text": [
      "Epoch [920/5000]: 100%|██████████████████████████████████████████████████████| 9/9 [00:00<00:00, 219.94it/s, loss=2.06]\n"
     ]
    },
    {
     "name": "stdout",
     "output_type": "stream",
     "text": [
      "Epoch [920/5000]: Train loss: 2.5793, Valid loss: 1.3222\n",
      "Epoch [920/5000]: Train r2_score: 0.9356, Valid r2_score: 0.9728\n",
      "Epoch [920/5000]: Train smape: 13.8947, Valid smape: 10.4000\n",
      "\n"
     ]
    },
    {
     "name": "stderr",
     "output_type": "stream",
     "text": [
      "Epoch [921/5000]: 100%|██████████████████████████████████████████████████████| 9/9 [00:00<00:00, 233.19it/s, loss=3.49]\n"
     ]
    },
    {
     "name": "stdout",
     "output_type": "stream",
     "text": [
      "Epoch [921/5000]: Train loss: 2.7756, Valid loss: 1.3214\n",
      "Epoch [921/5000]: Train r2_score: 0.9328, Valid r2_score: 0.9738\n",
      "Epoch [921/5000]: Train smape: 13.7101, Valid smape: 10.3362\n",
      "\n"
     ]
    },
    {
     "name": "stderr",
     "output_type": "stream",
     "text": [
      "Epoch [922/5000]: 100%|██████████████████████████████████████████████████████| 9/9 [00:00<00:00, 236.45it/s, loss=3.29]\n"
     ]
    },
    {
     "name": "stdout",
     "output_type": "stream",
     "text": [
      "Epoch [922/5000]: Train loss: 2.7716, Valid loss: 1.0267\n",
      "Epoch [922/5000]: Train r2_score: 0.9325, Valid r2_score: 0.9730\n",
      "Epoch [922/5000]: Train smape: 13.9429, Valid smape: 10.4023\n",
      "\n"
     ]
    },
    {
     "name": "stderr",
     "output_type": "stream",
     "text": [
      "Epoch [923/5000]: 100%|██████████████████████████████████████████████████████| 9/9 [00:00<00:00, 220.41it/s, loss=2.26]\n"
     ]
    },
    {
     "name": "stdout",
     "output_type": "stream",
     "text": [
      "Epoch [923/5000]: Train loss: 2.4845, Valid loss: 1.3666\n",
      "Epoch [923/5000]: Train r2_score: 0.9384, Valid r2_score: 0.9731\n",
      "Epoch [923/5000]: Train smape: 13.5696, Valid smape: 10.3777\n",
      "\n"
     ]
    },
    {
     "name": "stderr",
     "output_type": "stream",
     "text": [
      "Epoch [924/5000]: 100%|██████████████████████████████████████████████████████| 9/9 [00:00<00:00, 219.75it/s, loss=2.12]"
     ]
    },
    {
     "name": "stdout",
     "output_type": "stream",
     "text": [
      "Epoch [924/5000]: Train loss: 2.4404, Valid loss: 1.0865\n",
      "Epoch [924/5000]: Train r2_score: 0.9393, Valid r2_score: 0.9734\n",
      "Epoch [924/5000]: Train smape: 13.3678, Valid smape: 10.3644\n",
      "\n"
     ]
    },
    {
     "name": "stderr",
     "output_type": "stream",
     "text": [
      "\n",
      "Epoch [925/5000]: 100%|██████████████████████████████████████████████████████| 9/9 [00:00<00:00, 220.76it/s, loss=4.85]\n"
     ]
    },
    {
     "name": "stdout",
     "output_type": "stream",
     "text": [
      "Epoch [925/5000]: Train loss: 2.9794, Valid loss: 1.1934\n",
      "Epoch [925/5000]: Train r2_score: 0.9296, Valid r2_score: 0.9739\n",
      "Epoch [925/5000]: Train smape: 14.1172, Valid smape: 10.3326\n",
      "\n"
     ]
    },
    {
     "name": "stderr",
     "output_type": "stream",
     "text": [
      "Epoch [926/5000]: 100%|██████████████████████████████████████████████████████| 9/9 [00:00<00:00, 225.28it/s, loss=2.39]\n"
     ]
    },
    {
     "name": "stdout",
     "output_type": "stream",
     "text": [
      "Epoch [926/5000]: Train loss: 2.8241, Valid loss: 1.0979\n",
      "Epoch [926/5000]: Train r2_score: 0.9297, Valid r2_score: 0.9739\n",
      "Epoch [926/5000]: Train smape: 14.1533, Valid smape: 10.3404\n",
      "\n"
     ]
    },
    {
     "name": "stderr",
     "output_type": "stream",
     "text": [
      "Epoch [927/5000]: 100%|███████████████████████████████████████████████████████| 9/9 [00:00<00:00, 228.57it/s, loss=2.9]\n"
     ]
    },
    {
     "name": "stdout",
     "output_type": "stream",
     "text": [
      "Epoch [927/5000]: Train loss: 2.6567, Valid loss: 1.1049\n",
      "Epoch [927/5000]: Train r2_score: 0.9349, Valid r2_score: 0.9737\n",
      "Epoch [927/5000]: Train smape: 13.7041, Valid smape: 10.3393\n",
      "\n"
     ]
    },
    {
     "name": "stderr",
     "output_type": "stream",
     "text": [
      "Epoch [928/5000]: 100%|██████████████████████████████████████████████████████| 9/9 [00:00<00:00, 248.37it/s, loss=2.53]\n"
     ]
    },
    {
     "name": "stdout",
     "output_type": "stream",
     "text": [
      "Epoch [928/5000]: Train loss: 2.6778, Valid loss: 1.2371\n",
      "Epoch [928/5000]: Train r2_score: 0.9338, Valid r2_score: 0.9730\n",
      "Epoch [928/5000]: Train smape: 13.7426, Valid smape: 10.4003\n",
      "\n"
     ]
    },
    {
     "name": "stderr",
     "output_type": "stream",
     "text": [
      "Epoch [929/5000]: 100%|██████████████████████████████████████████████████████| 9/9 [00:00<00:00, 231.90it/s, loss=2.01]"
     ]
    },
    {
     "name": "stdout",
     "output_type": "stream",
     "text": [
      "Epoch [929/5000]: Train loss: 2.6774, Valid loss: 1.1640\n",
      "Epoch [929/5000]: Train r2_score: 0.9329, Valid r2_score: 0.9737\n",
      "Epoch [929/5000]: Train smape: 13.8694, Valid smape: 10.3435\n",
      "\n"
     ]
    },
    {
     "name": "stderr",
     "output_type": "stream",
     "text": [
      "\n",
      "Epoch [930/5000]: 100%|██████████████████████████████████████████████████████| 9/9 [00:00<00:00, 219.97it/s, loss=2.79]\n"
     ]
    },
    {
     "name": "stdout",
     "output_type": "stream",
     "text": [
      "Epoch [930/5000]: Train loss: 2.7186, Valid loss: 1.1301\n",
      "Epoch [930/5000]: Train r2_score: 0.9331, Valid r2_score: 0.9738\n",
      "Epoch [930/5000]: Train smape: 13.5397, Valid smape: 10.3339\n",
      "\n"
     ]
    },
    {
     "name": "stderr",
     "output_type": "stream",
     "text": [
      "Epoch [931/5000]: 100%|██████████████████████████████████████████████████████| 9/9 [00:00<00:00, 209.09it/s, loss=2.52]\n"
     ]
    },
    {
     "name": "stdout",
     "output_type": "stream",
     "text": [
      "Epoch [931/5000]: Train loss: 2.5063, Valid loss: 1.0688\n",
      "Epoch [931/5000]: Train r2_score: 0.9382, Valid r2_score: 0.9743\n",
      "Epoch [931/5000]: Train smape: 13.5819, Valid smape: 10.3096\n",
      "\n"
     ]
    },
    {
     "name": "stderr",
     "output_type": "stream",
     "text": [
      "Epoch [932/5000]: 100%|██████████████████████████████████████████████████████| 9/9 [00:00<00:00, 214.27it/s, loss=2.27]\n"
     ]
    },
    {
     "name": "stdout",
     "output_type": "stream",
     "text": [
      "Epoch [932/5000]: Train loss: 2.4728, Valid loss: 1.2869\n",
      "Epoch [932/5000]: Train r2_score: 0.9387, Valid r2_score: 0.9744\n",
      "Epoch [932/5000]: Train smape: 13.5984, Valid smape: 10.2950\n",
      "\n"
     ]
    },
    {
     "name": "stderr",
     "output_type": "stream",
     "text": [
      "Epoch [933/5000]: 100%|██████████████████████████████████████████████████████| 9/9 [00:00<00:00, 224.52it/s, loss=2.78]\n"
     ]
    },
    {
     "name": "stdout",
     "output_type": "stream",
     "text": [
      "Epoch [933/5000]: Train loss: 2.5948, Valid loss: 1.0649\n",
      "Epoch [933/5000]: Train r2_score: 0.9364, Valid r2_score: 0.9729\n",
      "Epoch [933/5000]: Train smape: 13.5549, Valid smape: 10.4140\n",
      "\n"
     ]
    },
    {
     "name": "stderr",
     "output_type": "stream",
     "text": [
      "Epoch [934/5000]: 100%|██████████████████████████████████████████████████████| 9/9 [00:00<00:00, 240.27it/s, loss=3.46]\n"
     ]
    },
    {
     "name": "stdout",
     "output_type": "stream",
     "text": [
      "Epoch [934/5000]: Train loss: 2.8686, Valid loss: 1.2343\n",
      "Epoch [934/5000]: Train r2_score: 0.9303, Valid r2_score: 0.9725\n",
      "Epoch [934/5000]: Train smape: 13.9977, Valid smape: 10.4441\n",
      "\n"
     ]
    },
    {
     "name": "stderr",
     "output_type": "stream",
     "text": [
      "Epoch [935/5000]: 100%|███████████████████████████████████████████████████████| 9/9 [00:00<00:00, 244.62it/s, loss=2.3]\n"
     ]
    },
    {
     "name": "stdout",
     "output_type": "stream",
     "text": [
      "Epoch [935/5000]: Train loss: 2.5032, Valid loss: 1.0258\n",
      "Epoch [935/5000]: Train r2_score: 0.9380, Valid r2_score: 0.9734\n",
      "Epoch [935/5000]: Train smape: 13.3576, Valid smape: 10.3655\n",
      "\n"
     ]
    },
    {
     "name": "stderr",
     "output_type": "stream",
     "text": [
      "Epoch [936/5000]: 100%|██████████████████████████████████████████████████████| 9/9 [00:00<00:00, 235.36it/s, loss=3.04]\n"
     ]
    },
    {
     "name": "stdout",
     "output_type": "stream",
     "text": [
      "Epoch [936/5000]: Train loss: 2.7201, Valid loss: 0.9547\n",
      "Epoch [936/5000]: Train r2_score: 0.9335, Valid r2_score: 0.9744\n",
      "Epoch [936/5000]: Train smape: 14.2828, Valid smape: 10.3199\n",
      "\n"
     ]
    },
    {
     "name": "stderr",
     "output_type": "stream",
     "text": [
      "Epoch [937/5000]: 100%|██████████████████████████████████████████████████████| 9/9 [00:00<00:00, 235.84it/s, loss=2.18]\n"
     ]
    },
    {
     "name": "stdout",
     "output_type": "stream",
     "text": [
      "Epoch [937/5000]: Train loss: 2.4372, Valid loss: 1.2908\n",
      "Epoch [937/5000]: Train r2_score: 0.9395, Valid r2_score: 0.9736\n",
      "Epoch [937/5000]: Train smape: 13.5570, Valid smape: 10.3345\n",
      "\n"
     ]
    },
    {
     "name": "stderr",
     "output_type": "stream",
     "text": [
      "Epoch [938/5000]: 100%|██████████████████████████████████████████████████████| 9/9 [00:00<00:00, 242.68it/s, loss=3.23]\n"
     ]
    },
    {
     "name": "stdout",
     "output_type": "stream",
     "text": [
      "Epoch [938/5000]: Train loss: 2.6377, Valid loss: 1.1920\n",
      "Epoch [938/5000]: Train r2_score: 0.9360, Valid r2_score: 0.9742\n",
      "Epoch [938/5000]: Train smape: 13.7306, Valid smape: 10.3017\n",
      "\n"
     ]
    },
    {
     "name": "stderr",
     "output_type": "stream",
     "text": [
      "Epoch [939/5000]: 100%|██████████████████████████████████████████████████████| 9/9 [00:00<00:00, 204.28it/s, loss=2.98]\n"
     ]
    },
    {
     "name": "stdout",
     "output_type": "stream",
     "text": [
      "Epoch [939/5000]: Train loss: 2.7427, Valid loss: 1.2352\n",
      "Epoch [939/5000]: Train r2_score: 0.9328, Valid r2_score: 0.9731\n",
      "Epoch [939/5000]: Train smape: 14.0475, Valid smape: 10.3863\n",
      "\n"
     ]
    },
    {
     "name": "stderr",
     "output_type": "stream",
     "text": [
      "Epoch [940/5000]: 100%|██████████████████████████████████████████████████████| 9/9 [00:00<00:00, 224.09it/s, loss=2.76]\n"
     ]
    },
    {
     "name": "stdout",
     "output_type": "stream",
     "text": [
      "Epoch [940/5000]: Train loss: 2.5280, Valid loss: 1.1096\n",
      "Epoch [940/5000]: Train r2_score: 0.9381, Valid r2_score: 0.9726\n",
      "Epoch [940/5000]: Train smape: 13.8231, Valid smape: 10.4365\n",
      "\n"
     ]
    },
    {
     "name": "stderr",
     "output_type": "stream",
     "text": [
      "Epoch [941/5000]: 100%|██████████████████████████████████████████████████████| 9/9 [00:00<00:00, 195.65it/s, loss=2.82]\n"
     ]
    },
    {
     "name": "stdout",
     "output_type": "stream",
     "text": [
      "Epoch [941/5000]: Train loss: 2.7164, Valid loss: 1.1999\n",
      "Epoch [941/5000]: Train r2_score: 0.9332, Valid r2_score: 0.9733\n",
      "Epoch [941/5000]: Train smape: 14.1606, Valid smape: 10.3741\n",
      "\n"
     ]
    },
    {
     "name": "stderr",
     "output_type": "stream",
     "text": [
      "Epoch [942/5000]: 100%|██████████████████████████████████████████████████████| 9/9 [00:00<00:00, 236.78it/s, loss=2.19]\n"
     ]
    },
    {
     "name": "stdout",
     "output_type": "stream",
     "text": [
      "Epoch [942/5000]: Train loss: 2.4908, Valid loss: 1.1454\n",
      "Epoch [942/5000]: Train r2_score: 0.9381, Valid r2_score: 0.9735\n",
      "Epoch [942/5000]: Train smape: 13.5818, Valid smape: 10.3587\n",
      "\n"
     ]
    },
    {
     "name": "stderr",
     "output_type": "stream",
     "text": [
      "Epoch [943/5000]: 100%|██████████████████████████████████████████████████████| 9/9 [00:00<00:00, 220.95it/s, loss=3.77]\n"
     ]
    },
    {
     "name": "stdout",
     "output_type": "stream",
     "text": [
      "Epoch [943/5000]: Train loss: 2.7164, Valid loss: 1.0563\n",
      "Epoch [943/5000]: Train r2_score: 0.9348, Valid r2_score: 0.9728\n",
      "Epoch [943/5000]: Train smape: 13.9406, Valid smape: 10.3962\n",
      "\n"
     ]
    },
    {
     "name": "stderr",
     "output_type": "stream",
     "text": [
      "Epoch [944/5000]: 100%|██████████████████████████████████████████████████████| 9/9 [00:00<00:00, 227.17it/s, loss=2.44]\n"
     ]
    },
    {
     "name": "stdout",
     "output_type": "stream",
     "text": [
      "Epoch [944/5000]: Train loss: 2.4912, Valid loss: 1.3265\n",
      "Epoch [944/5000]: Train r2_score: 0.9385, Valid r2_score: 0.9735\n",
      "Epoch [944/5000]: Train smape: 13.2787, Valid smape: 10.3436\n",
      "\n"
     ]
    },
    {
     "name": "stderr",
     "output_type": "stream",
     "text": [
      "Epoch [945/5000]: 100%|██████████████████████████████████████████████████████| 9/9 [00:00<00:00, 202.41it/s, loss=3.64]\n"
     ]
    },
    {
     "name": "stdout",
     "output_type": "stream",
     "text": [
      "Epoch [945/5000]: Train loss: 2.7926, Valid loss: 1.0748\n",
      "Epoch [945/5000]: Train r2_score: 0.9326, Valid r2_score: 0.9733\n",
      "Epoch [945/5000]: Train smape: 13.8247, Valid smape: 10.3887\n",
      "\n"
     ]
    },
    {
     "name": "stderr",
     "output_type": "stream",
     "text": [
      "Epoch [946/5000]: 100%|██████████████████████████████████████████████████████| 9/9 [00:00<00:00, 207.77it/s, loss=3.15]\n"
     ]
    },
    {
     "name": "stdout",
     "output_type": "stream",
     "text": [
      "Epoch [946/5000]: Train loss: 2.8423, Valid loss: 1.3921\n",
      "Epoch [946/5000]: Train r2_score: 0.9304, Valid r2_score: 0.9741\n",
      "Epoch [946/5000]: Train smape: 14.2730, Valid smape: 10.3295\n",
      "\n"
     ]
    },
    {
     "name": "stderr",
     "output_type": "stream",
     "text": [
      "Epoch [947/5000]: 100%|██████████████████████████████████████████████████████| 9/9 [00:00<00:00, 187.27it/s, loss=2.39]\n"
     ]
    },
    {
     "name": "stdout",
     "output_type": "stream",
     "text": [
      "Epoch [947/5000]: Train loss: 2.5801, Valid loss: 1.3194\n",
      "Epoch [947/5000]: Train r2_score: 0.9361, Valid r2_score: 0.9741\n",
      "Epoch [947/5000]: Train smape: 13.5878, Valid smape: 10.3192\n",
      "\n"
     ]
    },
    {
     "name": "stderr",
     "output_type": "stream",
     "text": [
      "Epoch [948/5000]: 100%|██████████████████████████████████████████████████████| 9/9 [00:00<00:00, 209.57it/s, loss=3.55]\n"
     ]
    },
    {
     "name": "stdout",
     "output_type": "stream",
     "text": [
      "Epoch [948/5000]: Train loss: 2.6726, Valid loss: 1.0919\n",
      "Epoch [948/5000]: Train r2_score: 0.9356, Valid r2_score: 0.9733\n",
      "Epoch [948/5000]: Train smape: 13.6841, Valid smape: 10.3766\n",
      "\n"
     ]
    },
    {
     "name": "stderr",
     "output_type": "stream",
     "text": [
      "Epoch [949/5000]: 100%|██████████████████████████████████████████████████████| 9/9 [00:00<00:00, 219.94it/s, loss=2.24]\n"
     ]
    },
    {
     "name": "stdout",
     "output_type": "stream",
     "text": [
      "Epoch [949/5000]: Train loss: 2.6275, Valid loss: 1.1862\n",
      "Epoch [949/5000]: Train r2_score: 0.9346, Valid r2_score: 0.9743\n",
      "Epoch [949/5000]: Train smape: 13.6224, Valid smape: 10.3014\n",
      "\n"
     ]
    },
    {
     "name": "stderr",
     "output_type": "stream",
     "text": [
      "Epoch [950/5000]: 100%|██████████████████████████████████████████████████████| 9/9 [00:00<00:00, 200.79it/s, loss=3.37]\n"
     ]
    },
    {
     "name": "stdout",
     "output_type": "stream",
     "text": [
      "Epoch [950/5000]: Train loss: 2.6521, Valid loss: 1.0126\n",
      "Epoch [950/5000]: Train r2_score: 0.9358, Valid r2_score: 0.9734\n",
      "Epoch [950/5000]: Train smape: 13.6323, Valid smape: 10.3733\n",
      "\n"
     ]
    },
    {
     "name": "stderr",
     "output_type": "stream",
     "text": [
      "Epoch [951/5000]: 100%|██████████████████████████████████████████████████████| 9/9 [00:00<00:00, 236.15it/s, loss=2.73]\n"
     ]
    },
    {
     "name": "stdout",
     "output_type": "stream",
     "text": [
      "Epoch [951/5000]: Train loss: 2.6077, Valid loss: 1.0921\n",
      "Epoch [951/5000]: Train r2_score: 0.9359, Valid r2_score: 0.9730\n",
      "Epoch [951/5000]: Train smape: 13.5090, Valid smape: 10.3773\n",
      "\n"
     ]
    },
    {
     "name": "stderr",
     "output_type": "stream",
     "text": [
      "Epoch [952/5000]: 100%|██████████████████████████████████████████████████████| 9/9 [00:00<00:00, 212.68it/s, loss=2.49]\n"
     ]
    },
    {
     "name": "stdout",
     "output_type": "stream",
     "text": [
      "Epoch [952/5000]: Train loss: 2.6185, Valid loss: 1.0553\n",
      "Epoch [952/5000]: Train r2_score: 0.9353, Valid r2_score: 0.9736\n",
      "Epoch [952/5000]: Train smape: 13.4927, Valid smape: 10.3445\n",
      "\n"
     ]
    },
    {
     "name": "stderr",
     "output_type": "stream",
     "text": [
      "Epoch [953/5000]: 100%|██████████████████████████████████████████████████████| 9/9 [00:00<00:00, 218.29it/s, loss=3.72]\n"
     ]
    },
    {
     "name": "stdout",
     "output_type": "stream",
     "text": [
      "Epoch [953/5000]: Train loss: 2.6280, Valid loss: 1.1967\n",
      "Epoch [953/5000]: Train r2_score: 0.9370, Valid r2_score: 0.9724\n",
      "Epoch [953/5000]: Train smape: 13.7507, Valid smape: 10.4238\n",
      "\n"
     ]
    },
    {
     "name": "stderr",
     "output_type": "stream",
     "text": [
      "Epoch [954/5000]: 100%|██████████████████████████████████████████████████████| 9/9 [00:00<00:00, 213.08it/s, loss=2.47]\n"
     ]
    },
    {
     "name": "stdout",
     "output_type": "stream",
     "text": [
      "Epoch [954/5000]: Train loss: 2.7874, Valid loss: 1.0396\n",
      "Epoch [954/5000]: Train r2_score: 0.9308, Valid r2_score: 0.9731\n",
      "Epoch [954/5000]: Train smape: 13.9791, Valid smape: 10.3815\n",
      "\n"
     ]
    },
    {
     "name": "stderr",
     "output_type": "stream",
     "text": [
      "Epoch [955/5000]: 100%|███████████████████████████████████████████████████████| 9/9 [00:00<00:00, 225.02it/s, loss=2.3]\n"
     ]
    },
    {
     "name": "stdout",
     "output_type": "stream",
     "text": [
      "Epoch [955/5000]: Train loss: 2.5860, Valid loss: 1.3234\n",
      "Epoch [955/5000]: Train r2_score: 0.9358, Valid r2_score: 0.9729\n",
      "Epoch [955/5000]: Train smape: 13.4449, Valid smape: 10.3899\n",
      "\n"
     ]
    },
    {
     "name": "stderr",
     "output_type": "stream",
     "text": [
      "Epoch [956/5000]: 100%|██████████████████████████████████████████████████████| 9/9 [00:00<00:00, 220.38it/s, loss=3.43]\n"
     ]
    },
    {
     "name": "stdout",
     "output_type": "stream",
     "text": [
      "Epoch [956/5000]: Train loss: 2.8292, Valid loss: 1.1569\n",
      "Epoch [956/5000]: Train r2_score: 0.9313, Valid r2_score: 0.9734\n",
      "Epoch [956/5000]: Train smape: 13.7611, Valid smape: 10.3607\n",
      "\n"
     ]
    },
    {
     "name": "stderr",
     "output_type": "stream",
     "text": [
      "Epoch [957/5000]: 100%|██████████████████████████████████████████████████████| 9/9 [00:00<00:00, 234.89it/s, loss=2.72]\n"
     ]
    },
    {
     "name": "stdout",
     "output_type": "stream",
     "text": [
      "Epoch [957/5000]: Train loss: 2.6195, Valid loss: 0.9894\n",
      "Epoch [957/5000]: Train r2_score: 0.9356, Valid r2_score: 0.9741\n",
      "Epoch [957/5000]: Train smape: 13.8045, Valid smape: 10.3208\n",
      "\n"
     ]
    },
    {
     "name": "stderr",
     "output_type": "stream",
     "text": [
      "Epoch [958/5000]: 100%|██████████████████████████████████████████████████████| 9/9 [00:00<00:00, 212.67it/s, loss=3.05]\n"
     ]
    },
    {
     "name": "stdout",
     "output_type": "stream",
     "text": [
      "Epoch [958/5000]: Train loss: 2.4742, Valid loss: 1.2620\n",
      "Epoch [958/5000]: Train r2_score: 0.9400, Valid r2_score: 0.9736\n",
      "Epoch [958/5000]: Train smape: 13.5227, Valid smape: 10.3421\n",
      "\n"
     ]
    },
    {
     "name": "stderr",
     "output_type": "stream",
     "text": [
      "Epoch [959/5000]: 100%|██████████████████████████████████████████████████████| 9/9 [00:00<00:00, 231.53it/s, loss=3.46]\n"
     ]
    },
    {
     "name": "stdout",
     "output_type": "stream",
     "text": [
      "Epoch [959/5000]: Train loss: 2.6601, Valid loss: 1.2978\n",
      "Epoch [959/5000]: Train r2_score: 0.9358, Valid r2_score: 0.9730\n",
      "Epoch [959/5000]: Train smape: 13.6698, Valid smape: 10.3945\n",
      "\n"
     ]
    },
    {
     "name": "stderr",
     "output_type": "stream",
     "text": [
      "Epoch [960/5000]: 100%|██████████████████████████████████████████████████████| 9/9 [00:00<00:00, 224.44it/s, loss=2.74]\n"
     ]
    },
    {
     "name": "stdout",
     "output_type": "stream",
     "text": [
      "Epoch [960/5000]: Train loss: 2.6910, Valid loss: 1.1715\n",
      "Epoch [960/5000]: Train r2_score: 0.9337, Valid r2_score: 0.9740\n",
      "Epoch [960/5000]: Train smape: 13.6757, Valid smape: 10.3172\n",
      "\n"
     ]
    },
    {
     "name": "stderr",
     "output_type": "stream",
     "text": [
      "Epoch [961/5000]: 100%|██████████████████████████████████████████████████████| 9/9 [00:00<00:00, 224.57it/s, loss=3.73]\n"
     ]
    },
    {
     "name": "stdout",
     "output_type": "stream",
     "text": [
      "Epoch [961/5000]: Train loss: 2.6848, Valid loss: 1.3074\n",
      "Epoch [961/5000]: Train r2_score: 0.9356, Valid r2_score: 0.9733\n",
      "Epoch [961/5000]: Train smape: 13.5846, Valid smape: 10.3693\n",
      "\n"
     ]
    },
    {
     "name": "stderr",
     "output_type": "stream",
     "text": [
      "Epoch [962/5000]: 100%|██████████████████████████████████████████████████████| 9/9 [00:00<00:00, 225.59it/s, loss=2.94]\n"
     ]
    },
    {
     "name": "stdout",
     "output_type": "stream",
     "text": [
      "Epoch [962/5000]: Train loss: 2.6049, Valid loss: 0.9874\n",
      "Epoch [962/5000]: Train r2_score: 0.9363, Valid r2_score: 0.9741\n",
      "Epoch [962/5000]: Train smape: 13.4028, Valid smape: 10.3146\n",
      "\n"
     ]
    },
    {
     "name": "stderr",
     "output_type": "stream",
     "text": [
      "Epoch [963/5000]: 100%|██████████████████████████████████████████████████████| 9/9 [00:00<00:00, 228.73it/s, loss=2.78]\n"
     ]
    },
    {
     "name": "stdout",
     "output_type": "stream",
     "text": [
      "Epoch [963/5000]: Train loss: 2.8076, Valid loss: 1.2362\n",
      "Epoch [963/5000]: Train r2_score: 0.9308, Valid r2_score: 0.9739\n",
      "Epoch [963/5000]: Train smape: 14.1085, Valid smape: 10.3249\n",
      "\n"
     ]
    },
    {
     "name": "stderr",
     "output_type": "stream",
     "text": [
      "Epoch [964/5000]: 100%|██████████████████████████████████████████████████████| 9/9 [00:00<00:00, 171.51it/s, loss=2.31]\n"
     ]
    },
    {
     "name": "stdout",
     "output_type": "stream",
     "text": [
      "Epoch [964/5000]: Train loss: 2.7965, Valid loss: 1.3284\n",
      "Epoch [964/5000]: Train r2_score: 0.9303, Valid r2_score: 0.9739\n",
      "Epoch [964/5000]: Train smape: 14.5321, Valid smape: 10.3277\n",
      "\n"
     ]
    },
    {
     "name": "stderr",
     "output_type": "stream",
     "text": [
      "Epoch [965/5000]: 100%|██████████████████████████████████████████████████████| 9/9 [00:00<00:00, 193.95it/s, loss=3.03]\n"
     ]
    },
    {
     "name": "stdout",
     "output_type": "stream",
     "text": [
      "Epoch [965/5000]: Train loss: 2.7649, Valid loss: 1.1735\n",
      "Epoch [965/5000]: Train r2_score: 0.9323, Valid r2_score: 0.9735\n",
      "Epoch [965/5000]: Train smape: 14.2757, Valid smape: 10.3601\n",
      "\n"
     ]
    },
    {
     "name": "stderr",
     "output_type": "stream",
     "text": [
      "Epoch [966/5000]: 100%|██████████████████████████████████████████████████████| 9/9 [00:00<00:00, 202.54it/s, loss=2.76]\n"
     ]
    },
    {
     "name": "stdout",
     "output_type": "stream",
     "text": [
      "Epoch [966/5000]: Train loss: 2.8032, Valid loss: 1.2726\n",
      "Epoch [966/5000]: Train r2_score: 0.9308, Valid r2_score: 0.9741\n",
      "Epoch [966/5000]: Train smape: 14.3495, Valid smape: 10.3332\n",
      "\n"
     ]
    },
    {
     "name": "stderr",
     "output_type": "stream",
     "text": [
      "Epoch [967/5000]: 100%|██████████████████████████████████████████████████████| 9/9 [00:00<00:00, 209.14it/s, loss=3.49]\n"
     ]
    },
    {
     "name": "stdout",
     "output_type": "stream",
     "text": [
      "Epoch [967/5000]: Train loss: 2.6644, Valid loss: 1.1263\n",
      "Epoch [967/5000]: Train r2_score: 0.9357, Valid r2_score: 0.9739\n",
      "Epoch [967/5000]: Train smape: 13.4652, Valid smape: 10.3453\n",
      "\n"
     ]
    },
    {
     "name": "stderr",
     "output_type": "stream",
     "text": [
      "Epoch [968/5000]: 100%|██████████████████████████████████████████████████████| 9/9 [00:00<00:00, 212.39it/s, loss=3.64]\n"
     ]
    },
    {
     "name": "stdout",
     "output_type": "stream",
     "text": [
      "Epoch [968/5000]: Train loss: 2.6063, Valid loss: 1.1244\n",
      "Epoch [968/5000]: Train r2_score: 0.9375, Valid r2_score: 0.9741\n",
      "Epoch [968/5000]: Train smape: 13.5262, Valid smape: 10.3178\n",
      "\n"
     ]
    },
    {
     "name": "stderr",
     "output_type": "stream",
     "text": [
      "Epoch [969/5000]: 100%|██████████████████████████████████████████████████████| 9/9 [00:00<00:00, 213.66it/s, loss=3.41]\n"
     ]
    },
    {
     "name": "stdout",
     "output_type": "stream",
     "text": [
      "Epoch [969/5000]: Train loss: 2.6345, Valid loss: 1.1815\n",
      "Epoch [969/5000]: Train r2_score: 0.9363, Valid r2_score: 0.9738\n",
      "Epoch [969/5000]: Train smape: 13.8395, Valid smape: 10.3399\n",
      "\n"
     ]
    },
    {
     "name": "stderr",
     "output_type": "stream",
     "text": [
      "Epoch [970/5000]: 100%|██████████████████████████████████████████████████████| 9/9 [00:00<00:00, 202.21it/s, loss=3.91]\n"
     ]
    },
    {
     "name": "stdout",
     "output_type": "stream",
     "text": [
      "Epoch [970/5000]: Train loss: 2.8017, Valid loss: 1.0448\n",
      "Epoch [970/5000]: Train r2_score: 0.9328, Valid r2_score: 0.9744\n",
      "Epoch [970/5000]: Train smape: 14.1190, Valid smape: 10.3328\n",
      "\n"
     ]
    },
    {
     "name": "stderr",
     "output_type": "stream",
     "text": [
      "Epoch [971/5000]: 100%|██████████████████████████████████████████████████████| 9/9 [00:00<00:00, 194.36it/s, loss=2.59]\n"
     ]
    },
    {
     "name": "stdout",
     "output_type": "stream",
     "text": [
      "Epoch [971/5000]: Train loss: 2.4933, Valid loss: 1.1980\n",
      "Epoch [971/5000]: Train r2_score: 0.9387, Valid r2_score: 0.9742\n",
      "Epoch [971/5000]: Train smape: 13.4145, Valid smape: 10.3201\n",
      "\n"
     ]
    },
    {
     "name": "stderr",
     "output_type": "stream",
     "text": [
      "Epoch [972/5000]: 100%|██████████████████████████████████████████████████████| 9/9 [00:00<00:00, 219.52it/s, loss=4.12]\n"
     ]
    },
    {
     "name": "stdout",
     "output_type": "stream",
     "text": [
      "Epoch [972/5000]: Train loss: 2.7375, Valid loss: 1.1308\n",
      "Epoch [972/5000]: Train r2_score: 0.9348, Valid r2_score: 0.9726\n",
      "Epoch [972/5000]: Train smape: 13.8336, Valid smape: 10.4279\n",
      "\n"
     ]
    },
    {
     "name": "stderr",
     "output_type": "stream",
     "text": [
      "Epoch [973/5000]: 100%|██████████████████████████████████████████████████████| 9/9 [00:00<00:00, 215.10it/s, loss=3.01]\n"
     ]
    },
    {
     "name": "stdout",
     "output_type": "stream",
     "text": [
      "Epoch [973/5000]: Train loss: 2.7289, Valid loss: 1.3861\n",
      "Epoch [973/5000]: Train r2_score: 0.9332, Valid r2_score: 0.9738\n",
      "Epoch [973/5000]: Train smape: 13.5857, Valid smape: 10.3391\n",
      "\n"
     ]
    },
    {
     "name": "stderr",
     "output_type": "stream",
     "text": [
      "Epoch [974/5000]: 100%|██████████████████████████████████████████████████████| 9/9 [00:00<00:00, 212.38it/s, loss=2.82]\n"
     ]
    },
    {
     "name": "stdout",
     "output_type": "stream",
     "text": [
      "Epoch [974/5000]: Train loss: 2.5650, Valid loss: 1.0111\n",
      "Epoch [974/5000]: Train r2_score: 0.9372, Valid r2_score: 0.9741\n",
      "Epoch [974/5000]: Train smape: 13.7421, Valid smape: 10.3228\n",
      "\n"
     ]
    },
    {
     "name": "stderr",
     "output_type": "stream",
     "text": [
      "Epoch [975/5000]: 100%|██████████████████████████████████████████████████████| 9/9 [00:00<00:00, 233.22it/s, loss=3.41]\n"
     ]
    },
    {
     "name": "stdout",
     "output_type": "stream",
     "text": [
      "Epoch [975/5000]: Train loss: 2.8435, Valid loss: 1.1732\n",
      "Epoch [975/5000]: Train r2_score: 0.9308, Valid r2_score: 0.9738\n",
      "Epoch [975/5000]: Train smape: 14.0258, Valid smape: 10.3467\n",
      "\n"
     ]
    },
    {
     "name": "stderr",
     "output_type": "stream",
     "text": [
      "Epoch [976/5000]: 100%|██████████████████████████████████████████████████████| 9/9 [00:00<00:00, 237.44it/s, loss=2.17]\n"
     ]
    },
    {
     "name": "stdout",
     "output_type": "stream",
     "text": [
      "Epoch [976/5000]: Train loss: 2.6546, Valid loss: 1.0137\n",
      "Epoch [976/5000]: Train r2_score: 0.9338, Valid r2_score: 0.9735\n",
      "Epoch [976/5000]: Train smape: 14.0305, Valid smape: 10.3909\n",
      "\n"
     ]
    },
    {
     "name": "stderr",
     "output_type": "stream",
     "text": [
      "Epoch [977/5000]: 100%|██████████████████████████████████████████████████████| 9/9 [00:00<00:00, 220.15it/s, loss=2.21]\n"
     ]
    },
    {
     "name": "stdout",
     "output_type": "stream",
     "text": [
      "Epoch [977/5000]: Train loss: 2.4025, Valid loss: 1.2637\n",
      "Epoch [977/5000]: Train r2_score: 0.9405, Valid r2_score: 0.9736\n",
      "Epoch [977/5000]: Train smape: 13.7246, Valid smape: 10.3531\n",
      "\n"
     ]
    },
    {
     "name": "stderr",
     "output_type": "stream",
     "text": [
      "Epoch [978/5000]: 100%|██████████████████████████████████████████████████████| 9/9 [00:00<00:00, 214.60it/s, loss=2.02]\n"
     ]
    },
    {
     "name": "stdout",
     "output_type": "stream",
     "text": [
      "Epoch [978/5000]: Train loss: 2.6496, Valid loss: 1.1426\n",
      "Epoch [978/5000]: Train r2_score: 0.9337, Valid r2_score: 0.9741\n",
      "Epoch [978/5000]: Train smape: 13.7209, Valid smape: 10.3114\n",
      "\n"
     ]
    },
    {
     "name": "stderr",
     "output_type": "stream",
     "text": [
      "Epoch [979/5000]: 100%|██████████████████████████████████████████████████████| 9/9 [00:00<00:00, 223.66it/s, loss=2.31]\n"
     ]
    },
    {
     "name": "stdout",
     "output_type": "stream",
     "text": [
      "Epoch [979/5000]: Train loss: 2.4565, Valid loss: 1.2052\n",
      "Epoch [979/5000]: Train r2_score: 0.9392, Valid r2_score: 0.9739\n",
      "Epoch [979/5000]: Train smape: 13.1853, Valid smape: 10.3278\n",
      "\n"
     ]
    },
    {
     "name": "stderr",
     "output_type": "stream",
     "text": [
      "Epoch [980/5000]: 100%|██████████████████████████████████████████████████████| 9/9 [00:00<00:00, 195.76it/s, loss=3.04]\n"
     ]
    },
    {
     "name": "stdout",
     "output_type": "stream",
     "text": [
      "Epoch [980/5000]: Train loss: 2.7594, Valid loss: 1.0335\n",
      "Epoch [980/5000]: Train r2_score: 0.9324, Valid r2_score: 0.9741\n",
      "Epoch [980/5000]: Train smape: 14.0319, Valid smape: 10.3101\n",
      "\n"
     ]
    },
    {
     "name": "stderr",
     "output_type": "stream",
     "text": [
      "Epoch [981/5000]: 100%|██████████████████████████████████████████████████████| 9/9 [00:00<00:00, 204.02it/s, loss=1.91]\n"
     ]
    },
    {
     "name": "stdout",
     "output_type": "stream",
     "text": [
      "Epoch [981/5000]: Train loss: 2.6580, Valid loss: 1.0066\n",
      "Epoch [981/5000]: Train r2_score: 0.9333, Valid r2_score: 0.9739\n",
      "Epoch [981/5000]: Train smape: 14.0482, Valid smape: 10.3208\n",
      "\n"
     ]
    },
    {
     "name": "stderr",
     "output_type": "stream",
     "text": [
      "Epoch [982/5000]: 100%|██████████████████████████████████████████████████████| 9/9 [00:00<00:00, 225.31it/s, loss=2.18]\n"
     ]
    },
    {
     "name": "stdout",
     "output_type": "stream",
     "text": [
      "Epoch [982/5000]: Train loss: 2.6303, Valid loss: 1.3441\n",
      "Epoch [982/5000]: Train r2_score: 0.9344, Valid r2_score: 0.9735\n",
      "Epoch [982/5000]: Train smape: 13.7905, Valid smape: 10.3550\n",
      "\n"
     ]
    },
    {
     "name": "stderr",
     "output_type": "stream",
     "text": [
      "Epoch [983/5000]: 100%|██████████████████████████████████████████████████████| 9/9 [00:00<00:00, 204.08it/s, loss=2.92]\n"
     ]
    },
    {
     "name": "stdout",
     "output_type": "stream",
     "text": [
      "Epoch [983/5000]: Train loss: 2.4166, Valid loss: 1.2221\n",
      "Epoch [983/5000]: Train r2_score: 0.9413, Valid r2_score: 0.9733\n",
      "Epoch [983/5000]: Train smape: 13.1097, Valid smape: 10.3580\n",
      "\n"
     ]
    },
    {
     "name": "stderr",
     "output_type": "stream",
     "text": [
      "Epoch [984/5000]: 100%|██████████████████████████████████████████████████████| 9/9 [00:00<00:00, 200.33it/s, loss=2.84]\n"
     ]
    },
    {
     "name": "stdout",
     "output_type": "stream",
     "text": [
      "Epoch [984/5000]: Train loss: 2.7092, Valid loss: 1.2173\n",
      "Epoch [984/5000]: Train r2_score: 0.9334, Valid r2_score: 0.9732\n",
      "Epoch [984/5000]: Train smape: 13.6722, Valid smape: 10.3672\n",
      "\n"
     ]
    },
    {
     "name": "stderr",
     "output_type": "stream",
     "text": [
      "Epoch [985/5000]: 100%|██████████████████████████████████████████████████████| 9/9 [00:00<00:00, 207.83it/s, loss=2.45]\n"
     ]
    },
    {
     "name": "stdout",
     "output_type": "stream",
     "text": [
      "Epoch [985/5000]: Train loss: 2.5910, Valid loss: 1.1395\n",
      "Epoch [985/5000]: Train r2_score: 0.9359, Valid r2_score: 0.9738\n",
      "Epoch [985/5000]: Train smape: 13.2815, Valid smape: 10.3239\n",
      "\n"
     ]
    },
    {
     "name": "stderr",
     "output_type": "stream",
     "text": [
      "Epoch [986/5000]: 100%|██████████████████████████████████████████████████████| 9/9 [00:00<00:00, 212.90it/s, loss=2.78]\n"
     ]
    },
    {
     "name": "stdout",
     "output_type": "stream",
     "text": [
      "Epoch [986/5000]: Train loss: 2.8999, Valid loss: 1.2255\n",
      "Epoch [986/5000]: Train r2_score: 0.9283, Valid r2_score: 0.9731\n",
      "Epoch [986/5000]: Train smape: 13.7985, Valid smape: 10.3779\n",
      "\n"
     ]
    },
    {
     "name": "stderr",
     "output_type": "stream",
     "text": [
      "Epoch [987/5000]: 100%|██████████████████████████████████████████████████████| 9/9 [00:00<00:00, 212.65it/s, loss=2.88]\n"
     ]
    },
    {
     "name": "stdout",
     "output_type": "stream",
     "text": [
      "Epoch [987/5000]: Train loss: 2.6330, Valid loss: 0.9859\n",
      "Epoch [987/5000]: Train r2_score: 0.9355, Valid r2_score: 0.9740\n",
      "Epoch [987/5000]: Train smape: 13.8131, Valid smape: 10.3235\n",
      "\n"
     ]
    },
    {
     "name": "stderr",
     "output_type": "stream",
     "text": [
      "Epoch [988/5000]: 100%|██████████████████████████████████████████████████████| 9/9 [00:00<00:00, 231.16it/s, loss=3.42]\n"
     ]
    },
    {
     "name": "stdout",
     "output_type": "stream",
     "text": [
      "Epoch [988/5000]: Train loss: 2.7447, Valid loss: 1.2557\n",
      "Epoch [988/5000]: Train r2_score: 0.9335, Valid r2_score: 0.9733\n",
      "Epoch [988/5000]: Train smape: 13.2910, Valid smape: 10.3600\n",
      "\n"
     ]
    },
    {
     "name": "stderr",
     "output_type": "stream",
     "text": [
      "Epoch [989/5000]: 100%|██████████████████████████████████████████████████████| 9/9 [00:00<00:00, 226.80it/s, loss=1.92]\n"
     ]
    },
    {
     "name": "stdout",
     "output_type": "stream",
     "text": [
      "Epoch [989/5000]: Train loss: 2.5054, Valid loss: 1.0140\n",
      "Epoch [989/5000]: Train r2_score: 0.9373, Valid r2_score: 0.9738\n",
      "Epoch [989/5000]: Train smape: 13.8671, Valid smape: 10.3254\n",
      "\n"
     ]
    },
    {
     "name": "stderr",
     "output_type": "stream",
     "text": [
      "Epoch [990/5000]: 100%|██████████████████████████████████████████████████████| 9/9 [00:00<00:00, 204.48it/s, loss=1.77]\n"
     ]
    },
    {
     "name": "stdout",
     "output_type": "stream",
     "text": [
      "Epoch [990/5000]: Train loss: 2.5414, Valid loss: 1.0190\n",
      "Epoch [990/5000]: Train r2_score: 0.9361, Valid r2_score: 0.9738\n",
      "Epoch [990/5000]: Train smape: 13.3290, Valid smape: 10.3222\n",
      "\n"
     ]
    },
    {
     "name": "stderr",
     "output_type": "stream",
     "text": [
      "Epoch [991/5000]: 100%|██████████████████████████████████████████████████████| 9/9 [00:00<00:00, 200.57it/s, loss=2.33]\n"
     ]
    },
    {
     "name": "stdout",
     "output_type": "stream",
     "text": [
      "Epoch [991/5000]: Train loss: 2.5562, Valid loss: 1.1426\n",
      "Epoch [991/5000]: Train r2_score: 0.9366, Valid r2_score: 0.9737\n",
      "Epoch [991/5000]: Train smape: 13.7862, Valid smape: 10.3294\n",
      "\n"
     ]
    },
    {
     "name": "stderr",
     "output_type": "stream",
     "text": [
      "Epoch [992/5000]: 100%|██████████████████████████████████████████████████████| 9/9 [00:00<00:00, 213.71it/s, loss=2.37]\n"
     ]
    },
    {
     "name": "stdout",
     "output_type": "stream",
     "text": [
      "Epoch [992/5000]: Train loss: 2.5003, Valid loss: 1.1675\n",
      "Epoch [992/5000]: Train r2_score: 0.9382, Valid r2_score: 0.9740\n",
      "Epoch [992/5000]: Train smape: 13.7358, Valid smape: 10.3204\n",
      "\n"
     ]
    },
    {
     "name": "stderr",
     "output_type": "stream",
     "text": [
      "Epoch [993/5000]: 100%|██████████████████████████████████████████████████████| 9/9 [00:00<00:00, 219.63it/s, loss=2.55]\n"
     ]
    },
    {
     "name": "stdout",
     "output_type": "stream",
     "text": [
      "Epoch [993/5000]: Train loss: 2.5598, Valid loss: 0.9821\n",
      "Epoch [993/5000]: Train r2_score: 0.9369, Valid r2_score: 0.9739\n",
      "Epoch [993/5000]: Train smape: 13.8090, Valid smape: 10.3212\n",
      "\n"
     ]
    },
    {
     "name": "stderr",
     "output_type": "stream",
     "text": [
      "Epoch [994/5000]: 100%|██████████████████████████████████████████████████████| 9/9 [00:00<00:00, 214.12it/s, loss=3.47]\n"
     ]
    },
    {
     "name": "stdout",
     "output_type": "stream",
     "text": [
      "Epoch [994/5000]: Train loss: 2.7767, Valid loss: 1.0822\n",
      "Epoch [994/5000]: Train r2_score: 0.9327, Valid r2_score: 0.9739\n",
      "Epoch [994/5000]: Train smape: 14.0017, Valid smape: 10.3155\n",
      "\n"
     ]
    },
    {
     "name": "stderr",
     "output_type": "stream",
     "text": [
      "Epoch [995/5000]: 100%|██████████████████████████████████████████████████████| 9/9 [00:00<00:00, 227.88it/s, loss=2.01]\n"
     ]
    },
    {
     "name": "stdout",
     "output_type": "stream",
     "text": [
      "Epoch [995/5000]: Train loss: 2.3739, Valid loss: 1.0574\n",
      "Epoch [995/5000]: Train r2_score: 0.9409, Valid r2_score: 0.9742\n",
      "Epoch [995/5000]: Train smape: 13.6481, Valid smape: 10.3074\n",
      "\n"
     ]
    },
    {
     "name": "stderr",
     "output_type": "stream",
     "text": [
      "Epoch [996/5000]: 100%|██████████████████████████████████████████████████████| 9/9 [00:00<00:00, 200.93it/s, loss=2.95]\n"
     ]
    },
    {
     "name": "stdout",
     "output_type": "stream",
     "text": [
      "Epoch [996/5000]: Train loss: 2.6495, Valid loss: 1.1622\n",
      "Epoch [996/5000]: Train r2_score: 0.9352, Valid r2_score: 0.9741\n",
      "Epoch [996/5000]: Train smape: 13.5114, Valid smape: 10.3184\n",
      "\n"
     ]
    },
    {
     "name": "stderr",
     "output_type": "stream",
     "text": [
      "Epoch [997/5000]: 100%|███████████████████████████████████████████████████████| 9/9 [00:00<00:00, 174.59it/s, loss=4.5]\n"
     ]
    },
    {
     "name": "stdout",
     "output_type": "stream",
     "text": [
      "Epoch [997/5000]: Train loss: 2.8556, Valid loss: 1.1016\n",
      "Epoch [997/5000]: Train r2_score: 0.9323, Valid r2_score: 0.9734\n",
      "Epoch [997/5000]: Train smape: 13.9666, Valid smape: 10.3880\n",
      "\n"
     ]
    },
    {
     "name": "stderr",
     "output_type": "stream",
     "text": [
      "Epoch [998/5000]: 100%|██████████████████████████████████████████████████████| 9/9 [00:00<00:00, 196.48it/s, loss=2.45]\n"
     ]
    },
    {
     "name": "stdout",
     "output_type": "stream",
     "text": [
      "Epoch [998/5000]: Train loss: 2.6430, Valid loss: 1.3619\n",
      "Epoch [998/5000]: Train r2_score: 0.9345, Valid r2_score: 0.9729\n",
      "Epoch [998/5000]: Train smape: 14.3107, Valid smape: 10.4269\n",
      "\n"
     ]
    },
    {
     "name": "stderr",
     "output_type": "stream",
     "text": [
      "Epoch [999/5000]: 100%|██████████████████████████████████████████████████████| 9/9 [00:00<00:00, 199.79it/s, loss=3.87]\n"
     ]
    },
    {
     "name": "stdout",
     "output_type": "stream",
     "text": [
      "Epoch [999/5000]: Train loss: 2.9768, Valid loss: 1.2916\n",
      "Epoch [999/5000]: Train r2_score: 0.9281, Valid r2_score: 0.9730\n",
      "Epoch [999/5000]: Train smape: 13.7074, Valid smape: 10.4123\n",
      "\n"
     ]
    },
    {
     "name": "stderr",
     "output_type": "stream",
     "text": [
      "Epoch [1000/5000]: 100%|█████████████████████████████████████████████████████| 9/9 [00:00<00:00, 200.73it/s, loss=2.55]\n"
     ]
    },
    {
     "name": "stdout",
     "output_type": "stream",
     "text": [
      "Epoch [1000/5000]: Train loss: 2.7922, Valid loss: 1.4657\n",
      "Epoch [1000/5000]: Train r2_score: 0.9308, Valid r2_score: 0.9738\n",
      "Epoch [1000/5000]: Train smape: 13.9468, Valid smape: 10.3244\n",
      "\n"
     ]
    },
    {
     "name": "stderr",
     "output_type": "stream",
     "text": [
      "Epoch [1001/5000]: 100%|█████████████████████████████████████████████████████| 9/9 [00:00<00:00, 206.43it/s, loss=2.63]\n"
     ]
    },
    {
     "name": "stdout",
     "output_type": "stream",
     "text": [
      "Epoch [1001/5000]: Train loss: 2.6333, Valid loss: 1.2964\n",
      "Epoch [1001/5000]: Train r2_score: 0.9351, Valid r2_score: 0.9737\n",
      "Epoch [1001/5000]: Train smape: 14.1452, Valid smape: 10.3358\n",
      "\n"
     ]
    },
    {
     "name": "stderr",
     "output_type": "stream",
     "text": [
      "Epoch [1002/5000]: 100%|█████████████████████████████████████████████████████| 9/9 [00:00<00:00, 223.64it/s, loss=2.01]\n"
     ]
    },
    {
     "name": "stdout",
     "output_type": "stream",
     "text": [
      "Epoch [1002/5000]: Train loss: 2.5600, Valid loss: 1.1890\n",
      "Epoch [1002/5000]: Train r2_score: 0.9360, Valid r2_score: 0.9729\n",
      "Epoch [1002/5000]: Train smape: 14.1570, Valid smape: 10.3966\n",
      "\n"
     ]
    },
    {
     "name": "stderr",
     "output_type": "stream",
     "text": [
      "Epoch [1003/5000]: 100%|█████████████████████████████████████████████████████| 9/9 [00:00<00:00, 224.63it/s, loss=2.79]\n"
     ]
    },
    {
     "name": "stdout",
     "output_type": "stream",
     "text": [
      "Epoch [1003/5000]: Train loss: 2.5366, Valid loss: 1.0869\n",
      "Epoch [1003/5000]: Train r2_score: 0.9379, Valid r2_score: 0.9729\n",
      "Epoch [1003/5000]: Train smape: 13.5120, Valid smape: 10.3948\n",
      "\n"
     ]
    },
    {
     "name": "stderr",
     "output_type": "stream",
     "text": [
      "Epoch [1004/5000]: 100%|████████████████████████████████████████████████████████| 9/9 [00:00<00:00, 222.80it/s, loss=3]\n"
     ]
    },
    {
     "name": "stdout",
     "output_type": "stream",
     "text": [
      "Epoch [1004/5000]: Train loss: 2.8036, Valid loss: 1.0906\n",
      "Epoch [1004/5000]: Train r2_score: 0.9312, Valid r2_score: 0.9739\n",
      "Epoch [1004/5000]: Train smape: 13.7379, Valid smape: 10.3188\n",
      "\n"
     ]
    },
    {
     "name": "stderr",
     "output_type": "stream",
     "text": [
      "Epoch [1005/5000]: 100%|█████████████████████████████████████████████████████| 9/9 [00:00<00:00, 231.26it/s, loss=2.65]\n"
     ]
    },
    {
     "name": "stdout",
     "output_type": "stream",
     "text": [
      "Epoch [1005/5000]: Train loss: 2.6789, Valid loss: 1.0823\n",
      "Epoch [1005/5000]: Train r2_score: 0.9339, Valid r2_score: 0.9740\n",
      "Epoch [1005/5000]: Train smape: 13.9625, Valid smape: 10.3277\n",
      "\n"
     ]
    },
    {
     "name": "stderr",
     "output_type": "stream",
     "text": [
      "Epoch [1006/5000]: 100%|█████████████████████████████████████████████████████| 9/9 [00:00<00:00, 225.61it/s, loss=2.54]\n"
     ]
    },
    {
     "name": "stdout",
     "output_type": "stream",
     "text": [
      "Epoch [1006/5000]: Train loss: 2.5690, Valid loss: 1.0026\n",
      "Epoch [1006/5000]: Train r2_score: 0.9366, Valid r2_score: 0.9743\n",
      "Epoch [1006/5000]: Train smape: 13.2798, Valid smape: 10.3057\n",
      "\n"
     ]
    },
    {
     "name": "stderr",
     "output_type": "stream",
     "text": [
      "Epoch [1007/5000]: 100%|█████████████████████████████████████████████████████| 9/9 [00:00<00:00, 231.70it/s, loss=2.12]\n"
     ]
    },
    {
     "name": "stdout",
     "output_type": "stream",
     "text": [
      "Epoch [1007/5000]: Train loss: 2.3568, Valid loss: 1.1033\n",
      "Epoch [1007/5000]: Train r2_score: 0.9415, Valid r2_score: 0.9741\n",
      "Epoch [1007/5000]: Train smape: 13.0354, Valid smape: 10.3125\n",
      "\n"
     ]
    },
    {
     "name": "stderr",
     "output_type": "stream",
     "text": [
      "Epoch [1008/5000]: 100%|█████████████████████████████████████████████████████| 9/9 [00:00<00:00, 224.42it/s, loss=4.35]\n"
     ]
    },
    {
     "name": "stdout",
     "output_type": "stream",
     "text": [
      "Epoch [1008/5000]: Train loss: 2.8179, Valid loss: 1.1605\n",
      "Epoch [1008/5000]: Train r2_score: 0.9331, Valid r2_score: 0.9728\n",
      "Epoch [1008/5000]: Train smape: 13.7459, Valid smape: 10.4008\n",
      "\n"
     ]
    },
    {
     "name": "stderr",
     "output_type": "stream",
     "text": [
      "Epoch [1009/5000]: 100%|█████████████████████████████████████████████████████| 9/9 [00:00<00:00, 203.15it/s, loss=1.45]\n"
     ]
    },
    {
     "name": "stdout",
     "output_type": "stream",
     "text": [
      "Epoch [1009/5000]: Train loss: 2.2983, Valid loss: 1.2491\n",
      "Epoch [1009/5000]: Train r2_score: 0.9420, Valid r2_score: 0.9731\n",
      "Epoch [1009/5000]: Train smape: 13.5412, Valid smape: 10.3801\n",
      "\n"
     ]
    },
    {
     "name": "stderr",
     "output_type": "stream",
     "text": [
      "Epoch [1010/5000]: 100%|█████████████████████████████████████████████████████| 9/9 [00:00<00:00, 230.89it/s, loss=4.04]\n"
     ]
    },
    {
     "name": "stdout",
     "output_type": "stream",
     "text": [
      "Epoch [1010/5000]: Train loss: 2.6867, Valid loss: 1.2470\n",
      "Epoch [1010/5000]: Train r2_score: 0.9360, Valid r2_score: 0.9728\n",
      "Epoch [1010/5000]: Train smape: 14.4302, Valid smape: 10.4277\n",
      "\n"
     ]
    },
    {
     "name": "stderr",
     "output_type": "stream",
     "text": [
      "Epoch [1011/5000]: 100%|█████████████████████████████████████████████████████| 9/9 [00:00<00:00, 214.68it/s, loss=2.16]\n"
     ]
    },
    {
     "name": "stdout",
     "output_type": "stream",
     "text": [
      "Epoch [1011/5000]: Train loss: 2.4197, Valid loss: 1.1912\n",
      "Epoch [1011/5000]: Train r2_score: 0.9399, Valid r2_score: 0.9734\n",
      "Epoch [1011/5000]: Train smape: 13.6281, Valid smape: 10.3952\n",
      "\n"
     ]
    },
    {
     "name": "stderr",
     "output_type": "stream",
     "text": [
      "Epoch [1012/5000]: 100%|█████████████████████████████████████████████████████| 9/9 [00:00<00:00, 234.77it/s, loss=2.45]\n"
     ]
    },
    {
     "name": "stdout",
     "output_type": "stream",
     "text": [
      "Epoch [1012/5000]: Train loss: 2.6659, Valid loss: 1.0308\n",
      "Epoch [1012/5000]: Train r2_score: 0.9339, Valid r2_score: 0.9737\n",
      "Epoch [1012/5000]: Train smape: 13.4599, Valid smape: 10.3433\n",
      "\n"
     ]
    },
    {
     "name": "stderr",
     "output_type": "stream",
     "text": [
      "Epoch [1013/5000]: 100%|█████████████████████████████████████████████████████| 9/9 [00:00<00:00, 219.69it/s, loss=3.98]\n"
     ]
    },
    {
     "name": "stdout",
     "output_type": "stream",
     "text": [
      "Epoch [1013/5000]: Train loss: 2.6643, Valid loss: 1.1433\n",
      "Epoch [1013/5000]: Train r2_score: 0.9365, Valid r2_score: 0.9721\n",
      "Epoch [1013/5000]: Train smape: 13.8849, Valid smape: 10.5025\n",
      "\n"
     ]
    },
    {
     "name": "stderr",
     "output_type": "stream",
     "text": [
      "Epoch [1014/5000]: 100%|█████████████████████████████████████████████████████| 9/9 [00:00<00:00, 199.45it/s, loss=2.72]\n"
     ]
    },
    {
     "name": "stdout",
     "output_type": "stream",
     "text": [
      "Epoch [1014/5000]: Train loss: 2.4791, Valid loss: 1.3811\n",
      "Epoch [1014/5000]: Train r2_score: 0.9393, Valid r2_score: 0.9726\n",
      "Epoch [1014/5000]: Train smape: 13.4081, Valid smape: 10.4152\n",
      "\n"
     ]
    },
    {
     "name": "stderr",
     "output_type": "stream",
     "text": [
      "Epoch [1015/5000]: 100%|█████████████████████████████████████████████████████| 9/9 [00:00<00:00, 187.94it/s, loss=3.32]\n"
     ]
    },
    {
     "name": "stdout",
     "output_type": "stream",
     "text": [
      "Epoch [1015/5000]: Train loss: 2.8000, Valid loss: 1.2798\n",
      "Epoch [1015/5000]: Train r2_score: 0.9318, Valid r2_score: 0.9731\n",
      "Epoch [1015/5000]: Train smape: 14.4684, Valid smape: 10.3873\n",
      "\n"
     ]
    },
    {
     "name": "stderr",
     "output_type": "stream",
     "text": [
      "Epoch [1016/5000]: 100%|█████████████████████████████████████████████████████| 9/9 [00:00<00:00, 200.42it/s, loss=2.65]\n"
     ]
    },
    {
     "name": "stdout",
     "output_type": "stream",
     "text": [
      "Epoch [1016/5000]: Train loss: 2.7625, Valid loss: 1.0800\n",
      "Epoch [1016/5000]: Train r2_score: 0.9317, Valid r2_score: 0.9735\n",
      "Epoch [1016/5000]: Train smape: 13.9785, Valid smape: 10.3647\n",
      "\n"
     ]
    },
    {
     "name": "stderr",
     "output_type": "stream",
     "text": [
      "Epoch [1017/5000]: 100%|█████████████████████████████████████████████████████| 9/9 [00:00<00:00, 227.40it/s, loss=4.42]\n"
     ]
    },
    {
     "name": "stdout",
     "output_type": "stream",
     "text": [
      "Epoch [1017/5000]: Train loss: 2.7691, Valid loss: 0.9768\n",
      "Epoch [1017/5000]: Train r2_score: 0.9345, Valid r2_score: 0.9725\n",
      "Epoch [1017/5000]: Train smape: 13.6203, Valid smape: 10.4813\n",
      "\n"
     ]
    },
    {
     "name": "stderr",
     "output_type": "stream",
     "text": [
      "Epoch [1018/5000]: 100%|█████████████████████████████████████████████████████| 9/9 [00:00<00:00, 225.70it/s, loss=3.07]\n"
     ]
    },
    {
     "name": "stdout",
     "output_type": "stream",
     "text": [
      "Epoch [1018/5000]: Train loss: 2.6555, Valid loss: 1.2265\n",
      "Epoch [1018/5000]: Train r2_score: 0.9352, Valid r2_score: 0.9728\n",
      "Epoch [1018/5000]: Train smape: 13.8154, Valid smape: 10.4298\n",
      "\n"
     ]
    },
    {
     "name": "stderr",
     "output_type": "stream",
     "text": [
      "Epoch [1019/5000]: 100%|█████████████████████████████████████████████████████| 9/9 [00:00<00:00, 209.44it/s, loss=3.16]\n"
     ]
    },
    {
     "name": "stdout",
     "output_type": "stream",
     "text": [
      "Epoch [1019/5000]: Train loss: 2.6041, Valid loss: 1.1561\n",
      "Epoch [1019/5000]: Train r2_score: 0.9367, Valid r2_score: 0.9726\n",
      "Epoch [1019/5000]: Train smape: 13.4905, Valid smape: 10.4602\n",
      "\n"
     ]
    },
    {
     "name": "stderr",
     "output_type": "stream",
     "text": [
      "Epoch [1020/5000]: 100%|█████████████████████████████████████████████████████| 9/9 [00:00<00:00, 186.99it/s, loss=2.85]\n"
     ]
    },
    {
     "name": "stdout",
     "output_type": "stream",
     "text": [
      "Epoch [1020/5000]: Train loss: 2.7220, Valid loss: 1.1360\n",
      "Epoch [1020/5000]: Train r2_score: 0.9331, Valid r2_score: 0.9740\n",
      "Epoch [1020/5000]: Train smape: 13.8756, Valid smape: 10.3186\n",
      "\n"
     ]
    },
    {
     "name": "stderr",
     "output_type": "stream",
     "text": [
      "Epoch [1021/5000]: 100%|█████████████████████████████████████████████████████| 9/9 [00:00<00:00, 198.87it/s, loss=4.48]\n"
     ]
    },
    {
     "name": "stdout",
     "output_type": "stream",
     "text": [
      "Epoch [1021/5000]: Train loss: 2.9618, Valid loss: 1.3789\n",
      "Epoch [1021/5000]: Train r2_score: 0.9295, Valid r2_score: 0.9731\n",
      "Epoch [1021/5000]: Train smape: 14.0362, Valid smape: 10.3754\n",
      "\n"
     ]
    },
    {
     "name": "stderr",
     "output_type": "stream",
     "text": [
      "Epoch [1022/5000]: 100%|█████████████████████████████████████████████████████| 9/9 [00:00<00:00, 200.31it/s, loss=1.79]\n"
     ]
    },
    {
     "name": "stdout",
     "output_type": "stream",
     "text": [
      "Epoch [1022/5000]: Train loss: 2.4704, Valid loss: 1.1147\n",
      "Epoch [1022/5000]: Train r2_score: 0.9380, Valid r2_score: 0.9735\n",
      "Epoch [1022/5000]: Train smape: 13.8953, Valid smape: 10.3552\n",
      "\n"
     ]
    },
    {
     "name": "stderr",
     "output_type": "stream",
     "text": [
      "Epoch [1023/5000]: 100%|█████████████████████████████████████████████████████| 9/9 [00:00<00:00, 193.27it/s, loss=2.59]\n"
     ]
    },
    {
     "name": "stdout",
     "output_type": "stream",
     "text": [
      "Epoch [1023/5000]: Train loss: 2.6634, Valid loss: 1.1916\n",
      "Epoch [1023/5000]: Train r2_score: 0.9342, Valid r2_score: 0.9747\n",
      "Epoch [1023/5000]: Train smape: 13.6229, Valid smape: 10.3254\n",
      "\n"
     ]
    },
    {
     "name": "stderr",
     "output_type": "stream",
     "text": [
      "Epoch [1024/5000]: 100%|█████████████████████████████████████████████████████| 9/9 [00:00<00:00, 191.47it/s, loss=2.74]\n"
     ]
    },
    {
     "name": "stdout",
     "output_type": "stream",
     "text": [
      "Epoch [1024/5000]: Train loss: 2.6648, Valid loss: 1.0157\n",
      "Epoch [1024/5000]: Train r2_score: 0.9344, Valid r2_score: 0.9739\n",
      "Epoch [1024/5000]: Train smape: 13.3993, Valid smape: 10.2990\n",
      "\n"
     ]
    },
    {
     "name": "stderr",
     "output_type": "stream",
     "text": [
      "Epoch [1025/5000]: 100%|██████████████████████████████████████████████████████| 9/9 [00:00<00:00, 185.03it/s, loss=2.1]\n"
     ]
    },
    {
     "name": "stdout",
     "output_type": "stream",
     "text": [
      "Epoch [1025/5000]: Train loss: 2.6457, Valid loss: 1.0486\n",
      "Epoch [1025/5000]: Train r2_score: 0.9339, Valid r2_score: 0.9748\n",
      "Epoch [1025/5000]: Train smape: 14.6518, Valid smape: 10.2580\n",
      "\n"
     ]
    },
    {
     "name": "stderr",
     "output_type": "stream",
     "text": [
      "Epoch [1026/5000]: 100%|██████████████████████████████████████████████████████| 9/9 [00:00<00:00, 228.21it/s, loss=2.3]\n"
     ]
    },
    {
     "name": "stdout",
     "output_type": "stream",
     "text": [
      "Epoch [1026/5000]: Train loss: 2.6409, Valid loss: 1.4325\n",
      "Epoch [1026/5000]: Train r2_score: 0.9343, Valid r2_score: 0.9695\n",
      "Epoch [1026/5000]: Train smape: 13.9832, Valid smape: 10.7209\n",
      "\n"
     ]
    },
    {
     "name": "stderr",
     "output_type": "stream",
     "text": [
      "Epoch [1027/5000]: 100%|█████████████████████████████████████████████████████| 9/9 [00:00<00:00, 208.71it/s, loss=3.81]\n"
     ]
    },
    {
     "name": "stdout",
     "output_type": "stream",
     "text": [
      "Epoch [1027/5000]: Train loss: 2.8276, Valid loss: 1.1821\n",
      "Epoch [1027/5000]: Train r2_score: 0.9319, Valid r2_score: 0.9747\n",
      "Epoch [1027/5000]: Train smape: 13.9708, Valid smape: 10.2986\n",
      "\n"
     ]
    },
    {
     "name": "stderr",
     "output_type": "stream",
     "text": [
      "Epoch [1028/5000]: 100%|█████████████████████████████████████████████████████| 9/9 [00:00<00:00, 215.29it/s, loss=3.92]\n"
     ]
    },
    {
     "name": "stdout",
     "output_type": "stream",
     "text": [
      "Epoch [1028/5000]: Train loss: 2.6637, Valid loss: 1.3285\n",
      "Epoch [1028/5000]: Train r2_score: 0.9364, Valid r2_score: 0.9724\n",
      "Epoch [1028/5000]: Train smape: 13.4969, Valid smape: 10.4812\n",
      "\n"
     ]
    },
    {
     "name": "stderr",
     "output_type": "stream",
     "text": [
      "Epoch [1029/5000]: 100%|█████████████████████████████████████████████████████| 9/9 [00:00<00:00, 199.37it/s, loss=2.81]\n"
     ]
    },
    {
     "name": "stdout",
     "output_type": "stream",
     "text": [
      "Epoch [1029/5000]: Train loss: 2.6129, Valid loss: 1.2195\n",
      "Epoch [1029/5000]: Train r2_score: 0.9359, Valid r2_score: 0.9729\n",
      "Epoch [1029/5000]: Train smape: 13.7436, Valid smape: 10.7231\n",
      "\n"
     ]
    },
    {
     "name": "stderr",
     "output_type": "stream",
     "text": [
      "Epoch [1030/5000]: 100%|█████████████████████████████████████████████████████| 9/9 [00:00<00:00, 191.39it/s, loss=3.99]\n"
     ]
    },
    {
     "name": "stdout",
     "output_type": "stream",
     "text": [
      "Epoch [1030/5000]: Train loss: 2.8564, Valid loss: 1.1748\n",
      "Epoch [1030/5000]: Train r2_score: 0.9315, Valid r2_score: 0.9727\n",
      "Epoch [1030/5000]: Train smape: 14.1581, Valid smape: 10.5237\n",
      "\n"
     ]
    },
    {
     "name": "stderr",
     "output_type": "stream",
     "text": [
      "Epoch [1031/5000]: 100%|█████████████████████████████████████████████████████| 9/9 [00:00<00:00, 198.04it/s, loss=3.33]\n"
     ]
    },
    {
     "name": "stdout",
     "output_type": "stream",
     "text": [
      "Epoch [1031/5000]: Train loss: 2.7361, Valid loss: 1.1898\n",
      "Epoch [1031/5000]: Train r2_score: 0.9335, Valid r2_score: 0.9708\n",
      "Epoch [1031/5000]: Train smape: 13.6175, Valid smape: 10.5655\n",
      "\n"
     ]
    },
    {
     "name": "stderr",
     "output_type": "stream",
     "text": [
      "Epoch [1032/5000]: 100%|█████████████████████████████████████████████████████| 9/9 [00:00<00:00, 230.12it/s, loss=3.53]\n"
     ]
    },
    {
     "name": "stdout",
     "output_type": "stream",
     "text": [
      "Epoch [1032/5000]: Train loss: 2.7297, Valid loss: 1.3343\n",
      "Epoch [1032/5000]: Train r2_score: 0.9340, Valid r2_score: 0.9746\n",
      "Epoch [1032/5000]: Train smape: 13.8493, Valid smape: 10.3726\n",
      "\n"
     ]
    },
    {
     "name": "stderr",
     "output_type": "stream",
     "text": [
      "Epoch [1033/5000]: 100%|█████████████████████████████████████████████████████| 9/9 [00:00<00:00, 237.12it/s, loss=2.71]\n"
     ]
    },
    {
     "name": "stdout",
     "output_type": "stream",
     "text": [
      "Epoch [1033/5000]: Train loss: 2.7070, Valid loss: 1.8392\n",
      "Epoch [1033/5000]: Train r2_score: 0.9333, Valid r2_score: 0.9607\n",
      "Epoch [1033/5000]: Train smape: 13.7336, Valid smape: 11.3957\n",
      "\n"
     ]
    },
    {
     "name": "stderr",
     "output_type": "stream",
     "text": [
      "Epoch [1034/5000]: 100%|█████████████████████████████████████████████████████| 9/9 [00:00<00:00, 230.72it/s, loss=2.28]\n"
     ]
    },
    {
     "name": "stdout",
     "output_type": "stream",
     "text": [
      "Epoch [1034/5000]: Train loss: 2.8006, Valid loss: 1.1513\n",
      "Epoch [1034/5000]: Train r2_score: 0.9301, Valid r2_score: 0.9729\n",
      "Epoch [1034/5000]: Train smape: 14.1021, Valid smape: 10.6810\n",
      "\n"
     ]
    },
    {
     "name": "stderr",
     "output_type": "stream",
     "text": [
      "Epoch [1035/5000]: 100%|█████████████████████████████████████████████████████| 9/9 [00:00<00:00, 200.77it/s, loss=3.67]\n"
     ]
    },
    {
     "name": "stdout",
     "output_type": "stream",
     "text": [
      "Epoch [1035/5000]: Train loss: 2.7802, Valid loss: 1.3368\n",
      "Epoch [1035/5000]: Train r2_score: 0.9329, Valid r2_score: 0.9683\n",
      "Epoch [1035/5000]: Train smape: 13.8602, Valid smape: 10.8266\n",
      "\n"
     ]
    },
    {
     "name": "stderr",
     "output_type": "stream",
     "text": [
      "Epoch [1036/5000]: 100%|█████████████████████████████████████████████████████| 9/9 [00:00<00:00, 223.32it/s, loss=3.21]\n"
     ]
    },
    {
     "name": "stdout",
     "output_type": "stream",
     "text": [
      "Epoch [1036/5000]: Train loss: 2.8058, Valid loss: 1.2119\n",
      "Epoch [1036/5000]: Train r2_score: 0.9315, Valid r2_score: 0.9724\n",
      "Epoch [1036/5000]: Train smape: 14.1066, Valid smape: 10.8178\n",
      "\n"
     ]
    },
    {
     "name": "stderr",
     "output_type": "stream",
     "text": [
      "Epoch [1037/5000]: 100%|█████████████████████████████████████████████████████| 9/9 [00:00<00:00, 225.72it/s, loss=2.72]\n"
     ]
    },
    {
     "name": "stdout",
     "output_type": "stream",
     "text": [
      "Epoch [1037/5000]: Train loss: 2.5269, Valid loss: 1.5335\n",
      "Epoch [1037/5000]: Train r2_score: 0.9380, Valid r2_score: 0.9677\n",
      "Epoch [1037/5000]: Train smape: 13.8159, Valid smape: 10.8537\n",
      "\n"
     ]
    },
    {
     "name": "stderr",
     "output_type": "stream",
     "text": [
      "Epoch [1038/5000]: 100%|█████████████████████████████████████████████████████| 9/9 [00:00<00:00, 218.34it/s, loss=2.56]\n"
     ]
    },
    {
     "name": "stdout",
     "output_type": "stream",
     "text": [
      "Epoch [1038/5000]: Train loss: 2.8731, Valid loss: 1.1965\n",
      "Epoch [1038/5000]: Train r2_score: 0.9287, Valid r2_score: 0.9730\n",
      "Epoch [1038/5000]: Train smape: 14.1605, Valid smape: 10.9186\n",
      "\n"
     ]
    },
    {
     "name": "stderr",
     "output_type": "stream",
     "text": [
      "Epoch [1039/5000]: 100%|█████████████████████████████████████████████████████| 9/9 [00:00<00:00, 224.62it/s, loss=2.51]\n"
     ]
    },
    {
     "name": "stdout",
     "output_type": "stream",
     "text": [
      "Epoch [1039/5000]: Train loss: 2.6272, Valid loss: 1.4876\n",
      "Epoch [1039/5000]: Train r2_score: 0.9351, Valid r2_score: 0.9726\n",
      "Epoch [1039/5000]: Train smape: 13.9726, Valid smape: 10.4451\n",
      "\n"
     ]
    },
    {
     "name": "stderr",
     "output_type": "stream",
     "text": [
      "Epoch [1040/5000]: 100%|█████████████████████████████████████████████████████| 9/9 [00:00<00:00, 221.72it/s, loss=2.69]\n"
     ]
    },
    {
     "name": "stdout",
     "output_type": "stream",
     "text": [
      "Epoch [1040/5000]: Train loss: 2.7210, Valid loss: 1.4028\n",
      "Epoch [1040/5000]: Train r2_score: 0.9329, Valid r2_score: 0.9695\n",
      "Epoch [1040/5000]: Train smape: 13.6748, Valid smape: 10.6479\n",
      "\n"
     ]
    },
    {
     "name": "stderr",
     "output_type": "stream",
     "text": [
      "Epoch [1041/5000]: 100%|█████████████████████████████████████████████████████| 9/9 [00:00<00:00, 192.34it/s, loss=3.28]\n"
     ]
    },
    {
     "name": "stdout",
     "output_type": "stream",
     "text": [
      "Epoch [1041/5000]: Train loss: 2.5533, Valid loss: 1.1802\n",
      "Epoch [1041/5000]: Train r2_score: 0.9383, Valid r2_score: 0.9726\n",
      "Epoch [1041/5000]: Train smape: 13.5027, Valid smape: 10.6534\n",
      "\n"
     ]
    },
    {
     "name": "stderr",
     "output_type": "stream",
     "text": [
      "Epoch [1042/5000]: 100%|█████████████████████████████████████████████████████| 9/9 [00:00<00:00, 206.39it/s, loss=3.04]\n"
     ]
    },
    {
     "name": "stdout",
     "output_type": "stream",
     "text": [
      "Epoch [1042/5000]: Train loss: 2.7571, Valid loss: 1.0490\n",
      "Epoch [1042/5000]: Train r2_score: 0.9325, Valid r2_score: 0.9729\n",
      "Epoch [1042/5000]: Train smape: 14.2706, Valid smape: 10.4782\n",
      "\n"
     ]
    },
    {
     "name": "stderr",
     "output_type": "stream",
     "text": [
      "Epoch [1043/5000]: 100%|█████████████████████████████████████████████████████| 9/9 [00:00<00:00, 196.53it/s, loss=2.46]\n"
     ]
    },
    {
     "name": "stdout",
     "output_type": "stream",
     "text": [
      "Epoch [1043/5000]: Train loss: 2.8358, Valid loss: 1.3706\n",
      "Epoch [1043/5000]: Train r2_score: 0.9295, Valid r2_score: 0.9695\n",
      "Epoch [1043/5000]: Train smape: 14.1285, Valid smape: 10.7361\n",
      "\n"
     ]
    },
    {
     "name": "stderr",
     "output_type": "stream",
     "text": [
      "Epoch [1044/5000]: 100%|█████████████████████████████████████████████████████| 9/9 [00:00<00:00, 194.16it/s, loss=4.12]\n"
     ]
    },
    {
     "name": "stdout",
     "output_type": "stream",
     "text": [
      "Epoch [1044/5000]: Train loss: 2.9479, Valid loss: 1.0315\n",
      "Epoch [1044/5000]: Train r2_score: 0.9293, Valid r2_score: 0.9741\n",
      "Epoch [1044/5000]: Train smape: 13.6859, Valid smape: 10.5395\n",
      "\n"
     ]
    },
    {
     "name": "stderr",
     "output_type": "stream",
     "text": [
      "Epoch [1045/5000]: 100%|█████████████████████████████████████████████████████| 9/9 [00:00<00:00, 200.90it/s, loss=2.84]\n"
     ]
    },
    {
     "name": "stdout",
     "output_type": "stream",
     "text": [
      "Epoch [1045/5000]: Train loss: 2.5193, Valid loss: 1.1492\n",
      "Epoch [1045/5000]: Train r2_score: 0.9384, Valid r2_score: 0.9721\n",
      "Epoch [1045/5000]: Train smape: 13.1666, Valid smape: 10.5372\n",
      "\n"
     ]
    },
    {
     "name": "stderr",
     "output_type": "stream",
     "text": [
      "Epoch [1046/5000]: 100%|█████████████████████████████████████████████████████| 9/9 [00:00<00:00, 202.46it/s, loss=3.75]\n"
     ]
    },
    {
     "name": "stdout",
     "output_type": "stream",
     "text": [
      "Epoch [1046/5000]: Train loss: 2.5922, Valid loss: 1.0768\n",
      "Epoch [1046/5000]: Train r2_score: 0.9380, Valid r2_score: 0.9734\n",
      "Epoch [1046/5000]: Train smape: 13.4451, Valid smape: 10.4249\n",
      "\n"
     ]
    },
    {
     "name": "stderr",
     "output_type": "stream",
     "text": [
      "Epoch [1047/5000]: 100%|█████████████████████████████████████████████████████| 9/9 [00:00<00:00, 214.02it/s, loss=3.13]\n"
     ]
    },
    {
     "name": "stdout",
     "output_type": "stream",
     "text": [
      "Epoch [1047/5000]: Train loss: 2.5829, Valid loss: 1.1587\n",
      "Epoch [1047/5000]: Train r2_score: 0.9372, Valid r2_score: 0.9734\n",
      "Epoch [1047/5000]: Train smape: 13.7121, Valid smape: 10.4538\n",
      "\n"
     ]
    },
    {
     "name": "stderr",
     "output_type": "stream",
     "text": [
      "Epoch [1048/5000]: 100%|█████████████████████████████████████████████████████| 9/9 [00:00<00:00, 213.66it/s, loss=3.35]\n"
     ]
    },
    {
     "name": "stdout",
     "output_type": "stream",
     "text": [
      "Epoch [1048/5000]: Train loss: 2.7124, Valid loss: 1.1861\n",
      "Epoch [1048/5000]: Train r2_score: 0.9342, Valid r2_score: 0.9730\n",
      "Epoch [1048/5000]: Train smape: 14.2642, Valid smape: 10.5076\n",
      "\n"
     ]
    },
    {
     "name": "stderr",
     "output_type": "stream",
     "text": [
      "Epoch [1049/5000]: 100%|█████████████████████████████████████████████████████| 9/9 [00:00<00:00, 214.74it/s, loss=3.47]\n"
     ]
    },
    {
     "name": "stdout",
     "output_type": "stream",
     "text": [
      "Epoch [1049/5000]: Train loss: 2.7297, Valid loss: 1.0746\n",
      "Epoch [1049/5000]: Train r2_score: 0.9339, Valid r2_score: 0.9747\n",
      "Epoch [1049/5000]: Train smape: 13.7642, Valid smape: 10.3636\n",
      "\n"
     ]
    },
    {
     "name": "stderr",
     "output_type": "stream",
     "text": [
      "Epoch [1050/5000]: 100%|█████████████████████████████████████████████████████| 9/9 [00:00<00:00, 211.64it/s, loss=2.68]\n"
     ]
    },
    {
     "name": "stdout",
     "output_type": "stream",
     "text": [
      "Epoch [1050/5000]: Train loss: 2.5582, Valid loss: 1.4422\n",
      "Epoch [1050/5000]: Train r2_score: 0.9372, Valid r2_score: 0.9674\n",
      "Epoch [1050/5000]: Train smape: 13.6483, Valid smape: 10.8518\n",
      "\n"
     ]
    },
    {
     "name": "stderr",
     "output_type": "stream",
     "text": [
      "Epoch [1051/5000]: 100%|█████████████████████████████████████████████████████| 9/9 [00:00<00:00, 221.54it/s, loss=2.27]\n"
     ]
    },
    {
     "name": "stdout",
     "output_type": "stream",
     "text": [
      "Epoch [1051/5000]: Train loss: 2.5230, Valid loss: 1.3519\n",
      "Epoch [1051/5000]: Train r2_score: 0.9374, Valid r2_score: 0.9733\n",
      "Epoch [1051/5000]: Train smape: 13.2464, Valid smape: 10.6577\n",
      "\n"
     ]
    },
    {
     "name": "stderr",
     "output_type": "stream",
     "text": [
      "Epoch [1052/5000]: 100%|█████████████████████████████████████████████████████| 9/9 [00:00<00:00, 207.16it/s, loss=3.93]\n"
     ]
    },
    {
     "name": "stdout",
     "output_type": "stream",
     "text": [
      "Epoch [1052/5000]: Train loss: 2.7474, Valid loss: 1.5546\n",
      "Epoch [1052/5000]: Train r2_score: 0.9342, Valid r2_score: 0.9694\n",
      "Epoch [1052/5000]: Train smape: 13.6933, Valid smape: 10.7307\n",
      "\n"
     ]
    },
    {
     "name": "stderr",
     "output_type": "stream",
     "text": [
      "Epoch [1053/5000]: 100%|██████████████████████████████████████████████████████| 9/9 [00:00<00:00, 201.07it/s, loss=3.4]\n"
     ]
    },
    {
     "name": "stdout",
     "output_type": "stream",
     "text": [
      "Epoch [1053/5000]: Train loss: 2.9171, Valid loss: 1.2072\n",
      "Epoch [1053/5000]: Train r2_score: 0.9289, Valid r2_score: 0.9745\n",
      "Epoch [1053/5000]: Train smape: 14.5592, Valid smape: 10.3817\n",
      "\n"
     ]
    },
    {
     "name": "stderr",
     "output_type": "stream",
     "text": [
      "Epoch [1054/5000]: 100%|█████████████████████████████████████████████████████| 9/9 [00:00<00:00, 204.63it/s, loss=3.64]\n"
     ]
    },
    {
     "name": "stdout",
     "output_type": "stream",
     "text": [
      "Epoch [1054/5000]: Train loss: 2.7553, Valid loss: 0.9929\n",
      "Epoch [1054/5000]: Train r2_score: 0.9335, Valid r2_score: 0.9744\n",
      "Epoch [1054/5000]: Train smape: 13.8040, Valid smape: 10.4704\n",
      "\n"
     ]
    },
    {
     "name": "stderr",
     "output_type": "stream",
     "text": [
      "Epoch [1055/5000]: 100%|██████████████████████████████████████████████████████| 9/9 [00:00<00:00, 207.76it/s, loss=6.3]\n"
     ]
    },
    {
     "name": "stdout",
     "output_type": "stream",
     "text": [
      "Epoch [1055/5000]: Train loss: 2.7607, Valid loss: 2.1367\n",
      "Epoch [1055/5000]: Train r2_score: 0.9378, Valid r2_score: 0.9636\n",
      "Epoch [1055/5000]: Train smape: 13.6105, Valid smape: 11.1462\n",
      "\n"
     ]
    },
    {
     "name": "stderr",
     "output_type": "stream",
     "text": [
      "Epoch [1056/5000]: 100%|█████████████████████████████████████████████████████| 9/9 [00:00<00:00, 224.76it/s, loss=3.06]\n"
     ]
    },
    {
     "name": "stdout",
     "output_type": "stream",
     "text": [
      "Epoch [1056/5000]: Train loss: 2.7096, Valid loss: 1.0784\n",
      "Epoch [1056/5000]: Train r2_score: 0.9338, Valid r2_score: 0.9727\n",
      "Epoch [1056/5000]: Train smape: 13.8029, Valid smape: 10.4822\n",
      "\n"
     ]
    },
    {
     "name": "stderr",
     "output_type": "stream",
     "text": [
      "Epoch [1057/5000]: 100%|█████████████████████████████████████████████████████| 9/9 [00:00<00:00, 222.08it/s, loss=1.92]\n"
     ]
    },
    {
     "name": "stdout",
     "output_type": "stream",
     "text": [
      "Epoch [1057/5000]: Train loss: 2.6399, Valid loss: 0.9319\n",
      "Epoch [1057/5000]: Train r2_score: 0.9338, Valid r2_score: 0.9735\n",
      "Epoch [1057/5000]: Train smape: 13.8302, Valid smape: 10.4486\n",
      "\n"
     ]
    },
    {
     "name": "stderr",
     "output_type": "stream",
     "text": [
      "Epoch [1058/5000]: 100%|█████████████████████████████████████████████████████| 9/9 [00:00<00:00, 214.38it/s, loss=2.78]\n"
     ]
    },
    {
     "name": "stdout",
     "output_type": "stream",
     "text": [
      "Epoch [1058/5000]: Train loss: 2.7300, Valid loss: 1.1919\n",
      "Epoch [1058/5000]: Train r2_score: 0.9328, Valid r2_score: 0.9733\n",
      "Epoch [1058/5000]: Train smape: 14.1802, Valid smape: 10.3873\n",
      "\n"
     ]
    },
    {
     "name": "stderr",
     "output_type": "stream",
     "text": [
      "Epoch [1059/5000]: 100%|█████████████████████████████████████████████████████| 9/9 [00:00<00:00, 209.10it/s, loss=3.93]\n"
     ]
    },
    {
     "name": "stdout",
     "output_type": "stream",
     "text": [
      "Epoch [1059/5000]: Train loss: 2.6326, Valid loss: 1.0465\n",
      "Epoch [1059/5000]: Train r2_score: 0.9373, Valid r2_score: 0.9742\n",
      "Epoch [1059/5000]: Train smape: 13.3669, Valid smape: 10.3500\n",
      "\n"
     ]
    },
    {
     "name": "stderr",
     "output_type": "stream",
     "text": [
      "Epoch [1060/5000]: 100%|█████████████████████████████████████████████████████| 9/9 [00:00<00:00, 194.31it/s, loss=3.82]\n"
     ]
    },
    {
     "name": "stdout",
     "output_type": "stream",
     "text": [
      "Epoch [1060/5000]: Train loss: 2.6828, Valid loss: 1.3289\n",
      "Epoch [1060/5000]: Train r2_score: 0.9358, Valid r2_score: 0.9716\n",
      "Epoch [1060/5000]: Train smape: 13.1663, Valid smape: 10.5842\n",
      "\n"
     ]
    },
    {
     "name": "stderr",
     "output_type": "stream",
     "text": [
      "Epoch [1061/5000]: 100%|█████████████████████████████████████████████████████| 9/9 [00:00<00:00, 222.87it/s, loss=3.09]\n"
     ]
    },
    {
     "name": "stdout",
     "output_type": "stream",
     "text": [
      "Epoch [1061/5000]: Train loss: 2.7427, Valid loss: 1.0366\n",
      "Epoch [1061/5000]: Train r2_score: 0.9330, Valid r2_score: 0.9738\n",
      "Epoch [1061/5000]: Train smape: 13.9975, Valid smape: 10.4060\n",
      "\n"
     ]
    },
    {
     "name": "stderr",
     "output_type": "stream",
     "text": [
      "Epoch [1062/5000]: 100%|█████████████████████████████████████████████████████| 9/9 [00:00<00:00, 222.56it/s, loss=3.51]\n"
     ]
    },
    {
     "name": "stdout",
     "output_type": "stream",
     "text": [
      "Epoch [1062/5000]: Train loss: 2.8734, Valid loss: 1.2977\n",
      "Epoch [1062/5000]: Train r2_score: 0.9302, Valid r2_score: 0.9700\n",
      "Epoch [1062/5000]: Train smape: 13.9781, Valid smape: 10.6961\n",
      "\n"
     ]
    },
    {
     "name": "stderr",
     "output_type": "stream",
     "text": [
      "Epoch [1063/5000]: 100%|█████████████████████████████████████████████████████| 9/9 [00:00<00:00, 197.02it/s, loss=3.17]\n"
     ]
    },
    {
     "name": "stdout",
     "output_type": "stream",
     "text": [
      "Epoch [1063/5000]: Train loss: 2.7163, Valid loss: 0.9828\n",
      "Epoch [1063/5000]: Train r2_score: 0.9338, Valid r2_score: 0.9746\n",
      "Epoch [1063/5000]: Train smape: 13.7808, Valid smape: 10.4736\n",
      "\n"
     ]
    },
    {
     "name": "stderr",
     "output_type": "stream",
     "text": [
      "Epoch [1064/5000]: 100%|█████████████████████████████████████████████████████| 9/9 [00:00<00:00, 204.79it/s, loss=1.76]\n"
     ]
    },
    {
     "name": "stdout",
     "output_type": "stream",
     "text": [
      "Epoch [1064/5000]: Train loss: 2.5296, Valid loss: 1.3906\n",
      "Epoch [1064/5000]: Train r2_score: 0.9364, Valid r2_score: 0.9702\n",
      "Epoch [1064/5000]: Train smape: 13.3580, Valid smape: 10.6186\n",
      "\n"
     ]
    },
    {
     "name": "stderr",
     "output_type": "stream",
     "text": [
      "Epoch [1065/5000]: 100%|█████████████████████████████████████████████████████| 9/9 [00:00<00:00, 205.41it/s, loss=2.39]\n"
     ]
    },
    {
     "name": "stdout",
     "output_type": "stream",
     "text": [
      "Epoch [1065/5000]: Train loss: 2.7639, Valid loss: 1.2424\n",
      "Epoch [1065/5000]: Train r2_score: 0.9313, Valid r2_score: 0.9691\n",
      "Epoch [1065/5000]: Train smape: 13.4642, Valid smape: 10.7058\n",
      "\n"
     ]
    },
    {
     "name": "stderr",
     "output_type": "stream",
     "text": [
      "Epoch [1066/5000]: 100%|█████████████████████████████████████████████████████| 9/9 [00:00<00:00, 209.65it/s, loss=3.07]\n"
     ]
    },
    {
     "name": "stdout",
     "output_type": "stream",
     "text": [
      "Epoch [1066/5000]: Train loss: 2.7563, Valid loss: 1.1429\n",
      "Epoch [1066/5000]: Train r2_score: 0.9326, Valid r2_score: 0.9732\n",
      "Epoch [1066/5000]: Train smape: 14.0294, Valid smape: 10.3928\n",
      "\n"
     ]
    },
    {
     "name": "stderr",
     "output_type": "stream",
     "text": [
      "Epoch [1067/5000]: 100%|█████████████████████████████████████████████████████| 9/9 [00:00<00:00, 205.04it/s, loss=2.63]\n"
     ]
    },
    {
     "name": "stdout",
     "output_type": "stream",
     "text": [
      "Epoch [1067/5000]: Train loss: 2.5352, Valid loss: 1.2387\n",
      "Epoch [1067/5000]: Train r2_score: 0.9377, Valid r2_score: 0.9709\n",
      "Epoch [1067/5000]: Train smape: 13.3877, Valid smape: 10.5361\n",
      "\n"
     ]
    },
    {
     "name": "stderr",
     "output_type": "stream",
     "text": [
      "Epoch [1068/5000]: 100%|█████████████████████████████████████████████████████| 9/9 [00:00<00:00, 216.60it/s, loss=4.41]\n"
     ]
    },
    {
     "name": "stdout",
     "output_type": "stream",
     "text": [
      "Epoch [1068/5000]: Train loss: 2.8962, Valid loss: 1.3391\n",
      "Epoch [1068/5000]: Train r2_score: 0.9311, Valid r2_score: 0.9723\n",
      "Epoch [1068/5000]: Train smape: 13.7655, Valid smape: 10.4844\n",
      "\n"
     ]
    },
    {
     "name": "stderr",
     "output_type": "stream",
     "text": [
      "Epoch [1069/5000]: 100%|█████████████████████████████████████████████████████| 9/9 [00:00<00:00, 200.40it/s, loss=1.99]\n"
     ]
    },
    {
     "name": "stdout",
     "output_type": "stream",
     "text": [
      "Epoch [1069/5000]: Train loss: 2.6192, Valid loss: 1.3156\n",
      "Epoch [1069/5000]: Train r2_score: 0.9344, Valid r2_score: 0.9716\n",
      "Epoch [1069/5000]: Train smape: 13.7435, Valid smape: 10.5332\n",
      "\n"
     ]
    },
    {
     "name": "stderr",
     "output_type": "stream",
     "text": [
      "Epoch [1070/5000]: 100%|█████████████████████████████████████████████████████| 9/9 [00:00<00:00, 228.14it/s, loss=2.51]\n"
     ]
    },
    {
     "name": "stdout",
     "output_type": "stream",
     "text": [
      "Epoch [1070/5000]: Train loss: 2.7499, Valid loss: 1.1598\n",
      "Epoch [1070/5000]: Train r2_score: 0.9318, Valid r2_score: 0.9718\n",
      "Epoch [1070/5000]: Train smape: 13.5783, Valid smape: 10.5108\n",
      "\n"
     ]
    },
    {
     "name": "stderr",
     "output_type": "stream",
     "text": [
      "Epoch [1071/5000]: 100%|██████████████████████████████████████████████████████| 9/9 [00:00<00:00, 202.84it/s, loss=4.2]\n"
     ]
    },
    {
     "name": "stdout",
     "output_type": "stream",
     "text": [
      "Epoch [1071/5000]: Train loss: 2.7151, Valid loss: 1.0895\n",
      "Epoch [1071/5000]: Train r2_score: 0.9355, Valid r2_score: 0.9747\n",
      "Epoch [1071/5000]: Train smape: 13.5830, Valid smape: 10.3107\n",
      "\n"
     ]
    },
    {
     "name": "stderr",
     "output_type": "stream",
     "text": [
      "Epoch [1072/5000]: 100%|█████████████████████████████████████████████████████| 9/9 [00:00<00:00, 233.15it/s, loss=2.36]\n"
     ]
    },
    {
     "name": "stdout",
     "output_type": "stream",
     "text": [
      "Epoch [1072/5000]: Train loss: 2.6762, Valid loss: 1.1981\n",
      "Epoch [1072/5000]: Train r2_score: 0.9335, Valid r2_score: 0.9688\n",
      "Epoch [1072/5000]: Train smape: 13.5059, Valid smape: 10.7764\n",
      "\n"
     ]
    },
    {
     "name": "stderr",
     "output_type": "stream",
     "text": [
      "Epoch [1073/5000]: 100%|█████████████████████████████████████████████████████| 9/9 [00:00<00:00, 204.26it/s, loss=2.08]\n"
     ]
    },
    {
     "name": "stdout",
     "output_type": "stream",
     "text": [
      "Epoch [1073/5000]: Train loss: 2.4849, Valid loss: 1.0076\n",
      "Epoch [1073/5000]: Train r2_score: 0.9381, Valid r2_score: 0.9740\n",
      "Epoch [1073/5000]: Train smape: 13.4123, Valid smape: 10.3759\n",
      "\n"
     ]
    },
    {
     "name": "stderr",
     "output_type": "stream",
     "text": [
      "Epoch [1074/5000]: 100%|█████████████████████████████████████████████████████| 9/9 [00:00<00:00, 221.30it/s, loss=2.32]\n"
     ]
    },
    {
     "name": "stdout",
     "output_type": "stream",
     "text": [
      "Epoch [1074/5000]: Train loss: 2.6480, Valid loss: 1.0694\n",
      "Epoch [1074/5000]: Train r2_score: 0.9342, Valid r2_score: 0.9741\n",
      "Epoch [1074/5000]: Train smape: 13.8756, Valid smape: 10.3303\n",
      "\n"
     ]
    },
    {
     "name": "stderr",
     "output_type": "stream",
     "text": [
      "Epoch [1075/5000]: 100%|█████████████████████████████████████████████████████| 9/9 [00:00<00:00, 224.06it/s, loss=2.61]\n"
     ]
    },
    {
     "name": "stdout",
     "output_type": "stream",
     "text": [
      "Epoch [1075/5000]: Train loss: 2.7152, Valid loss: 1.3061\n",
      "Epoch [1075/5000]: Train r2_score: 0.9329, Valid r2_score: 0.9703\n",
      "Epoch [1075/5000]: Train smape: 13.5899, Valid smape: 10.6256\n",
      "\n"
     ]
    },
    {
     "name": "stderr",
     "output_type": "stream",
     "text": [
      "Epoch [1076/5000]: 100%|█████████████████████████████████████████████████████| 9/9 [00:00<00:00, 230.72it/s, loss=2.19]\n"
     ]
    },
    {
     "name": "stdout",
     "output_type": "stream",
     "text": [
      "Epoch [1076/5000]: Train loss: 2.6629, Valid loss: 1.1446\n",
      "Epoch [1076/5000]: Train r2_score: 0.9336, Valid r2_score: 0.9729\n",
      "Epoch [1076/5000]: Train smape: 13.3630, Valid smape: 10.6533\n",
      "\n"
     ]
    },
    {
     "name": "stderr",
     "output_type": "stream",
     "text": [
      "Epoch [1077/5000]: 100%|█████████████████████████████████████████████████████| 9/9 [00:00<00:00, 221.66it/s, loss=3.41]\n"
     ]
    },
    {
     "name": "stdout",
     "output_type": "stream",
     "text": [
      "Epoch [1077/5000]: Train loss: 2.7955, Valid loss: 1.2370\n",
      "Epoch [1077/5000]: Train r2_score: 0.9321, Valid r2_score: 0.9746\n",
      "Epoch [1077/5000]: Train smape: 14.1907, Valid smape: 10.3921\n",
      "\n"
     ]
    },
    {
     "name": "stderr",
     "output_type": "stream",
     "text": [
      "Epoch [1078/5000]: 100%|█████████████████████████████████████████████████████| 9/9 [00:00<00:00, 225.56it/s, loss=3.43]\n"
     ]
    },
    {
     "name": "stdout",
     "output_type": "stream",
     "text": [
      "Epoch [1078/5000]: Train loss: 2.4493, Valid loss: 1.2131\n",
      "Epoch [1078/5000]: Train r2_score: 0.9412, Valid r2_score: 0.9724\n",
      "Epoch [1078/5000]: Train smape: 13.1634, Valid smape: 10.4474\n",
      "\n"
     ]
    },
    {
     "name": "stderr",
     "output_type": "stream",
     "text": [
      "Epoch [1079/5000]: 100%|█████████████████████████████████████████████████████| 9/9 [00:00<00:00, 217.29it/s, loss=3.02]\n"
     ]
    },
    {
     "name": "stdout",
     "output_type": "stream",
     "text": [
      "Epoch [1079/5000]: Train loss: 2.4144, Valid loss: 1.1324\n",
      "Epoch [1079/5000]: Train r2_score: 0.9415, Valid r2_score: 0.9746\n",
      "Epoch [1079/5000]: Train smape: 13.1335, Valid smape: 10.3856\n",
      "\n"
     ]
    },
    {
     "name": "stderr",
     "output_type": "stream",
     "text": [
      "Epoch [1080/5000]: 100%|█████████████████████████████████████████████████████| 9/9 [00:00<00:00, 229.95it/s, loss=3.13]\n"
     ]
    },
    {
     "name": "stdout",
     "output_type": "stream",
     "text": [
      "Epoch [1080/5000]: Train loss: 2.7469, Valid loss: 1.2972\n",
      "Epoch [1080/5000]: Train r2_score: 0.9329, Valid r2_score: 0.9686\n",
      "Epoch [1080/5000]: Train smape: 13.6608, Valid smape: 10.8847\n",
      "\n"
     ]
    },
    {
     "name": "stderr",
     "output_type": "stream",
     "text": [
      "Epoch [1081/5000]: 100%|█████████████████████████████████████████████████████| 9/9 [00:00<00:00, 221.13it/s, loss=4.27]\n"
     ]
    },
    {
     "name": "stdout",
     "output_type": "stream",
     "text": [
      "Epoch [1081/5000]: Train loss: 2.7088, Valid loss: 1.0238\n",
      "Epoch [1081/5000]: Train r2_score: 0.9358, Valid r2_score: 0.9738\n",
      "Epoch [1081/5000]: Train smape: 13.5773, Valid smape: 10.6798\n",
      "\n"
     ]
    },
    {
     "name": "stderr",
     "output_type": "stream",
     "text": [
      "Epoch [1082/5000]: 100%|██████████████████████████████████████████████████████| 9/9 [00:00<00:00, 225.62it/s, loss=3.3]\n"
     ]
    },
    {
     "name": "stdout",
     "output_type": "stream",
     "text": [
      "Epoch [1082/5000]: Train loss: 2.4994, Valid loss: 1.2054\n",
      "Epoch [1082/5000]: Train r2_score: 0.9397, Valid r2_score: 0.9730\n",
      "Epoch [1082/5000]: Train smape: 13.5285, Valid smape: 10.3895\n",
      "\n"
     ]
    },
    {
     "name": "stderr",
     "output_type": "stream",
     "text": [
      "Epoch [1083/5000]: 100%|█████████████████████████████████████████████████████| 9/9 [00:00<00:00, 238.26it/s, loss=4.66]\n"
     ]
    },
    {
     "name": "stdout",
     "output_type": "stream",
     "text": [
      "Epoch [1083/5000]: Train loss: 2.9076, Valid loss: 1.2781\n",
      "Epoch [1083/5000]: Train r2_score: 0.9312, Valid r2_score: 0.9707\n",
      "Epoch [1083/5000]: Train smape: 13.5805, Valid smape: 10.5497\n",
      "\n"
     ]
    },
    {
     "name": "stderr",
     "output_type": "stream",
     "text": [
      "Epoch [1084/5000]: 100%|██████████████████████████████████████████████████████| 9/9 [00:00<00:00, 224.87it/s, loss=2.2]\n"
     ]
    },
    {
     "name": "stdout",
     "output_type": "stream",
     "text": [
      "Epoch [1084/5000]: Train loss: 2.4163, Valid loss: 1.2051\n",
      "Epoch [1084/5000]: Train r2_score: 0.9401, Valid r2_score: 0.9749\n",
      "Epoch [1084/5000]: Train smape: 13.4658, Valid smape: 10.2879\n",
      "\n"
     ]
    },
    {
     "name": "stderr",
     "output_type": "stream",
     "text": [
      "Epoch [1085/5000]: 100%|█████████████████████████████████████████████████████| 9/9 [00:00<00:00, 225.89it/s, loss=2.52]\n"
     ]
    },
    {
     "name": "stdout",
     "output_type": "stream",
     "text": [
      "Epoch [1085/5000]: Train loss: 2.5750, Valid loss: 1.4183\n",
      "Epoch [1085/5000]: Train r2_score: 0.9364, Valid r2_score: 0.9721\n",
      "Epoch [1085/5000]: Train smape: 13.4167, Valid smape: 10.4497\n",
      "\n"
     ]
    },
    {
     "name": "stderr",
     "output_type": "stream",
     "text": [
      "Epoch [1086/5000]: 100%|█████████████████████████████████████████████████████| 9/9 [00:00<00:00, 233.35it/s, loss=2.91]\n"
     ]
    },
    {
     "name": "stdout",
     "output_type": "stream",
     "text": [
      "Epoch [1086/5000]: Train loss: 2.7741, Valid loss: 1.0818\n",
      "Epoch [1086/5000]: Train r2_score: 0.9319, Valid r2_score: 0.9748\n",
      "Epoch [1086/5000]: Train smape: 13.8170, Valid smape: 10.2681\n",
      "\n"
     ]
    },
    {
     "name": "stderr",
     "output_type": "stream",
     "text": [
      "Epoch [1087/5000]: 100%|██████████████████████████████████████████████████████| 9/9 [00:00<00:00, 231.13it/s, loss=2.7]\n"
     ]
    },
    {
     "name": "stdout",
     "output_type": "stream",
     "text": [
      "Epoch [1087/5000]: Train loss: 2.7691, Valid loss: 1.3479\n",
      "Epoch [1087/5000]: Train r2_score: 0.9316, Valid r2_score: 0.9699\n",
      "Epoch [1087/5000]: Train smape: 13.9860, Valid smape: 10.6245\n",
      "\n"
     ]
    },
    {
     "name": "stderr",
     "output_type": "stream",
     "text": [
      "Epoch [1088/5000]: 100%|█████████████████████████████████████████████████████| 9/9 [00:00<00:00, 219.28it/s, loss=2.84]\n"
     ]
    },
    {
     "name": "stdout",
     "output_type": "stream",
     "text": [
      "Epoch [1088/5000]: Train loss: 2.7384, Valid loss: 1.0708\n",
      "Epoch [1088/5000]: Train r2_score: 0.9327, Valid r2_score: 0.9745\n",
      "Epoch [1088/5000]: Train smape: 13.5135, Valid smape: 10.3418\n",
      "\n"
     ]
    },
    {
     "name": "stderr",
     "output_type": "stream",
     "text": [
      "Epoch [1089/5000]: 100%|█████████████████████████████████████████████████████| 9/9 [00:00<00:00, 220.75it/s, loss=3.59]\n"
     ]
    },
    {
     "name": "stdout",
     "output_type": "stream",
     "text": [
      "Epoch [1089/5000]: Train loss: 2.8222, Valid loss: 1.2399\n",
      "Epoch [1089/5000]: Train r2_score: 0.9317, Valid r2_score: 0.9742\n",
      "Epoch [1089/5000]: Train smape: 13.9123, Valid smape: 10.3474\n",
      "\n"
     ]
    },
    {
     "name": "stderr",
     "output_type": "stream",
     "text": [
      "Epoch [1090/5000]: 100%|█████████████████████████████████████████████████████| 9/9 [00:00<00:00, 231.87it/s, loss=3.31]"
     ]
    },
    {
     "name": "stdout",
     "output_type": "stream",
     "text": [
      "Epoch [1090/5000]: Train loss: 2.7236, Valid loss: 1.1376\n",
      "Epoch [1090/5000]: Train r2_score: 0.9338, Valid r2_score: 0.9708\n",
      "Epoch [1090/5000]: Train smape: 13.9006, Valid smape: 10.5866\n",
      "\n"
     ]
    },
    {
     "name": "stderr",
     "output_type": "stream",
     "text": [
      "\n",
      "Epoch [1091/5000]: 100%|█████████████████████████████████████████████████████| 9/9 [00:00<00:00, 229.07it/s, loss=3.11]\n"
     ]
    },
    {
     "name": "stdout",
     "output_type": "stream",
     "text": [
      "Epoch [1091/5000]: Train loss: 2.7815, Valid loss: 1.2065\n",
      "Epoch [1091/5000]: Train r2_score: 0.9320, Valid r2_score: 0.9744\n",
      "Epoch [1091/5000]: Train smape: 13.7737, Valid smape: 10.4192\n",
      "\n"
     ]
    },
    {
     "name": "stderr",
     "output_type": "stream",
     "text": [
      "Epoch [1092/5000]: 100%|█████████████████████████████████████████████████████| 9/9 [00:00<00:00, 228.68it/s, loss=3.09]"
     ]
    },
    {
     "name": "stdout",
     "output_type": "stream",
     "text": [
      "Epoch [1092/5000]: Train loss: 2.5617, Valid loss: 1.0315\n",
      "Epoch [1092/5000]: Train r2_score: 0.9377, Valid r2_score: 0.9712\n"
     ]
    },
    {
     "name": "stderr",
     "output_type": "stream",
     "text": [
      "\n"
     ]
    },
    {
     "name": "stdout",
     "output_type": "stream",
     "text": [
      "Epoch [1092/5000]: Train smape: 13.4450, Valid smape: 10.5663\n",
      "\n"
     ]
    },
    {
     "name": "stderr",
     "output_type": "stream",
     "text": [
      "Epoch [1093/5000]: 100%|█████████████████████████████████████████████████████| 9/9 [00:00<00:00, 205.03it/s, loss=3.94]\n"
     ]
    },
    {
     "name": "stdout",
     "output_type": "stream",
     "text": [
      "Epoch [1093/5000]: Train loss: 2.6738, Valid loss: 1.2288\n",
      "Epoch [1093/5000]: Train r2_score: 0.9362, Valid r2_score: 0.9727\n",
      "Epoch [1093/5000]: Train smape: 13.7223, Valid smape: 10.4333\n",
      "\n"
     ]
    },
    {
     "name": "stderr",
     "output_type": "stream",
     "text": [
      "Epoch [1094/5000]: 100%|█████████████████████████████████████████████████████| 9/9 [00:00<00:00, 199.98it/s, loss=2.32]\n"
     ]
    },
    {
     "name": "stdout",
     "output_type": "stream",
     "text": [
      "Epoch [1094/5000]: Train loss: 2.4931, Valid loss: 1.1386\n",
      "Epoch [1094/5000]: Train r2_score: 0.9383, Valid r2_score: 0.9745\n",
      "Epoch [1094/5000]: Train smape: 12.9928, Valid smape: 10.2856\n",
      "\n"
     ]
    },
    {
     "name": "stderr",
     "output_type": "stream",
     "text": [
      "Epoch [1095/5000]: 100%|█████████████████████████████████████████████████████| 9/9 [00:00<00:00, 205.12it/s, loss=2.09]\n"
     ]
    },
    {
     "name": "stdout",
     "output_type": "stream",
     "text": [
      "Epoch [1095/5000]: Train loss: 2.5800, Valid loss: 1.2339\n",
      "Epoch [1095/5000]: Train r2_score: 0.9356, Valid r2_score: 0.9698\n",
      "Epoch [1095/5000]: Train smape: 13.8440, Valid smape: 10.6340\n",
      "\n"
     ]
    },
    {
     "name": "stderr",
     "output_type": "stream",
     "text": [
      "Epoch [1096/5000]: 100%|█████████████████████████████████████████████████████| 9/9 [00:00<00:00, 207.57it/s, loss=5.83]\n"
     ]
    },
    {
     "name": "stdout",
     "output_type": "stream",
     "text": [
      "Epoch [1096/5000]: Train loss: 2.9797, Valid loss: 1.2097\n",
      "Epoch [1096/5000]: Train r2_score: 0.9312, Valid r2_score: 0.9702\n",
      "Epoch [1096/5000]: Train smape: 14.0764, Valid smape: 10.6015\n",
      "\n"
     ]
    },
    {
     "name": "stderr",
     "output_type": "stream",
     "text": [
      "Epoch [1097/5000]: 100%|█████████████████████████████████████████████████████| 9/9 [00:00<00:00, 200.68it/s, loss=2.36]\n"
     ]
    },
    {
     "name": "stdout",
     "output_type": "stream",
     "text": [
      "Epoch [1097/5000]: Train loss: 2.5267, Valid loss: 1.0861\n",
      "Epoch [1097/5000]: Train r2_score: 0.9375, Valid r2_score: 0.9739\n",
      "Epoch [1097/5000]: Train smape: 13.5814, Valid smape: 10.5861\n",
      "\n"
     ]
    },
    {
     "name": "stderr",
     "output_type": "stream",
     "text": [
      "Epoch [1098/5000]: 100%|█████████████████████████████████████████████████████| 9/9 [00:00<00:00, 199.70it/s, loss=4.77]\n"
     ]
    },
    {
     "name": "stdout",
     "output_type": "stream",
     "text": [
      "Epoch [1098/5000]: Train loss: 2.5591, Valid loss: 1.3954\n",
      "Epoch [1098/5000]: Train r2_score: 0.9406, Valid r2_score: 0.9716\n",
      "Epoch [1098/5000]: Train smape: 13.7632, Valid smape: 10.4140\n",
      "\n"
     ]
    },
    {
     "name": "stderr",
     "output_type": "stream",
     "text": [
      "Epoch [1099/5000]: 100%|█████████████████████████████████████████████████████| 9/9 [00:00<00:00, 190.39it/s, loss=4.95]\n"
     ]
    },
    {
     "name": "stdout",
     "output_type": "stream",
     "text": [
      "Epoch [1099/5000]: Train loss: 2.5983, Valid loss: 1.2326\n",
      "Epoch [1099/5000]: Train r2_score: 0.9398, Valid r2_score: 0.9739\n",
      "Epoch [1099/5000]: Train smape: 13.0076, Valid smape: 10.2875\n",
      "\n"
     ]
    },
    {
     "name": "stderr",
     "output_type": "stream",
     "text": [
      "Epoch [1100/5000]: 100%|██████████████████████████████████████████████████████| 9/9 [00:00<00:00, 200.13it/s, loss=2.6]\n"
     ]
    },
    {
     "name": "stdout",
     "output_type": "stream",
     "text": [
      "Epoch [1100/5000]: Train loss: 2.7895, Valid loss: 1.1750\n",
      "Epoch [1100/5000]: Train r2_score: 0.9309, Valid r2_score: 0.9743\n",
      "Epoch [1100/5000]: Train smape: 13.7611, Valid smape: 10.3550\n",
      "\n"
     ]
    },
    {
     "name": "stderr",
     "output_type": "stream",
     "text": [
      "Epoch [1101/5000]: 100%|█████████████████████████████████████████████████████| 9/9 [00:00<00:00, 197.88it/s, loss=4.01]\n"
     ]
    },
    {
     "name": "stdout",
     "output_type": "stream",
     "text": [
      "Epoch [1101/5000]: Train loss: 3.0363, Valid loss: 1.2374\n",
      "Epoch [1101/5000]: Train r2_score: 0.9268, Valid r2_score: 0.9739\n",
      "Epoch [1101/5000]: Train smape: 14.0396, Valid smape: 10.4069\n",
      "\n"
     ]
    },
    {
     "name": "stderr",
     "output_type": "stream",
     "text": [
      "Epoch [1102/5000]: 100%|█████████████████████████████████████████████████████| 9/9 [00:00<00:00, 188.12it/s, loss=2.76]\n"
     ]
    },
    {
     "name": "stdout",
     "output_type": "stream",
     "text": [
      "Epoch [1102/5000]: Train loss: 2.8123, Valid loss: 1.4442\n",
      "Epoch [1102/5000]: Train r2_score: 0.9306, Valid r2_score: 0.9651\n",
      "Epoch [1102/5000]: Train smape: 13.8359, Valid smape: 11.1267\n",
      "\n"
     ]
    },
    {
     "name": "stderr",
     "output_type": "stream",
     "text": [
      "Epoch [1103/5000]: 100%|█████████████████████████████████████████████████████| 9/9 [00:00<00:00, 211.74it/s, loss=3.41]\n"
     ]
    },
    {
     "name": "stdout",
     "output_type": "stream",
     "text": [
      "Epoch [1103/5000]: Train loss: 2.6389, Valid loss: 1.1581\n",
      "Epoch [1103/5000]: Train r2_score: 0.9362, Valid r2_score: 0.9737\n",
      "Epoch [1103/5000]: Train smape: 13.6061, Valid smape: 10.4433\n",
      "\n"
     ]
    },
    {
     "name": "stderr",
     "output_type": "stream",
     "text": [
      "Epoch [1104/5000]: 100%|██████████████████████████████████████████████████████| 9/9 [00:00<00:00, 216.80it/s, loss=2.7]\n"
     ]
    },
    {
     "name": "stdout",
     "output_type": "stream",
     "text": [
      "Epoch [1104/5000]: Train loss: 2.5660, Valid loss: 1.2381\n",
      "Epoch [1104/5000]: Train r2_score: 0.9370, Valid r2_score: 0.9747\n",
      "Epoch [1104/5000]: Train smape: 13.5274, Valid smape: 10.3384\n",
      "\n"
     ]
    },
    {
     "name": "stderr",
     "output_type": "stream",
     "text": [
      "Epoch [1105/5000]: 100%|█████████████████████████████████████████████████████| 9/9 [00:00<00:00, 225.39it/s, loss=2.86]\n"
     ]
    },
    {
     "name": "stdout",
     "output_type": "stream",
     "text": [
      "Epoch [1105/5000]: Train loss: 2.4761, Valid loss: 1.2171\n",
      "Epoch [1105/5000]: Train r2_score: 0.9396, Valid r2_score: 0.9719\n",
      "Epoch [1105/5000]: Train smape: 12.7362, Valid smape: 10.4677\n",
      "\n"
     ]
    },
    {
     "name": "stderr",
     "output_type": "stream",
     "text": [
      "Epoch [1106/5000]: 100%|█████████████████████████████████████████████████████| 9/9 [00:00<00:00, 212.11it/s, loss=2.32]\n"
     ]
    },
    {
     "name": "stdout",
     "output_type": "stream",
     "text": [
      "Epoch [1106/5000]: Train loss: 2.6713, Valid loss: 1.0976\n",
      "Epoch [1106/5000]: Train r2_score: 0.9336, Valid r2_score: 0.9734\n",
      "Epoch [1106/5000]: Train smape: 13.8991, Valid smape: 10.3512\n",
      "\n"
     ]
    },
    {
     "name": "stderr",
     "output_type": "stream",
     "text": [
      "Epoch [1107/5000]: 100%|█████████████████████████████████████████████████████| 9/9 [00:00<00:00, 205.77it/s, loss=2.67]\n"
     ]
    },
    {
     "name": "stdout",
     "output_type": "stream",
     "text": [
      "Epoch [1107/5000]: Train loss: 2.5194, Valid loss: 1.3444\n",
      "Epoch [1107/5000]: Train r2_score: 0.9382, Valid r2_score: 0.9706\n",
      "Epoch [1107/5000]: Train smape: 13.4994, Valid smape: 10.6309\n",
      "\n"
     ]
    },
    {
     "name": "stderr",
     "output_type": "stream",
     "text": [
      "Epoch [1108/5000]: 100%|██████████████████████████████████████████████████████| 9/9 [00:00<00:00, 215.57it/s, loss=4.1]\n"
     ]
    },
    {
     "name": "stdout",
     "output_type": "stream",
     "text": [
      "Epoch [1108/5000]: Train loss: 2.5933, Valid loss: 1.1401\n",
      "Epoch [1108/5000]: Train r2_score: 0.9386, Valid r2_score: 0.9743\n",
      "Epoch [1108/5000]: Train smape: 13.5301, Valid smape: 10.3102\n",
      "\n"
     ]
    },
    {
     "name": "stderr",
     "output_type": "stream",
     "text": [
      "Epoch [1109/5000]: 100%|█████████████████████████████████████████████████████| 9/9 [00:00<00:00, 207.38it/s, loss=3.24]\n"
     ]
    },
    {
     "name": "stdout",
     "output_type": "stream",
     "text": [
      "Epoch [1109/5000]: Train loss: 2.3625, Valid loss: 1.1004\n",
      "Epoch [1109/5000]: Train r2_score: 0.9432, Valid r2_score: 0.9729\n",
      "Epoch [1109/5000]: Train smape: 12.8153, Valid smape: 10.4234\n",
      "\n"
     ]
    },
    {
     "name": "stderr",
     "output_type": "stream",
     "text": [
      "Epoch [1110/5000]: 100%|█████████████████████████████████████████████████████| 9/9 [00:00<00:00, 220.26it/s, loss=3.17]\n"
     ]
    },
    {
     "name": "stdout",
     "output_type": "stream",
     "text": [
      "Epoch [1110/5000]: Train loss: 2.4746, Valid loss: 1.0573\n",
      "Epoch [1110/5000]: Train r2_score: 0.9402, Valid r2_score: 0.9744\n",
      "Epoch [1110/5000]: Train smape: 12.7914, Valid smape: 10.3488\n",
      "\n"
     ]
    },
    {
     "name": "stderr",
     "output_type": "stream",
     "text": [
      "Epoch [1111/5000]: 100%|█████████████████████████████████████████████████████| 9/9 [00:00<00:00, 220.54it/s, loss=2.68]\n"
     ]
    },
    {
     "name": "stdout",
     "output_type": "stream",
     "text": [
      "Epoch [1111/5000]: Train loss: 2.5499, Valid loss: 1.4277\n",
      "Epoch [1111/5000]: Train r2_score: 0.9374, Valid r2_score: 0.9668\n",
      "Epoch [1111/5000]: Train smape: 13.3643, Valid smape: 10.8383\n",
      "\n"
     ]
    },
    {
     "name": "stderr",
     "output_type": "stream",
     "text": [
      "Epoch [1112/5000]: 100%|█████████████████████████████████████████████████████| 9/9 [00:00<00:00, 216.88it/s, loss=2.19]\n"
     ]
    },
    {
     "name": "stdout",
     "output_type": "stream",
     "text": [
      "Epoch [1112/5000]: Train loss: 2.9775, Valid loss: 1.1482\n",
      "Epoch [1112/5000]: Train r2_score: 0.9253, Valid r2_score: 0.9740\n",
      "Epoch [1112/5000]: Train smape: 14.2073, Valid smape: 10.6223\n",
      "\n"
     ]
    },
    {
     "name": "stderr",
     "output_type": "stream",
     "text": [
      "Epoch [1113/5000]: 100%|█████████████████████████████████████████████████████| 9/9 [00:00<00:00, 220.96it/s, loss=3.59]\n"
     ]
    },
    {
     "name": "stdout",
     "output_type": "stream",
     "text": [
      "Epoch [1113/5000]: Train loss: 2.8389, Valid loss: 1.3237\n",
      "Epoch [1113/5000]: Train r2_score: 0.9313, Valid r2_score: 0.9657\n",
      "Epoch [1113/5000]: Train smape: 13.3335, Valid smape: 10.8701\n",
      "\n"
     ]
    },
    {
     "name": "stderr",
     "output_type": "stream",
     "text": [
      "Epoch [1114/5000]: 100%|█████████████████████████████████████████████████████| 9/9 [00:00<00:00, 210.29it/s, loss=2.84]\n"
     ]
    },
    {
     "name": "stdout",
     "output_type": "stream",
     "text": [
      "Epoch [1114/5000]: Train loss: 2.6703, Valid loss: 1.0267\n",
      "Epoch [1114/5000]: Train r2_score: 0.9345, Valid r2_score: 0.9747\n",
      "Epoch [1114/5000]: Train smape: 13.7195, Valid smape: 10.3141\n",
      "\n"
     ]
    },
    {
     "name": "stderr",
     "output_type": "stream",
     "text": [
      "Epoch [1115/5000]: 100%|█████████████████████████████████████████████████████| 9/9 [00:00<00:00, 220.17it/s, loss=1.83]\n"
     ]
    },
    {
     "name": "stdout",
     "output_type": "stream",
     "text": [
      "Epoch [1115/5000]: Train loss: 2.5448, Valid loss: 1.0774\n",
      "Epoch [1115/5000]: Train r2_score: 0.9361, Valid r2_score: 0.9720\n",
      "Epoch [1115/5000]: Train smape: 13.7720, Valid smape: 10.4973\n",
      "\n"
     ]
    },
    {
     "name": "stderr",
     "output_type": "stream",
     "text": [
      "Epoch [1116/5000]: 100%|█████████████████████████████████████████████████████| 9/9 [00:00<00:00, 229.24it/s, loss=3.11]\n"
     ]
    },
    {
     "name": "stdout",
     "output_type": "stream",
     "text": [
      "Epoch [1116/5000]: Train loss: 2.3984, Valid loss: 1.3275\n",
      "Epoch [1116/5000]: Train r2_score: 0.9420, Valid r2_score: 0.9715\n",
      "Epoch [1116/5000]: Train smape: 12.8786, Valid smape: 10.4723\n",
      "\n"
     ]
    },
    {
     "name": "stderr",
     "output_type": "stream",
     "text": [
      "Epoch [1117/5000]: 100%|█████████████████████████████████████████████████████| 9/9 [00:00<00:00, 231.77it/s, loss=3.37]\n"
     ]
    },
    {
     "name": "stdout",
     "output_type": "stream",
     "text": [
      "Epoch [1117/5000]: Train loss: 2.8024, Valid loss: 1.1949\n",
      "Epoch [1117/5000]: Train r2_score: 0.9319, Valid r2_score: 0.9746\n",
      "Epoch [1117/5000]: Train smape: 13.5121, Valid smape: 10.2700\n",
      "\n"
     ]
    },
    {
     "name": "stderr",
     "output_type": "stream",
     "text": [
      "Epoch [1118/5000]: 100%|█████████████████████████████████████████████████████| 9/9 [00:00<00:00, 225.16it/s, loss=2.56]\n"
     ]
    },
    {
     "name": "stdout",
     "output_type": "stream",
     "text": [
      "Epoch [1118/5000]: Train loss: 2.5077, Valid loss: 1.3754\n",
      "Epoch [1118/5000]: Train r2_score: 0.9383, Valid r2_score: 0.9726\n",
      "Epoch [1118/5000]: Train smape: 13.5166, Valid smape: 10.3864\n",
      "\n"
     ]
    },
    {
     "name": "stderr",
     "output_type": "stream",
     "text": [
      "Epoch [1119/5000]: 100%|█████████████████████████████████████████████████████| 9/9 [00:00<00:00, 227.72it/s, loss=2.32]\n"
     ]
    },
    {
     "name": "stdout",
     "output_type": "stream",
     "text": [
      "Epoch [1119/5000]: Train loss: 2.6320, Valid loss: 1.1171\n",
      "Epoch [1119/5000]: Train r2_score: 0.9346, Valid r2_score: 0.9744\n",
      "Epoch [1119/5000]: Train smape: 13.5953, Valid smape: 10.3616\n",
      "\n"
     ]
    },
    {
     "name": "stderr",
     "output_type": "stream",
     "text": [
      "Epoch [1120/5000]: 100%|█████████████████████████████████████████████████████| 9/9 [00:00<00:00, 211.54it/s, loss=3.23]\n"
     ]
    },
    {
     "name": "stdout",
     "output_type": "stream",
     "text": [
      "Epoch [1120/5000]: Train loss: 2.6532, Valid loss: 1.0293\n",
      "Epoch [1120/5000]: Train r2_score: 0.9356, Valid r2_score: 0.9749\n",
      "Epoch [1120/5000]: Train smape: 13.5905, Valid smape: 10.2588\n",
      "\n"
     ]
    },
    {
     "name": "stderr",
     "output_type": "stream",
     "text": [
      "Epoch [1121/5000]: 100%|█████████████████████████████████████████████████████| 9/9 [00:00<00:00, 226.12it/s, loss=2.56]\n"
     ]
    },
    {
     "name": "stdout",
     "output_type": "stream",
     "text": [
      "Epoch [1121/5000]: Train loss: 2.7063, Valid loss: 1.2854\n",
      "Epoch [1121/5000]: Train r2_score: 0.9331, Valid r2_score: 0.9720\n",
      "Epoch [1121/5000]: Train smape: 13.8057, Valid smape: 10.4588\n",
      "\n"
     ]
    },
    {
     "name": "stderr",
     "output_type": "stream",
     "text": [
      "Epoch [1122/5000]: 100%|█████████████████████████████████████████████████████| 9/9 [00:00<00:00, 219.24it/s, loss=1.93]\n"
     ]
    },
    {
     "name": "stdout",
     "output_type": "stream",
     "text": [
      "Epoch [1122/5000]: Train loss: 2.3346, Valid loss: 1.0435\n",
      "Epoch [1122/5000]: Train r2_score: 0.9418, Valid r2_score: 0.9723\n",
      "Epoch [1122/5000]: Train smape: 13.2431, Valid smape: 10.4654\n",
      "\n"
     ]
    },
    {
     "name": "stderr",
     "output_type": "stream",
     "text": [
      "Epoch [1123/5000]: 100%|█████████████████████████████████████████████████████| 9/9 [00:00<00:00, 220.50it/s, loss=2.92]\n"
     ]
    },
    {
     "name": "stdout",
     "output_type": "stream",
     "text": [
      "Epoch [1123/5000]: Train loss: 2.7652, Valid loss: 1.1983\n",
      "Epoch [1123/5000]: Train r2_score: 0.9321, Valid r2_score: 0.9709\n",
      "Epoch [1123/5000]: Train smape: 13.4041, Valid smape: 10.5216\n",
      "\n"
     ]
    },
    {
     "name": "stderr",
     "output_type": "stream",
     "text": [
      "Epoch [1124/5000]: 100%|█████████████████████████████████████████████████████| 9/9 [00:00<00:00, 231.78it/s, loss=3.16]\n"
     ]
    },
    {
     "name": "stdout",
     "output_type": "stream",
     "text": [
      "Epoch [1124/5000]: Train loss: 2.8663, Valid loss: 1.1068\n",
      "Epoch [1124/5000]: Train r2_score: 0.9298, Valid r2_score: 0.9717\n",
      "Epoch [1124/5000]: Train smape: 13.4839, Valid smape: 10.5004\n",
      "\n"
     ]
    },
    {
     "name": "stderr",
     "output_type": "stream",
     "text": [
      "Epoch [1125/5000]: 100%|█████████████████████████████████████████████████████| 9/9 [00:00<00:00, 200.25it/s, loss=2.51]\n"
     ]
    },
    {
     "name": "stdout",
     "output_type": "stream",
     "text": [
      "Epoch [1125/5000]: Train loss: 2.5201, Valid loss: 1.2727\n",
      "Epoch [1125/5000]: Train r2_score: 0.9379, Valid r2_score: 0.9744\n",
      "Epoch [1125/5000]: Train smape: 13.2714, Valid smape: 10.3393\n",
      "\n"
     ]
    },
    {
     "name": "stderr",
     "output_type": "stream",
     "text": [
      "Epoch [1126/5000]: 100%|█████████████████████████████████████████████████████| 9/9 [00:00<00:00, 203.22it/s, loss=4.71]\n"
     ]
    },
    {
     "name": "stdout",
     "output_type": "stream",
     "text": [
      "Epoch [1126/5000]: Train loss: 3.0860, Valid loss: 1.2432\n",
      "Epoch [1126/5000]: Train r2_score: 0.9266, Valid r2_score: 0.9734\n",
      "Epoch [1126/5000]: Train smape: 13.9256, Valid smape: 10.3771\n",
      "\n"
     ]
    },
    {
     "name": "stderr",
     "output_type": "stream",
     "text": [
      "Epoch [1127/5000]: 100%|█████████████████████████████████████████████████████| 9/9 [00:00<00:00, 225.29it/s, loss=2.59]\n"
     ]
    },
    {
     "name": "stdout",
     "output_type": "stream",
     "text": [
      "Epoch [1127/5000]: Train loss: 2.4773, Valid loss: 0.9963\n",
      "Epoch [1127/5000]: Train r2_score: 0.9391, Valid r2_score: 0.9735\n",
      "Epoch [1127/5000]: Train smape: 13.4578, Valid smape: 10.3561\n",
      "\n"
     ]
    },
    {
     "name": "stderr",
     "output_type": "stream",
     "text": [
      "Epoch [1128/5000]: 100%|█████████████████████████████████████████████████████| 9/9 [00:00<00:00, 220.64it/s, loss=3.03]\n"
     ]
    },
    {
     "name": "stdout",
     "output_type": "stream",
     "text": [
      "Epoch [1128/5000]: Train loss: 2.7639, Valid loss: 1.4276\n",
      "Epoch [1128/5000]: Train r2_score: 0.9323, Valid r2_score: 0.9692\n",
      "Epoch [1128/5000]: Train smape: 14.0148, Valid smape: 10.6968\n",
      "\n"
     ]
    },
    {
     "name": "stderr",
     "output_type": "stream",
     "text": [
      "Epoch [1129/5000]: 100%|█████████████████████████████████████████████████████| 9/9 [00:00<00:00, 192.81it/s, loss=2.39]\n"
     ]
    },
    {
     "name": "stdout",
     "output_type": "stream",
     "text": [
      "Epoch [1129/5000]: Train loss: 2.5496, Valid loss: 1.0754\n",
      "Epoch [1129/5000]: Train r2_score: 0.9369, Valid r2_score: 0.9741\n",
      "Epoch [1129/5000]: Train smape: 13.9855, Valid smape: 10.4511\n",
      "\n"
     ]
    },
    {
     "name": "stderr",
     "output_type": "stream",
     "text": [
      "Epoch [1130/5000]: 100%|█████████████████████████████████████████████████████| 9/9 [00:00<00:00, 200.48it/s, loss=3.26]\n"
     ]
    },
    {
     "name": "stdout",
     "output_type": "stream",
     "text": [
      "Epoch [1130/5000]: Train loss: 2.5704, Valid loss: 0.9642\n",
      "Epoch [1130/5000]: Train r2_score: 0.9378, Valid r2_score: 0.9736\n",
      "Epoch [1130/5000]: Train smape: 13.3490, Valid smape: 10.3984\n",
      "\n"
     ]
    },
    {
     "name": "stderr",
     "output_type": "stream",
     "text": [
      "Epoch [1131/5000]: 100%|█████████████████████████████████████████████████████| 9/9 [00:00<00:00, 208.71it/s, loss=8.37]\n"
     ]
    },
    {
     "name": "stdout",
     "output_type": "stream",
     "text": [
      "Epoch [1131/5000]: Train loss: 3.2342, Valid loss: 1.1622\n",
      "Epoch [1131/5000]: Train r2_score: 0.9287, Valid r2_score: 0.9681\n",
      "Epoch [1131/5000]: Train smape: 13.9557, Valid smape: 10.8580\n",
      "\n"
     ]
    },
    {
     "name": "stderr",
     "output_type": "stream",
     "text": [
      "Epoch [1132/5000]: 100%|████████████████████████████████████████████████████████| 9/9 [00:00<00:00, 198.55it/s, loss=2]\n"
     ]
    },
    {
     "name": "stdout",
     "output_type": "stream",
     "text": [
      "Epoch [1132/5000]: Train loss: 2.4949, Valid loss: 1.2529\n",
      "Epoch [1132/5000]: Train r2_score: 0.9377, Valid r2_score: 0.9745\n",
      "Epoch [1132/5000]: Train smape: 13.1582, Valid smape: 10.4061\n",
      "\n"
     ]
    },
    {
     "name": "stderr",
     "output_type": "stream",
     "text": [
      "Epoch [1133/5000]: 100%|█████████████████████████████████████████████████████| 9/9 [00:00<00:00, 215.38it/s, loss=2.46]\n"
     ]
    },
    {
     "name": "stdout",
     "output_type": "stream",
     "text": [
      "Epoch [1133/5000]: Train loss: 2.5641, Valid loss: 1.6023\n",
      "Epoch [1133/5000]: Train r2_score: 0.9366, Valid r2_score: 0.9703\n",
      "Epoch [1133/5000]: Train smape: 13.6993, Valid smape: 10.6130\n",
      "\n"
     ]
    },
    {
     "name": "stderr",
     "output_type": "stream",
     "text": [
      "Epoch [1134/5000]: 100%|█████████████████████████████████████████████████████| 9/9 [00:00<00:00, 215.79it/s, loss=2.08]\n"
     ]
    },
    {
     "name": "stdout",
     "output_type": "stream",
     "text": [
      "Epoch [1134/5000]: Train loss: 2.6743, Valid loss: 1.4088\n",
      "Epoch [1134/5000]: Train r2_score: 0.9331, Valid r2_score: 0.9719\n",
      "Epoch [1134/5000]: Train smape: 14.2778, Valid smape: 11.0462\n",
      "\n"
     ]
    },
    {
     "name": "stderr",
     "output_type": "stream",
     "text": [
      "Epoch [1135/5000]: 100%|█████████████████████████████████████████████████████| 9/9 [00:00<00:00, 214.22it/s, loss=3.56]\n"
     ]
    },
    {
     "name": "stdout",
     "output_type": "stream",
     "text": [
      "Epoch [1135/5000]: Train loss: 2.9065, Valid loss: 1.3245\n",
      "Epoch [1135/5000]: Train r2_score: 0.9294, Valid r2_score: 0.9705\n",
      "Epoch [1135/5000]: Train smape: 13.5013, Valid smape: 10.5393\n",
      "\n"
     ]
    },
    {
     "name": "stderr",
     "output_type": "stream",
     "text": [
      "Epoch [1136/5000]: 100%|█████████████████████████████████████████████████████| 9/9 [00:00<00:00, 228.14it/s, loss=2.65]\n"
     ]
    },
    {
     "name": "stdout",
     "output_type": "stream",
     "text": [
      "Epoch [1136/5000]: Train loss: 2.4864, Valid loss: 1.4783\n",
      "Epoch [1136/5000]: Train r2_score: 0.9390, Valid r2_score: 0.9714\n",
      "Epoch [1136/5000]: Train smape: 12.9168, Valid smape: 10.4749\n",
      "\n"
     ]
    },
    {
     "name": "stderr",
     "output_type": "stream",
     "text": [
      "Epoch [1137/5000]: 100%|█████████████████████████████████████████████████████| 9/9 [00:00<00:00, 226.23it/s, loss=3.59]\n"
     ]
    },
    {
     "name": "stdout",
     "output_type": "stream",
     "text": [
      "Epoch [1137/5000]: Train loss: 2.9170, Valid loss: 1.1418\n",
      "Epoch [1137/5000]: Train r2_score: 0.9292, Valid r2_score: 0.9694\n",
      "Epoch [1137/5000]: Train smape: 14.0911, Valid smape: 10.6933\n",
      "\n"
     ]
    },
    {
     "name": "stderr",
     "output_type": "stream",
     "text": [
      "Epoch [1138/5000]: 100%|█████████████████████████████████████████████████████| 9/9 [00:00<00:00, 230.74it/s, loss=2.31]\n"
     ]
    },
    {
     "name": "stdout",
     "output_type": "stream",
     "text": [
      "Epoch [1138/5000]: Train loss: 2.6409, Valid loss: 1.0419\n",
      "Epoch [1138/5000]: Train r2_score: 0.9344, Valid r2_score: 0.9735\n",
      "Epoch [1138/5000]: Train smape: 13.2473, Valid smape: 10.3861\n",
      "\n"
     ]
    },
    {
     "name": "stderr",
     "output_type": "stream",
     "text": [
      "Epoch [1139/5000]: 100%|██████████████████████████████████████████████████████| 9/9 [00:00<00:00, 208.00it/s, loss=4.1]\n"
     ]
    },
    {
     "name": "stdout",
     "output_type": "stream",
     "text": [
      "Epoch [1139/5000]: Train loss: 2.6792, Valid loss: 1.0858\n",
      "Epoch [1139/5000]: Train r2_score: 0.9363, Valid r2_score: 0.9746\n",
      "Epoch [1139/5000]: Train smape: 13.4938, Valid smape: 10.3424\n",
      "\n"
     ]
    },
    {
     "name": "stderr",
     "output_type": "stream",
     "text": [
      "Epoch [1140/5000]: 100%|█████████████████████████████████████████████████████| 9/9 [00:00<00:00, 195.46it/s, loss=2.22]\n"
     ]
    },
    {
     "name": "stdout",
     "output_type": "stream",
     "text": [
      "Epoch [1140/5000]: Train loss: 2.7913, Valid loss: 1.5134\n",
      "Epoch [1140/5000]: Train r2_score: 0.9303, Valid r2_score: 0.9655\n",
      "Epoch [1140/5000]: Train smape: 14.1908, Valid smape: 10.9274\n",
      "\n"
     ]
    },
    {
     "name": "stderr",
     "output_type": "stream",
     "text": [
      "Epoch [1141/5000]: 100%|█████████████████████████████████████████████████████| 9/9 [00:00<00:00, 208.84it/s, loss=3.06]\n"
     ]
    },
    {
     "name": "stdout",
     "output_type": "stream",
     "text": [
      "Epoch [1141/5000]: Train loss: 2.5669, Valid loss: 1.2096\n",
      "Epoch [1141/5000]: Train r2_score: 0.9376, Valid r2_score: 0.9738\n",
      "Epoch [1141/5000]: Train smape: 13.2661, Valid smape: 10.4464\n",
      "\n"
     ]
    },
    {
     "name": "stderr",
     "output_type": "stream",
     "text": [
      "Epoch [1142/5000]: 100%|█████████████████████████████████████████████████████| 9/9 [00:00<00:00, 227.11it/s, loss=3.24]\n"
     ]
    },
    {
     "name": "stdout",
     "output_type": "stream",
     "text": [
      "Epoch [1142/5000]: Train loss: 2.5477, Valid loss: 1.1713\n",
      "Epoch [1142/5000]: Train r2_score: 0.9383, Valid r2_score: 0.9716\n",
      "Epoch [1142/5000]: Train smape: 13.5140, Valid smape: 10.4831\n",
      "\n"
     ]
    },
    {
     "name": "stderr",
     "output_type": "stream",
     "text": [
      "Epoch [1143/5000]: 100%|█████████████████████████████████████████████████████| 9/9 [00:00<00:00, 210.16it/s, loss=3.37]\n"
     ]
    },
    {
     "name": "stdout",
     "output_type": "stream",
     "text": [
      "Epoch [1143/5000]: Train loss: 2.5666, Valid loss: 1.2258\n",
      "Epoch [1143/5000]: Train r2_score: 0.9381, Valid r2_score: 0.9737\n",
      "Epoch [1143/5000]: Train smape: 13.4321, Valid smape: 10.3601\n",
      "\n"
     ]
    },
    {
     "name": "stderr",
     "output_type": "stream",
     "text": [
      "Epoch [1144/5000]: 100%|█████████████████████████████████████████████████████| 9/9 [00:00<00:00, 210.68it/s, loss=3.16]\n"
     ]
    },
    {
     "name": "stdout",
     "output_type": "stream",
     "text": [
      "Epoch [1144/5000]: Train loss: 2.7109, Valid loss: 1.3061\n",
      "Epoch [1144/5000]: Train r2_score: 0.9339, Valid r2_score: 0.9721\n",
      "Epoch [1144/5000]: Train smape: 13.7507, Valid smape: 10.6191\n",
      "\n"
     ]
    },
    {
     "name": "stderr",
     "output_type": "stream",
     "text": [
      "Epoch [1145/5000]: 100%|█████████████████████████████████████████████████████| 9/9 [00:00<00:00, 209.29it/s, loss=2.65]\n"
     ]
    },
    {
     "name": "stdout",
     "output_type": "stream",
     "text": [
      "Epoch [1145/5000]: Train loss: 2.6660, Valid loss: 1.5877\n",
      "Epoch [1145/5000]: Train r2_score: 0.9343, Valid r2_score: 0.9628\n",
      "Epoch [1145/5000]: Train smape: 12.9989, Valid smape: 11.0668\n",
      "\n"
     ]
    },
    {
     "name": "stderr",
     "output_type": "stream",
     "text": [
      "Epoch [1146/5000]: 100%|█████████████████████████████████████████████████████| 9/9 [00:00<00:00, 217.94it/s, loss=2.54]\n"
     ]
    },
    {
     "name": "stdout",
     "output_type": "stream",
     "text": [
      "Epoch [1146/5000]: Train loss: 2.5241, Valid loss: 1.0417\n",
      "Epoch [1146/5000]: Train r2_score: 0.9378, Valid r2_score: 0.9739\n",
      "Epoch [1146/5000]: Train smape: 13.0166, Valid smape: 10.4594\n",
      "\n"
     ]
    },
    {
     "name": "stderr",
     "output_type": "stream",
     "text": [
      "Epoch [1147/5000]: 100%|█████████████████████████████████████████████████████| 9/9 [00:00<00:00, 222.19it/s, loss=2.23]\n"
     ]
    },
    {
     "name": "stdout",
     "output_type": "stream",
     "text": [
      "Epoch [1147/5000]: Train loss: 2.5935, Valid loss: 1.4671\n",
      "Epoch [1147/5000]: Train r2_score: 0.9355, Valid r2_score: 0.9702\n",
      "Epoch [1147/5000]: Train smape: 13.0894, Valid smape: 10.5856\n",
      "\n"
     ]
    },
    {
     "name": "stderr",
     "output_type": "stream",
     "text": [
      "Epoch [1148/5000]: 100%|█████████████████████████████████████████████████████| 9/9 [00:00<00:00, 215.94it/s, loss=5.56]\n"
     ]
    },
    {
     "name": "stdout",
     "output_type": "stream",
     "text": [
      "Epoch [1148/5000]: Train loss: 2.9703, Valid loss: 1.0443\n",
      "Epoch [1148/5000]: Train r2_score: 0.9311, Valid r2_score: 0.9741\n",
      "Epoch [1148/5000]: Train smape: 13.9430, Valid smape: 10.3842\n",
      "\n"
     ]
    },
    {
     "name": "stderr",
     "output_type": "stream",
     "text": [
      "Epoch [1149/5000]: 100%|██████████████████████████████████████████████████████| 9/9 [00:00<00:00, 220.45it/s, loss=2.9]\n"
     ]
    },
    {
     "name": "stdout",
     "output_type": "stream",
     "text": [
      "Epoch [1149/5000]: Train loss: 2.8127, Valid loss: 1.0068\n",
      "Epoch [1149/5000]: Train r2_score: 0.9308, Valid r2_score: 0.9739\n",
      "Epoch [1149/5000]: Train smape: 13.4677, Valid smape: 10.3441\n",
      "\n"
     ]
    },
    {
     "name": "stderr",
     "output_type": "stream",
     "text": [
      "Epoch [1150/5000]: 100%|█████████████████████████████████████████████████████| 9/9 [00:00<00:00, 225.67it/s, loss=2.54]\n"
     ]
    },
    {
     "name": "stdout",
     "output_type": "stream",
     "text": [
      "Epoch [1150/5000]: Train loss: 2.4325, Valid loss: 1.7225\n",
      "Epoch [1150/5000]: Train r2_score: 0.9402, Valid r2_score: 0.9691\n",
      "Epoch [1150/5000]: Train smape: 13.1450, Valid smape: 10.7079\n",
      "\n"
     ]
    },
    {
     "name": "stderr",
     "output_type": "stream",
     "text": [
      "Epoch [1151/5000]: 100%|██████████████████████████████████████████████████████| 9/9 [00:00<00:00, 224.76it/s, loss=4.2]\n"
     ]
    },
    {
     "name": "stdout",
     "output_type": "stream",
     "text": [
      "Epoch [1151/5000]: Train loss: 2.7635, Valid loss: 1.1189\n",
      "Epoch [1151/5000]: Train r2_score: 0.9342, Valid r2_score: 0.9741\n",
      "Epoch [1151/5000]: Train smape: 13.4977, Valid smape: 10.3479\n",
      "\n"
     ]
    },
    {
     "name": "stderr",
     "output_type": "stream",
     "text": [
      "Epoch [1152/5000]: 100%|██████████████████████████████████████████████████████| 9/9 [00:00<00:00, 209.74it/s, loss=3.3]"
     ]
    },
    {
     "name": "stdout",
     "output_type": "stream",
     "text": [
      "Epoch [1152/5000]: Train loss: 2.8076, Valid loss: 1.1885\n",
      "Epoch [1152/5000]: Train r2_score: 0.9316, Valid r2_score: 0.9745\n",
      "Epoch [1152/5000]: Train smape: 13.6066, Valid smape: 10.3125\n",
      "\n",
      "\n",
      "Model is not improving, so we halt the training session.\n"
     ]
    },
    {
     "name": "stderr",
     "output_type": "stream",
     "text": [
      "\n"
     ]
    }
   ],
   "source": [
    "model = My_Model(input_dim=x_train.shape[1]).to(device) \n",
    "#put your model and data on the same computation device.\n",
    "train_losses, val_losses, train_r2scores, val_r2scores, train_smapes, val_smapes = trainer(train_loader, valid_loader, model, config, device)"
   ]
  },
  {
   "cell_type": "code",
   "execution_count": 11,
   "metadata": {},
   "outputs": [
    {
     "data": {
      "text/plain": [
       "[-2.2635858689232933,\n",
       " -2.1524712209139576,\n",
       " -2.0789237322885086,\n",
       " -1.9906958207764704,\n",
       " -1.9149451025864024,\n",
       " -1.8755030484638273,\n",
       " -1.8245483732675774,\n",
       " -1.7082702792413174,\n",
       " -1.6146256086447455,\n",
       " -1.5255249121105412,\n",
       " -1.4416848855974966,\n",
       " -1.380996312970277,\n",
       " -1.3772981886173592,\n",
       " -1.3378611162086842,\n",
       " -1.3048695973379392,\n",
       " -1.163129698847278,\n",
       " -1.0399463456139748,\n",
       " -0.9348480860219333,\n",
       " -0.8103885439115324,\n",
       " -0.7044475562175379,\n",
       " -0.6415966425516892,\n",
       " -0.5638533873460785,\n",
       " -0.5080379621754441,\n",
       " -0.4617403817055208,\n",
       " -0.41790070661332357,\n",
       " -0.39569615894577104,\n",
       " -0.39101878453374184,\n",
       " -0.376319223751457,\n",
       " -0.3760231327119592,\n",
       " -0.3710035065340094,\n",
       " -0.323410743075087,\n",
       " -0.24853260417236633,\n",
       " -0.18342623238747202,\n",
       " -0.12113317073191499,\n",
       " -0.0929702840340283,\n",
       " -0.06848759099186408,\n",
       " -0.03377652386111363,\n",
       " -0.022637731863708987,\n",
       " 0.012329376282140703,\n",
       " 0.02778689055660688,\n",
       " 0.04546212517245929,\n",
       " 0.04481545004837084,\n",
       " 0.07134565361914014,\n",
       " 0.08787405085018019,\n",
       " 0.0860344810755237,\n",
       " 0.0944228664864597,\n",
       " 0.11267461252614497,\n",
       " 0.13053466338216302,\n",
       " 0.1232523393313073,\n",
       " 0.16418044834062417,\n",
       " 0.14467169409120106,\n",
       " 0.14806687867064516,\n",
       " 0.16223813554739486,\n",
       " 0.16295893997403066,\n",
       " 0.16411571156743643,\n",
       " 0.17563977686127574,\n",
       " 0.1626406939255085,\n",
       " 0.16224968142574347,\n",
       " 0.17074462311869631,\n",
       " 0.17041871949631315,\n",
       " 0.1800973807149765,\n",
       " 0.17222489464361612,\n",
       " 0.1836547923793581,\n",
       " 0.19166441975878823,\n",
       " 0.2124252168803642,\n",
       " 0.2212891804103193,\n",
       " 0.24148682457664805,\n",
       " 0.2554905871943923,\n",
       " 0.2859822766915293,\n",
       " 0.30732201599270814,\n",
       " 0.32342179654442416,\n",
       " 0.3466589848176338,\n",
       " 0.3524627177183869,\n",
       " 0.3753017748872046,\n",
       " 0.40226205661715553,\n",
       " 0.42640013258731313,\n",
       " 0.432116026098059,\n",
       " 0.45671984852086234,\n",
       " 0.4664424419678782,\n",
       " 0.4838564670057136,\n",
       " 0.5071892906921167,\n",
       " 0.51487116419015,\n",
       " 0.5385894216470155,\n",
       " 0.5418615361155124,\n",
       " 0.5712347005430976,\n",
       " 0.5818761438777467,\n",
       " 0.6011625664599387,\n",
       " 0.6228581957186912,\n",
       " 0.6214471579086387,\n",
       " 0.6515627135541056,\n",
       " 0.6526386357553107,\n",
       " 0.6583781240052695,\n",
       " 0.6853440800166855,\n",
       " 0.6930788398714485,\n",
       " 0.7002884944177626,\n",
       " 0.704175705042605,\n",
       " 0.7312650401198799,\n",
       " 0.7105657127887739,\n",
       " 0.7332426971204773,\n",
       " 0.729845582631909,\n",
       " 0.7409380317348653,\n",
       " 0.7465835558979474,\n",
       " 0.7495352005414884,\n",
       " 0.7532952154705617,\n",
       " 0.7511256234059154,\n",
       " 0.7628981013282168,\n",
       " 0.7596928395461766,\n",
       " 0.7838970355644199,\n",
       " 0.76752069282012,\n",
       " 0.7711162138832987,\n",
       " 0.7786424479429865,\n",
       " 0.7872022524718447,\n",
       " 0.7739392332183758,\n",
       " 0.7771547560861647,\n",
       " 0.7870167227234626,\n",
       " 0.7834353432516136,\n",
       " 0.7832366921561551,\n",
       " 0.7750564160694953,\n",
       " 0.7819221489420325,\n",
       " 0.7968672002962751,\n",
       " 0.7790386439614434,\n",
       " 0.7859446187265033,\n",
       " 0.7862817855951529,\n",
       " 0.7911568936589836,\n",
       " 0.7836828967516867,\n",
       " 0.7873652908126703,\n",
       " 0.8003509858630011,\n",
       " 0.805289969671991,\n",
       " 0.8185035592517385,\n",
       " 0.8216116787433846,\n",
       " 0.8210767608592457,\n",
       " 0.8340694475252421,\n",
       " 0.8337207258391095,\n",
       " 0.8391595068502937,\n",
       " 0.8377237604246036,\n",
       " 0.8459985816055414,\n",
       " 0.8316028190812326,\n",
       " 0.8367534871711205,\n",
       " 0.849044644933362,\n",
       " 0.845399486808925,\n",
       " 0.8548053101790449,\n",
       " 0.8536149623612372,\n",
       " 0.8527389265108505,\n",
       " 0.8605562657519781,\n",
       " 0.8444355453740333,\n",
       " 0.8538068866378087,\n",
       " 0.8583961033896996,\n",
       " 0.8615947382067611,\n",
       " 0.8530108993953776,\n",
       " 0.8461014696747888,\n",
       " 0.867410231891439,\n",
       " 0.8605671186545172,\n",
       " 0.8595433328630673,\n",
       " 0.8706526597448555,\n",
       " 0.8627117615018527,\n",
       " 0.8529157697062342,\n",
       " 0.8671350971115783,\n",
       " 0.8635945327650625,\n",
       " 0.8571317202268178,\n",
       " 0.8702074465138211,\n",
       " 0.8554221914598314,\n",
       " 0.8683123630274087,\n",
       " 0.8566073255722946,\n",
       " 0.8532045100367311,\n",
       " 0.8675217211271222,\n",
       " 0.8715584929981638,\n",
       " 0.872101725430772,\n",
       " 0.8699217210105785,\n",
       " 0.8744516817226474,\n",
       " 0.8616907886091432,\n",
       " 0.8723485239502932,\n",
       " 0.8654347200216062,\n",
       " 0.8675608238542238,\n",
       " 0.8663763560974921,\n",
       " 0.8662406480856375,\n",
       " 0.8692078540276367,\n",
       " 0.8737406302549415,\n",
       " 0.8698559704562919,\n",
       " 0.8751097945849884,\n",
       " 0.8707371799192506,\n",
       " 0.8613664272270916,\n",
       " 0.8590752747207244,\n",
       " 0.8688463237993792,\n",
       " 0.8744642002085082,\n",
       " 0.8620375443084409,\n",
       " 0.8597770355098274,\n",
       " 0.8656060243394075,\n",
       " 0.8764017051778771,\n",
       " 0.8716598178170218,\n",
       " 0.8705476566994234,\n",
       " 0.8725535994841542,\n",
       " 0.8836176237297653,\n",
       " 0.8713918884876733,\n",
       " 0.8826911888936751,\n",
       " 0.8733490538757316,\n",
       " 0.8707432765164052,\n",
       " 0.86899710435284,\n",
       " 0.8769887263830245,\n",
       " 0.8726326583946907,\n",
       " 0.8763481323572972,\n",
       " 0.8733381576869321,\n",
       " 0.8717439650918861,\n",
       " 0.8671136280332752,\n",
       " 0.8780955564422684,\n",
       " 0.8844313870386775,\n",
       " 0.868829211443698,\n",
       " 0.8750651969539955,\n",
       " 0.8725648232265377,\n",
       " 0.8738722692553874,\n",
       " 0.8785345088460865,\n",
       " 0.8711003627926648,\n",
       " 0.8754218286375955,\n",
       " 0.8771634847691892,\n",
       " 0.8755567496796006,\n",
       " 0.8805130817868791,\n",
       " 0.8844704023233279,\n",
       " 0.8779016009065478,\n",
       " 0.8858461974400849,\n",
       " 0.8702150936833746,\n",
       " 0.8712853577940094,\n",
       " 0.8748257993872401,\n",
       " 0.8808297008202817,\n",
       " 0.8810942595210824,\n",
       " 0.878295503736148,\n",
       " 0.8924362595165277,\n",
       " 0.86832222505281,\n",
       " 0.8691717558042288,\n",
       " 0.8759275632385849,\n",
       " 0.8759597814198038,\n",
       " 0.8694115508563961,\n",
       " 0.8708369780870634,\n",
       " 0.8747703163219036,\n",
       " 0.8786034807903886,\n",
       " 0.8848918231646056,\n",
       " 0.8808143825699564,\n",
       " 0.8849618151523044,\n",
       " 0.8795185277858877,\n",
       " 0.87280801254749,\n",
       " 0.8844917545160282,\n",
       " 0.8792277592638135,\n",
       " 0.8725610293443344,\n",
       " 0.8681944121444674,\n",
       " 0.8655876519294061,\n",
       " 0.8804435407699307,\n",
       " 0.8837056811910329,\n",
       " 0.8783279186724604,\n",
       " 0.8803211942998859,\n",
       " 0.8777740246954071,\n",
       " 0.882414656533198,\n",
       " 0.8863901969268428,\n",
       " 0.8680268302516183,\n",
       " 0.8703495675174481,\n",
       " 0.8729916654320086,\n",
       " 0.8873502607773709,\n",
       " 0.875945605989386,\n",
       " 0.8796222497048483,\n",
       " 0.8882228179312027,\n",
       " 0.859112558181234,\n",
       " 0.88142534442802,\n",
       " 0.8887896753616384,\n",
       " 0.8752372416165302,\n",
       " 0.8803825031647625,\n",
       " 0.8795880935607511,\n",
       " 0.879640915750203,\n",
       " 0.8792078858489544,\n",
       " 0.8822074139291796,\n",
       " 0.8906178317703779,\n",
       " 0.8807252242522954,\n",
       " 0.8793032805338155,\n",
       " 0.8839862640541158,\n",
       " 0.8796466451874777,\n",
       " 0.8893311766284367,\n",
       " 0.8851142580843716,\n",
       " 0.869670619516138,\n",
       " 0.8807183913716594,\n",
       " 0.8856071416427037,\n",
       " 0.8815941232768179,\n",
       " 0.8900641853776299,\n",
       " 0.8863971183024072,\n",
       " 0.8900397670070246,\n",
       " 0.8782557476573882,\n",
       " 0.8801693204336369,\n",
       " 0.8871974965446496,\n",
       " 0.8874141278376948,\n",
       " 0.8872573644538905,\n",
       " 0.8758861690010759,\n",
       " 0.8887425488883548,\n",
       " 0.8859810353493438,\n",
       " 0.8822514336289922,\n",
       " 0.8862999366820963,\n",
       " 0.8822605139358617,\n",
       " 0.8838195460391128,\n",
       " 0.8913651389592184,\n",
       " 0.8850506416118747,\n",
       " 0.8848979915155457,\n",
       " 0.8901898169209983,\n",
       " 0.8946084387211243,\n",
       " 0.882098536866946,\n",
       " 0.8960006578405032,\n",
       " 0.8935982381127671,\n",
       " 0.8845273164673737,\n",
       " 0.8930888873322061,\n",
       " 0.8920417866489507,\n",
       " 0.9043624632245025,\n",
       " 0.8882813297363394,\n",
       " 0.8945117083564085,\n",
       " 0.8807696599642376,\n",
       " 0.8945341553123265,\n",
       " 0.8927395296781118,\n",
       " 0.8957494878022121,\n",
       " 0.889337153840375,\n",
       " 0.8954225739094231,\n",
       " 0.8974260058017286,\n",
       " 0.8926438556572855,\n",
       " 0.8934197338527399,\n",
       " 0.892787445643841,\n",
       " 0.8998018931289895,\n",
       " 0.8947795463928229,\n",
       " 0.8850091048894572,\n",
       " 0.8929473504812192,\n",
       " 0.8934495659070487,\n",
       " 0.901169641194796,\n",
       " 0.8902426144964122,\n",
       " 0.8964845152209814,\n",
       " 0.8948051844115805,\n",
       " 0.8969990449091748,\n",
       " 0.9023341355900594,\n",
       " 0.8986764127731146,\n",
       " 0.9034433788718248,\n",
       " 0.8964745549350602,\n",
       " 0.8925758308427898,\n",
       " 0.8908089215580473,\n",
       " 0.9030773541138019,\n",
       " 0.89898936681209,\n",
       " 0.8984402757378133,\n",
       " 0.8945713574598364,\n",
       " 0.8928945491139693,\n",
       " 0.8971593000943925,\n",
       " 0.9029030265939788,\n",
       " 0.8999133840260041,\n",
       " 0.8971829270669069,\n",
       " 0.9010070492924591,\n",
       " 0.8988861911388584,\n",
       " 0.9040354023148207,\n",
       " 0.903694357808254,\n",
       " 0.8947388092267687,\n",
       " 0.9009049267435694,\n",
       " 0.9002959591307771,\n",
       " 0.9005139637649404,\n",
       " 0.9021438816423687,\n",
       " 0.8997056530019987,\n",
       " 0.8931956214801984,\n",
       " 0.9065964325085824,\n",
       " 0.9039348393824633,\n",
       " 0.9001282674929046,\n",
       " 0.9076384721547581,\n",
       " 0.9041137571667802,\n",
       " 0.9064861174838654,\n",
       " 0.9054414912060936,\n",
       " 0.9029864139547711,\n",
       " 0.9027188121187149,\n",
       " 0.9012949513784797,\n",
       " 0.9119301142973355,\n",
       " 0.8985835333259198,\n",
       " 0.9067376079691889,\n",
       " 0.9025370525304284,\n",
       " 0.9091753961161975,\n",
       " 0.9068316636336603,\n",
       " 0.9094689753335274,\n",
       " 0.9026264878066471,\n",
       " 0.9058849665099984,\n",
       " 0.8996579432459377,\n",
       " 0.9105090442352479,\n",
       " 0.9090374822638035,\n",
       " 0.9027920184486606,\n",
       " 0.9050838648497933,\n",
       " 0.9070048991242153,\n",
       " 0.8946543820843993,\n",
       " 0.9032477455987211,\n",
       " 0.9039551856838753,\n",
       " 0.9034882392021539,\n",
       " 0.905506025625465,\n",
       " 0.9037623828295318,\n",
       " 0.9004023931556132,\n",
       " 0.9094521077127279,\n",
       " 0.9150903077842973,\n",
       " 0.9105912460557973,\n",
       " 0.9091083834494919,\n",
       " 0.9070796508339565,\n",
       " 0.905067340832276,\n",
       " 0.9010326854773356,\n",
       " 0.904440797729396,\n",
       " 0.9160093043256432,\n",
       " 0.904815330403914,\n",
       " 0.9172909594190529,\n",
       " 0.9127141675845625,\n",
       " 0.9017890204753329,\n",
       " 0.9095604988663403,\n",
       " 0.9012027054143976,\n",
       " 0.909970826183861,\n",
       " 0.9148208502457814,\n",
       " 0.9047378980489897,\n",
       " 0.9163709406207856,\n",
       " 0.9036331112581588,\n",
       " 0.913260159106051,\n",
       " 0.9065673389731637,\n",
       " 0.914533521475439,\n",
       " 0.915717516937173,\n",
       " 0.9128213154483057,\n",
       " 0.9103862548192904,\n",
       " 0.9134616193489603,\n",
       " 0.9060757798802034,\n",
       " 0.9043566873123361,\n",
       " 0.9018088524845853,\n",
       " 0.9139481646083321,\n",
       " 0.9126515081533904,\n",
       " 0.9109075610228741,\n",
       " 0.9020009438010144,\n",
       " 0.9084890038964559,\n",
       " 0.908776664300284,\n",
       " 0.9051643992766973,\n",
       " 0.9083402848303156,\n",
       " 0.902386425685988,\n",
       " 0.9105656237452628,\n",
       " 0.9124181137149731,\n",
       " 0.9117969031772408,\n",
       " 0.918368631128615,\n",
       " 0.9110224924678638,\n",
       " 0.9103208880086218,\n",
       " 0.9110593802224114,\n",
       " 0.9103197960673559,\n",
       " 0.9095091336343804,\n",
       " 0.9093186459855863,\n",
       " 0.9078007243763115,\n",
       " 0.9140406620969769,\n",
       " 0.9119774279357538,\n",
       " 0.9064095574119664,\n",
       " 0.914698073025696,\n",
       " 0.9038842294948094,\n",
       " 0.9080920990830433,\n",
       " 0.9122074745853881,\n",
       " 0.9157186488885777,\n",
       " 0.9071062998010766,\n",
       " 0.910733539042094,\n",
       " 0.9111554270138094,\n",
       " 0.907586334065878,\n",
       " 0.9149500124028127,\n",
       " 0.9142267540329408,\n",
       " 0.9122734302593054,\n",
       " 0.9078631420233647,\n",
       " 0.9090545044138761,\n",
       " 0.9150935030936354,\n",
       " 0.9134605943330341,\n",
       " 0.9202445272599828,\n",
       " 0.9120147312130242,\n",
       " 0.909960354057265,\n",
       " 0.9165403544901295,\n",
       " 0.9136914739390896,\n",
       " 0.9135451935553054,\n",
       " 0.9136090412234508,\n",
       " 0.9148973164862566,\n",
       " 0.9054138415709364,\n",
       " 0.911207527177744,\n",
       " 0.9135375384086957,\n",
       " 0.9135459563934003,\n",
       " 0.9120219095414573,\n",
       " 0.8972842219946161,\n",
       " 0.8999197234140784,\n",
       " 0.9089364374029848,\n",
       " 0.9104139379577252,\n",
       " 0.9152874825721382,\n",
       " 0.9124416433884995,\n",
       " 0.9153317146296988,\n",
       " 0.9124122534107423,\n",
       " 0.9156236250625137,\n",
       " 0.9110623190574992,\n",
       " 0.9090458278987757,\n",
       " 0.9117596851769287,\n",
       " 0.9104960947526313,\n",
       " 0.9112237591819506,\n",
       " 0.9129472457765866,\n",
       " 0.9089801924166957,\n",
       " 0.9191230603351122,\n",
       " 0.909354936753948,\n",
       " 0.907235690576004,\n",
       " 0.9178350058917194,\n",
       " 0.9069253415549039,\n",
       " 0.9082025719300593,\n",
       " 0.9212884402227756,\n",
       " 0.9110517675177784,\n",
       " 0.9039339207168344,\n",
       " 0.9059298162011561,\n",
       " 0.9075270537743045,\n",
       " 0.9139766427708209,\n",
       " 0.912437074939634,\n",
       " 0.9167304671862004,\n",
       " 0.909042585489465,\n",
       " 0.9087190714064984,\n",
       " 0.9167646247279454,\n",
       " 0.9097852331800373,\n",
       " 0.9145937992777345,\n",
       " 0.9156795103351891,\n",
       " 0.9121541507665215,\n",
       " 0.9109698784808549,\n",
       " 0.9194314334973701,\n",
       " 0.9114606681918254,\n",
       " 0.9099137662892473,\n",
       " 0.9160851204416306,\n",
       " 0.9050733184156033,\n",
       " 0.9142616516024588,\n",
       " 0.9153894250444408,\n",
       " 0.9142644637602284,\n",
       " 0.9113617522864368,\n",
       " 0.9079659130621068,\n",
       " 0.9041517249695306,\n",
       " 0.9180254634932116,\n",
       " 0.9157215469439747,\n",
       " 0.9107139206634092,\n",
       " 0.9158637857997529,\n",
       " 0.912338064782194,\n",
       " 0.9119657030201873,\n",
       " 0.9096013548201796,\n",
       " 0.9065981765830121,\n",
       " 0.9075981270663143,\n",
       " 0.9143841359335344,\n",
       " 0.9137943490006435,\n",
       " 0.9151271481019836,\n",
       " 0.9165392740144711,\n",
       " 0.9133426126222433,\n",
       " 0.9113794521605764,\n",
       " 0.916305756637463,\n",
       " 0.9175714360890734,\n",
       " 0.9180554927099628,\n",
       " 0.9202784118410612,\n",
       " 0.9124348099316636,\n",
       " 0.9207493208260298,\n",
       " 0.9196337280457273,\n",
       " 0.9176234848693284,\n",
       " 0.9090570944345503,\n",
       " 0.9200555601693803,\n",
       " 0.9125443570116439,\n",
       " 0.9181273875138244,\n",
       " 0.9173185470514355,\n",
       " 0.9123158216820649,\n",
       " 0.920388673163803,\n",
       " 0.918170053627607,\n",
       " 0.9171383916970524,\n",
       " 0.9187144528220037,\n",
       " 0.9121738147529275,\n",
       " 0.9226727515803193,\n",
       " 0.9140898573141694,\n",
       " 0.9209130000466267,\n",
       " 0.9204277607436638,\n",
       " 0.9186243355784753,\n",
       " 0.9204749700312894,\n",
       " 0.9188665280998756,\n",
       " 0.9120026150783067,\n",
       " 0.9240395501656383,\n",
       " 0.9215949227583219,\n",
       " 0.9126509747067766,\n",
       " 0.9173865894263938,\n",
       " 0.9137165272030209,\n",
       " 0.9200420865103905,\n",
       " 0.9200983336081656,\n",
       " 0.9132971910393708,\n",
       " 0.9189965287585022,\n",
       " 0.9180051320735519,\n",
       " 0.9152442991095214,\n",
       " 0.9230759965366115,\n",
       " 0.926605834978514,\n",
       " 0.9153475309639594,\n",
       " 0.9228681639761838,\n",
       " 0.9189928439230156,\n",
       " 0.9158486473029397,\n",
       " 0.9206636903028981,\n",
       " 0.9207810433232558,\n",
       " 0.9217112012257023,\n",
       " 0.9228288513480096,\n",
       " 0.9149198539024953,\n",
       " 0.9168225611222737,\n",
       " 0.9241424911912852,\n",
       " 0.9172492077940457,\n",
       " 0.9177108416857487,\n",
       " 0.9190841503166524,\n",
       " 0.9195255048378982,\n",
       " 0.9195059327909436,\n",
       " 0.9209328946919718,\n",
       " 0.9175668625046427,\n",
       " 0.9274054726222726,\n",
       " 0.9221008947554051,\n",
       " 0.925804002808838,\n",
       " 0.9247499876787176,\n",
       " 0.9261187922687055,\n",
       " 0.9255758312392316,\n",
       " 0.9257673110137374,\n",
       " 0.9180871599273068,\n",
       " 0.9235622547449138,\n",
       " 0.9242507021096911,\n",
       " 0.9226239417279504,\n",
       " 0.9204145007987131,\n",
       " 0.9225285191226689,\n",
       " 0.9182734732082094,\n",
       " 0.9211036532929062,\n",
       " 0.9253568500588288,\n",
       " 0.9239680938699202,\n",
       " 0.9265427262759578,\n",
       " 0.9255490301255386,\n",
       " 0.9196277629489017,\n",
       " 0.9181195197344124,\n",
       " 0.9231168291770191,\n",
       " 0.9261683124352535,\n",
       " 0.9242506082014684,\n",
       " 0.9247381719205364,\n",
       " 0.9201006446975722,\n",
       " 0.9254413872120443,\n",
       " 0.9290124875583996,\n",
       " 0.9271551186770168,\n",
       " 0.9235441361896889,\n",
       " 0.9188482905006292,\n",
       " 0.9251112485613643,\n",
       " 0.9288602748371918,\n",
       " 0.9263922198763984,\n",
       " 0.9279061476967393,\n",
       " 0.92003647616235,\n",
       " 0.9189483855083157,\n",
       " 0.9249781915481128,\n",
       " 0.9238690063564235,\n",
       " 0.9187826066874357,\n",
       " 0.9192000943313929,\n",
       " 0.9274548061395315,\n",
       " 0.9254921150739243,\n",
       " 0.9208986457599795,\n",
       " 0.9265182500057476,\n",
       " 0.9184678066208618,\n",
       " 0.9273718721492279,\n",
       " 0.9225545368376658,\n",
       " 0.9278841307413628,\n",
       " 0.9260817643640598,\n",
       " 0.9297600876713723,\n",
       " 0.9315123196670075,\n",
       " 0.9290898547872659,\n",
       " 0.923033700838894,\n",
       " 0.9241489329702846,\n",
       " 0.9287461187463568,\n",
       " 0.9233743473947392,\n",
       " 0.9338083907663852,\n",
       " 0.9296327787962306,\n",
       " 0.9278934667647251,\n",
       " 0.9295464140284299,\n",
       " 0.9254762660651981,\n",
       " 0.929488731159615,\n",
       " 0.9248832506615823,\n",
       " 0.926917002329944,\n",
       " 0.9297234700133427,\n",
       " 0.9295509809903955,\n",
       " 0.9307282457315014,\n",
       " 0.9260915765747132,\n",
       " 0.9359140518351691,\n",
       " 0.9201403881118543,\n",
       " 0.9326849782891705,\n",
       " 0.9246178456695596,\n",
       " 0.9252214417890539,\n",
       " 0.9253215513217581,\n",
       " 0.929040641672304,\n",
       " 0.9221787204089898,\n",
       " 0.9297664633727531,\n",
       " 0.9341269654607821,\n",
       " 0.9253136142811849,\n",
       " 0.9324376281457016,\n",
       " 0.9287047851086122,\n",
       " 0.9333944968597505,\n",
       " 0.9295743539570748,\n",
       " 0.9330040743209941,\n",
       " 0.9274600812656835,\n",
       " 0.9278669430399313,\n",
       " 0.9274958262217723,\n",
       " 0.9279461430220279,\n",
       " 0.9235033749352302,\n",
       " 0.9280383768793662,\n",
       " 0.9256747978874842,\n",
       " 0.930952034862149,\n",
       " 0.9309670148788695,\n",
       " 0.9258396195621644,\n",
       " 0.9336644797766497,\n",
       " 0.9292723712769553,\n",
       " 0.9282243343446099,\n",
       " 0.9226984699952339,\n",
       " 0.9298058183295522,\n",
       " 0.9293321590892947,\n",
       " 0.933407646567724,\n",
       " 0.9304340618951596,\n",
       " 0.9233804497376668,\n",
       " 0.9237623740666654,\n",
       " 0.922372686607192,\n",
       " 0.9296027134689511,\n",
       " 0.9294200304528044,\n",
       " 0.9281164663098916,\n",
       " 0.9348659115094735,\n",
       " 0.9268072349719516,\n",
       " 0.930100008837537,\n",
       " 0.9282779245599471,\n",
       " 0.9316536582504866,\n",
       " 0.9288527702100319,\n",
       " 0.9257273474298633,\n",
       " 0.9310890568618942,\n",
       " 0.9336747154019329,\n",
       " 0.9343377135272034,\n",
       " 0.9330756567086572,\n",
       " 0.9216471442735849,\n",
       " 0.9324572712347678,\n",
       " 0.9277877882290865,\n",
       " 0.9310158759858053,\n",
       " 0.9347414970722117,\n",
       " 0.9278122191465389,\n",
       " 0.9264628148799305,\n",
       " 0.9325703438341648,\n",
       " 0.9250831804493463,\n",
       " 0.9366802400108549,\n",
       " 0.930895080038741,\n",
       " 0.9317757880091547,\n",
       " 0.93095070742592,\n",
       " 0.9291721235314424,\n",
       " 0.9325011504241302,\n",
       " 0.9250497805722413,\n",
       " 0.9329491467901997,\n",
       " 0.9315136277424269,\n",
       " 0.9263875630827776,\n",
       " 0.9286855800771471,\n",
       " 0.9325522529065258,\n",
       " 0.9252318960786164,\n",
       " 0.9296901055064886,\n",
       " 0.9343935956414442,\n",
       " 0.9295840325347663,\n",
       " 0.93225071085554,\n",
       " 0.930144302363269,\n",
       " 0.9305227826333129,\n",
       " 0.9362567301508398,\n",
       " 0.931818322336251,\n",
       " 0.9314179222491008,\n",
       " 0.9262491717661341,\n",
       " 0.9321456922074943,\n",
       " 0.9239935433360094,\n",
       " 0.9344064904720122,\n",
       " 0.9336788632573031,\n",
       " 0.9294769450122018,\n",
       " 0.9323191485356365,\n",
       " 0.9337915067529142,\n",
       " 0.9329509360029766,\n",
       " 0.9286858989622588,\n",
       " 0.9278066278475913,\n",
       " 0.9325875270819688,\n",
       " 0.9292875139331477,\n",
       " 0.9326705963001031,\n",
       " 0.924126760587141,\n",
       " 0.9291528296442026,\n",
       " 0.9294167335441977,\n",
       " 0.9295784014627548,\n",
       " 0.9388583651015102,\n",
       " 0.9331646549351124,\n",
       " 0.9382196442231135,\n",
       " 0.9291857624401743,\n",
       " 0.9297810094933202,\n",
       " 0.9285684886263386,\n",
       " 0.925906925516089,\n",
       " 0.9326236037874824,\n",
       " 0.9272177697723417,\n",
       " 0.9318524830187305,\n",
       " 0.9320713354425364,\n",
       " 0.9315109827068374,\n",
       " 0.9316220712498023,\n",
       " 0.935680633666201,\n",
       " 0.9320583899111607,\n",
       " 0.9369664739207673,\n",
       " 0.9282739654606667,\n",
       " 0.9317961758800745,\n",
       " 0.9282741977597558,\n",
       " 0.9317859634298826,\n",
       " 0.9365803476328302,\n",
       " 0.9251578710945623,\n",
       " 0.9339640920971655,\n",
       " 0.9413540189299643,\n",
       " 0.9395139077110394,\n",
       " 0.9357450315927528,\n",
       " 0.9377813707192733,\n",
       " 0.9290394075693371,\n",
       " 0.934247027113309,\n",
       " 0.9364038174372435,\n",
       " 0.9282526141713394,\n",
       " 0.9303467339219269,\n",
       " 0.9349460781953863,\n",
       " 0.9292279105788266,\n",
       " 0.9390965878303105,\n",
       " 0.9366571498002485,\n",
       " 0.9311859066700001,\n",
       " 0.9314380332410858,\n",
       " 0.9284943062517401,\n",
       " 0.934576615280156,\n",
       " 0.929538570244541,\n",
       " 0.9288976598298638,\n",
       " 0.935414188303632,\n",
       " 0.9312369594610929,\n",
       " 0.9358677467410986,\n",
       " 0.9273777933406123,\n",
       " 0.9270061708452015,\n",
       " 0.9327240323656799,\n",
       " 0.9344533981227812,\n",
       " 0.9308428639687314,\n",
       " 0.9330860285073239,\n",
       " 0.9309780121440302,\n",
       " 0.9325152581587204,\n",
       " 0.9355899067723037,\n",
       " 0.9352938974176981,\n",
       " 0.9317463359751159,\n",
       " 0.9363427087714997,\n",
       " 0.937216310316623,\n",
       " 0.9311678139042713,\n",
       " 0.9374840027795058,\n",
       " 0.9314625510170647,\n",
       " 0.9380241297222738,\n",
       " 0.9292001469585751,\n",
       " 0.9363167198351834,\n",
       " 0.9330841316627095,\n",
       " 0.9271269424986917,\n",
       " 0.9311536350366635,\n",
       " 0.9352916195891775,\n",
       " 0.9395512221591871,\n",
       " 0.9349557681748237,\n",
       " 0.9383578248425793,\n",
       " 0.940247210540816,\n",
       " 0.9330236565237537,\n",
       " 0.9345923433566365,\n",
       " 0.937455672814716,\n",
       " 0.9312022788810492,\n",
       " 0.9260299556030492,\n",
       " 0.9340898544461751,\n",
       " 0.9317387048385021,\n",
       " 0.9396756002815544,\n",
       " 0.9308231206535831,\n",
       " 0.9352900200593759,\n",
       " 0.9289898967465803,\n",
       " 0.9320660080604098,\n",
       " 0.9270624174703168,\n",
       " 0.9347496202189962,\n",
       " 0.9310216061639395,\n",
       " 0.93694536423488,\n",
       " 0.9372259922785939,\n",
       " 0.9314441820901377,\n",
       " 0.9298797942066968,\n",
       " 0.9351255971504537,\n",
       " 0.9363858334416881,\n",
       " 0.9331952712612248,\n",
       " 0.9317180855813327,\n",
       " 0.9315009099591278,\n",
       " 0.9367933326530391,\n",
       " 0.9325308382819569,\n",
       " 0.9355333088599431,\n",
       " 0.9366412161591284,\n",
       " 0.9295288872570603,\n",
       " 0.9310007730634836,\n",
       " 0.9353903402211645,\n",
       " 0.9322091264720838,\n",
       " 0.9343716210701065,\n",
       " 0.9351295402766621,\n",
       " 0.9400907484102666,\n",
       " 0.938035095532193,\n",
       " 0.9350627533280876,\n",
       " 0.9396214856249139,\n",
       " 0.9310304115378165,\n",
       " 0.9329208981391603,\n",
       " 0.9292700231564428,\n",
       " 0.9358737184793313,\n",
       " 0.9403969399527459,\n",
       " 0.9360442276239654,\n",
       " 0.9275586314469558,\n",
       " 0.9379118177963396,\n",
       " 0.9314514684759709,\n",
       " 0.9261846010942528,\n",
       " 0.9322799292261866,\n",
       " 0.9350186535476223,\n",
       " 0.935574813425875,\n",
       " 0.9297440194150881,\n",
       " 0.9367348645730329,\n",
       " 0.9367082029510485,\n",
       " 0.9336840359094813,\n",
       " 0.9346059157161131,\n",
       " 0.9305661892402564,\n",
       " 0.9373870364268381,\n",
       " 0.9305797045898162,\n",
       " 0.9404521080647249,\n",
       " 0.9346178496779993,\n",
       " 0.9306962913023367,\n",
       " 0.9319379133829224,\n",
       " 0.9331209114457394,\n",
       " 0.9362286601626562,\n",
       " 0.9339648087994892,\n",
       " 0.9331390570651317,\n",
       " 0.9280382257536159,\n",
       " 0.933844771853944,\n",
       " 0.9317059348472577,\n",
       " 0.9274764426594677,\n",
       " 0.9380964043583654,\n",
       " 0.9320730688260368,\n",
       " 0.9366676121287094,\n",
       " 0.9254465886907307,\n",
       " 0.9322346486836025,\n",
       " 0.9354012873155891,\n",
       " 0.9378753153035866,\n",
       " 0.9336101851476349,\n",
       " 0.930409227598687,\n",
       " 0.9350035406956212,\n",
       " 0.9349348869405356,\n",
       " 0.9341973459639873,\n",
       " 0.9394521079621834,\n",
       " 0.9354830322379307,\n",
       " 0.9332784286766141,\n",
       " 0.9297489074828925,\n",
       " 0.9358654144571783,\n",
       " 0.9373461888700858,\n",
       " 0.9368431730297686,\n",
       " 0.9355801458720443,\n",
       " 0.9327602087860717,\n",
       " 0.9325416800385374,\n",
       " 0.9384039463889805,\n",
       " 0.9393192269054165,\n",
       " 0.9296364995312918,\n",
       " 0.9296875182002196,\n",
       " 0.9349139116249936,\n",
       " 0.9337634503845642,\n",
       " 0.9329210359198771,\n",
       " 0.9331186159133493,\n",
       " 0.9382475998659123,\n",
       " 0.9387234147031639,\n",
       " 0.9363554427349658,\n",
       " 0.9302658512272619,\n",
       " 0.9379690820102609,\n",
       " 0.9334861170906966,\n",
       " 0.9395035757794074,\n",
       " 0.9359591666695755,\n",
       " 0.9327883600268395,\n",
       " 0.938080639957692,\n",
       " 0.933228765891235,\n",
       " 0.9381146890398601,\n",
       " 0.9347778560732952,\n",
       " 0.9385114047324364,\n",
       " 0.932566342317418,\n",
       " 0.9304481267745611,\n",
       " 0.9360962903159319,\n",
       " 0.935565080667151,\n",
       " 0.9346092947651842,\n",
       " 0.9358093604687348,\n",
       " 0.935933327708842,\n",
       " 0.9352538791369772,\n",
       " 0.9370231927312443,\n",
       " 0.9307788661128573,\n",
       " 0.9357969728289064,\n",
       " 0.9312626172569116,\n",
       " 0.9356016938189333,\n",
       " 0.9399638314587146,\n",
       " 0.9357513906964526,\n",
       " 0.9337473225445879,\n",
       " 0.9355507209580574,\n",
       " 0.9363485522906404,\n",
       " 0.9307572214989591,\n",
       " 0.9302780983375164,\n",
       " 0.9322844007817956,\n",
       " 0.9308416495836095,\n",
       " 0.9356877329220624,\n",
       " 0.9374688264347633,\n",
       " 0.9363351725483541,\n",
       " 0.9327684118514248,\n",
       " 0.9387005362977064,\n",
       " 0.9347966789152189,\n",
       " 0.9332115879008434,\n",
       " 0.9371999689767403,\n",
       " 0.9308478486682711,\n",
       " 0.9337806905843382,\n",
       " 0.9404642304779786,\n",
       " 0.9336563815288881,\n",
       " 0.9392102915719611,\n",
       " 0.9324470167094827,\n",
       " 0.9332635240093479,\n",
       " 0.934426899907072,\n",
       " 0.941262021593713,\n",
       " 0.9334460770213818,\n",
       " 0.9359057989305085,\n",
       " 0.9283346355032555,\n",
       " 0.9355021535723089,\n",
       " 0.9334658511989314,\n",
       " 0.9372894954163207,\n",
       " 0.93608754178204,\n",
       " 0.9366290690002312,\n",
       " 0.9381538068436739,\n",
       " 0.9368889927086637,\n",
       " 0.9326996832189307,\n",
       " 0.940892131163374,\n",
       " 0.9351928352597042,\n",
       " 0.9323213185838635,\n",
       " 0.9345407604004116,\n",
       " 0.9281000177719242,\n",
       " 0.9307818206499042,\n",
       " ...]"
      ]
     },
     "execution_count": 11,
     "metadata": {},
     "output_type": "execute_result"
    }
   ],
   "source": [
    "train_r2scores"
   ]
  },
  {
   "cell_type": "code",
   "execution_count": 12,
   "metadata": {},
   "outputs": [
    {
     "data": {
      "image/png": "[encoded data removed]",
      "text/plain": [
       "<Figure size 720x720 with 1 Axes>"
      ]
     },
     "metadata": {
      "needs_background": "light"
     },
     "output_type": "display_data"
    }
   ],
   "source": [
    "plt.figure(figsize=(10, 10))\n",
    "plt.subplot(211)\n",
    "plt.plot(train_r2scores, color ='r', linestyle = '-.', linewidth=2, label='Training')\n",
    "plt.plot(val_r2scores, color ='m', linestyle = '-.', linewidth=2, label='Validation')\n",
    "plt.title('R-Square Score Visualization')\n",
    "plt.xlabel(\"Epoch\", fontsize=12)\n",
    "plt.ylabel(\"R-Square Score\")\n",
    "plt.legend()\n",
    "plt.show()"
   ]
  },
  {
   "cell_type": "code",
   "execution_count": 13,
   "metadata": {},
   "outputs": [
    {
     "data": {
      "image/png": "[encoded data removed]",
      "text/plain": [
       "<Figure size 720x720 with 1 Axes>"
      ]
     },
     "metadata": {
      "needs_background": "light"
     },
     "output_type": "display_data"
    }
   ],
   "source": [
    "plt.figure(figsize=(10, 10))\n",
    "plt.subplot(211)\n",
    "plt.plot(train_smapes, color ='r', linestyle = '-.', linewidth=2, label='Training')\n",
    "plt.plot(val_smapes, color ='m', linestyle = '-.', linewidth=2, label='Validation')\n",
    "plt.title('SMAPE Visualization')\n",
    "plt.xlabel(\"Epoch\", fontsize=12)\n",
    "plt.ylabel(\"SMAPE\")\n",
    "plt.legend()\n",
    "plt.show()"
   ]
  },
  {
   "cell_type": "code",
   "execution_count": 14,
   "metadata": {},
   "outputs": [
    {
     "data": {
      "image/png": "[encoded data removed]",
      "text/plain": [
       "<Figure size 720x720 with 1 Axes>"
      ]
     },
     "metadata": {
      "needs_background": "light"
     },
     "output_type": "display_data"
    }
   ],
   "source": [
    "plt.figure(figsize=(10, 10))\n",
    "plt.subplot(211)\n",
    "plt.plot(train_losses, color ='r', linestyle = '-.', linewidth=2, label='Training')\n",
    "plt.plot(val_losses, color ='m', linestyle = '-.', linewidth=2, label='Validation')\n",
    "plt.title('Loss Visualization')\n",
    "plt.xlabel(\"Epoch\", fontsize=12)\n",
    "plt.ylabel(\"MSE\")\n",
    "plt.legend()\n",
    "plt.show()"
   ]
  },
  {
   "cell_type": "code",
   "execution_count": 15,
   "metadata": {},
   "outputs": [
    {
     "data": {
      "image/png": "[encoded data removed]",
      "text/plain": [
       "<Figure size 720x720 with 1 Axes>"
      ]
     },
     "metadata": {
      "needs_background": "light"
     },
     "output_type": "display_data"
    },
    {
     "data": {
      "text/plain": [
       "Text(0.5, 1.0, 'Val Loss')"
      ]
     },
     "execution_count": 15,
     "metadata": {},
     "output_type": "execute_result"
    },
    {
     "data": {
      "image/png": "[encoded data removed]",
      "text/plain": [
       "<Figure size 720x720 with 2 Axes>"
      ]
     },
     "metadata": {
      "needs_background": "light"
     },
     "output_type": "display_data"
    }
   ],
   "source": [
    "plt.figure(figsize=(10, 10))\n",
    "plt.subplot(211)\n",
    "plt.plot(train_losses, color ='r', linestyle = '-.', linewidth=2, label='Training')\n",
    "plt.plot(val_losses, color ='m', linestyle = '-.', linewidth=2, label='Validation')\n",
    "plt.title('Loss Visualization')\n",
    "plt.xlabel(\"Epoch\", fontsize=12)\n",
    "plt.ylabel(\"MSE\")#\n",
    "plt.legend()\n",
    "plt.show()\n",
    "\n",
    "\n",
    "plt.figure(figsize=(10, 10))\n",
    "plt.subplot(211)\n",
    "plt.plot(train_losses[1000:])\n",
    "plt.title('Training Loss')\n",
    "\n",
    "plt.subplot(212)\n",
    "plt.plot(val_losses[1000:])\n",
    "plt.title('Val Loss')"
   ]
  },
  {
   "cell_type": "markdown",
   "metadata": {
    "id": "yhAHGqC9-woK"
   },
   "source": [
    "# Testing\n",
    "The predictions of your model on testing set will be stored at `pred.csv`."
   ]
  },
  {
   "cell_type": "code",
   "execution_count": 16,
   "metadata": {
    "colab": {
     "base_uri": "https://localhost:8080/"
    },
    "id": "Q5eVdpbvAlAe",
    "outputId": "53d0a7b8-20ed-4f83-8a9b-d860f16aed31"
   },
   "outputs": [
    {
     "name": "stderr",
     "output_type": "stream",
     "text": [
      "100%|███████████████████████████████████████████████████████████████████████████████████| 5/5 [00:00<00:00, 499.89it/s]\n"
     ]
    }
   ],
   "source": [
    "def save_pred(preds, file):\n",
    "    ''' Save predictions to specified file '''\n",
    "    with open(file, 'w') as fp:\n",
    "        writer = csv.writer(fp)\n",
    "        writer.writerow(['id', 'tested_positive'])\n",
    "        for i, p in enumerate(preds):\n",
    "            writer.writerow([i, p])\n",
    "\n",
    "model = My_Model(input_dim=x_train.shape[1]).to(device)\n",
    "model.load_state_dict(torch.load(config['save_path']))\n",
    "preds = predict(test_loader, model, device) \n",
    "save_pred(preds, 'pred.csv')         "
   ]
  },
  {
   "cell_type": "markdown",
   "metadata": {
    "id": "IJ_k5rY0GvSV"
   },
   "source": [
    "# Reference\n",
    "This notebook uses code written by Heng-Jui Chang @ NTUEE (https://github.com/ga642381/ML2021-Spring/blob/main/HW01/HW01.ipynb)"
   ]
  }
 ],
 "metadata": {
  "accelerator": "GPU",
  "colab": {
   "collapsed_sections": [],
   "name": "ML2022Spring - HW1.ipynb",
   "provenance": []
  },
  "kernelspec": {
   "display_name": "Python 3 (ipykernel)",
   "language": "python",
   "name": "python3"
  },
  "language_info": {
   "codemirror_mode": {
    "name": "ipython",
    "version": 3
   },
   "file_extension": ".py",
   "mimetype": "text/x-python",
   "name": "python",
   "nbconvert_exporter": "python",
   "pygments_lexer": "ipython3",
   "version": "3.9.12"
  }
 },
 "nbformat": 4,
 "nbformat_minor": 1
}
